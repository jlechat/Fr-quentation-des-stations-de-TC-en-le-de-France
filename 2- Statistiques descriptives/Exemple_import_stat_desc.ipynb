{
 "cells": [
  {
   "cell_type": "markdown",
   "id": "8a4c1469-a850-4d57-978b-060e599ab286",
   "metadata": {},
   "source": [
    "il faudrait maintenant faire des statistiques descriptives avec les données sur lesquelles on travaille pour être très rigoureux"
   ]
  },
  {
   "cell_type": "code",
   "execution_count": 1,
   "id": "7ca4769c-70f3-468f-aab7-6e019fb69cf9",
   "metadata": {},
   "outputs": [],
   "source": [
    "import pandas as pd\n",
    "from _jointure_validations_stations import df_jointure_validations_stations"
   ]
  },
  {
   "cell_type": "code",
   "execution_count": null,
   "id": "6d6923ac-50a7-48d2-a247-c5f785a3a8f1",
   "metadata": {},
   "outputs": [],
   "source": [
    "data=df_jointure_validations_stations()"
   ]
  },
  {
   "cell_type": "markdown",
   "id": "9837cbcf-bdcf-4813-a63c-0a61f29b3ef2",
   "metadata": {},
   "source": [
    "## Sur les stations de RER"
   ]
  },
  {
   "cell_type": "code",
   "execution_count": null,
   "id": "2acfe02b-2d77-4ff1-b0c5-a719c2811ac4",
   "metadata": {},
   "outputs": [],
   "source": []
  },
  {
   "cell_type": "code",
   "execution_count": null,
   "id": "8aec5186-53ab-426b-ae9b-f75718ac7226",
   "metadata": {},
   "outputs": [],
   "source": []
  },
  {
   "cell_type": "markdown",
   "id": "7e29c102-17a1-41f4-b58f-c36d3be8fad3",
   "metadata": {},
   "source": [
    "## Sur les carreaux INSEE"
   ]
  }
 ],
 "metadata": {
  "kernelspec": {
   "display_name": "Python 3 (ipykernel)",
   "language": "python",
   "name": "python3"
  },
  "language_info": {
   "codemirror_mode": {
    "name": "ipython",
    "version": 3
   },
   "file_extension": ".py",
   "mimetype": "text/x-python",
   "name": "python",
   "nbconvert_exporter": "python",
   "pygments_lexer": "ipython3",
   "version": "3.10.13"
  }
 },
 "nbformat": 4,
 "nbformat_minor": 5
}
