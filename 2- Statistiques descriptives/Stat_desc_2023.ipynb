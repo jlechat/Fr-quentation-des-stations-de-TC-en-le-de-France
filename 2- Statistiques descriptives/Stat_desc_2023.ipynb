{
 "cells": [
  {
   "cell_type": "markdown",
   "id": "c3ba2c32-3544-40ec-a024-36fa9967f6ef",
   "metadata": {},
   "source": [
    "# Statistiques descriptives que sur 2023"
   ]
  },
  {
   "cell_type": "markdown",
   "id": "8ca4f2c4-9639-4bd6-8d27-73411c81760c",
   "metadata": {},
   "source": [
    "Le but de ce Notebook est de commencer à appréhender les bases de données des fréquentations : à savoir de les reformater et d'en tirer des premières observations."
   ]
  },
  {
   "cell_type": "code",
   "execution_count": 167,
   "id": "a3d2dbad-a81c-4c11-abf6-8de6bb147cec",
   "metadata": {},
   "outputs": [],
   "source": [
    "# import des packages\n",
    "from donnees_IDFM import donnees_archives, donnees_validation_23, donnees_profils_23\n",
    "import numpy as np\n",
    "import pandas as pd\n",
    "import matplotlib.pyplot as plt\n",
    "import seaborn as sns"
   ]
  },
  {
   "cell_type": "code",
   "execution_count": 91,
   "id": "21d7b713-4018-45e5-9116-a226d63aa387",
   "metadata": {},
   "outputs": [],
   "source": [
    "# importation des deux bases de données 2023\n",
    "validations_23=donnees_validation_23()\n",
    "profils_23=donnees_profils_23()"
   ]
  },
  {
   "cell_type": "markdown",
   "id": "ef95c2c3-a496-4780-92b5-1ee537c4e7af",
   "metadata": {},
   "source": [
    "# 0.  Prise en main et nettoyage de la base de données des validations année 2023"
   ]
  },
  {
   "cell_type": "code",
   "execution_count": 92,
   "id": "f36d30b5-ab72-4cab-8771-214eca020784",
   "metadata": {},
   "outputs": [
    {
     "data": {
      "text/html": [
       "<div>\n",
       "<style scoped>\n",
       "    .dataframe tbody tr th:only-of-type {\n",
       "        vertical-align: middle;\n",
       "    }\n",
       "\n",
       "    .dataframe tbody tr th {\n",
       "        vertical-align: top;\n",
       "    }\n",
       "\n",
       "    .dataframe thead th {\n",
       "        text-align: right;\n",
       "    }\n",
       "</style>\n",
       "<table border=\"1\" class=\"dataframe\">\n",
       "  <thead>\n",
       "    <tr style=\"text-align: right;\">\n",
       "      <th></th>\n",
       "      <th>JOUR</th>\n",
       "      <th>CODE_STIF_TRNS</th>\n",
       "      <th>CODE_STIF_RES</th>\n",
       "      <th>CODE_STIF_ARRET</th>\n",
       "      <th>LIBELLE_ARRET</th>\n",
       "      <th>lda</th>\n",
       "      <th>CATEGORIE_TITRE</th>\n",
       "      <th>NB_VALD</th>\n",
       "    </tr>\n",
       "  </thead>\n",
       "  <tbody>\n",
       "    <tr>\n",
       "      <th>0</th>\n",
       "      <td>2023-06-26</td>\n",
       "      <td>800</td>\n",
       "      <td>853</td>\n",
       "      <td>568</td>\n",
       "      <td>MONTSOULT</td>\n",
       "      <td>67000</td>\n",
       "      <td>?</td>\n",
       "      <td>28</td>\n",
       "    </tr>\n",
       "    <tr>\n",
       "      <th>1</th>\n",
       "      <td>2023-06-26</td>\n",
       "      <td>800</td>\n",
       "      <td>853</td>\n",
       "      <td>568</td>\n",
       "      <td>MONTSOULT</td>\n",
       "      <td>67000</td>\n",
       "      <td>AMETHYSTE</td>\n",
       "      <td>9</td>\n",
       "    </tr>\n",
       "    <tr>\n",
       "      <th>2</th>\n",
       "      <td>2023-06-26</td>\n",
       "      <td>800</td>\n",
       "      <td>853</td>\n",
       "      <td>568</td>\n",
       "      <td>MONTSOULT</td>\n",
       "      <td>67000</td>\n",
       "      <td>IMAGINE R</td>\n",
       "      <td>388</td>\n",
       "    </tr>\n",
       "    <tr>\n",
       "      <th>3</th>\n",
       "      <td>2023-06-26</td>\n",
       "      <td>800</td>\n",
       "      <td>853</td>\n",
       "      <td>568</td>\n",
       "      <td>MONTSOULT</td>\n",
       "      <td>67000</td>\n",
       "      <td>TST</td>\n",
       "      <td>114</td>\n",
       "    </tr>\n",
       "    <tr>\n",
       "      <th>4</th>\n",
       "      <td>2023-06-26</td>\n",
       "      <td>800</td>\n",
       "      <td>853</td>\n",
       "      <td>595</td>\n",
       "      <td>NOINTEL MOURS</td>\n",
       "      <td>67227</td>\n",
       "      <td>?</td>\n",
       "      <td>8</td>\n",
       "    </tr>\n",
       "    <tr>\n",
       "      <th>5</th>\n",
       "      <td>2023-06-26</td>\n",
       "      <td>800</td>\n",
       "      <td>853</td>\n",
       "      <td>595</td>\n",
       "      <td>NOINTEL MOURS</td>\n",
       "      <td>67227</td>\n",
       "      <td>FGT</td>\n",
       "      <td>12</td>\n",
       "    </tr>\n",
       "    <tr>\n",
       "      <th>6</th>\n",
       "      <td>2023-06-26</td>\n",
       "      <td>800</td>\n",
       "      <td>853</td>\n",
       "      <td>595</td>\n",
       "      <td>NOINTEL MOURS</td>\n",
       "      <td>67227</td>\n",
       "      <td>NAVIGO</td>\n",
       "      <td>312</td>\n",
       "    </tr>\n",
       "    <tr>\n",
       "      <th>7</th>\n",
       "      <td>2023-06-26</td>\n",
       "      <td>800</td>\n",
       "      <td>853</td>\n",
       "      <td>595</td>\n",
       "      <td>NOINTEL MOURS</td>\n",
       "      <td>67227</td>\n",
       "      <td>TST</td>\n",
       "      <td>42</td>\n",
       "    </tr>\n",
       "    <tr>\n",
       "      <th>8</th>\n",
       "      <td>2023-06-26</td>\n",
       "      <td>800</td>\n",
       "      <td>853</td>\n",
       "      <td>63</td>\n",
       "      <td>BELLOY ST MA</td>\n",
       "      <td>67126</td>\n",
       "      <td>TST</td>\n",
       "      <td>5</td>\n",
       "    </tr>\n",
       "    <tr>\n",
       "      <th>9</th>\n",
       "      <td>2023-06-26</td>\n",
       "      <td>800</td>\n",
       "      <td>853</td>\n",
       "      <td>637</td>\n",
       "      <td>PERSAN BEAUMONT</td>\n",
       "      <td>67292</td>\n",
       "      <td>FGT</td>\n",
       "      <td>181</td>\n",
       "    </tr>\n",
       "  </tbody>\n",
       "</table>\n",
       "</div>"
      ],
      "text/plain": [
       "         JOUR  CODE_STIF_TRNS CODE_STIF_RES CODE_STIF_ARRET    LIBELLE_ARRET  \\\n",
       "0  2023-06-26             800           853             568        MONTSOULT   \n",
       "1  2023-06-26             800           853             568        MONTSOULT   \n",
       "2  2023-06-26             800           853             568        MONTSOULT   \n",
       "3  2023-06-26             800           853             568        MONTSOULT   \n",
       "4  2023-06-26             800           853             595    NOINTEL MOURS   \n",
       "5  2023-06-26             800           853             595    NOINTEL MOURS   \n",
       "6  2023-06-26             800           853             595    NOINTEL MOURS   \n",
       "7  2023-06-26             800           853             595    NOINTEL MOURS   \n",
       "8  2023-06-26             800           853              63     BELLOY ST MA   \n",
       "9  2023-06-26             800           853             637  PERSAN BEAUMONT   \n",
       "\n",
       "     lda CATEGORIE_TITRE  NB_VALD  \n",
       "0  67000               ?       28  \n",
       "1  67000       AMETHYSTE        9  \n",
       "2  67000       IMAGINE R      388  \n",
       "3  67000             TST      114  \n",
       "4  67227               ?        8  \n",
       "5  67227             FGT       12  \n",
       "6  67227          NAVIGO      312  \n",
       "7  67227             TST       42  \n",
       "8  67126             TST        5  \n",
       "9  67292             FGT      181  "
      ]
     },
     "execution_count": 92,
     "metadata": {},
     "output_type": "execute_result"
    }
   ],
   "source": [
    "validations_23.head(10)"
   ]
  },
  {
   "cell_type": "code",
   "execution_count": 93,
   "id": "902885a1-449b-40f3-9f27-efc90846ecd3",
   "metadata": {},
   "outputs": [
    {
     "data": {
      "text/html": [
       "<div>\n",
       "<style scoped>\n",
       "    .dataframe tbody tr th:only-of-type {\n",
       "        vertical-align: middle;\n",
       "    }\n",
       "\n",
       "    .dataframe tbody tr th {\n",
       "        vertical-align: top;\n",
       "    }\n",
       "\n",
       "    .dataframe thead th {\n",
       "        text-align: right;\n",
       "    }\n",
       "</style>\n",
       "<table border=\"1\" class=\"dataframe\">\n",
       "  <thead>\n",
       "    <tr style=\"text-align: right;\">\n",
       "      <th></th>\n",
       "      <th>JOUR</th>\n",
       "      <th>CODE_STIF_TRNS</th>\n",
       "      <th>CODE_STIF_RES</th>\n",
       "      <th>CODE_STIF_ARRET</th>\n",
       "      <th>LIBELLE_ARRET</th>\n",
       "      <th>lda</th>\n",
       "      <th>CATEGORIE_TITRE</th>\n",
       "      <th>NB_VALD</th>\n",
       "    </tr>\n",
       "  </thead>\n",
       "  <tbody>\n",
       "    <tr>\n",
       "      <th>1096199</th>\n",
       "      <td>2023-01-20</td>\n",
       "      <td>800</td>\n",
       "      <td>854</td>\n",
       "      <td>507</td>\n",
       "      <td>MANTES LA JOLIE</td>\n",
       "      <td>65931</td>\n",
       "      <td>NON DEFINI</td>\n",
       "      <td>7</td>\n",
       "    </tr>\n",
       "    <tr>\n",
       "      <th>1096200</th>\n",
       "      <td>2023-01-20</td>\n",
       "      <td>800</td>\n",
       "      <td>854</td>\n",
       "      <td>527</td>\n",
       "      <td>MAURECOURT</td>\n",
       "      <td>65827</td>\n",
       "      <td>IMAGINE R</td>\n",
       "      <td>258</td>\n",
       "    </tr>\n",
       "    <tr>\n",
       "      <th>1096201</th>\n",
       "      <td>2023-01-20</td>\n",
       "      <td>800</td>\n",
       "      <td>854</td>\n",
       "      <td>541</td>\n",
       "      <td>MEULAN</td>\n",
       "      <td>66321</td>\n",
       "      <td>AMETHYSTE</td>\n",
       "      <td>16</td>\n",
       "    </tr>\n",
       "    <tr>\n",
       "      <th>1096202</th>\n",
       "      <td>2023-01-20</td>\n",
       "      <td>800</td>\n",
       "      <td>854</td>\n",
       "      <td>541</td>\n",
       "      <td>MEULAN</td>\n",
       "      <td>66321</td>\n",
       "      <td>NON DEFINI</td>\n",
       "      <td>9</td>\n",
       "    </tr>\n",
       "    <tr>\n",
       "      <th>1096203</th>\n",
       "      <td>2023-01-20</td>\n",
       "      <td>800</td>\n",
       "      <td>854</td>\n",
       "      <td>541</td>\n",
       "      <td>MEULAN</td>\n",
       "      <td>66321</td>\n",
       "      <td>TST</td>\n",
       "      <td>79</td>\n",
       "    </tr>\n",
       "    <tr>\n",
       "      <th>1096204</th>\n",
       "      <td>2023-01-20</td>\n",
       "      <td>800</td>\n",
       "      <td>854</td>\n",
       "      <td>557</td>\n",
       "      <td>MONTGEROULT</td>\n",
       "      <td>67076</td>\n",
       "      <td>NAVIGO</td>\n",
       "      <td>16</td>\n",
       "    </tr>\n",
       "    <tr>\n",
       "      <th>1096205</th>\n",
       "      <td>2023-01-20</td>\n",
       "      <td>800</td>\n",
       "      <td>854</td>\n",
       "      <td>566</td>\n",
       "      <td>MONTREUIL</td>\n",
       "      <td>63989</td>\n",
       "      <td>NON DEFINI</td>\n",
       "      <td>27</td>\n",
       "    </tr>\n",
       "    <tr>\n",
       "      <th>1096206</th>\n",
       "      <td>2023-01-20</td>\n",
       "      <td>800</td>\n",
       "      <td>854</td>\n",
       "      <td>579</td>\n",
       "      <td>NANTERRE UNIVER</td>\n",
       "      <td>70956</td>\n",
       "      <td>AMETHYSTE</td>\n",
       "      <td>5</td>\n",
       "    </tr>\n",
       "    <tr>\n",
       "      <th>1096207</th>\n",
       "      <td>2023-01-20</td>\n",
       "      <td>800</td>\n",
       "      <td>854</td>\n",
       "      <td>58</td>\n",
       "      <td>BECON</td>\n",
       "      <td>72124</td>\n",
       "      <td>AMETHYSTE</td>\n",
       "      <td>84</td>\n",
       "    </tr>\n",
       "    <tr>\n",
       "      <th>1096208</th>\n",
       "      <td>2023-01-20</td>\n",
       "      <td>800</td>\n",
       "      <td>854</td>\n",
       "      <td>58</td>\n",
       "      <td>BECON</td>\n",
       "      <td>72124</td>\n",
       "      <td>FGT</td>\n",
       "      <td>96</td>\n",
       "    </tr>\n",
       "  </tbody>\n",
       "</table>\n",
       "</div>"
      ],
      "text/plain": [
       "               JOUR  CODE_STIF_TRNS CODE_STIF_RES CODE_STIF_ARRET  \\\n",
       "1096199  2023-01-20             800           854             507   \n",
       "1096200  2023-01-20             800           854             527   \n",
       "1096201  2023-01-20             800           854             541   \n",
       "1096202  2023-01-20             800           854             541   \n",
       "1096203  2023-01-20             800           854             541   \n",
       "1096204  2023-01-20             800           854             557   \n",
       "1096205  2023-01-20             800           854             566   \n",
       "1096206  2023-01-20             800           854             579   \n",
       "1096207  2023-01-20             800           854              58   \n",
       "1096208  2023-01-20             800           854              58   \n",
       "\n",
       "           LIBELLE_ARRET    lda CATEGORIE_TITRE  NB_VALD  \n",
       "1096199  MANTES LA JOLIE  65931      NON DEFINI        7  \n",
       "1096200       MAURECOURT  65827       IMAGINE R      258  \n",
       "1096201           MEULAN  66321       AMETHYSTE       16  \n",
       "1096202           MEULAN  66321      NON DEFINI        9  \n",
       "1096203           MEULAN  66321             TST       79  \n",
       "1096204      MONTGEROULT  67076          NAVIGO       16  \n",
       "1096205        MONTREUIL  63989      NON DEFINI       27  \n",
       "1096206  NANTERRE UNIVER  70956       AMETHYSTE        5  \n",
       "1096207            BECON  72124       AMETHYSTE       84  \n",
       "1096208            BECON  72124             FGT       96  "
      ]
     },
     "execution_count": 93,
     "metadata": {},
     "output_type": "execute_result"
    }
   ],
   "source": [
    "validations_23.tail(10)"
   ]
  },
  {
   "cell_type": "code",
   "execution_count": 94,
   "id": "28d06933-3137-4ec5-928e-e44c091f19c9",
   "metadata": {},
   "outputs": [
    {
     "data": {
      "text/plain": [
       "(1096209, 8)"
      ]
     },
     "execution_count": 94,
     "metadata": {},
     "output_type": "execute_result"
    }
   ],
   "source": [
    "validations_23.shape"
   ]
  },
  {
   "cell_type": "markdown",
   "id": "159ff38d-29b2-4238-bc22-c7f9f9d331bc",
   "metadata": {},
   "source": [
    "Nous avons donc 1 096 209 lignes (nombre de données) et 8 colonnes (ie 8 variables)"
   ]
  },
  {
   "cell_type": "code",
   "execution_count": 95,
   "id": "9a487e02-55c8-4d66-a32f-d81913c816f2",
   "metadata": {},
   "outputs": [
    {
     "data": {
      "text/plain": [
       "Index(['JOUR', 'CODE_STIF_TRNS', 'CODE_STIF_RES', 'CODE_STIF_ARRET',\n",
       "       'LIBELLE_ARRET', 'lda', 'CATEGORIE_TITRE', 'NB_VALD'],\n",
       "      dtype='object')"
      ]
     },
     "execution_count": 95,
     "metadata": {},
     "output_type": "execute_result"
    }
   ],
   "source": [
    "validations_23.columns"
   ]
  },
  {
   "cell_type": "markdown",
   "id": "e584e4a5-3f32-4996-ad84-abdcd8273afc",
   "metadata": {},
   "source": [
    "Nos 8 variables initiales sont les suivantes : la date exacte du jour de l'année 2023, des variables d'identification de la ligne, le libellé de l'arrêt puis son identifiant dans la base de données de référence en IDF (ID_REFA_LDA), la catégorie du titre de validation, et enfin, le nombre de validations. \n",
    "\n",
    "Quelques précisions sur le nom des colonnes : \n",
    "- CODE_STIF_TRNS est le code correspondant au transporteur\n",
    "- CODE_STIF_RES est le code correspondant au réseau\n",
    "- CODE_STIF_ARRET est le code correspondant à l'arrêt"
   ]
  },
  {
   "cell_type": "code",
   "execution_count": 97,
   "id": "2cf4f343-1376-42ce-beed-55b478c8251b",
   "metadata": {},
   "outputs": [
    {
     "name": "stdout",
     "output_type": "stream",
     "text": [
      "Nombre de valeurs distinctes dans 'JOUR' est : 181\n",
      "\n",
      "Nombre de valeurs distinctes dans 'CODE_STIF_TRNS' est : 3\n",
      "Liste des valeurs distinctes dans 'CODE_STIF_TRNS' est : [800 810 100]\n",
      "\n",
      "Nombre de valeurs distinctes dans 'CODE_STIF_RES' est : 13\n",
      "Liste des valeurs distinctes dans 'CODE_STIF_RES' est : ['853' '854' '801' '802' '110' 'ND' '800' '803' '804' '805' '850' '851'\n",
      " '852']\n",
      "\n",
      "Nombre de valeurs distinctes dans 'CODE_STIF_ARRET' est : 756\n",
      "\n",
      "Nombre de valeurs distinctes dans 'LIBELLE_ARRET' est : 747\n",
      "\n",
      "Nombre de valeurs distinctes dans 'lda' est : 726\n",
      "\n",
      "Nombre de valeurs distinctes dans 'CATEGORIE_TITRE' est : 9\n",
      "Liste des valeurs distinctes dans 'CATEGORIE_TITRE' est : ['?' 'AMETHYSTE' 'IMAGINE R' 'TST' 'FGT' 'NAVIGO' 'NAVIGO JOUR'\n",
      " 'NON DEFINI' 'AUTRE TITRE']\n",
      "\n",
      "Nombre de valeurs distinctes dans 'NB_VALD' est : 16101\n",
      "\n"
     ]
    }
   ],
   "source": [
    "# nombre et liste des valeurs distinctes par variable\n",
    "\n",
    "for colonne in validations_23.columns:\n",
    "    nombre_distinct = validations_23[colonne].nunique()\n",
    "    \n",
    "    if nombre_distinct <= 15: #borne de 15 choisie après une première observation du nombre de variables différentes pour chaque variable et pour avoir des groupes cohérents\n",
    "        valeurs_distinctes = validations_23[colonne].unique()\n",
    "        \n",
    "        print(f\"Nombre de valeurs distinctes dans '{colonne}' est :\", nombre_distinct)\n",
    "        print(f\"Liste des valeurs distinctes dans '{colonne}' est :\", valeurs_distinctes)\n",
    "        print()\n",
    "\n",
    "    else :\n",
    "        print(f\"Nombre de valeurs distinctes dans '{colonne}' est :\", nombre_distinct)\n",
    "        print()\n",
    "\n",
    "# première version :\n",
    "\n",
    "#l1 = ['JOUR', 'CODE_STIF_ARRET', 'LIBELLE_ARRET', 'lda', 'NB_VALD']\n",
    "#l2 = ['CODE_STIF_TRNS', 'CODE_STIF_RES', 'CATEGORIE_TITRE'] \n",
    "        \n",
    "#for colonne in l2:\n",
    "    #nombre_distinct = validations_23[colonne].nunique()\n",
    "    #valeurs_distinctes = validations_23[colonne].unique()\n",
    "    \n",
    "    #print(f\"Nombre de valeurs distinctes dans '{colonne}' est :\", nombre_distinct)\n",
    "    #print(f\"Liste des valeurs distinctes dans '{colonne}' est :\", valeurs_distinctes)\n",
    "    #print()\n",
    "\n",
    "#for colonne in l1:\n",
    "    #nombre_distinct = validations_23[colonne].nunique()\n",
    "    \n",
    "    #print(f\"Nombre de valeurs distinctes dans '{colonne}' est :\", nombre_distinct)\n",
    "    #print()"
   ]
  },
  {
   "cell_type": "markdown",
   "id": "e9658704-4162-45d2-bb83-9a1034f1afe4",
   "metadata": {},
   "source": [
    "On voit qu'on a deux types de variables : \n",
    "- des variables qui ont peu de valeurs distinctes : CODE_STIF_TRNS, CODE_STIF_RES et CATEGORIE_TITRE\n",
    "- et les autres : JOUR, CODE_STIF_ARRET, LIBELLE_ARRET, lda, NB_VALD\n",
    "\n",
    "On s'attendait à ce découpage là car : \n",
    "- il y a peu de transporteurs opérant sur le réseau ferré en IDF, et peu de réseaux représentés dans notre base de donnée (métro, transilien, RER) (*Note à moi même : aller chercher la base des stif et comprendre pourquoi 13 réseaux alors que théoriquement : RER, métro, transilien*), et finalement assez peu de catégories de titre (même si on n'en imaginait pas 9).\n",
    "- beaucoup de jour dans le premier semestre de l'année 2023, beaucoup d'arrêt sur tout le réseau (*Note à moi même : aller chercher la base des stif et comprendre pourquoi le nombre de données pour les manières de définir les arrêt varie un peu : erreur ? ou signification des variables ?*), et évidemment beaucoup de nombre de validations par jour différents. \n",
    "\n",
    "Cette étape permet surtout de répérer les valeurs correspondants à des valeurs manquantes pour les variables avec peu de valeurs différentes.\n",
    "- pour **CODE_STIF_TRNS** : aucune valeur ne semble manquer\n",
    "- pour **CODE_STIF_RES** : seule la valeur **'ND'**, probablement pour non-défini semble correspondre à une valeur manquante\n",
    "- pour **CATEGORIE_TITRE** : la valeur **'?'** et **'NON DEFINI'** semblent correspondre à une valeur manquante "
   ]
  },
  {
   "cell_type": "markdown",
   "id": "f7849526-2539-4dbe-aed1-881447204037",
   "metadata": {},
   "source": [
    "Quelques précisions sur les différentes catégories de titre : \n",
    "- **IMAGINE R** : regroupe les forfaits annuels Imagine R Scolaire et Imagine R Etudiant, forfaits réservés aux élèves, apprentis et étudiants qui permet de voyager à volonté toute l’année et dans toute l Ile-de-France.\n",
    "- **NAVIGO** : regroupe les forfaits Navigo Annuel, Navigo Mois et Navigo Semaine.\n",
    "- **AMETHYSTE** : comptabilise les forfaits Améthyste : forfait réservé aux personnes âgées ou handicapées sous conditions de ressources ou de statut, et résidant en Île-de-France. Ce forfait\n",
    "annuel permet à son bénéficiaire de se déplacer de manière illimitée sur tous les modes de transport à l intérieur des zones de validité.\n",
    "- **TST** : regroupe les forfaits hebdomadaires et mensuels à tarif réduit, accordé aux bénéficiaires\n",
    "de la Réduction Solidarité Transport, pour voyager à l’intérieur des zones choisies sur tous les\n",
    "modes de transport en Île-de-France.\n",
    "- **FGT** : comptabilise les Forfaits Navigo Gratuité Transport, forfait qui permet à certain bénéficiaire d’aides sociales de voyager gratuitement dans toute l’Île-de-France.\n",
    "- **AUTRE TITRE** : comptabilise les forfaits spéciaux.\n",
    "- **NON DEFINI** : comptabilise les validations dont le type de titre n’est pas défini (anomalies)."
   ]
  },
  {
   "cell_type": "code",
   "execution_count": 98,
   "id": "ab927331-396b-410b-aee6-d49f5bc6d622",
   "metadata": {},
   "outputs": [
    {
     "name": "stdout",
     "output_type": "stream",
     "text": [
      "CODE_STIF_RES\n",
      "110    498168\n",
      "803     95428\n",
      "854     90356\n",
      "801     67392\n",
      "802     65039\n",
      "804     64473\n",
      "853     61796\n",
      "852     43451\n",
      "850     35045\n",
      "805     30199\n",
      "800     22847\n",
      "851     20945\n",
      "ND       1070\n",
      "Name: count, dtype: int64\n",
      "CATEGORIE_TITRE\n",
      "NAVIGO         136478\n",
      "IMAGINE R      136047\n",
      "TST            133601\n",
      "FGT            132027\n",
      "AMETHYSTE      129237\n",
      "?              129062\n",
      "NON DEFINI     120038\n",
      "NAVIGO JOUR    116071\n",
      "AUTRE TITRE     63648\n",
      "Name: count, dtype: int64\n"
     ]
    }
   ],
   "source": [
    "#compter les valeurs manquantes pour chaque variable pour les remplacer par qqch ou les exclure\n",
    "\n",
    "l3 = ['CODE_STIF_RES', 'CATEGORIE_TITRE'] \n",
    "\n",
    "for colonne in l3:\n",
    "    occurrences_par_valeur = validations_23[colonne].value_counts()\n",
    "    print(occurrences_par_valeur)\n",
    "\n",
    "# première version : \n",
    "#for colonne in validations_23.columns:\n",
    "    #nombre_vnulles = validations_23[colonne].isna().sum()\n",
    "    \n",
    "    #print(f\"La variable '{colonne}' compte :\", nombre_vnulles, f\"valeurs nulles\")\n",
    "    #print()\n",
    "\n",
    "# >> n'a pas d'intérêt pour l'instant car pour Python : aucun NA, \n",
    "# car les valeurs manquantes sont enregistrées autrement qu'avec des NA."
   ]
  },
  {
   "cell_type": "markdown",
   "id": "6ff6cf46-0e2a-4403-b5c1-5409b5ff5b18",
   "metadata": {},
   "source": [
    "On constate que : \n",
    "- la valeur **'ND'** pour la variable **CODE_STIF_RES** est assez faiblement représentée : on peut l'enlever sans perdre trop d'information.\n",
    "- la valeur **'?'** est autant représentée que la valeur **'NON DEFINI'** pour la variable : elles sont autant présentes que d'autres valeurs. De plus, cette variable a un type chaîne de caractère ('str'): on ne veut pas et on n'a pas besoin de la transformer en variable numérique, donc on peut conserver la valeur non-définie. \n",
    "\n",
    "**CCL** : on décide de traiter ces deux types de valeurs manquantes différemment : on retire du dataset toutes les valeurs avec 'ND' pour la variable CODE_STIF_RES, et pour '?', on va les transformer en valeur 'NON DEFINI'. "
   ]
  },
  {
   "cell_type": "code",
   "execution_count": 99,
   "id": "df480ab8-4638-4a13-9ee0-56de06cbd2a3",
   "metadata": {},
   "outputs": [],
   "source": [
    "# transformation des variables en excluant / transformant les valeurs prises (tr pour transformé)\n",
    "\n",
    "# CODE_STIF_RES\n",
    "validations_23_tr = validations_23[validations_23['CODE_STIF_RES'] != 'ND']\n",
    "\n",
    "# CATEGORIE_TITRE\n",
    "validations_23_tr.loc[validations_23_tr['CATEGORIE_TITRE'] == '?', 'CATEGORIE_TITRE'] = 'NON DEFINI'"
   ]
  },
  {
   "cell_type": "code",
   "execution_count": 100,
   "id": "74218b66-2bc3-4bd8-abc8-59847208054c",
   "metadata": {},
   "outputs": [
    {
     "data": {
      "text/plain": [
       "1070"
      ]
     },
     "execution_count": 100,
     "metadata": {},
     "output_type": "execute_result"
    }
   ],
   "source": [
    "validations_23.shape[0] - validations_23_tr.shape[0]\n",
    "# il y a bien le nombre de valeurs 'ND' de CODE_STIF_RES qui a été enlevé"
   ]
  },
  {
   "cell_type": "code",
   "execution_count": 101,
   "id": "bcca207b-659b-4c78-882e-4757f550dd5c",
   "metadata": {},
   "outputs": [
    {
     "data": {
      "text/plain": [
       "CATEGORIE_TITRE\n",
       "NON DEFINI     248813\n",
       "NAVIGO         136296\n",
       "IMAGINE R      135927\n",
       "TST            133490\n",
       "FGT            131921\n",
       "AMETHYSTE      129131\n",
       "NAVIGO JOUR    115998\n",
       "AUTRE TITRE     63563\n",
       "Name: count, dtype: int64"
      ]
     },
     "execution_count": 101,
     "metadata": {},
     "output_type": "execute_result"
    }
   ],
   "source": [
    "validations_23_tr['CATEGORIE_TITRE'].value_counts()\n",
    "# la valeur 'NON DEFINI' dans la colonne CATEGORIE_TITRE a bien comme nombre d'occurence la somme des anciennes valeurs '?' et 'NON DEFINI'"
   ]
  },
  {
   "cell_type": "code",
   "execution_count": 111,
   "id": "5f2ac7c8-da5c-40ac-89ec-06c4fabb30f7",
   "metadata": {},
   "outputs": [
    {
     "data": {
      "text/html": [
       "<div>\n",
       "<style scoped>\n",
       "    .dataframe tbody tr th:only-of-type {\n",
       "        vertical-align: middle;\n",
       "    }\n",
       "\n",
       "    .dataframe tbody tr th {\n",
       "        vertical-align: top;\n",
       "    }\n",
       "\n",
       "    .dataframe thead th {\n",
       "        text-align: right;\n",
       "    }\n",
       "</style>\n",
       "<table border=\"1\" class=\"dataframe\">\n",
       "  <thead>\n",
       "    <tr style=\"text-align: right;\">\n",
       "      <th></th>\n",
       "      <th>JOUR</th>\n",
       "      <th>CODE_STIF_TRNS</th>\n",
       "      <th>CODE_STIF_RES</th>\n",
       "      <th>CODE_STIF_ARRET</th>\n",
       "      <th>LIBELLE_ARRET</th>\n",
       "      <th>lda</th>\n",
       "      <th>CATEGORIE_TITRE</th>\n",
       "      <th>NB_VALD</th>\n",
       "    </tr>\n",
       "  </thead>\n",
       "  <tbody>\n",
       "    <tr>\n",
       "      <th>0</th>\n",
       "      <td>2023-06-26</td>\n",
       "      <td>800</td>\n",
       "      <td>853</td>\n",
       "      <td>568</td>\n",
       "      <td>MONTSOULT</td>\n",
       "      <td>67000</td>\n",
       "      <td>NON DEFINI</td>\n",
       "      <td>28</td>\n",
       "    </tr>\n",
       "    <tr>\n",
       "      <th>1</th>\n",
       "      <td>2023-06-26</td>\n",
       "      <td>800</td>\n",
       "      <td>853</td>\n",
       "      <td>568</td>\n",
       "      <td>MONTSOULT</td>\n",
       "      <td>67000</td>\n",
       "      <td>AMETHYSTE</td>\n",
       "      <td>9</td>\n",
       "    </tr>\n",
       "    <tr>\n",
       "      <th>2</th>\n",
       "      <td>2023-06-26</td>\n",
       "      <td>800</td>\n",
       "      <td>853</td>\n",
       "      <td>568</td>\n",
       "      <td>MONTSOULT</td>\n",
       "      <td>67000</td>\n",
       "      <td>IMAGINE R</td>\n",
       "      <td>388</td>\n",
       "    </tr>\n",
       "    <tr>\n",
       "      <th>3</th>\n",
       "      <td>2023-06-26</td>\n",
       "      <td>800</td>\n",
       "      <td>853</td>\n",
       "      <td>568</td>\n",
       "      <td>MONTSOULT</td>\n",
       "      <td>67000</td>\n",
       "      <td>TST</td>\n",
       "      <td>114</td>\n",
       "    </tr>\n",
       "    <tr>\n",
       "      <th>4</th>\n",
       "      <td>2023-06-26</td>\n",
       "      <td>800</td>\n",
       "      <td>853</td>\n",
       "      <td>595</td>\n",
       "      <td>NOINTEL MOURS</td>\n",
       "      <td>67227</td>\n",
       "      <td>NON DEFINI</td>\n",
       "      <td>8</td>\n",
       "    </tr>\n",
       "    <tr>\n",
       "      <th>5</th>\n",
       "      <td>2023-06-26</td>\n",
       "      <td>800</td>\n",
       "      <td>853</td>\n",
       "      <td>595</td>\n",
       "      <td>NOINTEL MOURS</td>\n",
       "      <td>67227</td>\n",
       "      <td>FGT</td>\n",
       "      <td>12</td>\n",
       "    </tr>\n",
       "    <tr>\n",
       "      <th>6</th>\n",
       "      <td>2023-06-26</td>\n",
       "      <td>800</td>\n",
       "      <td>853</td>\n",
       "      <td>595</td>\n",
       "      <td>NOINTEL MOURS</td>\n",
       "      <td>67227</td>\n",
       "      <td>NAVIGO</td>\n",
       "      <td>312</td>\n",
       "    </tr>\n",
       "    <tr>\n",
       "      <th>7</th>\n",
       "      <td>2023-06-26</td>\n",
       "      <td>800</td>\n",
       "      <td>853</td>\n",
       "      <td>595</td>\n",
       "      <td>NOINTEL MOURS</td>\n",
       "      <td>67227</td>\n",
       "      <td>TST</td>\n",
       "      <td>42</td>\n",
       "    </tr>\n",
       "    <tr>\n",
       "      <th>8</th>\n",
       "      <td>2023-06-26</td>\n",
       "      <td>800</td>\n",
       "      <td>853</td>\n",
       "      <td>63</td>\n",
       "      <td>BELLOY ST MA</td>\n",
       "      <td>67126</td>\n",
       "      <td>TST</td>\n",
       "      <td>5</td>\n",
       "    </tr>\n",
       "    <tr>\n",
       "      <th>9</th>\n",
       "      <td>2023-06-26</td>\n",
       "      <td>800</td>\n",
       "      <td>853</td>\n",
       "      <td>637</td>\n",
       "      <td>PERSAN BEAUMONT</td>\n",
       "      <td>67292</td>\n",
       "      <td>FGT</td>\n",
       "      <td>181</td>\n",
       "    </tr>\n",
       "  </tbody>\n",
       "</table>\n",
       "</div>"
      ],
      "text/plain": [
       "        JOUR  CODE_STIF_TRNS CODE_STIF_RES CODE_STIF_ARRET    LIBELLE_ARRET  \\\n",
       "0 2023-06-26             800           853             568        MONTSOULT   \n",
       "1 2023-06-26             800           853             568        MONTSOULT   \n",
       "2 2023-06-26             800           853             568        MONTSOULT   \n",
       "3 2023-06-26             800           853             568        MONTSOULT   \n",
       "4 2023-06-26             800           853             595    NOINTEL MOURS   \n",
       "5 2023-06-26             800           853             595    NOINTEL MOURS   \n",
       "6 2023-06-26             800           853             595    NOINTEL MOURS   \n",
       "7 2023-06-26             800           853             595    NOINTEL MOURS   \n",
       "8 2023-06-26             800           853              63     BELLOY ST MA   \n",
       "9 2023-06-26             800           853             637  PERSAN BEAUMONT   \n",
       "\n",
       "     lda CATEGORIE_TITRE  NB_VALD  \n",
       "0  67000      NON DEFINI       28  \n",
       "1  67000       AMETHYSTE        9  \n",
       "2  67000       IMAGINE R      388  \n",
       "3  67000             TST      114  \n",
       "4  67227      NON DEFINI        8  \n",
       "5  67227             FGT       12  \n",
       "6  67227          NAVIGO      312  \n",
       "7  67227             TST       42  \n",
       "8  67126             TST        5  \n",
       "9  67292             FGT      181  "
      ]
     },
     "execution_count": 111,
     "metadata": {},
     "output_type": "execute_result"
    }
   ],
   "source": [
    "validations_23_tr.head(10)\n",
    "# on constate bien que les valeurs '?' dans la colonne categorie 4 (ligne 0 et 4) ont été transformées en 'NON DEFINI'"
   ]
  },
  {
   "cell_type": "code",
   "execution_count": 103,
   "id": "3a43b5a5-0ff2-4780-bd84-c8c46a3923a6",
   "metadata": {},
   "outputs": [
    {
     "data": {
      "text/plain": [
       "(1095139, 8)"
      ]
     },
     "execution_count": 103,
     "metadata": {},
     "output_type": "execute_result"
    }
   ],
   "source": [
    "validations_23_tr.shape"
   ]
  },
  {
   "cell_type": "code",
   "execution_count": 161,
   "id": "8cd142ca-f5ab-40f3-a699-49fc4afe6233",
   "metadata": {},
   "outputs": [
    {
     "data": {
      "text/plain": [
       "JOUR               datetime64[ns]\n",
       "CODE_STIF_TRNS              int64\n",
       "CODE_STIF_RES               int64\n",
       "CODE_STIF_ARRET             int64\n",
       "LIBELLE_ARRET              object\n",
       "lda                         int64\n",
       "CATEGORIE_TITRE            object\n",
       "NB_VALD                     int64\n",
       "Mois                        int32\n",
       "Année                       int32\n",
       "dtype: object"
      ]
     },
     "execution_count": 161,
     "metadata": {},
     "output_type": "execute_result"
    }
   ],
   "source": [
    "validations_23_tr.dtypes"
   ]
  },
  {
   "cell_type": "code",
   "execution_count": 159,
   "id": "c01454ee-4c6e-4355-88a4-15c886e231e3",
   "metadata": {},
   "outputs": [
    {
     "name": "stderr",
     "output_type": "stream",
     "text": [
      "/tmp/ipykernel_409/2855980035.py:3: SettingWithCopyWarning: \n",
      "A value is trying to be set on a copy of a slice from a DataFrame.\n",
      "Try using .loc[row_indexer,col_indexer] = value instead\n",
      "\n",
      "See the caveats in the documentation: https://pandas.pydata.org/pandas-docs/stable/user_guide/indexing.html#returning-a-view-versus-a-copy\n",
      "  validations_23_tr['JOUR'] = pd.to_datetime(validations_23_tr['JOUR'], format='%Y-%m-%d')\n",
      "/tmp/ipykernel_409/2855980035.py:4: SettingWithCopyWarning: \n",
      "A value is trying to be set on a copy of a slice from a DataFrame.\n",
      "Try using .loc[row_indexer,col_indexer] = value instead\n",
      "\n",
      "See the caveats in the documentation: https://pandas.pydata.org/pandas-docs/stable/user_guide/indexing.html#returning-a-view-versus-a-copy\n",
      "  validations_23_tr['CODE_STIF_RES'] = validations_23_tr['CODE_STIF_RES'].astype(int)\n",
      "/tmp/ipykernel_409/2855980035.py:5: SettingWithCopyWarning: \n",
      "A value is trying to be set on a copy of a slice from a DataFrame.\n",
      "Try using .loc[row_indexer,col_indexer] = value instead\n",
      "\n",
      "See the caveats in the documentation: https://pandas.pydata.org/pandas-docs/stable/user_guide/indexing.html#returning-a-view-versus-a-copy\n",
      "  validations_23_tr['CODE_STIF_ARRET'] = validations_23_tr['CODE_STIF_ARRET'].astype(int)\n",
      "/tmp/ipykernel_409/2855980035.py:6: SettingWithCopyWarning: \n",
      "A value is trying to be set on a copy of a slice from a DataFrame.\n",
      "Try using .loc[row_indexer,col_indexer] = value instead\n",
      "\n",
      "See the caveats in the documentation: https://pandas.pydata.org/pandas-docs/stable/user_guide/indexing.html#returning-a-view-versus-a-copy\n",
      "  validations_23_tr['LIBELLE_ARRET'] = validations_23_tr['LIBELLE_ARRET'].astype(str)\n"
     ]
    }
   ],
   "source": [
    "# transformation du type de certaines variables pour pouvoir les manipuler plus facilement\n",
    "\n",
    "validations_23_tr['JOUR'] = pd.to_datetime(validations_23_tr['JOUR'], format='%Y-%m-%d')\n",
    "validations_23_tr['CODE_STIF_RES'] = validations_23_tr['CODE_STIF_RES'].astype(int)\n",
    "validations_23_tr['CODE_STIF_ARRET'] = validations_23_tr['CODE_STIF_ARRET'].astype(int)\n",
    "validations_23_tr['LIBELLE_ARRET'] = validations_23_tr['LIBELLE_ARRET'].astype(str)\n",
    "\n",
    "# Python me renvoie un warning : setting with copy ! problème du  chain indexing > peut avoir des résultats aléatoires\n",
    "# je tente de passer par une autre méthode : .iloc\n",
    "\n",
    "#validations_23_tr.iloc[:, 2] = validations_23_tr.iloc[:, 2].astype(int)\n",
    "#validations_23_tr.iloc[:, 3] = validations_23_tr.iloc[:, 3].astype(int)\n",
    "#validations_23_tr.iloc[:, 6] = validations_23_tr.iloc[:, 6].astype(str)\n",
    "# mais cette méthode là n'a pas l'air de fonctionner : le type reste le même, après exécution"
   ]
  },
  {
   "cell_type": "code",
   "execution_count": 119,
   "id": "7ac4af40-1bd9-4da9-943d-1659aba19a11",
   "metadata": {},
   "outputs": [
    {
     "data": {
      "text/plain": [
       "JOUR               datetime64[ns]\n",
       "CODE_STIF_TRNS              int64\n",
       "CODE_STIF_RES               int64\n",
       "CODE_STIF_ARRET             int64\n",
       "LIBELLE_ARRET              object\n",
       "lda                         int64\n",
       "CATEGORIE_TITRE            object\n",
       "NB_VALD                     int64\n",
       "dtype: object"
      ]
     },
     "execution_count": 119,
     "metadata": {},
     "output_type": "execute_result"
    }
   ],
   "source": [
    "validations_23_tr.dtypes"
   ]
  },
  {
   "cell_type": "code",
   "execution_count": 122,
   "id": "bfa596c5-7c5b-4b27-838b-3509fc16e5be",
   "metadata": {},
   "outputs": [
    {
     "name": "stderr",
     "output_type": "stream",
     "text": [
      "/tmp/ipykernel_409/2763900321.py:3: SettingWithCopyWarning: \n",
      "A value is trying to be set on a copy of a slice from a DataFrame.\n",
      "Try using .loc[row_indexer,col_indexer] = value instead\n",
      "\n",
      "See the caveats in the documentation: https://pandas.pydata.org/pandas-docs/stable/user_guide/indexing.html#returning-a-view-versus-a-copy\n",
      "  validations_23_tr['Mois'] = validations_23_tr['JOUR'].dt.month\n",
      "/tmp/ipykernel_409/2763900321.py:4: SettingWithCopyWarning: \n",
      "A value is trying to be set on a copy of a slice from a DataFrame.\n",
      "Try using .loc[row_indexer,col_indexer] = value instead\n",
      "\n",
      "See the caveats in the documentation: https://pandas.pydata.org/pandas-docs/stable/user_guide/indexing.html#returning-a-view-versus-a-copy\n",
      "  validations_23_tr['Année'] = validations_23_tr['JOUR'].dt.year\n"
     ]
    }
   ],
   "source": [
    "# création de deux nouvelles colonnes à partir de la colonne de la date, correspondant respectivement au mois et à l'année considérée\n",
    "\n",
    "validations_23_tr['Mois'] = validations_23_tr['JOUR'].dt.month\n",
    "validations_23_tr['Année'] = validations_23_tr['JOUR'].dt.year"
   ]
  },
  {
   "cell_type": "code",
   "execution_count": 132,
   "id": "0ace4647-0882-4881-b294-306cf9217b18",
   "metadata": {},
   "outputs": [
    {
     "name": "stdout",
     "output_type": "stream",
     "text": [
      "Mois\n",
      "5    187987\n",
      "1    187067\n",
      "6    184195\n",
      "3    183540\n",
      "4    182161\n",
      "2    170189\n",
      "Name: count, dtype: int64\n",
      "Année\n",
      "2023    1095139\n",
      "Name: count, dtype: int64\n"
     ]
    }
   ],
   "source": [
    "print(validations_23_tr['Mois'].value_counts())\n",
    "print(validations_23_tr['Année'].value_counts())\n",
    "# il y a bien 6 valeurs différentes pour la variable mois (1 semestre), qui correspondent aux 6 premiers mois de l'année\n",
    "# et 1 seule pour la variable année (que 2023 sur cette BDD)"
   ]
  },
  {
   "cell_type": "code",
   "execution_count": 124,
   "id": "0955ee9e-6a75-48ca-b112-a250f37b7fe7",
   "metadata": {},
   "outputs": [
    {
     "data": {
      "text/html": [
       "<div>\n",
       "<style scoped>\n",
       "    .dataframe tbody tr th:only-of-type {\n",
       "        vertical-align: middle;\n",
       "    }\n",
       "\n",
       "    .dataframe tbody tr th {\n",
       "        vertical-align: top;\n",
       "    }\n",
       "\n",
       "    .dataframe thead th {\n",
       "        text-align: right;\n",
       "    }\n",
       "</style>\n",
       "<table border=\"1\" class=\"dataframe\">\n",
       "  <thead>\n",
       "    <tr style=\"text-align: right;\">\n",
       "      <th></th>\n",
       "      <th>JOUR</th>\n",
       "      <th>CODE_STIF_TRNS</th>\n",
       "      <th>CODE_STIF_RES</th>\n",
       "      <th>CODE_STIF_ARRET</th>\n",
       "      <th>LIBELLE_ARRET</th>\n",
       "      <th>lda</th>\n",
       "      <th>CATEGORIE_TITRE</th>\n",
       "      <th>NB_VALD</th>\n",
       "      <th>Mois</th>\n",
       "      <th>Année</th>\n",
       "    </tr>\n",
       "  </thead>\n",
       "  <tbody>\n",
       "    <tr>\n",
       "      <th>0</th>\n",
       "      <td>2023-06-26</td>\n",
       "      <td>800</td>\n",
       "      <td>853</td>\n",
       "      <td>568</td>\n",
       "      <td>MONTSOULT</td>\n",
       "      <td>67000</td>\n",
       "      <td>NON DEFINI</td>\n",
       "      <td>28</td>\n",
       "      <td>6</td>\n",
       "      <td>2023</td>\n",
       "    </tr>\n",
       "    <tr>\n",
       "      <th>1</th>\n",
       "      <td>2023-06-26</td>\n",
       "      <td>800</td>\n",
       "      <td>853</td>\n",
       "      <td>568</td>\n",
       "      <td>MONTSOULT</td>\n",
       "      <td>67000</td>\n",
       "      <td>AMETHYSTE</td>\n",
       "      <td>9</td>\n",
       "      <td>6</td>\n",
       "      <td>2023</td>\n",
       "    </tr>\n",
       "    <tr>\n",
       "      <th>2</th>\n",
       "      <td>2023-06-26</td>\n",
       "      <td>800</td>\n",
       "      <td>853</td>\n",
       "      <td>568</td>\n",
       "      <td>MONTSOULT</td>\n",
       "      <td>67000</td>\n",
       "      <td>IMAGINE R</td>\n",
       "      <td>388</td>\n",
       "      <td>6</td>\n",
       "      <td>2023</td>\n",
       "    </tr>\n",
       "  </tbody>\n",
       "</table>\n",
       "</div>"
      ],
      "text/plain": [
       "        JOUR  CODE_STIF_TRNS  CODE_STIF_RES  CODE_STIF_ARRET LIBELLE_ARRET  \\\n",
       "0 2023-06-26             800            853              568     MONTSOULT   \n",
       "1 2023-06-26             800            853              568     MONTSOULT   \n",
       "2 2023-06-26             800            853              568     MONTSOULT   \n",
       "\n",
       "     lda CATEGORIE_TITRE  NB_VALD  Mois  Année  \n",
       "0  67000      NON DEFINI       28     6   2023  \n",
       "1  67000       AMETHYSTE        9     6   2023  \n",
       "2  67000       IMAGINE R      388     6   2023  "
      ]
     },
     "execution_count": 124,
     "metadata": {},
     "output_type": "execute_result"
    }
   ],
   "source": [
    "validations_23_tr.head(3)"
   ]
  },
  {
   "cell_type": "code",
   "execution_count": 151,
   "id": "82845ea2-cabf-4a47-b39a-1a7a22474b98",
   "metadata": {},
   "outputs": [
    {
     "data": {
      "text/plain": [
       "CODE_STIF_RES\n",
       "801    1448\n",
       "Name: count, dtype: int64"
      ]
     },
     "execution_count": 151,
     "metadata": {},
     "output_type": "execute_result"
    }
   ],
   "source": [
    "# je n'ai pas trouvé les codes stif correspondant au réseau RER dans une table de référence \n",
    "# alors nous partons à leur recherche !\n",
    "\n",
    "## le RER A : regardons un arrêt qui n'est que sur le RER A\n",
    "\n",
    "arret_A = validations_23_tr[validations_23_tr['LIBELLE_ARRET'] == 'CHAMPIGNY']\n",
    "arret_A['CODE_STIF_RES'].value_counts()"
   ]
  },
  {
   "cell_type": "code",
   "execution_count": 152,
   "id": "b26742dd-6563-4753-86d6-37dc423fb874",
   "metadata": {},
   "outputs": [
    {
     "data": {
      "text/plain": [
       "CODE_STIF_RES\n",
       "802    1207\n",
       "Name: count, dtype: int64"
      ]
     },
     "execution_count": 152,
     "metadata": {},
     "output_type": "execute_result"
    }
   ],
   "source": [
    "## le RER B : regardons un arrêt qui n'est que sur le RER B\n",
    "\n",
    "arret_B = validations_23_tr[validations_23_tr['LIBELLE_ARRET'] == 'BAGNEUX']\n",
    "arret_B['CODE_STIF_RES'].value_counts()"
   ]
  },
  {
   "cell_type": "code",
   "execution_count": 153,
   "id": "bc0ad3f7-7fde-4edd-8360-8f5cc5b4e99d",
   "metadata": {},
   "outputs": [
    {
     "data": {
      "text/plain": [
       "CODE_STIF_RES\n",
       "803    1144\n",
       "Name: count, dtype: int64"
      ]
     },
     "execution_count": 153,
     "metadata": {},
     "output_type": "execute_result"
    }
   ],
   "source": [
    "## le RER B : regardons un arrêt qui n'est que sur le RER C\n",
    "\n",
    "arret_C = validations_23_tr[validations_23_tr['LIBELLE_ARRET'] == 'IGNY']\n",
    "arret_C['CODE_STIF_RES'].value_counts()"
   ]
  },
  {
   "cell_type": "code",
   "execution_count": 154,
   "id": "d8899ef9-739b-409d-b0a7-16024843f452",
   "metadata": {},
   "outputs": [
    {
     "data": {
      "text/plain": [
       "CODE_STIF_RES\n",
       "804    1461\n",
       "Name: count, dtype: int64"
      ]
     },
     "execution_count": 154,
     "metadata": {},
     "output_type": "execute_result"
    }
   ],
   "source": [
    "## le RER D : regardons un arrêt qui n'est que sur le RER D\n",
    "\n",
    "arret_D = validations_23_tr[validations_23_tr['LIBELLE_ARRET'] == 'LOUVRES']\n",
    "arret_D['CODE_STIF_RES'].value_counts()"
   ]
  },
  {
   "cell_type": "code",
   "execution_count": 155,
   "id": "8f972826-9f8b-4b05-9ea2-3bd802f1654c",
   "metadata": {},
   "outputs": [
    {
     "data": {
      "text/plain": [
       "CODE_STIF_RES\n",
       "805    1408\n",
       "Name: count, dtype: int64"
      ]
     },
     "execution_count": 155,
     "metadata": {},
     "output_type": "execute_result"
    }
   ],
   "source": [
    "## le RER E : regardons un arrêt qui n'est que sur le RER E\n",
    "\n",
    "arret_E = validations_23_tr[validations_23_tr['LIBELLE_ARRET'] == 'PANTIN']\n",
    "arret_E['CODE_STIF_RES'].value_counts()"
   ]
  },
  {
   "cell_type": "markdown",
   "id": "b9e01549-bf25-482c-a580-2636d5b292d0",
   "metadata": {},
   "source": [
    "De ce petit exercice, nous pouvons conclure que les CODE_STIF_RES correspondant aux RER sont les suivants : \n",
    "- 801 pour le **RER A**\n",
    "- 802 pour le **RER B**\n",
    "- 803 pour le **RER C**\n",
    "- 804 pour le **RER D**\n",
    "- 805 pour le **RER E**\n",
    "\n",
    "*Note à moi-même pour plus tard : regarder qu'il ne manque pas de CODE_STIF_RES correspondant à des RER*"
   ]
  },
  {
   "cell_type": "code",
   "execution_count": 158,
   "id": "14de6fca-02f0-4468-b827-becd7918c4b2",
   "metadata": {},
   "outputs": [
    {
     "data": {
      "text/plain": [
       "CODE_STIF_RES\n",
       "803    95428\n",
       "801    67392\n",
       "802    65039\n",
       "804    64473\n",
       "805    30199\n",
       "Name: count, dtype: int64"
      ]
     },
     "execution_count": 158,
     "metadata": {},
     "output_type": "execute_result"
    }
   ],
   "source": [
    "# extraction d'un sous dataset correspondant au réseau RER\n",
    "\n",
    "RER_l = [801, 802, 803, 804, 805]\n",
    "\n",
    "validations_23_RER = validations_23_tr[validations_23_tr['CODE_STIF_RES'].isin(RER_l)]\n",
    "validations_23_RER['CODE_STIF_RES'].value_counts()"
   ]
  },
  {
   "cell_type": "markdown",
   "id": "7b362678-faf2-49cb-a9d3-2ef716fdde5f",
   "metadata": {},
   "source": [
    "Pour l'instant, le jeu de données présente le nombre de validations des voyageurs **par jour par arrêt et par titre de transport sur le réseau ferré**."
   ]
  },
  {
   "cell_type": "markdown",
   "id": "bb441daf-0cef-4a68-885e-cb982b8c374a",
   "metadata": {},
   "source": [
    "# 1. Statistiques descriptives"
   ]
  },
  {
   "cell_type": "markdown",
   "id": "aba7a523-8532-46f7-8b5e-d5be33d13150",
   "metadata": {},
   "source": [
    "## 1.1 Etude de la variable *NB_VALD*"
   ]
  },
  {
   "cell_type": "markdown",
   "id": "338ade20-c999-401b-b3ca-37166be50973",
   "metadata": {},
   "source": [
    "Dans notre jeu de données, nous avons de nombreuses autres variables sous le format numérique mais qui sont des codes référence et non pas des données à analyser. Notre principale variable d'intérêt numérique est **'NB_VALD'**"
   ]
  },
  {
   "cell_type": "code",
   "execution_count": 165,
   "id": "978885ea-d4f8-4b82-b964-21450e938e2d",
   "metadata": {},
   "outputs": [
    {
     "data": {
      "text/plain": [
       "count    322531.000000\n",
       "mean        763.387631\n",
       "std        2585.164832\n",
       "min           5.000000\n",
       "25%          23.000000\n",
       "50%         115.000000\n",
       "75%         484.000000\n",
       "max       94766.000000\n",
       "Name: NB_VALD, dtype: float64"
      ]
     },
     "execution_count": 165,
     "metadata": {},
     "output_type": "execute_result"
    }
   ],
   "source": [
    "# répartition de la variable NB_VALD\n",
    "\n",
    "validations_23_RER['NB_VALD'].describe()"
   ]
  },
  {
   "cell_type": "code",
   "execution_count": 174,
   "id": "84d7f72b-3488-4eee-99cf-0d677feb410e",
   "metadata": {},
   "outputs": [
    {
     "data": {
      "image/png": "[encoded data removed]",
      "text/plain": [
       "<Figure size 1200x600 with 1 Axes>"
      ]
     },
     "metadata": {},
     "output_type": "display_data"
    }
   ],
   "source": [
    "# évolution du nombre de validations par jours sur le premier semestre\n",
    "\n",
    "plt.figure(figsize=(12, 6))\n",
    "ax = sns.lineplot(x='JOUR', y='NB_VALD', data=validations_23_RER, color = \"blue\")\n",
    "l1 = ax.lines[0]\n",
    "x1 = l1.get_xydata()[:, 0]\n",
    "y1 = l1.get_xydata()[:, 1]\n",
    "ax.fill_between(x1, y1, color=\"blue\", alpha=0.3)\n",
    "\n",
    "plt.title('Graphique du nombre de validations par jour sur le 1er semestre 2023')\n",
    "plt.show()"
   ]
  },
  {
   "cell_type": "code",
   "execution_count": 178,
   "id": "5020ffa4-7a0d-45fe-ae7d-91b3e52ccc66",
   "metadata": {},
   "outputs": [
    {
     "data": {
      "text/html": [
       "<div>\n",
       "<style scoped>\n",
       "    .dataframe tbody tr th:only-of-type {\n",
       "        vertical-align: middle;\n",
       "    }\n",
       "\n",
       "    .dataframe tbody tr th {\n",
       "        vertical-align: top;\n",
       "    }\n",
       "\n",
       "    .dataframe thead th {\n",
       "        text-align: right;\n",
       "    }\n",
       "</style>\n",
       "<table border=\"1\" class=\"dataframe\">\n",
       "  <thead>\n",
       "    <tr style=\"text-align: right;\">\n",
       "      <th></th>\n",
       "      <th>Mois</th>\n",
       "      <th>NB_VALD</th>\n",
       "    </tr>\n",
       "  </thead>\n",
       "  <tbody>\n",
       "    <tr>\n",
       "      <th>0</th>\n",
       "      <td>1</td>\n",
       "      <td>43260072</td>\n",
       "    </tr>\n",
       "    <tr>\n",
       "      <th>1</th>\n",
       "      <td>2</td>\n",
       "      <td>38798891</td>\n",
       "    </tr>\n",
       "    <tr>\n",
       "      <th>2</th>\n",
       "      <td>3</td>\n",
       "      <td>39804248</td>\n",
       "    </tr>\n",
       "    <tr>\n",
       "      <th>3</th>\n",
       "      <td>4</td>\n",
       "      <td>39112286</td>\n",
       "    </tr>\n",
       "    <tr>\n",
       "      <th>4</th>\n",
       "      <td>5</td>\n",
       "      <td>40903871</td>\n",
       "    </tr>\n",
       "    <tr>\n",
       "      <th>5</th>\n",
       "      <td>6</td>\n",
       "      <td>44336808</td>\n",
       "    </tr>\n",
       "  </tbody>\n",
       "</table>\n",
       "</div>"
      ],
      "text/plain": [
       "   Mois   NB_VALD\n",
       "0     1  43260072\n",
       "1     2  38798891\n",
       "2     3  39804248\n",
       "3     4  39112286\n",
       "4     5  40903871\n",
       "5     6  44336808"
      ]
     },
     "execution_count": 178,
     "metadata": {},
     "output_type": "execute_result"
    }
   ],
   "source": [
    "# agrégation des données de validations par mois\n",
    "\n",
    "vald_23_RER_mois = validations_23_RER.groupby(validations_23_RER['Mois']).agg({'NB_VALD': 'sum'}).reset_index()\n",
    "vald_23_RER_mois"
   ]
  },
  {
   "cell_type": "code",
   "execution_count": 193,
   "id": "682f3499-be95-498a-9823-1a349d5e98ee",
   "metadata": {},
   "outputs": [
    {
     "data": {
      "image/png": "[encoded data removed]",
      "text/plain": [
       "<Figure size 500x500 with 1 Axes>"
      ]
     },
     "metadata": {},
     "output_type": "display_data"
    }
   ],
   "source": [
    "#évolution du nombre de validation par mois sur le premier semestre 2023\n",
    "\n",
    "sns.set_style(\"whitegrid\")\n",
    "g = sns.catplot(x='Mois', y='NB_VALD', data=vald_23_RER_mois, kind = \"bar\", height = 5, aspect = 1, color = \"magenta\")\n",
    "g.set_axis_labels('Mois du premier semestre 2023', 'Nombre de validations par mois')\n",
    "plt.title('Evolution du nombre de validations par mois sur le premier semestre 2023')\n",
    "\n",
    "plt.show()"
   ]
  },
  {
   "cell_type": "code",
   "execution_count": 194,
   "id": "dfc7c51b-a231-409b-b32b-71e3d5cf3c6e",
   "metadata": {},
   "outputs": [
    {
     "data": {
      "image/png": "[encoded data removed]",
      "text/plain": [
       "<Figure size 800x600 with 1 Axes>"
      ]
     },
     "metadata": {},
     "output_type": "display_data"
    }
   ],
   "source": [
    "# évolution de la distribution du nombre de validations par mois \n",
    "\n",
    "sns.set(style=\"whitegrid\")\n",
    "plt.figure(figsize=(8, 6))\n",
    "sns.boxplot(x=\"Mois\", y=\"NB_VALD\", data=vald_23_RER_mois)\n",
    "plt.title('Box Plot du nombre de validation par mois')\n",
    "plt.xlabel('Mois du premier semestre 2023')\n",
    "plt.ylabel('Distribution du nombre de validation par mois')\n",
    "plt.show()"
   ]
  },
  {
   "cell_type": "markdown",
   "id": "f49d2213-c0f3-4db5-a612-baac02d6773f",
   "metadata": {},
   "source": [
    "## 1.2 Etude de la variable *CATEGORIE_TITRE*"
   ]
  },
  {
   "cell_type": "markdown",
   "id": "d0a5b717-c25c-4a70-ac0c-d795c8124890",
   "metadata": {},
   "source": [
    "# idées : \n",
    "\n",
    "- évolution de la fréquentation de manière différenciée : selon le titre de transport\n",
    "\n",
    "- faire une carte de l'importance de la fréquentation sur tout le semestre en fonction de la localisation"
   ]
  },
  {
   "cell_type": "markdown",
   "id": "12155ff0-ecc1-4431-9b74-2ae02c9fd82b",
   "metadata": {},
   "source": [
    "*Note à moi-même : inutile ici, mais utile dans la présentation des données : à remettre ailleurs*\n",
    "\n",
    "Quelques précisions sur les données de validations afin de bien comprendre la manière dont on pourrait utiliser cette base.\n",
    "\n",
    "Les données de validations ne comptabilisent pas :\n",
    "- les tickets magnétiques (par exemple, les ticket T+, Forfait Mobilis, Forfait Paris Visite, etc.)\n",
    "- les usagers qui ne valident pas à la montée dans un bus ou tram, ou en entrant dans une gare (par exemple si le quai est\n",
    "accessible sans passer par une barrière de contrôle, ou si les barrières de contrôle sont indisponibles en raison de travaux, etc. )\n",
    "- les fraudeurs\n",
    "\n",
    "… et donnent donc une vision incomplète du trafic sur le réseau de transport.\n",
    "*(Note à nous-même : à rajouter dans la conclusion, dans les limites)*\n",
    "\n",
    "La base de données ci-dessus est tirée d'une base de données elle-même composée :\n",
    "- du **réseau ferré** (RER, métro, transilien), qui est caractérisé par des **arrêts** \n",
    "- du réseau dit de **\"lignes administratives\"** (bus, tram), aussi appelé **réseau de surface**, qui est caractérisé par des **lignes**\n",
    "\n",
    "Cela génère une différence dans le type de validation :\n",
    "- les validations du **réseau ferré** sont rattachées à une **station**\n",
    "- les validations du **réseau de surface** sont rattachées à une **ligne** (car les valideurs sont embarqués dans les véhicules et donc mobiles).\n",
    "\n",
    "**Qu'est-ce qu'une ligne ?**\n",
    "Dans les données de validation, la notion de ligne regroupe un ensemble d’arrêts prédéfinis par l’offre de transport. Elle est identifiée par un nom de ligne et un identifiant de ligne.\n",
    "\n",
    "**Qu'est-ce qu'un arrêt ?**\n",
    "Dans les données de validation, un arrêt est le lieu où le voyageur valide son titre de transport sur le réseau ferré (i.e. dans une station de métro ou une gare). Il est identifié par un nom d’arrêt et un identifiant de l’arrêt.\n",
    "\n",
    "**Conclusion** : dans notre base de donnée à nous, nous n'avons **que les validations du réseau ferré**, et donc **par arrêt**. "
   ]
  },
  {
   "cell_type": "code",
   "execution_count": null,
   "id": "0f2d1800-acca-45cb-bff6-e56c209d6a36",
   "metadata": {},
   "outputs": [],
   "source": []
  }
 ],
 "metadata": {
  "kernelspec": {
   "display_name": "Python 3 (ipykernel)",
   "language": "python",
   "name": "python3"
  },
  "language_info": {
   "codemirror_mode": {
    "name": "ipython",
    "version": 3
   },
   "file_extension": ".py",
   "mimetype": "text/x-python",
   "name": "python",
   "nbconvert_exporter": "python",
   "pygments_lexer": "ipython3",
   "version": "3.10.13"
  }
 },
 "nbformat": 4,
 "nbformat_minor": 5
}
