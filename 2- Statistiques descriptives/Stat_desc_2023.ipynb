{
 "cells": [
  {
   "cell_type": "markdown",
   "id": "c3ba2c32-3544-40ec-a024-36fa9967f6ef",
   "metadata": {},
   "source": [
    "# Statistiques descriptives que sur 2023"
   ]
  },
  {
   "cell_type": "markdown",
   "id": "8ca4f2c4-9639-4bd6-8d27-73411c81760c",
   "metadata": {},
   "source": [
    "Le but de ce Notebook est de commencer à appréhender les bases de données des fréquentations : à savoir de les reformater et d'en tirer des premières observations."
   ]
  },
  {
   "cell_type": "code",
   "execution_count": 40,
   "id": "a3d2dbad-a81c-4c11-abf6-8de6bb147cec",
   "metadata": {},
   "outputs": [],
   "source": [
    "# import des packages\n",
    "from donnees_IDFM import donnees_archives, donnees_validation_23, donnees_profils_23\n",
    "import numpy as np\n",
    "import pandas as pd\n",
    "import matplotlib.pyplot as plt\n",
    "import seaborn as sns\n",
    "import plotly.graph_objs as go\n",
    "import plotly.express as px"
   ]
  },
  {
   "cell_type": "code",
   "execution_count": 41,
   "id": "21d7b713-4018-45e5-9116-a226d63aa387",
   "metadata": {},
   "outputs": [],
   "source": [
    "# importation des deux bases de données 2023\n",
    "validations_23=donnees_validation_23()\n",
    "profils_23=donnees_profils_23()"
   ]
  },
  {
   "cell_type": "markdown",
   "id": "ef95c2c3-a496-4780-92b5-1ee537c4e7af",
   "metadata": {},
   "source": [
    "# 0.  Prise en main et nettoyage de la base de données des validations année 2023"
   ]
  },
  {
   "cell_type": "code",
   "execution_count": 42,
   "id": "f36d30b5-ab72-4cab-8771-214eca020784",
   "metadata": {},
   "outputs": [
    {
     "data": {
      "text/html": [
       "<div>\n",
       "<style scoped>\n",
       "    .dataframe tbody tr th:only-of-type {\n",
       "        vertical-align: middle;\n",
       "    }\n",
       "\n",
       "    .dataframe tbody tr th {\n",
       "        vertical-align: top;\n",
       "    }\n",
       "\n",
       "    .dataframe thead th {\n",
       "        text-align: right;\n",
       "    }\n",
       "</style>\n",
       "<table border=\"1\" class=\"dataframe\">\n",
       "  <thead>\n",
       "    <tr style=\"text-align: right;\">\n",
       "      <th></th>\n",
       "      <th>JOUR</th>\n",
       "      <th>CODE_STIF_TRNS</th>\n",
       "      <th>CODE_STIF_RES</th>\n",
       "      <th>CODE_STIF_ARRET</th>\n",
       "      <th>LIBELLE_ARRET</th>\n",
       "      <th>lda</th>\n",
       "      <th>CATEGORIE_TITRE</th>\n",
       "      <th>NB_VALD</th>\n",
       "    </tr>\n",
       "  </thead>\n",
       "  <tbody>\n",
       "    <tr>\n",
       "      <th>0</th>\n",
       "      <td>2023-06-26</td>\n",
       "      <td>800</td>\n",
       "      <td>853</td>\n",
       "      <td>568</td>\n",
       "      <td>MONTSOULT</td>\n",
       "      <td>67000</td>\n",
       "      <td>?</td>\n",
       "      <td>28</td>\n",
       "    </tr>\n",
       "    <tr>\n",
       "      <th>1</th>\n",
       "      <td>2023-06-26</td>\n",
       "      <td>800</td>\n",
       "      <td>853</td>\n",
       "      <td>568</td>\n",
       "      <td>MONTSOULT</td>\n",
       "      <td>67000</td>\n",
       "      <td>AMETHYSTE</td>\n",
       "      <td>9</td>\n",
       "    </tr>\n",
       "    <tr>\n",
       "      <th>2</th>\n",
       "      <td>2023-06-26</td>\n",
       "      <td>800</td>\n",
       "      <td>853</td>\n",
       "      <td>568</td>\n",
       "      <td>MONTSOULT</td>\n",
       "      <td>67000</td>\n",
       "      <td>IMAGINE R</td>\n",
       "      <td>388</td>\n",
       "    </tr>\n",
       "    <tr>\n",
       "      <th>3</th>\n",
       "      <td>2023-06-26</td>\n",
       "      <td>800</td>\n",
       "      <td>853</td>\n",
       "      <td>568</td>\n",
       "      <td>MONTSOULT</td>\n",
       "      <td>67000</td>\n",
       "      <td>TST</td>\n",
       "      <td>114</td>\n",
       "    </tr>\n",
       "    <tr>\n",
       "      <th>4</th>\n",
       "      <td>2023-06-26</td>\n",
       "      <td>800</td>\n",
       "      <td>853</td>\n",
       "      <td>595</td>\n",
       "      <td>NOINTEL MOURS</td>\n",
       "      <td>67227</td>\n",
       "      <td>?</td>\n",
       "      <td>8</td>\n",
       "    </tr>\n",
       "    <tr>\n",
       "      <th>5</th>\n",
       "      <td>2023-06-26</td>\n",
       "      <td>800</td>\n",
       "      <td>853</td>\n",
       "      <td>595</td>\n",
       "      <td>NOINTEL MOURS</td>\n",
       "      <td>67227</td>\n",
       "      <td>FGT</td>\n",
       "      <td>12</td>\n",
       "    </tr>\n",
       "    <tr>\n",
       "      <th>6</th>\n",
       "      <td>2023-06-26</td>\n",
       "      <td>800</td>\n",
       "      <td>853</td>\n",
       "      <td>595</td>\n",
       "      <td>NOINTEL MOURS</td>\n",
       "      <td>67227</td>\n",
       "      <td>NAVIGO</td>\n",
       "      <td>312</td>\n",
       "    </tr>\n",
       "    <tr>\n",
       "      <th>7</th>\n",
       "      <td>2023-06-26</td>\n",
       "      <td>800</td>\n",
       "      <td>853</td>\n",
       "      <td>595</td>\n",
       "      <td>NOINTEL MOURS</td>\n",
       "      <td>67227</td>\n",
       "      <td>TST</td>\n",
       "      <td>42</td>\n",
       "    </tr>\n",
       "    <tr>\n",
       "      <th>8</th>\n",
       "      <td>2023-06-26</td>\n",
       "      <td>800</td>\n",
       "      <td>853</td>\n",
       "      <td>63</td>\n",
       "      <td>BELLOY ST MA</td>\n",
       "      <td>67126</td>\n",
       "      <td>TST</td>\n",
       "      <td>5</td>\n",
       "    </tr>\n",
       "    <tr>\n",
       "      <th>9</th>\n",
       "      <td>2023-06-26</td>\n",
       "      <td>800</td>\n",
       "      <td>853</td>\n",
       "      <td>637</td>\n",
       "      <td>PERSAN BEAUMONT</td>\n",
       "      <td>67292</td>\n",
       "      <td>FGT</td>\n",
       "      <td>181</td>\n",
       "    </tr>\n",
       "  </tbody>\n",
       "</table>\n",
       "</div>"
      ],
      "text/plain": [
       "         JOUR  CODE_STIF_TRNS CODE_STIF_RES CODE_STIF_ARRET    LIBELLE_ARRET  \\\n",
       "0  2023-06-26             800           853             568        MONTSOULT   \n",
       "1  2023-06-26             800           853             568        MONTSOULT   \n",
       "2  2023-06-26             800           853             568        MONTSOULT   \n",
       "3  2023-06-26             800           853             568        MONTSOULT   \n",
       "4  2023-06-26             800           853             595    NOINTEL MOURS   \n",
       "5  2023-06-26             800           853             595    NOINTEL MOURS   \n",
       "6  2023-06-26             800           853             595    NOINTEL MOURS   \n",
       "7  2023-06-26             800           853             595    NOINTEL MOURS   \n",
       "8  2023-06-26             800           853              63     BELLOY ST MA   \n",
       "9  2023-06-26             800           853             637  PERSAN BEAUMONT   \n",
       "\n",
       "     lda CATEGORIE_TITRE  NB_VALD  \n",
       "0  67000               ?       28  \n",
       "1  67000       AMETHYSTE        9  \n",
       "2  67000       IMAGINE R      388  \n",
       "3  67000             TST      114  \n",
       "4  67227               ?        8  \n",
       "5  67227             FGT       12  \n",
       "6  67227          NAVIGO      312  \n",
       "7  67227             TST       42  \n",
       "8  67126             TST        5  \n",
       "9  67292             FGT      181  "
      ]
     },
     "execution_count": 42,
     "metadata": {},
     "output_type": "execute_result"
    }
   ],
   "source": [
    "validations_23.head(10)"
   ]
  },
  {
   "cell_type": "code",
   "execution_count": 43,
   "id": "902885a1-449b-40f3-9f27-efc90846ecd3",
   "metadata": {},
   "outputs": [
    {
     "data": {
      "text/html": [
       "<div>\n",
       "<style scoped>\n",
       "    .dataframe tbody tr th:only-of-type {\n",
       "        vertical-align: middle;\n",
       "    }\n",
       "\n",
       "    .dataframe tbody tr th {\n",
       "        vertical-align: top;\n",
       "    }\n",
       "\n",
       "    .dataframe thead th {\n",
       "        text-align: right;\n",
       "    }\n",
       "</style>\n",
       "<table border=\"1\" class=\"dataframe\">\n",
       "  <thead>\n",
       "    <tr style=\"text-align: right;\">\n",
       "      <th></th>\n",
       "      <th>JOUR</th>\n",
       "      <th>CODE_STIF_TRNS</th>\n",
       "      <th>CODE_STIF_RES</th>\n",
       "      <th>CODE_STIF_ARRET</th>\n",
       "      <th>LIBELLE_ARRET</th>\n",
       "      <th>lda</th>\n",
       "      <th>CATEGORIE_TITRE</th>\n",
       "      <th>NB_VALD</th>\n",
       "    </tr>\n",
       "  </thead>\n",
       "  <tbody>\n",
       "    <tr>\n",
       "      <th>1096199</th>\n",
       "      <td>2023-03-01</td>\n",
       "      <td>100</td>\n",
       "      <td>110</td>\n",
       "      <td>84</td>\n",
       "      <td>BOISSIERE</td>\n",
       "      <td>71301</td>\n",
       "      <td>AMETHYSTE</td>\n",
       "      <td>83</td>\n",
       "    </tr>\n",
       "    <tr>\n",
       "      <th>1096200</th>\n",
       "      <td>2023-03-01</td>\n",
       "      <td>100</td>\n",
       "      <td>110</td>\n",
       "      <td>84</td>\n",
       "      <td>BOISSIERE</td>\n",
       "      <td>71301</td>\n",
       "      <td>IMAGINE R</td>\n",
       "      <td>1097</td>\n",
       "    </tr>\n",
       "    <tr>\n",
       "      <th>1096201</th>\n",
       "      <td>2023-03-01</td>\n",
       "      <td>100</td>\n",
       "      <td>110</td>\n",
       "      <td>84</td>\n",
       "      <td>BOISSIERE</td>\n",
       "      <td>71301</td>\n",
       "      <td>NAVIGO JOUR</td>\n",
       "      <td>5</td>\n",
       "    </tr>\n",
       "    <tr>\n",
       "      <th>1096202</th>\n",
       "      <td>2023-03-01</td>\n",
       "      <td>100</td>\n",
       "      <td>110</td>\n",
       "      <td>84</td>\n",
       "      <td>BOISSIERE</td>\n",
       "      <td>71301</td>\n",
       "      <td>NON DEFINI</td>\n",
       "      <td>159</td>\n",
       "    </tr>\n",
       "    <tr>\n",
       "      <th>1096203</th>\n",
       "      <td>2023-03-01</td>\n",
       "      <td>100</td>\n",
       "      <td>110</td>\n",
       "      <td>842</td>\n",
       "      <td>SULLY-MORLAND</td>\n",
       "      <td>71201</td>\n",
       "      <td>AUTRE TITRE</td>\n",
       "      <td>483</td>\n",
       "    </tr>\n",
       "    <tr>\n",
       "      <th>1096204</th>\n",
       "      <td>2023-03-01</td>\n",
       "      <td>100</td>\n",
       "      <td>110</td>\n",
       "      <td>842</td>\n",
       "      <td>SULLY-MORLAND</td>\n",
       "      <td>71201</td>\n",
       "      <td>NON DEFINI</td>\n",
       "      <td>186</td>\n",
       "    </tr>\n",
       "    <tr>\n",
       "      <th>1096205</th>\n",
       "      <td>2023-03-01</td>\n",
       "      <td>100</td>\n",
       "      <td>110</td>\n",
       "      <td>848</td>\n",
       "      <td>TELEGRAPHE</td>\n",
       "      <td>71870</td>\n",
       "      <td>NON DEFINI</td>\n",
       "      <td>187</td>\n",
       "    </tr>\n",
       "    <tr>\n",
       "      <th>1096206</th>\n",
       "      <td>2023-03-01</td>\n",
       "      <td>100</td>\n",
       "      <td>110</td>\n",
       "      <td>848</td>\n",
       "      <td>TELEGRAPHE</td>\n",
       "      <td>71870</td>\n",
       "      <td>TST</td>\n",
       "      <td>386</td>\n",
       "    </tr>\n",
       "    <tr>\n",
       "      <th>1096207</th>\n",
       "      <td>2023-03-01</td>\n",
       "      <td>100</td>\n",
       "      <td>110</td>\n",
       "      <td>849</td>\n",
       "      <td>TEMPLE</td>\n",
       "      <td>71296</td>\n",
       "      <td>TST</td>\n",
       "      <td>95</td>\n",
       "    </tr>\n",
       "    <tr>\n",
       "      <th>1096208</th>\n",
       "      <td>2023-03-01</td>\n",
       "      <td>100</td>\n",
       "      <td>110</td>\n",
       "      <td>850</td>\n",
       "      <td>TERNES</td>\n",
       "      <td>71367</td>\n",
       "      <td>NAVIGO</td>\n",
       "      <td>4550</td>\n",
       "    </tr>\n",
       "  </tbody>\n",
       "</table>\n",
       "</div>"
      ],
      "text/plain": [
       "               JOUR  CODE_STIF_TRNS CODE_STIF_RES CODE_STIF_ARRET  \\\n",
       "1096199  2023-03-01             100           110              84   \n",
       "1096200  2023-03-01             100           110              84   \n",
       "1096201  2023-03-01             100           110              84   \n",
       "1096202  2023-03-01             100           110              84   \n",
       "1096203  2023-03-01             100           110             842   \n",
       "1096204  2023-03-01             100           110             842   \n",
       "1096205  2023-03-01             100           110             848   \n",
       "1096206  2023-03-01             100           110             848   \n",
       "1096207  2023-03-01             100           110             849   \n",
       "1096208  2023-03-01             100           110             850   \n",
       "\n",
       "         LIBELLE_ARRET    lda CATEGORIE_TITRE  NB_VALD  \n",
       "1096199      BOISSIERE  71301       AMETHYSTE       83  \n",
       "1096200      BOISSIERE  71301       IMAGINE R     1097  \n",
       "1096201      BOISSIERE  71301     NAVIGO JOUR        5  \n",
       "1096202      BOISSIERE  71301      NON DEFINI      159  \n",
       "1096203  SULLY-MORLAND  71201     AUTRE TITRE      483  \n",
       "1096204  SULLY-MORLAND  71201      NON DEFINI      186  \n",
       "1096205     TELEGRAPHE  71870      NON DEFINI      187  \n",
       "1096206     TELEGRAPHE  71870             TST      386  \n",
       "1096207         TEMPLE  71296             TST       95  \n",
       "1096208         TERNES  71367          NAVIGO     4550  "
      ]
     },
     "execution_count": 43,
     "metadata": {},
     "output_type": "execute_result"
    }
   ],
   "source": [
    "validations_23.tail(10)"
   ]
  },
  {
   "cell_type": "code",
   "execution_count": 44,
   "id": "28d06933-3137-4ec5-928e-e44c091f19c9",
   "metadata": {},
   "outputs": [
    {
     "data": {
      "text/plain": [
       "(1096209, 8)"
      ]
     },
     "execution_count": 44,
     "metadata": {},
     "output_type": "execute_result"
    }
   ],
   "source": [
    "validations_23.shape"
   ]
  },
  {
   "cell_type": "markdown",
   "id": "159ff38d-29b2-4238-bc22-c7f9f9d331bc",
   "metadata": {},
   "source": [
    "Nous avons donc 1 096 209 lignes (nombre de données) et 8 colonnes (ie 8 variables)"
   ]
  },
  {
   "cell_type": "code",
   "execution_count": 45,
   "id": "9a487e02-55c8-4d66-a32f-d81913c816f2",
   "metadata": {},
   "outputs": [
    {
     "data": {
      "text/plain": [
       "Index(['JOUR', 'CODE_STIF_TRNS', 'CODE_STIF_RES', 'CODE_STIF_ARRET',\n",
       "       'LIBELLE_ARRET', 'lda', 'CATEGORIE_TITRE', 'NB_VALD'],\n",
       "      dtype='object')"
      ]
     },
     "execution_count": 45,
     "metadata": {},
     "output_type": "execute_result"
    }
   ],
   "source": [
    "validations_23.columns"
   ]
  },
  {
   "cell_type": "markdown",
   "id": "e584e4a5-3f32-4996-ad84-abdcd8273afc",
   "metadata": {},
   "source": [
    "Nos 8 variables initiales sont les suivantes : la date exacte du jour de l'année 2023, des variables d'identification de la ligne, le libellé de l'arrêt puis son identifiant dans la base de données de référence en IDF (ID_REFA_LDA), la catégorie du titre de validation, et enfin, le nombre de validations. \n",
    "\n",
    "Quelques précisions sur le nom des colonnes : \n",
    "- CODE_STIF_TRNS est le code correspondant au transporteur\n",
    "- CODE_STIF_RES est le code correspondant au réseau\n",
    "- CODE_STIF_ARRET est le code correspondant à l'arrêt"
   ]
  },
  {
   "cell_type": "code",
   "execution_count": 46,
   "id": "2cf4f343-1376-42ce-beed-55b478c8251b",
   "metadata": {},
   "outputs": [
    {
     "name": "stdout",
     "output_type": "stream",
     "text": [
      "Nombre de valeurs distinctes dans 'JOUR' est : 181\n",
      "\n",
      "Nombre de valeurs distinctes dans 'CODE_STIF_TRNS' est : 3\n",
      "Liste des valeurs distinctes dans 'CODE_STIF_TRNS' est : [800 810 100]\n",
      "\n",
      "Nombre de valeurs distinctes dans 'CODE_STIF_RES' est : 13\n",
      "Liste des valeurs distinctes dans 'CODE_STIF_RES' est : ['853' '854' '801' '802' '110' 'ND' '800' '803' '804' '805' '850' '851'\n",
      " '852']\n",
      "\n",
      "Nombre de valeurs distinctes dans 'CODE_STIF_ARRET' est : 756\n",
      "\n",
      "Nombre de valeurs distinctes dans 'LIBELLE_ARRET' est : 747\n",
      "\n",
      "Nombre de valeurs distinctes dans 'lda' est : 726\n",
      "\n",
      "Nombre de valeurs distinctes dans 'CATEGORIE_TITRE' est : 9\n",
      "Liste des valeurs distinctes dans 'CATEGORIE_TITRE' est : ['?' 'AMETHYSTE' 'IMAGINE R' 'TST' 'FGT' 'NAVIGO' 'NAVIGO JOUR'\n",
      " 'NON DEFINI' 'AUTRE TITRE']\n",
      "\n",
      "Nombre de valeurs distinctes dans 'NB_VALD' est : 16101\n",
      "\n"
     ]
    }
   ],
   "source": [
    "# nombre et liste des valeurs distinctes par variable\n",
    "\n",
    "for colonne in validations_23.columns:\n",
    "    nombre_distinct = validations_23[colonne].nunique()\n",
    "    \n",
    "    if nombre_distinct <= 15: #borne de 15 choisie après une première observation du nombre de variables différentes pour chaque variable et pour avoir des groupes cohérents\n",
    "        valeurs_distinctes = validations_23[colonne].unique()\n",
    "        \n",
    "        print(f\"Nombre de valeurs distinctes dans '{colonne}' est :\", nombre_distinct)\n",
    "        print(f\"Liste des valeurs distinctes dans '{colonne}' est :\", valeurs_distinctes)\n",
    "        print()\n",
    "\n",
    "    else :\n",
    "        print(f\"Nombre de valeurs distinctes dans '{colonne}' est :\", nombre_distinct)\n",
    "        print()\n",
    "\n",
    "# première version :\n",
    "\n",
    "#l1 = ['JOUR', 'CODE_STIF_ARRET', 'LIBELLE_ARRET', 'lda', 'NB_VALD']\n",
    "#l2 = ['CODE_STIF_TRNS', 'CODE_STIF_RES', 'CATEGORIE_TITRE'] \n",
    "        \n",
    "#for colonne in l2:\n",
    "    #nombre_distinct = validations_23[colonne].nunique()\n",
    "    #valeurs_distinctes = validations_23[colonne].unique()\n",
    "    \n",
    "    #print(f\"Nombre de valeurs distinctes dans '{colonne}' est :\", nombre_distinct)\n",
    "    #print(f\"Liste des valeurs distinctes dans '{colonne}' est :\", valeurs_distinctes)\n",
    "    #print()\n",
    "\n",
    "#for colonne in l1:\n",
    "    #nombre_distinct = validations_23[colonne].nunique()\n",
    "    \n",
    "    #print(f\"Nombre de valeurs distinctes dans '{colonne}' est :\", nombre_distinct)\n",
    "    #print()"
   ]
  },
  {
   "cell_type": "markdown",
   "id": "e9658704-4162-45d2-bb83-9a1034f1afe4",
   "metadata": {},
   "source": [
    "On voit qu'on a deux types de variables : \n",
    "- des variables qui ont peu de valeurs distinctes : CODE_STIF_TRNS, CODE_STIF_RES et CATEGORIE_TITRE\n",
    "- et les autres : JOUR, CODE_STIF_ARRET, LIBELLE_ARRET, lda, NB_VALD\n",
    "\n",
    "On s'attendait à ce découpage là car : \n",
    "- il y a peu de transporteurs opérant sur le réseau ferré en IDF, et peu de réseaux représentés dans notre base de donnée (métro, transilien, RER) (*Note à moi même : aller chercher la base des stif et comprendre pourquoi 13 réseaux alors que théoriquement : RER, métro, transilien*), et finalement assez peu de catégories de titre (même si on n'en imaginait pas 9).\n",
    "- beaucoup de jour dans le premier semestre de l'année 2023, beaucoup d'arrêt sur tout le réseau (*Note à moi même : aller chercher la base des stif et comprendre pourquoi le nombre de données pour les manières de définir les arrêt varie un peu : erreur ? ou signification des variables ?*), et évidemment beaucoup de nombre de validations par jour différents. \n",
    "\n",
    "Cette étape permet surtout de répérer les valeurs correspondants à des valeurs manquantes pour les variables avec peu de valeurs différentes.\n",
    "- pour **CODE_STIF_TRNS** : aucune valeur ne semble manquer\n",
    "- pour **CODE_STIF_RES** : seule la valeur **'ND'**, probablement pour non-défini semble correspondre à une valeur manquante\n",
    "- pour **CATEGORIE_TITRE** : la valeur **'?'** et **'NON DEFINI'** semblent correspondre à une valeur manquante "
   ]
  },
  {
   "cell_type": "markdown",
   "id": "f7849526-2539-4dbe-aed1-881447204037",
   "metadata": {},
   "source": [
    "Quelques précisions sur les différentes catégories de titre : \n",
    "- **IMAGINE R** : regroupe les forfaits annuels Imagine R Scolaire et Imagine R Etudiant, forfaits réservés aux élèves, apprentis et étudiants qui permet de voyager à volonté toute l’année et dans toute l Ile-de-France.\n",
    "- **NAVIGO** : regroupe les forfaits Navigo Annuel, Navigo Mois et Navigo Semaine.\n",
    "- **AMETHYSTE** : comptabilise les forfaits Améthyste : forfait réservé aux personnes âgées ou handicapées sous conditions de ressources ou de statut, et résidant en Île-de-France. Ce forfait\n",
    "annuel permet à son bénéficiaire de se déplacer de manière illimitée sur tous les modes de transport à l intérieur des zones de validité.\n",
    "- **TST** : regroupe les forfaits hebdomadaires et mensuels à tarif réduit, accordé aux bénéficiaires\n",
    "de la Réduction Solidarité Transport, pour voyager à l’intérieur des zones choisies sur tous les\n",
    "modes de transport en Île-de-France.\n",
    "- **FGT** : comptabilise les Forfaits Navigo Gratuité Transport, forfait qui permet à certain bénéficiaire d’aides sociales de voyager gratuitement dans toute l’Île-de-France.\n",
    "- **AUTRE TITRE** : comptabilise les forfaits spéciaux.\n",
    "- **NON DEFINI** : comptabilise les validations dont le type de titre n’est pas défini (anomalies)."
   ]
  },
  {
   "cell_type": "code",
   "execution_count": 47,
   "id": "ab927331-396b-410b-aee6-d49f5bc6d622",
   "metadata": {},
   "outputs": [
    {
     "name": "stdout",
     "output_type": "stream",
     "text": [
      "CODE_STIF_RES\n",
      "110    498168\n",
      "803     95428\n",
      "854     90356\n",
      "801     67392\n",
      "802     65039\n",
      "804     64473\n",
      "853     61796\n",
      "852     43451\n",
      "850     35045\n",
      "805     30199\n",
      "800     22847\n",
      "851     20945\n",
      "ND       1070\n",
      "Name: count, dtype: int64\n",
      "CATEGORIE_TITRE\n",
      "NAVIGO         136478\n",
      "IMAGINE R      136047\n",
      "TST            133601\n",
      "FGT            132027\n",
      "AMETHYSTE      129237\n",
      "?              129062\n",
      "NON DEFINI     120038\n",
      "NAVIGO JOUR    116071\n",
      "AUTRE TITRE     63648\n",
      "Name: count, dtype: int64\n"
     ]
    }
   ],
   "source": [
    "#compter les valeurs manquantes pour chaque variable pour les remplacer par qqch ou les exclure\n",
    "\n",
    "l3 = ['CODE_STIF_RES', 'CATEGORIE_TITRE'] \n",
    "\n",
    "for colonne in l3:\n",
    "    occurrences_par_valeur = validations_23[colonne].value_counts()\n",
    "    print(occurrences_par_valeur)\n",
    "\n",
    "# première version : \n",
    "#for colonne in validations_23.columns:\n",
    "    #nombre_vnulles = validations_23[colonne].isna().sum()\n",
    "    \n",
    "    #print(f\"La variable '{colonne}' compte :\", nombre_vnulles, f\"valeurs nulles\")\n",
    "    #print()\n",
    "\n",
    "# >> n'a pas d'intérêt pour l'instant car pour Python : aucun NA, \n",
    "# car les valeurs manquantes sont enregistrées autrement qu'avec des NA."
   ]
  },
  {
   "cell_type": "markdown",
   "id": "6ff6cf46-0e2a-4403-b5c1-5409b5ff5b18",
   "metadata": {},
   "source": [
    "On constate que : \n",
    "- la valeur **'ND'** pour la variable **CODE_STIF_RES** est assez faiblement représentée : on peut l'enlever sans perdre trop d'information.\n",
    "- la valeur **'?'** est autant représentée que la valeur **'NON DEFINI'** pour la variable : elles sont autant présentes que d'autres valeurs. De plus, cette variable a un type chaîne de caractère ('str'): on ne veut pas et on n'a pas besoin de la transformer en variable numérique, donc on peut conserver la valeur non-définie. \n",
    "\n",
    "**CCL** : on décide de traiter ces deux types de valeurs manquantes différemment : on retire du dataset toutes les valeurs avec 'ND' pour la variable CODE_STIF_RES, et pour '?', on va les transformer en valeur 'NON DEFINI'. "
   ]
  },
  {
   "cell_type": "code",
   "execution_count": 48,
   "id": "df480ab8-4638-4a13-9ee0-56de06cbd2a3",
   "metadata": {},
   "outputs": [],
   "source": [
    "# transformation des variables en excluant / transformant les valeurs prises (tr pour transformé)\n",
    "\n",
    "# CODE_STIF_RES\n",
    "validations_23_tr = validations_23[validations_23['CODE_STIF_RES'] != 'ND']\n",
    "\n",
    "# CATEGORIE_TITRE\n",
    "validations_23_tr.loc[validations_23_tr['CATEGORIE_TITRE'] == '?', 'CATEGORIE_TITRE'] = 'NON DEFINI'"
   ]
  },
  {
   "cell_type": "code",
   "execution_count": 49,
   "id": "74218b66-2bc3-4bd8-abc8-59847208054c",
   "metadata": {},
   "outputs": [
    {
     "data": {
      "text/plain": [
       "1070"
      ]
     },
     "execution_count": 49,
     "metadata": {},
     "output_type": "execute_result"
    }
   ],
   "source": [
    "validations_23.shape[0] - validations_23_tr.shape[0]\n",
    "# il y a bien le nombre de valeurs 'ND' de CODE_STIF_RES qui a été enlevé"
   ]
  },
  {
   "cell_type": "code",
   "execution_count": 50,
   "id": "bcca207b-659b-4c78-882e-4757f550dd5c",
   "metadata": {},
   "outputs": [
    {
     "data": {
      "text/plain": [
       "CATEGORIE_TITRE\n",
       "NON DEFINI     248813\n",
       "NAVIGO         136296\n",
       "IMAGINE R      135927\n",
       "TST            133490\n",
       "FGT            131921\n",
       "AMETHYSTE      129131\n",
       "NAVIGO JOUR    115998\n",
       "AUTRE TITRE     63563\n",
       "Name: count, dtype: int64"
      ]
     },
     "execution_count": 50,
     "metadata": {},
     "output_type": "execute_result"
    }
   ],
   "source": [
    "validations_23_tr['CATEGORIE_TITRE'].value_counts()\n",
    "# la valeur 'NON DEFINI' dans la colonne CATEGORIE_TITRE a bien comme nombre d'occurence la somme des anciennes valeurs '?' et 'NON DEFINI'"
   ]
  },
  {
   "cell_type": "code",
   "execution_count": 18,
   "id": "5f2ac7c8-da5c-40ac-89ec-06c4fabb30f7",
   "metadata": {},
   "outputs": [
    {
     "data": {
      "text/html": [
       "<div>\n",
       "<style scoped>\n",
       "    .dataframe tbody tr th:only-of-type {\n",
       "        vertical-align: middle;\n",
       "    }\n",
       "\n",
       "    .dataframe tbody tr th {\n",
       "        vertical-align: top;\n",
       "    }\n",
       "\n",
       "    .dataframe thead th {\n",
       "        text-align: right;\n",
       "    }\n",
       "</style>\n",
       "<table border=\"1\" class=\"dataframe\">\n",
       "  <thead>\n",
       "    <tr style=\"text-align: right;\">\n",
       "      <th></th>\n",
       "      <th>JOUR</th>\n",
       "      <th>CODE_STIF_TRNS</th>\n",
       "      <th>CODE_STIF_RES</th>\n",
       "      <th>CODE_STIF_ARRET</th>\n",
       "      <th>LIBELLE_ARRET</th>\n",
       "      <th>lda</th>\n",
       "      <th>CATEGORIE_TITRE</th>\n",
       "      <th>NB_VALD</th>\n",
       "    </tr>\n",
       "  </thead>\n",
       "  <tbody>\n",
       "    <tr>\n",
       "      <th>0</th>\n",
       "      <td>2023-06-26</td>\n",
       "      <td>800</td>\n",
       "      <td>853</td>\n",
       "      <td>568</td>\n",
       "      <td>MONTSOULT</td>\n",
       "      <td>67000</td>\n",
       "      <td>NON DEFINI</td>\n",
       "      <td>28</td>\n",
       "    </tr>\n",
       "    <tr>\n",
       "      <th>1</th>\n",
       "      <td>2023-06-26</td>\n",
       "      <td>800</td>\n",
       "      <td>853</td>\n",
       "      <td>568</td>\n",
       "      <td>MONTSOULT</td>\n",
       "      <td>67000</td>\n",
       "      <td>AMETHYSTE</td>\n",
       "      <td>9</td>\n",
       "    </tr>\n",
       "    <tr>\n",
       "      <th>2</th>\n",
       "      <td>2023-06-26</td>\n",
       "      <td>800</td>\n",
       "      <td>853</td>\n",
       "      <td>568</td>\n",
       "      <td>MONTSOULT</td>\n",
       "      <td>67000</td>\n",
       "      <td>IMAGINE R</td>\n",
       "      <td>388</td>\n",
       "    </tr>\n",
       "    <tr>\n",
       "      <th>3</th>\n",
       "      <td>2023-06-26</td>\n",
       "      <td>800</td>\n",
       "      <td>853</td>\n",
       "      <td>568</td>\n",
       "      <td>MONTSOULT</td>\n",
       "      <td>67000</td>\n",
       "      <td>TST</td>\n",
       "      <td>114</td>\n",
       "    </tr>\n",
       "    <tr>\n",
       "      <th>4</th>\n",
       "      <td>2023-06-26</td>\n",
       "      <td>800</td>\n",
       "      <td>853</td>\n",
       "      <td>595</td>\n",
       "      <td>NOINTEL MOURS</td>\n",
       "      <td>67227</td>\n",
       "      <td>NON DEFINI</td>\n",
       "      <td>8</td>\n",
       "    </tr>\n",
       "    <tr>\n",
       "      <th>5</th>\n",
       "      <td>2023-06-26</td>\n",
       "      <td>800</td>\n",
       "      <td>853</td>\n",
       "      <td>595</td>\n",
       "      <td>NOINTEL MOURS</td>\n",
       "      <td>67227</td>\n",
       "      <td>FGT</td>\n",
       "      <td>12</td>\n",
       "    </tr>\n",
       "    <tr>\n",
       "      <th>6</th>\n",
       "      <td>2023-06-26</td>\n",
       "      <td>800</td>\n",
       "      <td>853</td>\n",
       "      <td>595</td>\n",
       "      <td>NOINTEL MOURS</td>\n",
       "      <td>67227</td>\n",
       "      <td>NAVIGO</td>\n",
       "      <td>312</td>\n",
       "    </tr>\n",
       "    <tr>\n",
       "      <th>7</th>\n",
       "      <td>2023-06-26</td>\n",
       "      <td>800</td>\n",
       "      <td>853</td>\n",
       "      <td>595</td>\n",
       "      <td>NOINTEL MOURS</td>\n",
       "      <td>67227</td>\n",
       "      <td>TST</td>\n",
       "      <td>42</td>\n",
       "    </tr>\n",
       "    <tr>\n",
       "      <th>8</th>\n",
       "      <td>2023-06-26</td>\n",
       "      <td>800</td>\n",
       "      <td>853</td>\n",
       "      <td>63</td>\n",
       "      <td>BELLOY ST MA</td>\n",
       "      <td>67126</td>\n",
       "      <td>TST</td>\n",
       "      <td>5</td>\n",
       "    </tr>\n",
       "    <tr>\n",
       "      <th>9</th>\n",
       "      <td>2023-06-26</td>\n",
       "      <td>800</td>\n",
       "      <td>853</td>\n",
       "      <td>637</td>\n",
       "      <td>PERSAN BEAUMONT</td>\n",
       "      <td>67292</td>\n",
       "      <td>FGT</td>\n",
       "      <td>181</td>\n",
       "    </tr>\n",
       "  </tbody>\n",
       "</table>\n",
       "</div>"
      ],
      "text/plain": [
       "         JOUR  CODE_STIF_TRNS CODE_STIF_RES CODE_STIF_ARRET    LIBELLE_ARRET  \\\n",
       "0  2023-06-26             800           853             568        MONTSOULT   \n",
       "1  2023-06-26             800           853             568        MONTSOULT   \n",
       "2  2023-06-26             800           853             568        MONTSOULT   \n",
       "3  2023-06-26             800           853             568        MONTSOULT   \n",
       "4  2023-06-26             800           853             595    NOINTEL MOURS   \n",
       "5  2023-06-26             800           853             595    NOINTEL MOURS   \n",
       "6  2023-06-26             800           853             595    NOINTEL MOURS   \n",
       "7  2023-06-26             800           853             595    NOINTEL MOURS   \n",
       "8  2023-06-26             800           853              63     BELLOY ST MA   \n",
       "9  2023-06-26             800           853             637  PERSAN BEAUMONT   \n",
       "\n",
       "     lda CATEGORIE_TITRE  NB_VALD  \n",
       "0  67000      NON DEFINI       28  \n",
       "1  67000       AMETHYSTE        9  \n",
       "2  67000       IMAGINE R      388  \n",
       "3  67000             TST      114  \n",
       "4  67227      NON DEFINI        8  \n",
       "5  67227             FGT       12  \n",
       "6  67227          NAVIGO      312  \n",
       "7  67227             TST       42  \n",
       "8  67126             TST        5  \n",
       "9  67292             FGT      181  "
      ]
     },
     "execution_count": 18,
     "metadata": {},
     "output_type": "execute_result"
    }
   ],
   "source": [
    "validations_23_tr.head(10)\n",
    "# on constate bien que les valeurs '?' dans la colonne categorie 4 (ligne 0 et 4) ont été transformées en 'NON DEFINI'"
   ]
  },
  {
   "cell_type": "code",
   "execution_count": 51,
   "id": "3a43b5a5-0ff2-4780-bd84-c8c46a3923a6",
   "metadata": {},
   "outputs": [
    {
     "data": {
      "text/plain": [
       "(1095139, 8)"
      ]
     },
     "execution_count": 51,
     "metadata": {},
     "output_type": "execute_result"
    }
   ],
   "source": [
    "validations_23_tr.shape"
   ]
  },
  {
   "cell_type": "code",
   "execution_count": 52,
   "id": "8cd142ca-f5ab-40f3-a699-49fc4afe6233",
   "metadata": {},
   "outputs": [
    {
     "data": {
      "text/plain": [
       "JOUR               object\n",
       "CODE_STIF_TRNS      int64\n",
       "CODE_STIF_RES      object\n",
       "CODE_STIF_ARRET    object\n",
       "LIBELLE_ARRET      object\n",
       "lda                 int64\n",
       "CATEGORIE_TITRE    object\n",
       "NB_VALD             int64\n",
       "dtype: object"
      ]
     },
     "execution_count": 52,
     "metadata": {},
     "output_type": "execute_result"
    }
   ],
   "source": [
    "validations_23_tr.dtypes"
   ]
  },
  {
   "cell_type": "code",
   "execution_count": 55,
   "id": "c01454ee-4c6e-4355-88a4-15c886e231e3",
   "metadata": {},
   "outputs": [
    {
     "name": "stderr",
     "output_type": "stream",
     "text": [
      "/tmp/ipykernel_2270/2855980035.py:3: SettingWithCopyWarning:\n",
      "\n",
      "\n",
      "A value is trying to be set on a copy of a slice from a DataFrame.\n",
      "Try using .loc[row_indexer,col_indexer] = value instead\n",
      "\n",
      "See the caveats in the documentation: https://pandas.pydata.org/pandas-docs/stable/user_guide/indexing.html#returning-a-view-versus-a-copy\n",
      "\n",
      "/tmp/ipykernel_2270/2855980035.py:4: SettingWithCopyWarning:\n",
      "\n",
      "\n",
      "A value is trying to be set on a copy of a slice from a DataFrame.\n",
      "Try using .loc[row_indexer,col_indexer] = value instead\n",
      "\n",
      "See the caveats in the documentation: https://pandas.pydata.org/pandas-docs/stable/user_guide/indexing.html#returning-a-view-versus-a-copy\n",
      "\n",
      "/tmp/ipykernel_2270/2855980035.py:5: SettingWithCopyWarning:\n",
      "\n",
      "\n",
      "A value is trying to be set on a copy of a slice from a DataFrame.\n",
      "Try using .loc[row_indexer,col_indexer] = value instead\n",
      "\n",
      "See the caveats in the documentation: https://pandas.pydata.org/pandas-docs/stable/user_guide/indexing.html#returning-a-view-versus-a-copy\n",
      "\n",
      "/tmp/ipykernel_2270/2855980035.py:6: SettingWithCopyWarning:\n",
      "\n",
      "\n",
      "A value is trying to be set on a copy of a slice from a DataFrame.\n",
      "Try using .loc[row_indexer,col_indexer] = value instead\n",
      "\n",
      "See the caveats in the documentation: https://pandas.pydata.org/pandas-docs/stable/user_guide/indexing.html#returning-a-view-versus-a-copy\n",
      "\n"
     ]
    }
   ],
   "source": [
    "# transformation du type de certaines variables pour pouvoir les manipuler plus facilement\n",
    "\n",
    "validations_23_tr['JOUR'] = pd.to_datetime(validations_23_tr['JOUR'], format='%Y-%m-%d')\n",
    "validations_23_tr['CODE_STIF_RES'] = validations_23_tr['CODE_STIF_RES'].astype(int)\n",
    "validations_23_tr['CODE_STIF_ARRET'] = validations_23_tr['CODE_STIF_ARRET'].astype(int)\n",
    "validations_23_tr['LIBELLE_ARRET'] = validations_23_tr['LIBELLE_ARRET'].astype(str)\n",
    "\n",
    "# Python me renvoie un warning : setting with copy ! problème du  chain indexing > peut avoir des résultats aléatoires\n",
    "# je tente de passer par une autre méthode : .iloc\n",
    "\n",
    "#validations_23_tr.iloc[:, 2] = validations_23_tr.iloc[:, 2].astype(int)\n",
    "#validations_23_tr.iloc[:, 3] = validations_23_tr.iloc[:, 3].astype(int)\n",
    "#validations_23_tr.iloc[:, 6] = validations_23_tr.iloc[:, 6].astype(str)\n",
    "# mais cette méthode là n'a pas l'air de fonctionner : le type reste le même, après exécution"
   ]
  },
  {
   "cell_type": "code",
   "execution_count": 56,
   "id": "7ac4af40-1bd9-4da9-943d-1659aba19a11",
   "metadata": {},
   "outputs": [
    {
     "data": {
      "text/plain": [
       "JOUR               datetime64[ns]\n",
       "CODE_STIF_TRNS              int64\n",
       "CODE_STIF_RES               int64\n",
       "CODE_STIF_ARRET             int64\n",
       "LIBELLE_ARRET              object\n",
       "lda                         int64\n",
       "CATEGORIE_TITRE            object\n",
       "NB_VALD                     int64\n",
       "dtype: object"
      ]
     },
     "execution_count": 56,
     "metadata": {},
     "output_type": "execute_result"
    }
   ],
   "source": [
    "validations_23_tr.dtypes"
   ]
  },
  {
   "cell_type": "code",
   "execution_count": 57,
   "id": "bfa596c5-7c5b-4b27-838b-3509fc16e5be",
   "metadata": {},
   "outputs": [
    {
     "name": "stderr",
     "output_type": "stream",
     "text": [
      "/tmp/ipykernel_2270/2763900321.py:3: SettingWithCopyWarning:\n",
      "\n",
      "\n",
      "A value is trying to be set on a copy of a slice from a DataFrame.\n",
      "Try using .loc[row_indexer,col_indexer] = value instead\n",
      "\n",
      "See the caveats in the documentation: https://pandas.pydata.org/pandas-docs/stable/user_guide/indexing.html#returning-a-view-versus-a-copy\n",
      "\n",
      "/tmp/ipykernel_2270/2763900321.py:4: SettingWithCopyWarning:\n",
      "\n",
      "\n",
      "A value is trying to be set on a copy of a slice from a DataFrame.\n",
      "Try using .loc[row_indexer,col_indexer] = value instead\n",
      "\n",
      "See the caveats in the documentation: https://pandas.pydata.org/pandas-docs/stable/user_guide/indexing.html#returning-a-view-versus-a-copy\n",
      "\n"
     ]
    }
   ],
   "source": [
    "# création de deux nouvelles colonnes à partir de la colonne de la date, correspondant respectivement au mois et à l'année considérée\n",
    "\n",
    "validations_23_tr['Mois'] = validations_23_tr['JOUR'].dt.month\n",
    "validations_23_tr['Année'] = validations_23_tr['JOUR'].dt.year"
   ]
  },
  {
   "cell_type": "code",
   "execution_count": 58,
   "id": "0ace4647-0882-4881-b294-306cf9217b18",
   "metadata": {},
   "outputs": [
    {
     "name": "stdout",
     "output_type": "stream",
     "text": [
      "Mois\n",
      "5    187987\n",
      "1    187067\n",
      "6    184195\n",
      "3    183540\n",
      "4    182161\n",
      "2    170189\n",
      "Name: count, dtype: int64\n",
      "Année\n",
      "2023    1095139\n",
      "Name: count, dtype: int64\n"
     ]
    }
   ],
   "source": [
    "print(validations_23_tr['Mois'].value_counts())\n",
    "print(validations_23_tr['Année'].value_counts())\n",
    "# il y a bien 6 valeurs différentes pour la variable mois (1 semestre), qui correspondent aux 6 premiers mois de l'année\n",
    "# et 1 seule pour la variable année (que 2023 sur cette BDD)"
   ]
  },
  {
   "cell_type": "code",
   "execution_count": 59,
   "id": "0955ee9e-6a75-48ca-b112-a250f37b7fe7",
   "metadata": {},
   "outputs": [
    {
     "data": {
      "text/html": [
       "<div>\n",
       "<style scoped>\n",
       "    .dataframe tbody tr th:only-of-type {\n",
       "        vertical-align: middle;\n",
       "    }\n",
       "\n",
       "    .dataframe tbody tr th {\n",
       "        vertical-align: top;\n",
       "    }\n",
       "\n",
       "    .dataframe thead th {\n",
       "        text-align: right;\n",
       "    }\n",
       "</style>\n",
       "<table border=\"1\" class=\"dataframe\">\n",
       "  <thead>\n",
       "    <tr style=\"text-align: right;\">\n",
       "      <th></th>\n",
       "      <th>JOUR</th>\n",
       "      <th>CODE_STIF_TRNS</th>\n",
       "      <th>CODE_STIF_RES</th>\n",
       "      <th>CODE_STIF_ARRET</th>\n",
       "      <th>LIBELLE_ARRET</th>\n",
       "      <th>lda</th>\n",
       "      <th>CATEGORIE_TITRE</th>\n",
       "      <th>NB_VALD</th>\n",
       "      <th>Mois</th>\n",
       "      <th>Année</th>\n",
       "    </tr>\n",
       "  </thead>\n",
       "  <tbody>\n",
       "    <tr>\n",
       "      <th>0</th>\n",
       "      <td>2023-06-26</td>\n",
       "      <td>800</td>\n",
       "      <td>853</td>\n",
       "      <td>568</td>\n",
       "      <td>MONTSOULT</td>\n",
       "      <td>67000</td>\n",
       "      <td>NON DEFINI</td>\n",
       "      <td>28</td>\n",
       "      <td>6</td>\n",
       "      <td>2023</td>\n",
       "    </tr>\n",
       "    <tr>\n",
       "      <th>1</th>\n",
       "      <td>2023-06-26</td>\n",
       "      <td>800</td>\n",
       "      <td>853</td>\n",
       "      <td>568</td>\n",
       "      <td>MONTSOULT</td>\n",
       "      <td>67000</td>\n",
       "      <td>AMETHYSTE</td>\n",
       "      <td>9</td>\n",
       "      <td>6</td>\n",
       "      <td>2023</td>\n",
       "    </tr>\n",
       "    <tr>\n",
       "      <th>2</th>\n",
       "      <td>2023-06-26</td>\n",
       "      <td>800</td>\n",
       "      <td>853</td>\n",
       "      <td>568</td>\n",
       "      <td>MONTSOULT</td>\n",
       "      <td>67000</td>\n",
       "      <td>IMAGINE R</td>\n",
       "      <td>388</td>\n",
       "      <td>6</td>\n",
       "      <td>2023</td>\n",
       "    </tr>\n",
       "  </tbody>\n",
       "</table>\n",
       "</div>"
      ],
      "text/plain": [
       "        JOUR  CODE_STIF_TRNS  CODE_STIF_RES  CODE_STIF_ARRET LIBELLE_ARRET  \\\n",
       "0 2023-06-26             800            853              568     MONTSOULT   \n",
       "1 2023-06-26             800            853              568     MONTSOULT   \n",
       "2 2023-06-26             800            853              568     MONTSOULT   \n",
       "\n",
       "     lda CATEGORIE_TITRE  NB_VALD  Mois  Année  \n",
       "0  67000      NON DEFINI       28     6   2023  \n",
       "1  67000       AMETHYSTE        9     6   2023  \n",
       "2  67000       IMAGINE R      388     6   2023  "
      ]
     },
     "execution_count": 59,
     "metadata": {},
     "output_type": "execute_result"
    }
   ],
   "source": [
    "validations_23_tr.head(3)"
   ]
  },
  {
   "cell_type": "code",
   "execution_count": 60,
   "id": "82845ea2-cabf-4a47-b39a-1a7a22474b98",
   "metadata": {},
   "outputs": [
    {
     "data": {
      "text/plain": [
       "CODE_STIF_RES\n",
       "801    1448\n",
       "Name: count, dtype: int64"
      ]
     },
     "execution_count": 60,
     "metadata": {},
     "output_type": "execute_result"
    }
   ],
   "source": [
    "# je n'ai pas trouvé les codes stif correspondant au réseau RER dans une table de référence \n",
    "# alors nous partons à leur recherche !\n",
    "\n",
    "## le RER A : regardons un arrêt qui n'est que sur le RER A\n",
    "\n",
    "arret_A = validations_23_tr[validations_23_tr['LIBELLE_ARRET'] == 'CHAMPIGNY']\n",
    "arret_A['CODE_STIF_RES'].value_counts()"
   ]
  },
  {
   "cell_type": "code",
   "execution_count": 61,
   "id": "b26742dd-6563-4753-86d6-37dc423fb874",
   "metadata": {},
   "outputs": [
    {
     "data": {
      "text/plain": [
       "CODE_STIF_RES\n",
       "802    1207\n",
       "Name: count, dtype: int64"
      ]
     },
     "execution_count": 61,
     "metadata": {},
     "output_type": "execute_result"
    }
   ],
   "source": [
    "## le RER B : regardons un arrêt qui n'est que sur le RER B\n",
    "\n",
    "arret_B = validations_23_tr[validations_23_tr['LIBELLE_ARRET'] == 'BAGNEUX']\n",
    "arret_B['CODE_STIF_RES'].value_counts()"
   ]
  },
  {
   "cell_type": "code",
   "execution_count": 62,
   "id": "bc0ad3f7-7fde-4edd-8360-8f5cc5b4e99d",
   "metadata": {},
   "outputs": [
    {
     "data": {
      "text/plain": [
       "CODE_STIF_RES\n",
       "803    1144\n",
       "Name: count, dtype: int64"
      ]
     },
     "execution_count": 62,
     "metadata": {},
     "output_type": "execute_result"
    }
   ],
   "source": [
    "## le RER B : regardons un arrêt qui n'est que sur le RER C\n",
    "\n",
    "arret_C = validations_23_tr[validations_23_tr['LIBELLE_ARRET'] == 'IGNY']\n",
    "arret_C['CODE_STIF_RES'].value_counts()"
   ]
  },
  {
   "cell_type": "code",
   "execution_count": 63,
   "id": "d8899ef9-739b-409d-b0a7-16024843f452",
   "metadata": {},
   "outputs": [
    {
     "data": {
      "text/plain": [
       "CODE_STIF_RES\n",
       "804    1461\n",
       "Name: count, dtype: int64"
      ]
     },
     "execution_count": 63,
     "metadata": {},
     "output_type": "execute_result"
    }
   ],
   "source": [
    "## le RER D : regardons un arrêt qui n'est que sur le RER D\n",
    "\n",
    "arret_D = validations_23_tr[validations_23_tr['LIBELLE_ARRET'] == 'LOUVRES']\n",
    "arret_D['CODE_STIF_RES'].value_counts()"
   ]
  },
  {
   "cell_type": "code",
   "execution_count": 64,
   "id": "8f972826-9f8b-4b05-9ea2-3bd802f1654c",
   "metadata": {},
   "outputs": [
    {
     "data": {
      "text/plain": [
       "CODE_STIF_RES\n",
       "805    1408\n",
       "Name: count, dtype: int64"
      ]
     },
     "execution_count": 64,
     "metadata": {},
     "output_type": "execute_result"
    }
   ],
   "source": [
    "## le RER E : regardons un arrêt qui n'est que sur le RER E\n",
    "\n",
    "arret_E = validations_23_tr[validations_23_tr['LIBELLE_ARRET'] == 'PANTIN']\n",
    "arret_E['CODE_STIF_RES'].value_counts()"
   ]
  },
  {
   "cell_type": "markdown",
   "id": "b9e01549-bf25-482c-a580-2636d5b292d0",
   "metadata": {},
   "source": [
    "De ce petit exercice, nous pouvons conclure que les CODE_STIF_RES correspondant aux RER sont les suivants : \n",
    "- 801 pour le **RER A**\n",
    "- 802 pour le **RER B**\n",
    "- 803 pour le **RER C**\n",
    "- 804 pour le **RER D**\n",
    "- 805 pour le **RER E**\n",
    "\n",
    "*Note à moi-même pour plus tard : regarder qu'il ne manque pas de CODE_STIF_RES correspondant à des RER*"
   ]
  },
  {
   "cell_type": "code",
   "execution_count": 65,
   "id": "14de6fca-02f0-4468-b827-becd7918c4b2",
   "metadata": {},
   "outputs": [
    {
     "data": {
      "text/plain": [
       "CODE_STIF_RES\n",
       "803    95428\n",
       "801    67392\n",
       "802    65039\n",
       "804    64473\n",
       "805    30199\n",
       "Name: count, dtype: int64"
      ]
     },
     "execution_count": 65,
     "metadata": {},
     "output_type": "execute_result"
    }
   ],
   "source": [
    "# extraction d'un sous dataset correspondant au réseau RER\n",
    "\n",
    "RER_l = [801, 802, 803, 804, 805]\n",
    "\n",
    "validations_23_RER = validations_23_tr[validations_23_tr['CODE_STIF_RES'].isin(RER_l)]\n",
    "validations_23_RER['CODE_STIF_RES'].value_counts()"
   ]
  },
  {
   "cell_type": "markdown",
   "id": "7b362678-faf2-49cb-a9d3-2ef716fdde5f",
   "metadata": {},
   "source": [
    "Pour l'instant, le jeu de données présente le nombre de validations des voyageurs **par jour par arrêt et par titre de transport sur le réseau ferré**."
   ]
  },
  {
   "cell_type": "markdown",
   "id": "bb441daf-0cef-4a68-885e-cb982b8c374a",
   "metadata": {},
   "source": [
    "# 1. Statistiques descriptives"
   ]
  },
  {
   "cell_type": "markdown",
   "id": "aba7a523-8532-46f7-8b5e-d5be33d13150",
   "metadata": {},
   "source": [
    "## 1.1 Etude de la variable *NB_VALD*"
   ]
  },
  {
   "cell_type": "markdown",
   "id": "338ade20-c999-401b-b3ca-37166be50973",
   "metadata": {},
   "source": [
    "Dans notre jeu de données, nous avons de nombreuses autres variables sous le format numérique mais qui sont des codes référence et non pas des données à analyser. Notre principale variable d'intérêt numérique est **'NB_VALD'**"
   ]
  },
  {
   "cell_type": "code",
   "execution_count": 66,
   "id": "978885ea-d4f8-4b82-b964-21450e938e2d",
   "metadata": {},
   "outputs": [
    {
     "data": {
      "text/plain": [
       "count    322531.000000\n",
       "mean        763.387631\n",
       "std        2585.164832\n",
       "min           5.000000\n",
       "25%          23.000000\n",
       "50%         115.000000\n",
       "75%         484.000000\n",
       "max       94766.000000\n",
       "Name: NB_VALD, dtype: float64"
      ]
     },
     "execution_count": 66,
     "metadata": {},
     "output_type": "execute_result"
    }
   ],
   "source": [
    "# répartition de la variable NB_VALD\n",
    "\n",
    "validations_23_RER['NB_VALD'].describe()"
   ]
  },
  {
   "cell_type": "code",
   "execution_count": 74,
   "id": "84d7f72b-3488-4eee-99cf-0d677feb410e",
   "metadata": {},
   "outputs": [
    {
     "data": {
      "image/png": "[encoded data removed]",
      "text/plain": [
       "<Figure size 1200x600 with 1 Axes>"
      ]
     },
     "metadata": {},
     "output_type": "display_data"
    }
   ],
   "source": [
    "# évolution du nombre de validations par jours sur le premier semestre\n",
    "\n",
    "plt.figure(figsize=(12, 6))\n",
    "ax = sns.lineplot(x='JOUR', y='NB_VALD', data=validations_23_RER, color = \"blue\")\n",
    "l1 = ax.lines[0]\n",
    "x1 = l1.get_xydata()[:, 0]\n",
    "y1 = l1.get_xydata()[:, 1]\n",
    "ax.fill_between(x1, y1, color=\"blue\", alpha=0.3)\n",
    "\n",
    "plt.title('Graphique du nombre de validations par jour sur le 1er semestre 2023')\n",
    "plt.show()"
   ]
  },
  {
   "cell_type": "code",
   "execution_count": 68,
   "id": "5020ffa4-7a0d-45fe-ae7d-91b3e52ccc66",
   "metadata": {},
   "outputs": [
    {
     "data": {
      "text/html": [
       "<div>\n",
       "<style scoped>\n",
       "    .dataframe tbody tr th:only-of-type {\n",
       "        vertical-align: middle;\n",
       "    }\n",
       "\n",
       "    .dataframe tbody tr th {\n",
       "        vertical-align: top;\n",
       "    }\n",
       "\n",
       "    .dataframe thead th {\n",
       "        text-align: right;\n",
       "    }\n",
       "</style>\n",
       "<table border=\"1\" class=\"dataframe\">\n",
       "  <thead>\n",
       "    <tr style=\"text-align: right;\">\n",
       "      <th></th>\n",
       "      <th>Mois</th>\n",
       "      <th>NB_VALD</th>\n",
       "    </tr>\n",
       "  </thead>\n",
       "  <tbody>\n",
       "    <tr>\n",
       "      <th>0</th>\n",
       "      <td>1</td>\n",
       "      <td>43260072</td>\n",
       "    </tr>\n",
       "    <tr>\n",
       "      <th>1</th>\n",
       "      <td>2</td>\n",
       "      <td>38798891</td>\n",
       "    </tr>\n",
       "    <tr>\n",
       "      <th>2</th>\n",
       "      <td>3</td>\n",
       "      <td>39804248</td>\n",
       "    </tr>\n",
       "    <tr>\n",
       "      <th>3</th>\n",
       "      <td>4</td>\n",
       "      <td>39112286</td>\n",
       "    </tr>\n",
       "    <tr>\n",
       "      <th>4</th>\n",
       "      <td>5</td>\n",
       "      <td>40903871</td>\n",
       "    </tr>\n",
       "    <tr>\n",
       "      <th>5</th>\n",
       "      <td>6</td>\n",
       "      <td>44336808</td>\n",
       "    </tr>\n",
       "  </tbody>\n",
       "</table>\n",
       "</div>"
      ],
      "text/plain": [
       "   Mois   NB_VALD\n",
       "0     1  43260072\n",
       "1     2  38798891\n",
       "2     3  39804248\n",
       "3     4  39112286\n",
       "4     5  40903871\n",
       "5     6  44336808"
      ]
     },
     "execution_count": 68,
     "metadata": {},
     "output_type": "execute_result"
    }
   ],
   "source": [
    "# agrégation des données de validations par mois\n",
    "\n",
    "vald_23_RER_mois = validations_23_RER.groupby(validations_23_RER['Mois']).agg({'NB_VALD': 'sum'}).reset_index()\n",
    "vald_23_RER_mois"
   ]
  },
  {
   "cell_type": "code",
   "execution_count": 193,
   "id": "682f3499-be95-498a-9823-1a349d5e98ee",
   "metadata": {},
   "outputs": [
    {
     "data": {
      "image/png": "[encoded data removed]",
      "text/plain": [
       "<Figure size 500x500 with 1 Axes>"
      ]
     },
     "metadata": {},
     "output_type": "display_data"
    }
   ],
   "source": [
    "#évolution du nombre de validation par mois sur le premier semestre 2023\n",
    "\n",
    "sns.set_style(\"whitegrid\")\n",
    "g = sns.catplot(x='Mois', y='NB_VALD', data=vald_23_RER_mois, kind = \"bar\", height = 5, aspect = 1, color = \"magenta\")\n",
    "g.set_axis_labels('Mois du premier semestre 2023', 'Nombre de validations par mois')\n",
    "plt.title('Evolution du nombre de validations par mois sur le premier semestre 2023')\n",
    "\n",
    "plt.show()"
   ]
  },
  {
   "cell_type": "code",
   "execution_count": 73,
   "id": "dfc7c51b-a231-409b-b32b-71e3d5cf3c6e",
   "metadata": {},
   "outputs": [
    {
     "data": {
      "text/html": [
       "<div>\n",
       "<style scoped>\n",
       "    .dataframe tbody tr th:only-of-type {\n",
       "        vertical-align: middle;\n",
       "    }\n",
       "\n",
       "    .dataframe tbody tr th {\n",
       "        vertical-align: top;\n",
       "    }\n",
       "\n",
       "    .dataframe thead th {\n",
       "        text-align: right;\n",
       "    }\n",
       "</style>\n",
       "<table border=\"1\" class=\"dataframe\">\n",
       "  <thead>\n",
       "    <tr style=\"text-align: right;\">\n",
       "      <th></th>\n",
       "      <th>Mois</th>\n",
       "      <th>NB_VALD</th>\n",
       "    </tr>\n",
       "  </thead>\n",
       "  <tbody>\n",
       "    <tr>\n",
       "      <th>0</th>\n",
       "      <td>1</td>\n",
       "      <td>780.304329</td>\n",
       "    </tr>\n",
       "    <tr>\n",
       "      <th>1</th>\n",
       "      <td>2</td>\n",
       "      <td>777.797867</td>\n",
       "    </tr>\n",
       "    <tr>\n",
       "      <th>2</th>\n",
       "      <td>3</td>\n",
       "      <td>744.004636</td>\n",
       "    </tr>\n",
       "    <tr>\n",
       "      <th>3</th>\n",
       "      <td>4</td>\n",
       "      <td>729.802138</td>\n",
       "    </tr>\n",
       "    <tr>\n",
       "      <th>4</th>\n",
       "      <td>5</td>\n",
       "      <td>735.310833</td>\n",
       "    </tr>\n",
       "    <tr>\n",
       "      <th>5</th>\n",
       "      <td>6</td>\n",
       "      <td>813.713510</td>\n",
       "    </tr>\n",
       "  </tbody>\n",
       "</table>\n",
       "</div>"
      ],
      "text/plain": [
       "   Mois     NB_VALD\n",
       "0     1  780.304329\n",
       "1     2  777.797867\n",
       "2     3  744.004636\n",
       "3     4  729.802138\n",
       "4     5  735.310833\n",
       "5     6  813.713510"
      ]
     },
     "execution_count": 73,
     "metadata": {},
     "output_type": "execute_result"
    }
   ],
   "source": [
    "# évolution de la moyenne du nombre de validations par mois \n",
    "\n",
    "vald_23_RER_moy_mois = validations_23_RER.groupby('Mois').agg({'NB_VALD': 'mean'}).reset_index()\n",
    "vald_23_RER_moy_mois"
   ]
  },
  {
   "cell_type": "code",
   "execution_count": 76,
   "id": "3d115a60-3223-4f67-9f0d-10796d93ee73",
   "metadata": {},
   "outputs": [
    {
     "data": {
      "image/png": "[encoded data removed]",
      "text/plain": [
       "<Figure size 500x500 with 1 Axes>"
      ]
     },
     "metadata": {},
     "output_type": "display_data"
    }
   ],
   "source": [
    "# graphe de la moyenne du nombre de validations par mois sur le premier semestre 2023\n",
    "\n",
    "sns.set_style(\"whitegrid\")\n",
    "g = sns.catplot(x='Mois', y='NB_VALD', data=vald_23_RER_moy_mois, kind = \"bar\", height = 5, aspect = 1, color = \"magenta\")\n",
    "g.set_axis_labels('Mois du premier semestre 2023', 'Nombre de validations par mois')\n",
    "plt.title('Evolution du nombre de validations par mois sur le premier semestre 2023')\n",
    "\n",
    "plt.show()"
   ]
  },
  {
   "cell_type": "code",
   "execution_count": 79,
   "id": "7a0e3aa4-387b-4b0f-960b-462b128dcbdf",
   "metadata": {},
   "outputs": [
    {
     "data": {
      "text/html": [
       "<div>\n",
       "<style scoped>\n",
       "    .dataframe tbody tr th:only-of-type {\n",
       "        vertical-align: middle;\n",
       "    }\n",
       "\n",
       "    .dataframe tbody tr th {\n",
       "        vertical-align: top;\n",
       "    }\n",
       "\n",
       "    .dataframe thead th {\n",
       "        text-align: right;\n",
       "    }\n",
       "</style>\n",
       "<table border=\"1\" class=\"dataframe\">\n",
       "  <thead>\n",
       "    <tr style=\"text-align: right;\">\n",
       "      <th></th>\n",
       "      <th>Mois</th>\n",
       "      <th>NB_VALD</th>\n",
       "    </tr>\n",
       "  </thead>\n",
       "  <tbody>\n",
       "    <tr>\n",
       "      <th>0</th>\n",
       "      <td>1</td>\n",
       "      <td>111.0</td>\n",
       "    </tr>\n",
       "    <tr>\n",
       "      <th>1</th>\n",
       "      <td>2</td>\n",
       "      <td>116.0</td>\n",
       "    </tr>\n",
       "    <tr>\n",
       "      <th>2</th>\n",
       "      <td>3</td>\n",
       "      <td>109.0</td>\n",
       "    </tr>\n",
       "    <tr>\n",
       "      <th>3</th>\n",
       "      <td>4</td>\n",
       "      <td>111.0</td>\n",
       "    </tr>\n",
       "    <tr>\n",
       "      <th>4</th>\n",
       "      <td>5</td>\n",
       "      <td>115.0</td>\n",
       "    </tr>\n",
       "    <tr>\n",
       "      <th>5</th>\n",
       "      <td>6</td>\n",
       "      <td>125.0</td>\n",
       "    </tr>\n",
       "  </tbody>\n",
       "</table>\n",
       "</div>"
      ],
      "text/plain": [
       "   Mois  NB_VALD\n",
       "0     1    111.0\n",
       "1     2    116.0\n",
       "2     3    109.0\n",
       "3     4    111.0\n",
       "4     5    115.0\n",
       "5     6    125.0"
      ]
     },
     "execution_count": 79,
     "metadata": {},
     "output_type": "execute_result"
    }
   ],
   "source": [
    "# évolution de la médiane du nombre de validations par mois \n",
    "\n",
    "vald_23_RER_med_mois = validations_23_RER.groupby('Mois').agg({'NB_VALD': 'median'}).reset_index()\n",
    "vald_23_RER_med_mois"
   ]
  },
  {
   "cell_type": "code",
   "execution_count": 80,
   "id": "84a7d26f-76f9-46e5-8651-a5cb2664c1c2",
   "metadata": {},
   "outputs": [
    {
     "data": {
      "image/png": "[encoded data removed]",
      "text/plain": [
       "<Figure size 500x500 with 1 Axes>"
      ]
     },
     "metadata": {},
     "output_type": "display_data"
    }
   ],
   "source": [
    "# graphe de la médiane du nombre de validations par mois sur le premier semestre 2023\n",
    "\n",
    "sns.set_style(\"whitegrid\")\n",
    "g = sns.catplot(x='Mois', y='NB_VALD', data=vald_23_RER_med_mois, kind = \"bar\", height = 5, aspect = 1, color = \"magenta\")\n",
    "g.set_axis_labels('Mois du premier semestre 2023', 'Nombre de validations par mois')\n",
    "plt.title('Evolution du nombre de validations par mois sur le premier semestre 2023')\n",
    "\n",
    "plt.show()"
   ]
  },
  {
   "cell_type": "markdown",
   "id": "f49d2213-c0f3-4db5-a612-baac02d6773f",
   "metadata": {},
   "source": [
    "## 1.2 Etude de la variable *CATEGORIE_TITRE*"
   ]
  },
  {
   "cell_type": "code",
   "execution_count": 82,
   "id": "88762df2-3baf-4862-bea4-35e73539b421",
   "metadata": {},
   "outputs": [
    {
     "data": {
      "text/html": [
       "<div>\n",
       "<style scoped>\n",
       "    .dataframe tbody tr th:only-of-type {\n",
       "        vertical-align: middle;\n",
       "    }\n",
       "\n",
       "    .dataframe tbody tr th {\n",
       "        vertical-align: top;\n",
       "    }\n",
       "\n",
       "    .dataframe thead th {\n",
       "        text-align: right;\n",
       "    }\n",
       "</style>\n",
       "<table border=\"1\" class=\"dataframe\">\n",
       "  <thead>\n",
       "    <tr style=\"text-align: right;\">\n",
       "      <th></th>\n",
       "      <th>Mois</th>\n",
       "      <th>CATEGORIE_TITRE</th>\n",
       "      <th>NB_VALD</th>\n",
       "    </tr>\n",
       "  </thead>\n",
       "  <tbody>\n",
       "    <tr>\n",
       "      <th>0</th>\n",
       "      <td>1</td>\n",
       "      <td>AMETHYSTE</td>\n",
       "      <td>680002</td>\n",
       "    </tr>\n",
       "    <tr>\n",
       "      <th>1</th>\n",
       "      <td>1</td>\n",
       "      <td>AUTRE TITRE</td>\n",
       "      <td>486772</td>\n",
       "    </tr>\n",
       "    <tr>\n",
       "      <th>2</th>\n",
       "      <td>1</td>\n",
       "      <td>FGT</td>\n",
       "      <td>1520326</td>\n",
       "    </tr>\n",
       "    <tr>\n",
       "      <th>3</th>\n",
       "      <td>1</td>\n",
       "      <td>IMAGINE R</td>\n",
       "      <td>10129757</td>\n",
       "    </tr>\n",
       "    <tr>\n",
       "      <th>4</th>\n",
       "      <td>1</td>\n",
       "      <td>NAVIGO</td>\n",
       "      <td>24465964</td>\n",
       "    </tr>\n",
       "    <tr>\n",
       "      <th>5</th>\n",
       "      <td>1</td>\n",
       "      <td>NAVIGO JOUR</td>\n",
       "      <td>122157</td>\n",
       "    </tr>\n",
       "    <tr>\n",
       "      <th>6</th>\n",
       "      <td>1</td>\n",
       "      <td>NON DEFINI</td>\n",
       "      <td>1945718</td>\n",
       "    </tr>\n",
       "    <tr>\n",
       "      <th>7</th>\n",
       "      <td>1</td>\n",
       "      <td>TST</td>\n",
       "      <td>3909376</td>\n",
       "    </tr>\n",
       "    <tr>\n",
       "      <th>8</th>\n",
       "      <td>2</td>\n",
       "      <td>AMETHYSTE</td>\n",
       "      <td>650658</td>\n",
       "    </tr>\n",
       "    <tr>\n",
       "      <th>9</th>\n",
       "      <td>2</td>\n",
       "      <td>AUTRE TITRE</td>\n",
       "      <td>448818</td>\n",
       "    </tr>\n",
       "    <tr>\n",
       "      <th>10</th>\n",
       "      <td>2</td>\n",
       "      <td>FGT</td>\n",
       "      <td>1388920</td>\n",
       "    </tr>\n",
       "    <tr>\n",
       "      <th>11</th>\n",
       "      <td>2</td>\n",
       "      <td>IMAGINE R</td>\n",
       "      <td>9004442</td>\n",
       "    </tr>\n",
       "    <tr>\n",
       "      <th>12</th>\n",
       "      <td>2</td>\n",
       "      <td>NAVIGO</td>\n",
       "      <td>21799719</td>\n",
       "    </tr>\n",
       "    <tr>\n",
       "      <th>13</th>\n",
       "      <td>2</td>\n",
       "      <td>NAVIGO JOUR</td>\n",
       "      <td>116750</td>\n",
       "    </tr>\n",
       "    <tr>\n",
       "      <th>14</th>\n",
       "      <td>2</td>\n",
       "      <td>NON DEFINI</td>\n",
       "      <td>1775941</td>\n",
       "    </tr>\n",
       "    <tr>\n",
       "      <th>15</th>\n",
       "      <td>2</td>\n",
       "      <td>TST</td>\n",
       "      <td>3613643</td>\n",
       "    </tr>\n",
       "    <tr>\n",
       "      <th>16</th>\n",
       "      <td>3</td>\n",
       "      <td>AMETHYSTE</td>\n",
       "      <td>648404</td>\n",
       "    </tr>\n",
       "    <tr>\n",
       "      <th>17</th>\n",
       "      <td>3</td>\n",
       "      <td>AUTRE TITRE</td>\n",
       "      <td>441994</td>\n",
       "    </tr>\n",
       "    <tr>\n",
       "      <th>18</th>\n",
       "      <td>3</td>\n",
       "      <td>FGT</td>\n",
       "      <td>1388634</td>\n",
       "    </tr>\n",
       "    <tr>\n",
       "      <th>19</th>\n",
       "      <td>3</td>\n",
       "      <td>IMAGINE R</td>\n",
       "      <td>9014133</td>\n",
       "    </tr>\n",
       "    <tr>\n",
       "      <th>20</th>\n",
       "      <td>3</td>\n",
       "      <td>NAVIGO</td>\n",
       "      <td>22630556</td>\n",
       "    </tr>\n",
       "    <tr>\n",
       "      <th>21</th>\n",
       "      <td>3</td>\n",
       "      <td>NAVIGO JOUR</td>\n",
       "      <td>102280</td>\n",
       "    </tr>\n",
       "    <tr>\n",
       "      <th>22</th>\n",
       "      <td>3</td>\n",
       "      <td>NON DEFINI</td>\n",
       "      <td>1825724</td>\n",
       "    </tr>\n",
       "    <tr>\n",
       "      <th>23</th>\n",
       "      <td>3</td>\n",
       "      <td>TST</td>\n",
       "      <td>3752523</td>\n",
       "    </tr>\n",
       "    <tr>\n",
       "      <th>24</th>\n",
       "      <td>4</td>\n",
       "      <td>AMETHYSTE</td>\n",
       "      <td>681865</td>\n",
       "    </tr>\n",
       "    <tr>\n",
       "      <th>25</th>\n",
       "      <td>4</td>\n",
       "      <td>AUTRE TITRE</td>\n",
       "      <td>499414</td>\n",
       "    </tr>\n",
       "    <tr>\n",
       "      <th>26</th>\n",
       "      <td>4</td>\n",
       "      <td>FGT</td>\n",
       "      <td>1409344</td>\n",
       "    </tr>\n",
       "    <tr>\n",
       "      <th>27</th>\n",
       "      <td>4</td>\n",
       "      <td>IMAGINE R</td>\n",
       "      <td>8959094</td>\n",
       "    </tr>\n",
       "    <tr>\n",
       "      <th>28</th>\n",
       "      <td>4</td>\n",
       "      <td>NAVIGO</td>\n",
       "      <td>21881215</td>\n",
       "    </tr>\n",
       "    <tr>\n",
       "      <th>29</th>\n",
       "      <td>4</td>\n",
       "      <td>NAVIGO JOUR</td>\n",
       "      <td>127365</td>\n",
       "    </tr>\n",
       "    <tr>\n",
       "      <th>30</th>\n",
       "      <td>4</td>\n",
       "      <td>NON DEFINI</td>\n",
       "      <td>1807461</td>\n",
       "    </tr>\n",
       "    <tr>\n",
       "      <th>31</th>\n",
       "      <td>4</td>\n",
       "      <td>TST</td>\n",
       "      <td>3746528</td>\n",
       "    </tr>\n",
       "    <tr>\n",
       "      <th>32</th>\n",
       "      <td>5</td>\n",
       "      <td>AMETHYSTE</td>\n",
       "      <td>748425</td>\n",
       "    </tr>\n",
       "    <tr>\n",
       "      <th>33</th>\n",
       "      <td>5</td>\n",
       "      <td>AUTRE TITRE</td>\n",
       "      <td>544907</td>\n",
       "    </tr>\n",
       "    <tr>\n",
       "      <th>34</th>\n",
       "      <td>5</td>\n",
       "      <td>FGT</td>\n",
       "      <td>1527267</td>\n",
       "    </tr>\n",
       "    <tr>\n",
       "      <th>35</th>\n",
       "      <td>5</td>\n",
       "      <td>IMAGINE R</td>\n",
       "      <td>9181967</td>\n",
       "    </tr>\n",
       "    <tr>\n",
       "      <th>36</th>\n",
       "      <td>5</td>\n",
       "      <td>NAVIGO</td>\n",
       "      <td>22733409</td>\n",
       "    </tr>\n",
       "    <tr>\n",
       "      <th>37</th>\n",
       "      <td>5</td>\n",
       "      <td>NAVIGO JOUR</td>\n",
       "      <td>142324</td>\n",
       "    </tr>\n",
       "    <tr>\n",
       "      <th>38</th>\n",
       "      <td>5</td>\n",
       "      <td>NON DEFINI</td>\n",
       "      <td>1956067</td>\n",
       "    </tr>\n",
       "    <tr>\n",
       "      <th>39</th>\n",
       "      <td>5</td>\n",
       "      <td>TST</td>\n",
       "      <td>4069505</td>\n",
       "    </tr>\n",
       "    <tr>\n",
       "      <th>40</th>\n",
       "      <td>6</td>\n",
       "      <td>AMETHYSTE</td>\n",
       "      <td>752060</td>\n",
       "    </tr>\n",
       "    <tr>\n",
       "      <th>41</th>\n",
       "      <td>6</td>\n",
       "      <td>AUTRE TITRE</td>\n",
       "      <td>603365</td>\n",
       "    </tr>\n",
       "    <tr>\n",
       "      <th>42</th>\n",
       "      <td>6</td>\n",
       "      <td>FGT</td>\n",
       "      <td>1547953</td>\n",
       "    </tr>\n",
       "    <tr>\n",
       "      <th>43</th>\n",
       "      <td>6</td>\n",
       "      <td>IMAGINE R</td>\n",
       "      <td>9337424</td>\n",
       "    </tr>\n",
       "    <tr>\n",
       "      <th>44</th>\n",
       "      <td>6</td>\n",
       "      <td>NAVIGO</td>\n",
       "      <td>25595800</td>\n",
       "    </tr>\n",
       "    <tr>\n",
       "      <th>45</th>\n",
       "      <td>6</td>\n",
       "      <td>NAVIGO JOUR</td>\n",
       "      <td>151520</td>\n",
       "    </tr>\n",
       "    <tr>\n",
       "      <th>46</th>\n",
       "      <td>6</td>\n",
       "      <td>NON DEFINI</td>\n",
       "      <td>2095452</td>\n",
       "    </tr>\n",
       "    <tr>\n",
       "      <th>47</th>\n",
       "      <td>6</td>\n",
       "      <td>TST</td>\n",
       "      <td>4253234</td>\n",
       "    </tr>\n",
       "  </tbody>\n",
       "</table>\n",
       "</div>"
      ],
      "text/plain": [
       "    Mois CATEGORIE_TITRE   NB_VALD\n",
       "0      1       AMETHYSTE    680002\n",
       "1      1     AUTRE TITRE    486772\n",
       "2      1             FGT   1520326\n",
       "3      1       IMAGINE R  10129757\n",
       "4      1          NAVIGO  24465964\n",
       "5      1     NAVIGO JOUR    122157\n",
       "6      1      NON DEFINI   1945718\n",
       "7      1             TST   3909376\n",
       "8      2       AMETHYSTE    650658\n",
       "9      2     AUTRE TITRE    448818\n",
       "10     2             FGT   1388920\n",
       "11     2       IMAGINE R   9004442\n",
       "12     2          NAVIGO  21799719\n",
       "13     2     NAVIGO JOUR    116750\n",
       "14     2      NON DEFINI   1775941\n",
       "15     2             TST   3613643\n",
       "16     3       AMETHYSTE    648404\n",
       "17     3     AUTRE TITRE    441994\n",
       "18     3             FGT   1388634\n",
       "19     3       IMAGINE R   9014133\n",
       "20     3          NAVIGO  22630556\n",
       "21     3     NAVIGO JOUR    102280\n",
       "22     3      NON DEFINI   1825724\n",
       "23     3             TST   3752523\n",
       "24     4       AMETHYSTE    681865\n",
       "25     4     AUTRE TITRE    499414\n",
       "26     4             FGT   1409344\n",
       "27     4       IMAGINE R   8959094\n",
       "28     4          NAVIGO  21881215\n",
       "29     4     NAVIGO JOUR    127365\n",
       "30     4      NON DEFINI   1807461\n",
       "31     4             TST   3746528\n",
       "32     5       AMETHYSTE    748425\n",
       "33     5     AUTRE TITRE    544907\n",
       "34     5             FGT   1527267\n",
       "35     5       IMAGINE R   9181967\n",
       "36     5          NAVIGO  22733409\n",
       "37     5     NAVIGO JOUR    142324\n",
       "38     5      NON DEFINI   1956067\n",
       "39     5             TST   4069505\n",
       "40     6       AMETHYSTE    752060\n",
       "41     6     AUTRE TITRE    603365\n",
       "42     6             FGT   1547953\n",
       "43     6       IMAGINE R   9337424\n",
       "44     6          NAVIGO  25595800\n",
       "45     6     NAVIGO JOUR    151520\n",
       "46     6      NON DEFINI   2095452\n",
       "47     6             TST   4253234"
      ]
     },
     "execution_count": 82,
     "metadata": {},
     "output_type": "execute_result"
    }
   ],
   "source": [
    "# grouper par mois et par catégorie de titre\n",
    "\n",
    "vald_23_RER_mois_categorie = validations_23_RER.groupby(['Mois', 'CATEGORIE_TITRE']).agg({'NB_VALD': 'sum'}).reset_index()\n",
    "vald_23_RER_mois_categorie"
   ]
  },
  {
   "cell_type": "code",
   "execution_count": 83,
   "id": "5e2adf04-cbd6-4f57-963c-b90d8e5ef652",
   "metadata": {},
   "outputs": [
    {
     "data": {
      "application/vnd.plotly.v1+json": {
       "config": {
        "plotlyServerURL": "https://plot.ly"
       },
       "data": [
        {
         "alignmentgroup": "True",
         "hovertemplate": "CATEGORIE_TITRE=AMETHYSTE<br>Mois=%{x}<br>Nombre de validations=%{y}<extra></extra>",
         "legendgroup": "AMETHYSTE",
         "marker": {
          "color": "#636efa",
          "pattern": {
           "shape": ""
          }
         },
         "name": "AMETHYSTE",
         "offsetgroup": "AMETHYSTE",
         "orientation": "v",
         "showlegend": true,
         "textposition": "auto",
         "type": "bar",
         "x": [
          1,
          2,
          3,
          4,
          5,
          6
         ],
         "xaxis": "x",
         "y": [
          680002,
          650658,
          648404,
          681865,
          748425,
          752060
         ],
         "yaxis": "y"
        },
        {
         "alignmentgroup": "True",
         "hovertemplate": "CATEGORIE_TITRE=AUTRE TITRE<br>Mois=%{x}<br>Nombre de validations=%{y}<extra></extra>",
         "legendgroup": "AUTRE TITRE",
         "marker": {
          "color": "#EF553B",
          "pattern": {
           "shape": ""
          }
         },
         "name": "AUTRE TITRE",
         "offsetgroup": "AUTRE TITRE",
         "orientation": "v",
         "showlegend": true,
         "textposition": "auto",
         "type": "bar",
         "x": [
          1,
          2,
          3,
          4,
          5,
          6
         ],
         "xaxis": "x",
         "y": [
          486772,
          448818,
          441994,
          499414,
          544907,
          603365
         ],
         "yaxis": "y"
        },
        {
         "alignmentgroup": "True",
         "hovertemplate": "CATEGORIE_TITRE=FGT<br>Mois=%{x}<br>Nombre de validations=%{y}<extra></extra>",
         "legendgroup": "FGT",
         "marker": {
          "color": "#00cc96",
          "pattern": {
           "shape": ""
          }
         },
         "name": "FGT",
         "offsetgroup": "FGT",
         "orientation": "v",
         "showlegend": true,
         "textposition": "auto",
         "type": "bar",
         "x": [
          1,
          2,
          3,
          4,
          5,
          6
         ],
         "xaxis": "x",
         "y": [
          1520326,
          1388920,
          1388634,
          1409344,
          1527267,
          1547953
         ],
         "yaxis": "y"
        },
        {
         "alignmentgroup": "True",
         "hovertemplate": "CATEGORIE_TITRE=IMAGINE R<br>Mois=%{x}<br>Nombre de validations=%{y}<extra></extra>",
         "legendgroup": "IMAGINE R",
         "marker": {
          "color": "#ab63fa",
          "pattern": {
           "shape": ""
          }
         },
         "name": "IMAGINE R",
         "offsetgroup": "IMAGINE R",
         "orientation": "v",
         "showlegend": true,
         "textposition": "auto",
         "type": "bar",
         "x": [
          1,
          2,
          3,
          4,
          5,
          6
         ],
         "xaxis": "x",
         "y": [
          10129757,
          9004442,
          9014133,
          8959094,
          9181967,
          9337424
         ],
         "yaxis": "y"
        },
        {
         "alignmentgroup": "True",
         "hovertemplate": "CATEGORIE_TITRE=NAVIGO<br>Mois=%{x}<br>Nombre de validations=%{y}<extra></extra>",
         "legendgroup": "NAVIGO",
         "marker": {
          "color": "#FFA15A",
          "pattern": {
           "shape": ""
          }
         },
         "name": "NAVIGO",
         "offsetgroup": "NAVIGO",
         "orientation": "v",
         "showlegend": true,
         "textposition": "auto",
         "type": "bar",
         "x": [
          1,
          2,
          3,
          4,
          5,
          6
         ],
         "xaxis": "x",
         "y": [
          24465964,
          21799719,
          22630556,
          21881215,
          22733409,
          25595800
         ],
         "yaxis": "y"
        },
        {
         "alignmentgroup": "True",
         "hovertemplate": "CATEGORIE_TITRE=NAVIGO JOUR<br>Mois=%{x}<br>Nombre de validations=%{y}<extra></extra>",
         "legendgroup": "NAVIGO JOUR",
         "marker": {
          "color": "#19d3f3",
          "pattern": {
           "shape": ""
          }
         },
         "name": "NAVIGO JOUR",
         "offsetgroup": "NAVIGO JOUR",
         "orientation": "v",
         "showlegend": true,
         "textposition": "auto",
         "type": "bar",
         "x": [
          1,
          2,
          3,
          4,
          5,
          6
         ],
         "xaxis": "x",
         "y": [
          122157,
          116750,
          102280,
          127365,
          142324,
          151520
         ],
         "yaxis": "y"
        },
        {
         "alignmentgroup": "True",
         "hovertemplate": "CATEGORIE_TITRE=NON DEFINI<br>Mois=%{x}<br>Nombre de validations=%{y}<extra></extra>",
         "legendgroup": "NON DEFINI",
         "marker": {
          "color": "#FF6692",
          "pattern": {
           "shape": ""
          }
         },
         "name": "NON DEFINI",
         "offsetgroup": "NON DEFINI",
         "orientation": "v",
         "showlegend": true,
         "textposition": "auto",
         "type": "bar",
         "x": [
          1,
          2,
          3,
          4,
          5,
          6
         ],
         "xaxis": "x",
         "y": [
          1945718,
          1775941,
          1825724,
          1807461,
          1956067,
          2095452
         ],
         "yaxis": "y"
        },
        {
         "alignmentgroup": "True",
         "hovertemplate": "CATEGORIE_TITRE=TST<br>Mois=%{x}<br>Nombre de validations=%{y}<extra></extra>",
         "legendgroup": "TST",
         "marker": {
          "color": "#B6E880",
          "pattern": {
           "shape": ""
          }
         },
         "name": "TST",
         "offsetgroup": "TST",
         "orientation": "v",
         "showlegend": true,
         "textposition": "auto",
         "type": "bar",
         "x": [
          1,
          2,
          3,
          4,
          5,
          6
         ],
         "xaxis": "x",
         "y": [
          3909376,
          3613643,
          3752523,
          3746528,
          4069505,
          4253234
         ],
         "yaxis": "y"
        }
       ],
       "layout": {
        "autosize": true,
        "barmode": "relative",
        "legend": {
         "title": {
          "text": "CATEGORIE_TITRE"
         },
         "tracegroupgap": 0
        },
        "margin": {
         "t": 60
        },
        "template": {
         "data": {
          "bar": [
           {
            "error_x": {
             "color": "#f2f5fa"
            },
            "error_y": {
             "color": "#f2f5fa"
            },
            "marker": {
             "line": {
              "color": "rgb(17,17,17)",
              "width": 0.5
             },
             "pattern": {
              "fillmode": "overlay",
              "size": 10,
              "solidity": 0.2
             }
            },
            "type": "bar"
           }
          ],
          "barpolar": [
           {
            "marker": {
             "line": {
              "color": "rgb(17,17,17)",
              "width": 0.5
             },
             "pattern": {
              "fillmode": "overlay",
              "size": 10,
              "solidity": 0.2
             }
            },
            "type": "barpolar"
           }
          ],
          "carpet": [
           {
            "aaxis": {
             "endlinecolor": "#A2B1C6",
             "gridcolor": "#506784",
             "linecolor": "#506784",
             "minorgridcolor": "#506784",
             "startlinecolor": "#A2B1C6"
            },
            "baxis": {
             "endlinecolor": "#A2B1C6",
             "gridcolor": "#506784",
             "linecolor": "#506784",
             "minorgridcolor": "#506784",
             "startlinecolor": "#A2B1C6"
            },
            "type": "carpet"
           }
          ],
          "choropleth": [
           {
            "colorbar": {
             "outlinewidth": 0,
             "ticks": ""
            },
            "type": "choropleth"
           }
          ],
          "contour": [
           {
            "colorbar": {
             "outlinewidth": 0,
             "ticks": ""
            },
            "colorscale": [
             [
              0,
              "#0d0887"
             ],
             [
              0.1111111111111111,
              "#46039f"
             ],
             [
              0.2222222222222222,
              "#7201a8"
             ],
             [
              0.3333333333333333,
              "#9c179e"
             ],
             [
              0.4444444444444444,
              "#bd3786"
             ],
             [
              0.5555555555555556,
              "#d8576b"
             ],
             [
              0.6666666666666666,
              "#ed7953"
             ],
             [
              0.7777777777777778,
              "#fb9f3a"
             ],
             [
              0.8888888888888888,
              "#fdca26"
             ],
             [
              1,
              "#f0f921"
             ]
            ],
            "type": "contour"
           }
          ],
          "contourcarpet": [
           {
            "colorbar": {
             "outlinewidth": 0,
             "ticks": ""
            },
            "type": "contourcarpet"
           }
          ],
          "heatmap": [
           {
            "colorbar": {
             "outlinewidth": 0,
             "ticks": ""
            },
            "colorscale": [
             [
              0,
              "#0d0887"
             ],
             [
              0.1111111111111111,
              "#46039f"
             ],
             [
              0.2222222222222222,
              "#7201a8"
             ],
             [
              0.3333333333333333,
              "#9c179e"
             ],
             [
              0.4444444444444444,
              "#bd3786"
             ],
             [
              0.5555555555555556,
              "#d8576b"
             ],
             [
              0.6666666666666666,
              "#ed7953"
             ],
             [
              0.7777777777777778,
              "#fb9f3a"
             ],
             [
              0.8888888888888888,
              "#fdca26"
             ],
             [
              1,
              "#f0f921"
             ]
            ],
            "type": "heatmap"
           }
          ],
          "heatmapgl": [
           {
            "colorbar": {
             "outlinewidth": 0,
             "ticks": ""
            },
            "colorscale": [
             [
              0,
              "#0d0887"
             ],
             [
              0.1111111111111111,
              "#46039f"
             ],
             [
              0.2222222222222222,
              "#7201a8"
             ],
             [
              0.3333333333333333,
              "#9c179e"
             ],
             [
              0.4444444444444444,
              "#bd3786"
             ],
             [
              0.5555555555555556,
              "#d8576b"
             ],
             [
              0.6666666666666666,
              "#ed7953"
             ],
             [
              0.7777777777777778,
              "#fb9f3a"
             ],
             [
              0.8888888888888888,
              "#fdca26"
             ],
             [
              1,
              "#f0f921"
             ]
            ],
            "type": "heatmapgl"
           }
          ],
          "histogram": [
           {
            "marker": {
             "pattern": {
              "fillmode": "overlay",
              "size": 10,
              "solidity": 0.2
             }
            },
            "type": "histogram"
           }
          ],
          "histogram2d": [
           {
            "colorbar": {
             "outlinewidth": 0,
             "ticks": ""
            },
            "colorscale": [
             [
              0,
              "#0d0887"
             ],
             [
              0.1111111111111111,
              "#46039f"
             ],
             [
              0.2222222222222222,
              "#7201a8"
             ],
             [
              0.3333333333333333,
              "#9c179e"
             ],
             [
              0.4444444444444444,
              "#bd3786"
             ],
             [
              0.5555555555555556,
              "#d8576b"
             ],
             [
              0.6666666666666666,
              "#ed7953"
             ],
             [
              0.7777777777777778,
              "#fb9f3a"
             ],
             [
              0.8888888888888888,
              "#fdca26"
             ],
             [
              1,
              "#f0f921"
             ]
            ],
            "type": "histogram2d"
           }
          ],
          "histogram2dcontour": [
           {
            "colorbar": {
             "outlinewidth": 0,
             "ticks": ""
            },
            "colorscale": [
             [
              0,
              "#0d0887"
             ],
             [
              0.1111111111111111,
              "#46039f"
             ],
             [
              0.2222222222222222,
              "#7201a8"
             ],
             [
              0.3333333333333333,
              "#9c179e"
             ],
             [
              0.4444444444444444,
              "#bd3786"
             ],
             [
              0.5555555555555556,
              "#d8576b"
             ],
             [
              0.6666666666666666,
              "#ed7953"
             ],
             [
              0.7777777777777778,
              "#fb9f3a"
             ],
             [
              0.8888888888888888,
              "#fdca26"
             ],
             [
              1,
              "#f0f921"
             ]
            ],
            "type": "histogram2dcontour"
           }
          ],
          "mesh3d": [
           {
            "colorbar": {
             "outlinewidth": 0,
             "ticks": ""
            },
            "type": "mesh3d"
           }
          ],
          "parcoords": [
           {
            "line": {
             "colorbar": {
              "outlinewidth": 0,
              "ticks": ""
             }
            },
            "type": "parcoords"
           }
          ],
          "pie": [
           {
            "automargin": true,
            "type": "pie"
           }
          ],
          "scatter": [
           {
            "marker": {
             "line": {
              "color": "#283442"
             }
            },
            "type": "scatter"
           }
          ],
          "scatter3d": [
           {
            "line": {
             "colorbar": {
              "outlinewidth": 0,
              "ticks": ""
             }
            },
            "marker": {
             "colorbar": {
              "outlinewidth": 0,
              "ticks": ""
             }
            },
            "type": "scatter3d"
           }
          ],
          "scattercarpet": [
           {
            "marker": {
             "colorbar": {
              "outlinewidth": 0,
              "ticks": ""
             }
            },
            "type": "scattercarpet"
           }
          ],
          "scattergeo": [
           {
            "marker": {
             "colorbar": {
              "outlinewidth": 0,
              "ticks": ""
             }
            },
            "type": "scattergeo"
           }
          ],
          "scattergl": [
           {
            "marker": {
             "line": {
              "color": "#283442"
             }
            },
            "type": "scattergl"
           }
          ],
          "scattermapbox": [
           {
            "marker": {
             "colorbar": {
              "outlinewidth": 0,
              "ticks": ""
             }
            },
            "type": "scattermapbox"
           }
          ],
          "scatterpolar": [
           {
            "marker": {
             "colorbar": {
              "outlinewidth": 0,
              "ticks": ""
             }
            },
            "type": "scatterpolar"
           }
          ],
          "scatterpolargl": [
           {
            "marker": {
             "colorbar": {
              "outlinewidth": 0,
              "ticks": ""
             }
            },
            "type": "scatterpolargl"
           }
          ],
          "scatterternary": [
           {
            "marker": {
             "colorbar": {
              "outlinewidth": 0,
              "ticks": ""
             }
            },
            "type": "scatterternary"
           }
          ],
          "surface": [
           {
            "colorbar": {
             "outlinewidth": 0,
             "ticks": ""
            },
            "colorscale": [
             [
              0,
              "#0d0887"
             ],
             [
              0.1111111111111111,
              "#46039f"
             ],
             [
              0.2222222222222222,
              "#7201a8"
             ],
             [
              0.3333333333333333,
              "#9c179e"
             ],
             [
              0.4444444444444444,
              "#bd3786"
             ],
             [
              0.5555555555555556,
              "#d8576b"
             ],
             [
              0.6666666666666666,
              "#ed7953"
             ],
             [
              0.7777777777777778,
              "#fb9f3a"
             ],
             [
              0.8888888888888888,
              "#fdca26"
             ],
             [
              1,
              "#f0f921"
             ]
            ],
            "type": "surface"
           }
          ],
          "table": [
           {
            "cells": {
             "fill": {
              "color": "#506784"
             },
             "line": {
              "color": "rgb(17,17,17)"
             }
            },
            "header": {
             "fill": {
              "color": "#2a3f5f"
             },
             "line": {
              "color": "rgb(17,17,17)"
             }
            },
            "type": "table"
           }
          ]
         },
         "layout": {
          "annotationdefaults": {
           "arrowcolor": "#f2f5fa",
           "arrowhead": 0,
           "arrowwidth": 1
          },
          "autotypenumbers": "strict",
          "coloraxis": {
           "colorbar": {
            "outlinewidth": 0,
            "ticks": ""
           }
          },
          "colorscale": {
           "diverging": [
            [
             0,
             "#8e0152"
            ],
            [
             0.1,
             "#c51b7d"
            ],
            [
             0.2,
             "#de77ae"
            ],
            [
             0.3,
             "#f1b6da"
            ],
            [
             0.4,
             "#fde0ef"
            ],
            [
             0.5,
             "#f7f7f7"
            ],
            [
             0.6,
             "#e6f5d0"
            ],
            [
             0.7,
             "#b8e186"
            ],
            [
             0.8,
             "#7fbc41"
            ],
            [
             0.9,
             "#4d9221"
            ],
            [
             1,
             "#276419"
            ]
           ],
           "sequential": [
            [
             0,
             "#0d0887"
            ],
            [
             0.1111111111111111,
             "#46039f"
            ],
            [
             0.2222222222222222,
             "#7201a8"
            ],
            [
             0.3333333333333333,
             "#9c179e"
            ],
            [
             0.4444444444444444,
             "#bd3786"
            ],
            [
             0.5555555555555556,
             "#d8576b"
            ],
            [
             0.6666666666666666,
             "#ed7953"
            ],
            [
             0.7777777777777778,
             "#fb9f3a"
            ],
            [
             0.8888888888888888,
             "#fdca26"
            ],
            [
             1,
             "#f0f921"
            ]
           ],
           "sequentialminus": [
            [
             0,
             "#0d0887"
            ],
            [
             0.1111111111111111,
             "#46039f"
            ],
            [
             0.2222222222222222,
             "#7201a8"
            ],
            [
             0.3333333333333333,
             "#9c179e"
            ],
            [
             0.4444444444444444,
             "#bd3786"
            ],
            [
             0.5555555555555556,
             "#d8576b"
            ],
            [
             0.6666666666666666,
             "#ed7953"
            ],
            [
             0.7777777777777778,
             "#fb9f3a"
            ],
            [
             0.8888888888888888,
             "#fdca26"
            ],
            [
             1,
             "#f0f921"
            ]
           ]
          },
          "colorway": [
           "#636efa",
           "#EF553B",
           "#00cc96",
           "#ab63fa",
           "#FFA15A",
           "#19d3f3",
           "#FF6692",
           "#B6E880",
           "#FF97FF",
           "#FECB52"
          ],
          "font": {
           "color": "#f2f5fa"
          },
          "geo": {
           "bgcolor": "rgb(17,17,17)",
           "lakecolor": "rgb(17,17,17)",
           "landcolor": "rgb(17,17,17)",
           "showlakes": true,
           "showland": true,
           "subunitcolor": "#506784"
          },
          "hoverlabel": {
           "align": "left"
          },
          "hovermode": "closest",
          "mapbox": {
           "style": "dark"
          },
          "paper_bgcolor": "rgb(17,17,17)",
          "plot_bgcolor": "rgb(17,17,17)",
          "polar": {
           "angularaxis": {
            "gridcolor": "#506784",
            "linecolor": "#506784",
            "ticks": ""
           },
           "bgcolor": "rgb(17,17,17)",
           "radialaxis": {
            "gridcolor": "#506784",
            "linecolor": "#506784",
            "ticks": ""
           }
          },
          "scene": {
           "xaxis": {
            "backgroundcolor": "rgb(17,17,17)",
            "gridcolor": "#506784",
            "gridwidth": 2,
            "linecolor": "#506784",
            "showbackground": true,
            "ticks": "",
            "zerolinecolor": "#C8D4E3"
           },
           "yaxis": {
            "backgroundcolor": "rgb(17,17,17)",
            "gridcolor": "#506784",
            "gridwidth": 2,
            "linecolor": "#506784",
            "showbackground": true,
            "ticks": "",
            "zerolinecolor": "#C8D4E3"
           },
           "zaxis": {
            "backgroundcolor": "rgb(17,17,17)",
            "gridcolor": "#506784",
            "gridwidth": 2,
            "linecolor": "#506784",
            "showbackground": true,
            "ticks": "",
            "zerolinecolor": "#C8D4E3"
           }
          },
          "shapedefaults": {
           "line": {
            "color": "#f2f5fa"
           }
          },
          "sliderdefaults": {
           "bgcolor": "#C8D4E3",
           "bordercolor": "rgb(17,17,17)",
           "borderwidth": 1,
           "tickwidth": 0
          },
          "ternary": {
           "aaxis": {
            "gridcolor": "#506784",
            "linecolor": "#506784",
            "ticks": ""
           },
           "baxis": {
            "gridcolor": "#506784",
            "linecolor": "#506784",
            "ticks": ""
           },
           "bgcolor": "rgb(17,17,17)",
           "caxis": {
            "gridcolor": "#506784",
            "linecolor": "#506784",
            "ticks": ""
           }
          },
          "title": {
           "x": 0.05
          },
          "updatemenudefaults": {
           "bgcolor": "#506784",
           "borderwidth": 0
          },
          "xaxis": {
           "automargin": true,
           "gridcolor": "#283442",
           "linecolor": "#506784",
           "ticks": "",
           "title": {
            "standoff": 15
           },
           "zerolinecolor": "#283442",
           "zerolinewidth": 2
          },
          "yaxis": {
           "automargin": true,
           "gridcolor": "#283442",
           "linecolor": "#506784",
           "ticks": "",
           "title": {
            "standoff": 15
           },
           "zerolinecolor": "#283442",
           "zerolinewidth": 2
          }
         }
        },
        "title": {
         "text": "Nombre de validations par mois et par catégorie de titre"
        },
        "xaxis": {
         "anchor": "y",
         "autorange": true,
         "domain": [
          0,
          1
         ],
         "range": [
          0.5,
          6.5
         ],
         "title": {
          "text": "Mois"
         },
         "type": "linear"
        },
        "yaxis": {
         "anchor": "x",
         "autorange": true,
         "domain": [
          0,
          1
         ],
         "range": [
          0,
          46670324.21052632
         ],
         "title": {
          "text": "Quantité de fréquentation"
         },
         "type": "linear"
        }
       }
      },
      "image/png": "[encoded data removed]",
      "text/html": [
       "<div>                            <div id=\"69fcc602-2091-4ea5-9f0f-29720cc46fd9\" class=\"plotly-graph-div\" style=\"height:525px; width:100%;\"></div>            <script type=\"text/javascript\">                require([\"plotly\"], function(Plotly) {                    window.PLOTLYENV=window.PLOTLYENV || {};                                    if (document.getElementById(\"69fcc602-2091-4ea5-9f0f-29720cc46fd9\")) {                    Plotly.newPlot(                        \"69fcc602-2091-4ea5-9f0f-29720cc46fd9\",                        [{\"alignmentgroup\":\"True\",\"hovertemplate\":\"CATEGORIE_TITRE=AMETHYSTE\\u003cbr\\u003eMois=%{x}\\u003cbr\\u003eNombre de validations=%{y}\\u003cextra\\u003e\\u003c\\u002fextra\\u003e\",\"legendgroup\":\"AMETHYSTE\",\"marker\":{\"color\":\"#636efa\",\"pattern\":{\"shape\":\"\"}},\"name\":\"AMETHYSTE\",\"offsetgroup\":\"AMETHYSTE\",\"orientation\":\"v\",\"showlegend\":true,\"textposition\":\"auto\",\"x\":[1,2,3,4,5,6],\"xaxis\":\"x\",\"y\":[680002,650658,648404,681865,748425,752060],\"yaxis\":\"y\",\"type\":\"bar\"},{\"alignmentgroup\":\"True\",\"hovertemplate\":\"CATEGORIE_TITRE=AUTRE TITRE\\u003cbr\\u003eMois=%{x}\\u003cbr\\u003eNombre de validations=%{y}\\u003cextra\\u003e\\u003c\\u002fextra\\u003e\",\"legendgroup\":\"AUTRE TITRE\",\"marker\":{\"color\":\"#EF553B\",\"pattern\":{\"shape\":\"\"}},\"name\":\"AUTRE TITRE\",\"offsetgroup\":\"AUTRE TITRE\",\"orientation\":\"v\",\"showlegend\":true,\"textposition\":\"auto\",\"x\":[1,2,3,4,5,6],\"xaxis\":\"x\",\"y\":[486772,448818,441994,499414,544907,603365],\"yaxis\":\"y\",\"type\":\"bar\"},{\"alignmentgroup\":\"True\",\"hovertemplate\":\"CATEGORIE_TITRE=FGT\\u003cbr\\u003eMois=%{x}\\u003cbr\\u003eNombre de validations=%{y}\\u003cextra\\u003e\\u003c\\u002fextra\\u003e\",\"legendgroup\":\"FGT\",\"marker\":{\"color\":\"#00cc96\",\"pattern\":{\"shape\":\"\"}},\"name\":\"FGT\",\"offsetgroup\":\"FGT\",\"orientation\":\"v\",\"showlegend\":true,\"textposition\":\"auto\",\"x\":[1,2,3,4,5,6],\"xaxis\":\"x\",\"y\":[1520326,1388920,1388634,1409344,1527267,1547953],\"yaxis\":\"y\",\"type\":\"bar\"},{\"alignmentgroup\":\"True\",\"hovertemplate\":\"CATEGORIE_TITRE=IMAGINE R\\u003cbr\\u003eMois=%{x}\\u003cbr\\u003eNombre de validations=%{y}\\u003cextra\\u003e\\u003c\\u002fextra\\u003e\",\"legendgroup\":\"IMAGINE R\",\"marker\":{\"color\":\"#ab63fa\",\"pattern\":{\"shape\":\"\"}},\"name\":\"IMAGINE R\",\"offsetgroup\":\"IMAGINE R\",\"orientation\":\"v\",\"showlegend\":true,\"textposition\":\"auto\",\"x\":[1,2,3,4,5,6],\"xaxis\":\"x\",\"y\":[10129757,9004442,9014133,8959094,9181967,9337424],\"yaxis\":\"y\",\"type\":\"bar\"},{\"alignmentgroup\":\"True\",\"hovertemplate\":\"CATEGORIE_TITRE=NAVIGO\\u003cbr\\u003eMois=%{x}\\u003cbr\\u003eNombre de validations=%{y}\\u003cextra\\u003e\\u003c\\u002fextra\\u003e\",\"legendgroup\":\"NAVIGO\",\"marker\":{\"color\":\"#FFA15A\",\"pattern\":{\"shape\":\"\"}},\"name\":\"NAVIGO\",\"offsetgroup\":\"NAVIGO\",\"orientation\":\"v\",\"showlegend\":true,\"textposition\":\"auto\",\"x\":[1,2,3,4,5,6],\"xaxis\":\"x\",\"y\":[24465964,21799719,22630556,21881215,22733409,25595800],\"yaxis\":\"y\",\"type\":\"bar\"},{\"alignmentgroup\":\"True\",\"hovertemplate\":\"CATEGORIE_TITRE=NAVIGO JOUR\\u003cbr\\u003eMois=%{x}\\u003cbr\\u003eNombre de validations=%{y}\\u003cextra\\u003e\\u003c\\u002fextra\\u003e\",\"legendgroup\":\"NAVIGO JOUR\",\"marker\":{\"color\":\"#19d3f3\",\"pattern\":{\"shape\":\"\"}},\"name\":\"NAVIGO JOUR\",\"offsetgroup\":\"NAVIGO JOUR\",\"orientation\":\"v\",\"showlegend\":true,\"textposition\":\"auto\",\"x\":[1,2,3,4,5,6],\"xaxis\":\"x\",\"y\":[122157,116750,102280,127365,142324,151520],\"yaxis\":\"y\",\"type\":\"bar\"},{\"alignmentgroup\":\"True\",\"hovertemplate\":\"CATEGORIE_TITRE=NON DEFINI\\u003cbr\\u003eMois=%{x}\\u003cbr\\u003eNombre de validations=%{y}\\u003cextra\\u003e\\u003c\\u002fextra\\u003e\",\"legendgroup\":\"NON DEFINI\",\"marker\":{\"color\":\"#FF6692\",\"pattern\":{\"shape\":\"\"}},\"name\":\"NON DEFINI\",\"offsetgroup\":\"NON DEFINI\",\"orientation\":\"v\",\"showlegend\":true,\"textposition\":\"auto\",\"x\":[1,2,3,4,5,6],\"xaxis\":\"x\",\"y\":[1945718,1775941,1825724,1807461,1956067,2095452],\"yaxis\":\"y\",\"type\":\"bar\"},{\"alignmentgroup\":\"True\",\"hovertemplate\":\"CATEGORIE_TITRE=TST\\u003cbr\\u003eMois=%{x}\\u003cbr\\u003eNombre de validations=%{y}\\u003cextra\\u003e\\u003c\\u002fextra\\u003e\",\"legendgroup\":\"TST\",\"marker\":{\"color\":\"#B6E880\",\"pattern\":{\"shape\":\"\"}},\"name\":\"TST\",\"offsetgroup\":\"TST\",\"orientation\":\"v\",\"showlegend\":true,\"textposition\":\"auto\",\"x\":[1,2,3,4,5,6],\"xaxis\":\"x\",\"y\":[3909376,3613643,3752523,3746528,4069505,4253234],\"yaxis\":\"y\",\"type\":\"bar\"}],                        {\"template\":{\"data\":{\"barpolar\":[{\"marker\":{\"line\":{\"color\":\"rgb(17,17,17)\",\"width\":0.5},\"pattern\":{\"fillmode\":\"overlay\",\"size\":10,\"solidity\":0.2}},\"type\":\"barpolar\"}],\"bar\":[{\"error_x\":{\"color\":\"#f2f5fa\"},\"error_y\":{\"color\":\"#f2f5fa\"},\"marker\":{\"line\":{\"color\":\"rgb(17,17,17)\",\"width\":0.5},\"pattern\":{\"fillmode\":\"overlay\",\"size\":10,\"solidity\":0.2}},\"type\":\"bar\"}],\"carpet\":[{\"aaxis\":{\"endlinecolor\":\"#A2B1C6\",\"gridcolor\":\"#506784\",\"linecolor\":\"#506784\",\"minorgridcolor\":\"#506784\",\"startlinecolor\":\"#A2B1C6\"},\"baxis\":{\"endlinecolor\":\"#A2B1C6\",\"gridcolor\":\"#506784\",\"linecolor\":\"#506784\",\"minorgridcolor\":\"#506784\",\"startlinecolor\":\"#A2B1C6\"},\"type\":\"carpet\"}],\"choropleth\":[{\"colorbar\":{\"outlinewidth\":0,\"ticks\":\"\"},\"type\":\"choropleth\"}],\"contourcarpet\":[{\"colorbar\":{\"outlinewidth\":0,\"ticks\":\"\"},\"type\":\"contourcarpet\"}],\"contour\":[{\"colorbar\":{\"outlinewidth\":0,\"ticks\":\"\"},\"colorscale\":[[0.0,\"#0d0887\"],[0.1111111111111111,\"#46039f\"],[0.2222222222222222,\"#7201a8\"],[0.3333333333333333,\"#9c179e\"],[0.4444444444444444,\"#bd3786\"],[0.5555555555555556,\"#d8576b\"],[0.6666666666666666,\"#ed7953\"],[0.7777777777777778,\"#fb9f3a\"],[0.8888888888888888,\"#fdca26\"],[1.0,\"#f0f921\"]],\"type\":\"contour\"}],\"heatmapgl\":[{\"colorbar\":{\"outlinewidth\":0,\"ticks\":\"\"},\"colorscale\":[[0.0,\"#0d0887\"],[0.1111111111111111,\"#46039f\"],[0.2222222222222222,\"#7201a8\"],[0.3333333333333333,\"#9c179e\"],[0.4444444444444444,\"#bd3786\"],[0.5555555555555556,\"#d8576b\"],[0.6666666666666666,\"#ed7953\"],[0.7777777777777778,\"#fb9f3a\"],[0.8888888888888888,\"#fdca26\"],[1.0,\"#f0f921\"]],\"type\":\"heatmapgl\"}],\"heatmap\":[{\"colorbar\":{\"outlinewidth\":0,\"ticks\":\"\"},\"colorscale\":[[0.0,\"#0d0887\"],[0.1111111111111111,\"#46039f\"],[0.2222222222222222,\"#7201a8\"],[0.3333333333333333,\"#9c179e\"],[0.4444444444444444,\"#bd3786\"],[0.5555555555555556,\"#d8576b\"],[0.6666666666666666,\"#ed7953\"],[0.7777777777777778,\"#fb9f3a\"],[0.8888888888888888,\"#fdca26\"],[1.0,\"#f0f921\"]],\"type\":\"heatmap\"}],\"histogram2dcontour\":[{\"colorbar\":{\"outlinewidth\":0,\"ticks\":\"\"},\"colorscale\":[[0.0,\"#0d0887\"],[0.1111111111111111,\"#46039f\"],[0.2222222222222222,\"#7201a8\"],[0.3333333333333333,\"#9c179e\"],[0.4444444444444444,\"#bd3786\"],[0.5555555555555556,\"#d8576b\"],[0.6666666666666666,\"#ed7953\"],[0.7777777777777778,\"#fb9f3a\"],[0.8888888888888888,\"#fdca26\"],[1.0,\"#f0f921\"]],\"type\":\"histogram2dcontour\"}],\"histogram2d\":[{\"colorbar\":{\"outlinewidth\":0,\"ticks\":\"\"},\"colorscale\":[[0.0,\"#0d0887\"],[0.1111111111111111,\"#46039f\"],[0.2222222222222222,\"#7201a8\"],[0.3333333333333333,\"#9c179e\"],[0.4444444444444444,\"#bd3786\"],[0.5555555555555556,\"#d8576b\"],[0.6666666666666666,\"#ed7953\"],[0.7777777777777778,\"#fb9f3a\"],[0.8888888888888888,\"#fdca26\"],[1.0,\"#f0f921\"]],\"type\":\"histogram2d\"}],\"histogram\":[{\"marker\":{\"pattern\":{\"fillmode\":\"overlay\",\"size\":10,\"solidity\":0.2}},\"type\":\"histogram\"}],\"mesh3d\":[{\"colorbar\":{\"outlinewidth\":0,\"ticks\":\"\"},\"type\":\"mesh3d\"}],\"parcoords\":[{\"line\":{\"colorbar\":{\"outlinewidth\":0,\"ticks\":\"\"}},\"type\":\"parcoords\"}],\"pie\":[{\"automargin\":true,\"type\":\"pie\"}],\"scatter3d\":[{\"line\":{\"colorbar\":{\"outlinewidth\":0,\"ticks\":\"\"}},\"marker\":{\"colorbar\":{\"outlinewidth\":0,\"ticks\":\"\"}},\"type\":\"scatter3d\"}],\"scattercarpet\":[{\"marker\":{\"colorbar\":{\"outlinewidth\":0,\"ticks\":\"\"}},\"type\":\"scattercarpet\"}],\"scattergeo\":[{\"marker\":{\"colorbar\":{\"outlinewidth\":0,\"ticks\":\"\"}},\"type\":\"scattergeo\"}],\"scattergl\":[{\"marker\":{\"line\":{\"color\":\"#283442\"}},\"type\":\"scattergl\"}],\"scattermapbox\":[{\"marker\":{\"colorbar\":{\"outlinewidth\":0,\"ticks\":\"\"}},\"type\":\"scattermapbox\"}],\"scatterpolargl\":[{\"marker\":{\"colorbar\":{\"outlinewidth\":0,\"ticks\":\"\"}},\"type\":\"scatterpolargl\"}],\"scatterpolar\":[{\"marker\":{\"colorbar\":{\"outlinewidth\":0,\"ticks\":\"\"}},\"type\":\"scatterpolar\"}],\"scatter\":[{\"marker\":{\"line\":{\"color\":\"#283442\"}},\"type\":\"scatter\"}],\"scatterternary\":[{\"marker\":{\"colorbar\":{\"outlinewidth\":0,\"ticks\":\"\"}},\"type\":\"scatterternary\"}],\"surface\":[{\"colorbar\":{\"outlinewidth\":0,\"ticks\":\"\"},\"colorscale\":[[0.0,\"#0d0887\"],[0.1111111111111111,\"#46039f\"],[0.2222222222222222,\"#7201a8\"],[0.3333333333333333,\"#9c179e\"],[0.4444444444444444,\"#bd3786\"],[0.5555555555555556,\"#d8576b\"],[0.6666666666666666,\"#ed7953\"],[0.7777777777777778,\"#fb9f3a\"],[0.8888888888888888,\"#fdca26\"],[1.0,\"#f0f921\"]],\"type\":\"surface\"}],\"table\":[{\"cells\":{\"fill\":{\"color\":\"#506784\"},\"line\":{\"color\":\"rgb(17,17,17)\"}},\"header\":{\"fill\":{\"color\":\"#2a3f5f\"},\"line\":{\"color\":\"rgb(17,17,17)\"}},\"type\":\"table\"}]},\"layout\":{\"annotationdefaults\":{\"arrowcolor\":\"#f2f5fa\",\"arrowhead\":0,\"arrowwidth\":1},\"autotypenumbers\":\"strict\",\"coloraxis\":{\"colorbar\":{\"outlinewidth\":0,\"ticks\":\"\"}},\"colorscale\":{\"diverging\":[[0,\"#8e0152\"],[0.1,\"#c51b7d\"],[0.2,\"#de77ae\"],[0.3,\"#f1b6da\"],[0.4,\"#fde0ef\"],[0.5,\"#f7f7f7\"],[0.6,\"#e6f5d0\"],[0.7,\"#b8e186\"],[0.8,\"#7fbc41\"],[0.9,\"#4d9221\"],[1,\"#276419\"]],\"sequential\":[[0.0,\"#0d0887\"],[0.1111111111111111,\"#46039f\"],[0.2222222222222222,\"#7201a8\"],[0.3333333333333333,\"#9c179e\"],[0.4444444444444444,\"#bd3786\"],[0.5555555555555556,\"#d8576b\"],[0.6666666666666666,\"#ed7953\"],[0.7777777777777778,\"#fb9f3a\"],[0.8888888888888888,\"#fdca26\"],[1.0,\"#f0f921\"]],\"sequentialminus\":[[0.0,\"#0d0887\"],[0.1111111111111111,\"#46039f\"],[0.2222222222222222,\"#7201a8\"],[0.3333333333333333,\"#9c179e\"],[0.4444444444444444,\"#bd3786\"],[0.5555555555555556,\"#d8576b\"],[0.6666666666666666,\"#ed7953\"],[0.7777777777777778,\"#fb9f3a\"],[0.8888888888888888,\"#fdca26\"],[1.0,\"#f0f921\"]]},\"colorway\":[\"#636efa\",\"#EF553B\",\"#00cc96\",\"#ab63fa\",\"#FFA15A\",\"#19d3f3\",\"#FF6692\",\"#B6E880\",\"#FF97FF\",\"#FECB52\"],\"font\":{\"color\":\"#f2f5fa\"},\"geo\":{\"bgcolor\":\"rgb(17,17,17)\",\"lakecolor\":\"rgb(17,17,17)\",\"landcolor\":\"rgb(17,17,17)\",\"showlakes\":true,\"showland\":true,\"subunitcolor\":\"#506784\"},\"hoverlabel\":{\"align\":\"left\"},\"hovermode\":\"closest\",\"mapbox\":{\"style\":\"dark\"},\"paper_bgcolor\":\"rgb(17,17,17)\",\"plot_bgcolor\":\"rgb(17,17,17)\",\"polar\":{\"angularaxis\":{\"gridcolor\":\"#506784\",\"linecolor\":\"#506784\",\"ticks\":\"\"},\"bgcolor\":\"rgb(17,17,17)\",\"radialaxis\":{\"gridcolor\":\"#506784\",\"linecolor\":\"#506784\",\"ticks\":\"\"}},\"scene\":{\"xaxis\":{\"backgroundcolor\":\"rgb(17,17,17)\",\"gridcolor\":\"#506784\",\"gridwidth\":2,\"linecolor\":\"#506784\",\"showbackground\":true,\"ticks\":\"\",\"zerolinecolor\":\"#C8D4E3\"},\"yaxis\":{\"backgroundcolor\":\"rgb(17,17,17)\",\"gridcolor\":\"#506784\",\"gridwidth\":2,\"linecolor\":\"#506784\",\"showbackground\":true,\"ticks\":\"\",\"zerolinecolor\":\"#C8D4E3\"},\"zaxis\":{\"backgroundcolor\":\"rgb(17,17,17)\",\"gridcolor\":\"#506784\",\"gridwidth\":2,\"linecolor\":\"#506784\",\"showbackground\":true,\"ticks\":\"\",\"zerolinecolor\":\"#C8D4E3\"}},\"shapedefaults\":{\"line\":{\"color\":\"#f2f5fa\"}},\"sliderdefaults\":{\"bgcolor\":\"#C8D4E3\",\"bordercolor\":\"rgb(17,17,17)\",\"borderwidth\":1,\"tickwidth\":0},\"ternary\":{\"aaxis\":{\"gridcolor\":\"#506784\",\"linecolor\":\"#506784\",\"ticks\":\"\"},\"baxis\":{\"gridcolor\":\"#506784\",\"linecolor\":\"#506784\",\"ticks\":\"\"},\"bgcolor\":\"rgb(17,17,17)\",\"caxis\":{\"gridcolor\":\"#506784\",\"linecolor\":\"#506784\",\"ticks\":\"\"}},\"title\":{\"x\":0.05},\"updatemenudefaults\":{\"bgcolor\":\"#506784\",\"borderwidth\":0},\"xaxis\":{\"automargin\":true,\"gridcolor\":\"#283442\",\"linecolor\":\"#506784\",\"ticks\":\"\",\"title\":{\"standoff\":15},\"zerolinecolor\":\"#283442\",\"zerolinewidth\":2},\"yaxis\":{\"automargin\":true,\"gridcolor\":\"#283442\",\"linecolor\":\"#506784\",\"ticks\":\"\",\"title\":{\"standoff\":15},\"zerolinecolor\":\"#283442\",\"zerolinewidth\":2}}},\"xaxis\":{\"anchor\":\"y\",\"domain\":[0.0,1.0],\"title\":{\"text\":\"Mois\"}},\"yaxis\":{\"anchor\":\"x\",\"domain\":[0.0,1.0],\"title\":{\"text\":\"Quantit\\u00e9 de fr\\u00e9quentation\"}},\"legend\":{\"title\":{\"text\":\"CATEGORIE_TITRE\"},\"tracegroupgap\":0},\"margin\":{\"t\":60},\"barmode\":\"relative\",\"title\":{\"text\":\"Nombre de validations par mois et par cat\\u00e9gorie de titre\"}},                        {\"responsive\": true}                    ).then(function(){\n",
       "                            \n",
       "var gd = document.getElementById('69fcc602-2091-4ea5-9f0f-29720cc46fd9');\n",
       "var x = new MutationObserver(function (mutations, observer) {{\n",
       "        var display = window.getComputedStyle(gd).display;\n",
       "        if (!display || display === 'none') {{\n",
       "            console.log([gd, 'removed!']);\n",
       "            Plotly.purge(gd);\n",
       "            observer.disconnect();\n",
       "        }}\n",
       "}});\n",
       "\n",
       "// Listen for the removal of the full notebook cells\n",
       "var notebookContainer = gd.closest('#notebook-container');\n",
       "if (notebookContainer) {{\n",
       "    x.observe(notebookContainer, {childList: true});\n",
       "}}\n",
       "\n",
       "// Listen for the clearing of the current output cell\n",
       "var outputEl = gd.closest('.output');\n",
       "if (outputEl) {{\n",
       "    x.observe(outputEl, {childList: true});\n",
       "}}\n",
       "\n",
       "                        })                };                });            </script>        </div>"
      ]
     },
     "metadata": {},
     "output_type": "display_data"
    }
   ],
   "source": [
    "# graphe par mois de la fréquentation associée à chaque type de titre de transport\n",
    "\n",
    "fig = px.bar(vald_23_RER_mois_categorie, x='Mois', y='NB_VALD', color='CATEGORIE_TITRE',\n",
    "             labels={'NB_VALD': 'Nombre de validations', 'Mois': 'Mois'})\n",
    "\n",
    "fig.update_layout(\n",
    "    title='Nombre de validations par mois et par catégorie de titre',\n",
    "    xaxis_title='Mois',\n",
    "    yaxis_title='Quantité de fréquentation',\n",
    "    template='plotly_dark',  \n",
    ")\n",
    "\n",
    "fig.show()"
   ]
  },
  {
   "cell_type": "markdown",
   "id": "f3d8dfbc-a9ea-4152-8e0a-0511f1a58104",
   "metadata": {},
   "source": [
    "Sans grande surprise, la catégorie de titre de transport la plus utilisée est le Navigo, suivi de près par l'Imagine R (étudiant)"
   ]
  },
  {
   "cell_type": "markdown",
   "id": "d9fa547c-e029-425d-aaf4-ba1728ba5f93",
   "metadata": {},
   "source": [
    "## 1.3 Etude géographique"
   ]
  },
  {
   "cell_type": "code",
   "execution_count": 88,
   "id": "9ba1e53a-15e2-4b0a-a579-b1b27f3fc56c",
   "metadata": {},
   "outputs": [
    {
     "data": {
      "text/html": [
       "<div>\n",
       "<style scoped>\n",
       "    .dataframe tbody tr th:only-of-type {\n",
       "        vertical-align: middle;\n",
       "    }\n",
       "\n",
       "    .dataframe tbody tr th {\n",
       "        vertical-align: top;\n",
       "    }\n",
       "\n",
       "    .dataframe thead th {\n",
       "        text-align: right;\n",
       "    }\n",
       "</style>\n",
       "<table border=\"1\" class=\"dataframe\">\n",
       "  <thead>\n",
       "    <tr style=\"text-align: right;\">\n",
       "      <th></th>\n",
       "      <th>LIBELLE_ARRET</th>\n",
       "      <th>NB_VALD</th>\n",
       "    </tr>\n",
       "  </thead>\n",
       "  <tbody>\n",
       "    <tr>\n",
       "      <th>0</th>\n",
       "      <td>ABLON</td>\n",
       "      <td>243447</td>\n",
       "    </tr>\n",
       "    <tr>\n",
       "      <th>1</th>\n",
       "      <td>ACHERES GRAND</td>\n",
       "      <td>9610</td>\n",
       "    </tr>\n",
       "    <tr>\n",
       "      <th>2</th>\n",
       "      <td>ACHERES VILLE</td>\n",
       "      <td>751813</td>\n",
       "    </tr>\n",
       "    <tr>\n",
       "      <th>3</th>\n",
       "      <td>AEROPORT CDG1</td>\n",
       "      <td>1070579</td>\n",
       "    </tr>\n",
       "    <tr>\n",
       "      <th>4</th>\n",
       "      <td>AEROPORT CDG2</td>\n",
       "      <td>826442</td>\n",
       "    </tr>\n",
       "  </tbody>\n",
       "</table>\n",
       "</div>"
      ],
      "text/plain": [
       "   LIBELLE_ARRET  NB_VALD\n",
       "0          ABLON   243447\n",
       "1  ACHERES GRAND     9610\n",
       "2  ACHERES VILLE   751813\n",
       "3  AEROPORT CDG1  1070579\n",
       "4  AEROPORT CDG2   826442"
      ]
     },
     "execution_count": 88,
     "metadata": {},
     "output_type": "execute_result"
    }
   ],
   "source": [
    "# dataframe du nombre de validations par arrêt sur tout le premier semestre \n",
    "\n",
    "stations_freq = validations_23_RER.groupby('LIBELLE_ARRET')['NB_VALD'].sum().reset_index()\n",
    "stations_freq.head(5)"
   ]
  },
  {
   "cell_type": "code",
   "execution_count": 96,
   "id": "dfbfd5c7-64dc-4bca-ae2d-733d8a4b78cf",
   "metadata": {},
   "outputs": [
    {
     "data": {
      "text/html": [
       "<div>\n",
       "<style scoped>\n",
       "    .dataframe tbody tr th:only-of-type {\n",
       "        vertical-align: middle;\n",
       "    }\n",
       "\n",
       "    .dataframe tbody tr th {\n",
       "        vertical-align: top;\n",
       "    }\n",
       "\n",
       "    .dataframe thead th {\n",
       "        text-align: right;\n",
       "    }\n",
       "</style>\n",
       "<table border=\"1\" class=\"dataframe\">\n",
       "  <thead>\n",
       "    <tr style=\"text-align: right;\">\n",
       "      <th></th>\n",
       "      <th>LIBELLE_ARRET</th>\n",
       "      <th>NB_VALD</th>\n",
       "    </tr>\n",
       "  </thead>\n",
       "  <tbody>\n",
       "    <tr>\n",
       "      <th>50</th>\n",
       "      <td>CHATELET</td>\n",
       "      <td>15587746</td>\n",
       "    </tr>\n",
       "    <tr>\n",
       "      <th>84</th>\n",
       "      <td>GARE DE LYON</td>\n",
       "      <td>14926390</td>\n",
       "    </tr>\n",
       "    <tr>\n",
       "      <th>107</th>\n",
       "      <td>LA DEFENSE</td>\n",
       "      <td>12590292</td>\n",
       "    </tr>\n",
       "    <tr>\n",
       "      <th>105</th>\n",
       "      <td>JUVISY</td>\n",
       "      <td>3828798</td>\n",
       "    </tr>\n",
       "    <tr>\n",
       "      <th>152</th>\n",
       "      <td>NOISY-LE-GRAND</td>\n",
       "      <td>3620278</td>\n",
       "    </tr>\n",
       "    <tr>\n",
       "      <th>213</th>\n",
       "      <td>VAL D.FONTENAY</td>\n",
       "      <td>3575498</td>\n",
       "    </tr>\n",
       "    <tr>\n",
       "      <th>227</th>\n",
       "      <td>VINCENNES</td>\n",
       "      <td>3430408</td>\n",
       "    </tr>\n",
       "    <tr>\n",
       "      <th>58</th>\n",
       "      <td>CITE UNIV.</td>\n",
       "      <td>3196778</td>\n",
       "    </tr>\n",
       "    <tr>\n",
       "      <th>85</th>\n",
       "      <td>GARGES SARCELLE</td>\n",
       "      <td>3133537</td>\n",
       "    </tr>\n",
       "    <tr>\n",
       "      <th>11</th>\n",
       "      <td>AULNAY SS BOIS</td>\n",
       "      <td>3033580</td>\n",
       "    </tr>\n",
       "  </tbody>\n",
       "</table>\n",
       "</div>"
      ],
      "text/plain": [
       "       LIBELLE_ARRET   NB_VALD\n",
       "50          CHATELET  15587746\n",
       "84      GARE DE LYON  14926390\n",
       "107       LA DEFENSE  12590292\n",
       "105           JUVISY   3828798\n",
       "152   NOISY-LE-GRAND   3620278\n",
       "213   VAL D.FONTENAY   3575498\n",
       "227        VINCENNES   3430408\n",
       "58        CITE UNIV.   3196778\n",
       "85   GARGES SARCELLE   3133537\n",
       "11    AULNAY SS BOIS   3033580"
      ]
     },
     "execution_count": 96,
     "metadata": {},
     "output_type": "execute_result"
    }
   ],
   "source": [
    "# dataframe des stations les plus fréquentées (en terme de nombre de validations)\n",
    "\n",
    "stations_freq_sorted = stations_freq.sort_values(by='NB_VALD', ascending=False)\n",
    "stations_freq_sorted_top = stations_freq_sorted.head(20)\n",
    "stations_freq_sorted.head(10)"
   ]
  },
  {
   "cell_type": "code",
   "execution_count": 97,
   "id": "ec2a4c0d-c7d0-4477-94c4-9f2b2203d97d",
   "metadata": {},
   "outputs": [
    {
     "data": {
      "application/vnd.plotly.v1+json": {
       "config": {
        "plotlyServerURL": "https://plot.ly"
       },
       "data": [
        {
         "alignmentgroup": "True",
         "hovertemplate": "Station=%{x}<br>Nombre de Validations=%{y}<extra></extra>",
         "legendgroup": "",
         "marker": {
          "color": "skyblue",
          "pattern": {
           "shape": ""
          }
         },
         "name": "",
         "offsetgroup": "",
         "orientation": "v",
         "showlegend": false,
         "textposition": "auto",
         "type": "bar",
         "x": [
          "CHATELET",
          "GARE DE LYON",
          "LA DEFENSE",
          "JUVISY",
          "NOISY-LE-GRAND",
          "VAL D.FONTENAY",
          "VINCENNES",
          "CITE UNIV.",
          "GARGES SARCELLE",
          "AULNAY SS BOIS",
          "NEUILLY-PLAIS.",
          "CH.D.G.ETOILE",
          "RUEIL-MALMAIS.",
          "AUBER",
          "AUSTERLITZ",
          "NOISY-CHAMPS",
          "NANTERRE-PREF.",
          "MASSY-PALAIS.",
          "MELUN GARE",
          "CERGY PREFECTUR"
         ],
         "xaxis": "x",
         "y": [
          15587746,
          14926390,
          12590292,
          3828798,
          3620278,
          3575498,
          3430408,
          3196778,
          3133537,
          3033580,
          2920702,
          2867038,
          2787673,
          2746502,
          2726813,
          2694219,
          2608242,
          2555101,
          2549356,
          2406249
         ],
         "yaxis": "y"
        }
       ],
       "layout": {
        "autosize": true,
        "barmode": "relative",
        "legend": {
         "tracegroupgap": 0
        },
        "template": {
         "data": {
          "bar": [
           {
            "error_x": {
             "color": "#2a3f5f"
            },
            "error_y": {
             "color": "#2a3f5f"
            },
            "marker": {
             "line": {
              "color": "#E5ECF6",
              "width": 0.5
             },
             "pattern": {
              "fillmode": "overlay",
              "size": 10,
              "solidity": 0.2
             }
            },
            "type": "bar"
           }
          ],
          "barpolar": [
           {
            "marker": {
             "line": {
              "color": "#E5ECF6",
              "width": 0.5
             },
             "pattern": {
              "fillmode": "overlay",
              "size": 10,
              "solidity": 0.2
             }
            },
            "type": "barpolar"
           }
          ],
          "carpet": [
           {
            "aaxis": {
             "endlinecolor": "#2a3f5f",
             "gridcolor": "white",
             "linecolor": "white",
             "minorgridcolor": "white",
             "startlinecolor": "#2a3f5f"
            },
            "baxis": {
             "endlinecolor": "#2a3f5f",
             "gridcolor": "white",
             "linecolor": "white",
             "minorgridcolor": "white",
             "startlinecolor": "#2a3f5f"
            },
            "type": "carpet"
           }
          ],
          "choropleth": [
           {
            "colorbar": {
             "outlinewidth": 0,
             "ticks": ""
            },
            "type": "choropleth"
           }
          ],
          "contour": [
           {
            "colorbar": {
             "outlinewidth": 0,
             "ticks": ""
            },
            "colorscale": [
             [
              0,
              "#0d0887"
             ],
             [
              0.1111111111111111,
              "#46039f"
             ],
             [
              0.2222222222222222,
              "#7201a8"
             ],
             [
              0.3333333333333333,
              "#9c179e"
             ],
             [
              0.4444444444444444,
              "#bd3786"
             ],
             [
              0.5555555555555556,
              "#d8576b"
             ],
             [
              0.6666666666666666,
              "#ed7953"
             ],
             [
              0.7777777777777778,
              "#fb9f3a"
             ],
             [
              0.8888888888888888,
              "#fdca26"
             ],
             [
              1,
              "#f0f921"
             ]
            ],
            "type": "contour"
           }
          ],
          "contourcarpet": [
           {
            "colorbar": {
             "outlinewidth": 0,
             "ticks": ""
            },
            "type": "contourcarpet"
           }
          ],
          "heatmap": [
           {
            "colorbar": {
             "outlinewidth": 0,
             "ticks": ""
            },
            "colorscale": [
             [
              0,
              "#0d0887"
             ],
             [
              0.1111111111111111,
              "#46039f"
             ],
             [
              0.2222222222222222,
              "#7201a8"
             ],
             [
              0.3333333333333333,
              "#9c179e"
             ],
             [
              0.4444444444444444,
              "#bd3786"
             ],
             [
              0.5555555555555556,
              "#d8576b"
             ],
             [
              0.6666666666666666,
              "#ed7953"
             ],
             [
              0.7777777777777778,
              "#fb9f3a"
             ],
             [
              0.8888888888888888,
              "#fdca26"
             ],
             [
              1,
              "#f0f921"
             ]
            ],
            "type": "heatmap"
           }
          ],
          "heatmapgl": [
           {
            "colorbar": {
             "outlinewidth": 0,
             "ticks": ""
            },
            "colorscale": [
             [
              0,
              "#0d0887"
             ],
             [
              0.1111111111111111,
              "#46039f"
             ],
             [
              0.2222222222222222,
              "#7201a8"
             ],
             [
              0.3333333333333333,
              "#9c179e"
             ],
             [
              0.4444444444444444,
              "#bd3786"
             ],
             [
              0.5555555555555556,
              "#d8576b"
             ],
             [
              0.6666666666666666,
              "#ed7953"
             ],
             [
              0.7777777777777778,
              "#fb9f3a"
             ],
             [
              0.8888888888888888,
              "#fdca26"
             ],
             [
              1,
              "#f0f921"
             ]
            ],
            "type": "heatmapgl"
           }
          ],
          "histogram": [
           {
            "marker": {
             "pattern": {
              "fillmode": "overlay",
              "size": 10,
              "solidity": 0.2
             }
            },
            "type": "histogram"
           }
          ],
          "histogram2d": [
           {
            "colorbar": {
             "outlinewidth": 0,
             "ticks": ""
            },
            "colorscale": [
             [
              0,
              "#0d0887"
             ],
             [
              0.1111111111111111,
              "#46039f"
             ],
             [
              0.2222222222222222,
              "#7201a8"
             ],
             [
              0.3333333333333333,
              "#9c179e"
             ],
             [
              0.4444444444444444,
              "#bd3786"
             ],
             [
              0.5555555555555556,
              "#d8576b"
             ],
             [
              0.6666666666666666,
              "#ed7953"
             ],
             [
              0.7777777777777778,
              "#fb9f3a"
             ],
             [
              0.8888888888888888,
              "#fdca26"
             ],
             [
              1,
              "#f0f921"
             ]
            ],
            "type": "histogram2d"
           }
          ],
          "histogram2dcontour": [
           {
            "colorbar": {
             "outlinewidth": 0,
             "ticks": ""
            },
            "colorscale": [
             [
              0,
              "#0d0887"
             ],
             [
              0.1111111111111111,
              "#46039f"
             ],
             [
              0.2222222222222222,
              "#7201a8"
             ],
             [
              0.3333333333333333,
              "#9c179e"
             ],
             [
              0.4444444444444444,
              "#bd3786"
             ],
             [
              0.5555555555555556,
              "#d8576b"
             ],
             [
              0.6666666666666666,
              "#ed7953"
             ],
             [
              0.7777777777777778,
              "#fb9f3a"
             ],
             [
              0.8888888888888888,
              "#fdca26"
             ],
             [
              1,
              "#f0f921"
             ]
            ],
            "type": "histogram2dcontour"
           }
          ],
          "mesh3d": [
           {
            "colorbar": {
             "outlinewidth": 0,
             "ticks": ""
            },
            "type": "mesh3d"
           }
          ],
          "parcoords": [
           {
            "line": {
             "colorbar": {
              "outlinewidth": 0,
              "ticks": ""
             }
            },
            "type": "parcoords"
           }
          ],
          "pie": [
           {
            "automargin": true,
            "type": "pie"
           }
          ],
          "scatter": [
           {
            "fillpattern": {
             "fillmode": "overlay",
             "size": 10,
             "solidity": 0.2
            },
            "type": "scatter"
           }
          ],
          "scatter3d": [
           {
            "line": {
             "colorbar": {
              "outlinewidth": 0,
              "ticks": ""
             }
            },
            "marker": {
             "colorbar": {
              "outlinewidth": 0,
              "ticks": ""
             }
            },
            "type": "scatter3d"
           }
          ],
          "scattercarpet": [
           {
            "marker": {
             "colorbar": {
              "outlinewidth": 0,
              "ticks": ""
             }
            },
            "type": "scattercarpet"
           }
          ],
          "scattergeo": [
           {
            "marker": {
             "colorbar": {
              "outlinewidth": 0,
              "ticks": ""
             }
            },
            "type": "scattergeo"
           }
          ],
          "scattergl": [
           {
            "marker": {
             "colorbar": {
              "outlinewidth": 0,
              "ticks": ""
             }
            },
            "type": "scattergl"
           }
          ],
          "scattermapbox": [
           {
            "marker": {
             "colorbar": {
              "outlinewidth": 0,
              "ticks": ""
             }
            },
            "type": "scattermapbox"
           }
          ],
          "scatterpolar": [
           {
            "marker": {
             "colorbar": {
              "outlinewidth": 0,
              "ticks": ""
             }
            },
            "type": "scatterpolar"
           }
          ],
          "scatterpolargl": [
           {
            "marker": {
             "colorbar": {
              "outlinewidth": 0,
              "ticks": ""
             }
            },
            "type": "scatterpolargl"
           }
          ],
          "scatterternary": [
           {
            "marker": {
             "colorbar": {
              "outlinewidth": 0,
              "ticks": ""
             }
            },
            "type": "scatterternary"
           }
          ],
          "surface": [
           {
            "colorbar": {
             "outlinewidth": 0,
             "ticks": ""
            },
            "colorscale": [
             [
              0,
              "#0d0887"
             ],
             [
              0.1111111111111111,
              "#46039f"
             ],
             [
              0.2222222222222222,
              "#7201a8"
             ],
             [
              0.3333333333333333,
              "#9c179e"
             ],
             [
              0.4444444444444444,
              "#bd3786"
             ],
             [
              0.5555555555555556,
              "#d8576b"
             ],
             [
              0.6666666666666666,
              "#ed7953"
             ],
             [
              0.7777777777777778,
              "#fb9f3a"
             ],
             [
              0.8888888888888888,
              "#fdca26"
             ],
             [
              1,
              "#f0f921"
             ]
            ],
            "type": "surface"
           }
          ],
          "table": [
           {
            "cells": {
             "fill": {
              "color": "#EBF0F8"
             },
             "line": {
              "color": "white"
             }
            },
            "header": {
             "fill": {
              "color": "#C8D4E3"
             },
             "line": {
              "color": "white"
             }
            },
            "type": "table"
           }
          ]
         },
         "layout": {
          "annotationdefaults": {
           "arrowcolor": "#2a3f5f",
           "arrowhead": 0,
           "arrowwidth": 1
          },
          "autotypenumbers": "strict",
          "coloraxis": {
           "colorbar": {
            "outlinewidth": 0,
            "ticks": ""
           }
          },
          "colorscale": {
           "diverging": [
            [
             0,
             "#8e0152"
            ],
            [
             0.1,
             "#c51b7d"
            ],
            [
             0.2,
             "#de77ae"
            ],
            [
             0.3,
             "#f1b6da"
            ],
            [
             0.4,
             "#fde0ef"
            ],
            [
             0.5,
             "#f7f7f7"
            ],
            [
             0.6,
             "#e6f5d0"
            ],
            [
             0.7,
             "#b8e186"
            ],
            [
             0.8,
             "#7fbc41"
            ],
            [
             0.9,
             "#4d9221"
            ],
            [
             1,
             "#276419"
            ]
           ],
           "sequential": [
            [
             0,
             "#0d0887"
            ],
            [
             0.1111111111111111,
             "#46039f"
            ],
            [
             0.2222222222222222,
             "#7201a8"
            ],
            [
             0.3333333333333333,
             "#9c179e"
            ],
            [
             0.4444444444444444,
             "#bd3786"
            ],
            [
             0.5555555555555556,
             "#d8576b"
            ],
            [
             0.6666666666666666,
             "#ed7953"
            ],
            [
             0.7777777777777778,
             "#fb9f3a"
            ],
            [
             0.8888888888888888,
             "#fdca26"
            ],
            [
             1,
             "#f0f921"
            ]
           ],
           "sequentialminus": [
            [
             0,
             "#0d0887"
            ],
            [
             0.1111111111111111,
             "#46039f"
            ],
            [
             0.2222222222222222,
             "#7201a8"
            ],
            [
             0.3333333333333333,
             "#9c179e"
            ],
            [
             0.4444444444444444,
             "#bd3786"
            ],
            [
             0.5555555555555556,
             "#d8576b"
            ],
            [
             0.6666666666666666,
             "#ed7953"
            ],
            [
             0.7777777777777778,
             "#fb9f3a"
            ],
            [
             0.8888888888888888,
             "#fdca26"
            ],
            [
             1,
             "#f0f921"
            ]
           ]
          },
          "colorway": [
           "#636efa",
           "#EF553B",
           "#00cc96",
           "#ab63fa",
           "#FFA15A",
           "#19d3f3",
           "#FF6692",
           "#B6E880",
           "#FF97FF",
           "#FECB52"
          ],
          "font": {
           "color": "#2a3f5f"
          },
          "geo": {
           "bgcolor": "white",
           "lakecolor": "white",
           "landcolor": "#E5ECF6",
           "showlakes": true,
           "showland": true,
           "subunitcolor": "white"
          },
          "hoverlabel": {
           "align": "left"
          },
          "hovermode": "closest",
          "mapbox": {
           "style": "light"
          },
          "paper_bgcolor": "white",
          "plot_bgcolor": "#E5ECF6",
          "polar": {
           "angularaxis": {
            "gridcolor": "white",
            "linecolor": "white",
            "ticks": ""
           },
           "bgcolor": "#E5ECF6",
           "radialaxis": {
            "gridcolor": "white",
            "linecolor": "white",
            "ticks": ""
           }
          },
          "scene": {
           "xaxis": {
            "backgroundcolor": "#E5ECF6",
            "gridcolor": "white",
            "gridwidth": 2,
            "linecolor": "white",
            "showbackground": true,
            "ticks": "",
            "zerolinecolor": "white"
           },
           "yaxis": {
            "backgroundcolor": "#E5ECF6",
            "gridcolor": "white",
            "gridwidth": 2,
            "linecolor": "white",
            "showbackground": true,
            "ticks": "",
            "zerolinecolor": "white"
           },
           "zaxis": {
            "backgroundcolor": "#E5ECF6",
            "gridcolor": "white",
            "gridwidth": 2,
            "linecolor": "white",
            "showbackground": true,
            "ticks": "",
            "zerolinecolor": "white"
           }
          },
          "shapedefaults": {
           "line": {
            "color": "#2a3f5f"
           }
          },
          "ternary": {
           "aaxis": {
            "gridcolor": "white",
            "linecolor": "white",
            "ticks": ""
           },
           "baxis": {
            "gridcolor": "white",
            "linecolor": "white",
            "ticks": ""
           },
           "bgcolor": "#E5ECF6",
           "caxis": {
            "gridcolor": "white",
            "linecolor": "white",
            "ticks": ""
           }
          },
          "title": {
           "x": 0.05
          },
          "xaxis": {
           "automargin": true,
           "gridcolor": "white",
           "linecolor": "white",
           "ticks": "",
           "title": {
            "standoff": 15
           },
           "zerolinecolor": "white",
           "zerolinewidth": 2
          },
          "yaxis": {
           "automargin": true,
           "gridcolor": "white",
           "linecolor": "white",
           "ticks": "",
           "title": {
            "standoff": 15
           },
           "zerolinecolor": "white",
           "zerolinewidth": 2
          }
         }
        },
        "title": {
         "text": "Stations les plus fréquentées en terme de nombre de validations"
        },
        "xaxis": {
         "anchor": "y",
         "autorange": true,
         "domain": [
          0,
          1
         ],
         "range": [
          -0.5,
          19.5
         ],
         "title": {
          "text": "Station"
         },
         "type": "category"
        },
        "yaxis": {
         "anchor": "x",
         "autorange": true,
         "domain": [
          0,
          1
         ],
         "range": [
          0,
          16408153.684210526
         ],
         "title": {
          "text": "Nombre de Validations"
         },
         "type": "linear"
        }
       }
      },
      "image/png": "[encoded data removed]",
      "text/html": [
       "<div>                            <div id=\"4b77e930-42f7-4e92-b54e-d75dec7d01a2\" class=\"plotly-graph-div\" style=\"height:525px; width:100%;\"></div>            <script type=\"text/javascript\">                require([\"plotly\"], function(Plotly) {                    window.PLOTLYENV=window.PLOTLYENV || {};                                    if (document.getElementById(\"4b77e930-42f7-4e92-b54e-d75dec7d01a2\")) {                    Plotly.newPlot(                        \"4b77e930-42f7-4e92-b54e-d75dec7d01a2\",                        [{\"alignmentgroup\":\"True\",\"hovertemplate\":\"Station=%{x}\\u003cbr\\u003eNombre de Validations=%{y}\\u003cextra\\u003e\\u003c\\u002fextra\\u003e\",\"legendgroup\":\"\",\"marker\":{\"color\":\"skyblue\",\"pattern\":{\"shape\":\"\"}},\"name\":\"\",\"offsetgroup\":\"\",\"orientation\":\"v\",\"showlegend\":false,\"textposition\":\"auto\",\"x\":[\"CHATELET\",\"GARE DE LYON\",\"LA DEFENSE\",\"JUVISY\",\"NOISY-LE-GRAND\",\"VAL D.FONTENAY\",\"VINCENNES\",\"CITE UNIV.\",\"GARGES SARCELLE\",\"AULNAY SS BOIS\",\"NEUILLY-PLAIS.\",\"CH.D.G.ETOILE\",\"RUEIL-MALMAIS.\",\"AUBER\",\"AUSTERLITZ\",\"NOISY-CHAMPS\",\"NANTERRE-PREF.\",\"MASSY-PALAIS.\",\"MELUN GARE\",\"CERGY PREFECTUR\"],\"xaxis\":\"x\",\"y\":[15587746,14926390,12590292,3828798,3620278,3575498,3430408,3196778,3133537,3033580,2920702,2867038,2787673,2746502,2726813,2694219,2608242,2555101,2549356,2406249],\"yaxis\":\"y\",\"type\":\"bar\"}],                        {\"template\":{\"data\":{\"histogram2dcontour\":[{\"type\":\"histogram2dcontour\",\"colorbar\":{\"outlinewidth\":0,\"ticks\":\"\"},\"colorscale\":[[0.0,\"#0d0887\"],[0.1111111111111111,\"#46039f\"],[0.2222222222222222,\"#7201a8\"],[0.3333333333333333,\"#9c179e\"],[0.4444444444444444,\"#bd3786\"],[0.5555555555555556,\"#d8576b\"],[0.6666666666666666,\"#ed7953\"],[0.7777777777777778,\"#fb9f3a\"],[0.8888888888888888,\"#fdca26\"],[1.0,\"#f0f921\"]]}],\"choropleth\":[{\"type\":\"choropleth\",\"colorbar\":{\"outlinewidth\":0,\"ticks\":\"\"}}],\"histogram2d\":[{\"type\":\"histogram2d\",\"colorbar\":{\"outlinewidth\":0,\"ticks\":\"\"},\"colorscale\":[[0.0,\"#0d0887\"],[0.1111111111111111,\"#46039f\"],[0.2222222222222222,\"#7201a8\"],[0.3333333333333333,\"#9c179e\"],[0.4444444444444444,\"#bd3786\"],[0.5555555555555556,\"#d8576b\"],[0.6666666666666666,\"#ed7953\"],[0.7777777777777778,\"#fb9f3a\"],[0.8888888888888888,\"#fdca26\"],[1.0,\"#f0f921\"]]}],\"heatmap\":[{\"type\":\"heatmap\",\"colorbar\":{\"outlinewidth\":0,\"ticks\":\"\"},\"colorscale\":[[0.0,\"#0d0887\"],[0.1111111111111111,\"#46039f\"],[0.2222222222222222,\"#7201a8\"],[0.3333333333333333,\"#9c179e\"],[0.4444444444444444,\"#bd3786\"],[0.5555555555555556,\"#d8576b\"],[0.6666666666666666,\"#ed7953\"],[0.7777777777777778,\"#fb9f3a\"],[0.8888888888888888,\"#fdca26\"],[1.0,\"#f0f921\"]]}],\"heatmapgl\":[{\"type\":\"heatmapgl\",\"colorbar\":{\"outlinewidth\":0,\"ticks\":\"\"},\"colorscale\":[[0.0,\"#0d0887\"],[0.1111111111111111,\"#46039f\"],[0.2222222222222222,\"#7201a8\"],[0.3333333333333333,\"#9c179e\"],[0.4444444444444444,\"#bd3786\"],[0.5555555555555556,\"#d8576b\"],[0.6666666666666666,\"#ed7953\"],[0.7777777777777778,\"#fb9f3a\"],[0.8888888888888888,\"#fdca26\"],[1.0,\"#f0f921\"]]}],\"contourcarpet\":[{\"type\":\"contourcarpet\",\"colorbar\":{\"outlinewidth\":0,\"ticks\":\"\"}}],\"contour\":[{\"type\":\"contour\",\"colorbar\":{\"outlinewidth\":0,\"ticks\":\"\"},\"colorscale\":[[0.0,\"#0d0887\"],[0.1111111111111111,\"#46039f\"],[0.2222222222222222,\"#7201a8\"],[0.3333333333333333,\"#9c179e\"],[0.4444444444444444,\"#bd3786\"],[0.5555555555555556,\"#d8576b\"],[0.6666666666666666,\"#ed7953\"],[0.7777777777777778,\"#fb9f3a\"],[0.8888888888888888,\"#fdca26\"],[1.0,\"#f0f921\"]]}],\"surface\":[{\"type\":\"surface\",\"colorbar\":{\"outlinewidth\":0,\"ticks\":\"\"},\"colorscale\":[[0.0,\"#0d0887\"],[0.1111111111111111,\"#46039f\"],[0.2222222222222222,\"#7201a8\"],[0.3333333333333333,\"#9c179e\"],[0.4444444444444444,\"#bd3786\"],[0.5555555555555556,\"#d8576b\"],[0.6666666666666666,\"#ed7953\"],[0.7777777777777778,\"#fb9f3a\"],[0.8888888888888888,\"#fdca26\"],[1.0,\"#f0f921\"]]}],\"mesh3d\":[{\"type\":\"mesh3d\",\"colorbar\":{\"outlinewidth\":0,\"ticks\":\"\"}}],\"scatter\":[{\"fillpattern\":{\"fillmode\":\"overlay\",\"size\":10,\"solidity\":0.2},\"type\":\"scatter\"}],\"parcoords\":[{\"type\":\"parcoords\",\"line\":{\"colorbar\":{\"outlinewidth\":0,\"ticks\":\"\"}}}],\"scatterpolargl\":[{\"type\":\"scatterpolargl\",\"marker\":{\"colorbar\":{\"outlinewidth\":0,\"ticks\":\"\"}}}],\"bar\":[{\"error_x\":{\"color\":\"#2a3f5f\"},\"error_y\":{\"color\":\"#2a3f5f\"},\"marker\":{\"line\":{\"color\":\"#E5ECF6\",\"width\":0.5},\"pattern\":{\"fillmode\":\"overlay\",\"size\":10,\"solidity\":0.2}},\"type\":\"bar\"}],\"scattergeo\":[{\"type\":\"scattergeo\",\"marker\":{\"colorbar\":{\"outlinewidth\":0,\"ticks\":\"\"}}}],\"scatterpolar\":[{\"type\":\"scatterpolar\",\"marker\":{\"colorbar\":{\"outlinewidth\":0,\"ticks\":\"\"}}}],\"histogram\":[{\"marker\":{\"pattern\":{\"fillmode\":\"overlay\",\"size\":10,\"solidity\":0.2}},\"type\":\"histogram\"}],\"scattergl\":[{\"type\":\"scattergl\",\"marker\":{\"colorbar\":{\"outlinewidth\":0,\"ticks\":\"\"}}}],\"scatter3d\":[{\"type\":\"scatter3d\",\"line\":{\"colorbar\":{\"outlinewidth\":0,\"ticks\":\"\"}},\"marker\":{\"colorbar\":{\"outlinewidth\":0,\"ticks\":\"\"}}}],\"scattermapbox\":[{\"type\":\"scattermapbox\",\"marker\":{\"colorbar\":{\"outlinewidth\":0,\"ticks\":\"\"}}}],\"scatterternary\":[{\"type\":\"scatterternary\",\"marker\":{\"colorbar\":{\"outlinewidth\":0,\"ticks\":\"\"}}}],\"scattercarpet\":[{\"type\":\"scattercarpet\",\"marker\":{\"colorbar\":{\"outlinewidth\":0,\"ticks\":\"\"}}}],\"carpet\":[{\"aaxis\":{\"endlinecolor\":\"#2a3f5f\",\"gridcolor\":\"white\",\"linecolor\":\"white\",\"minorgridcolor\":\"white\",\"startlinecolor\":\"#2a3f5f\"},\"baxis\":{\"endlinecolor\":\"#2a3f5f\",\"gridcolor\":\"white\",\"linecolor\":\"white\",\"minorgridcolor\":\"white\",\"startlinecolor\":\"#2a3f5f\"},\"type\":\"carpet\"}],\"table\":[{\"cells\":{\"fill\":{\"color\":\"#EBF0F8\"},\"line\":{\"color\":\"white\"}},\"header\":{\"fill\":{\"color\":\"#C8D4E3\"},\"line\":{\"color\":\"white\"}},\"type\":\"table\"}],\"barpolar\":[{\"marker\":{\"line\":{\"color\":\"#E5ECF6\",\"width\":0.5},\"pattern\":{\"fillmode\":\"overlay\",\"size\":10,\"solidity\":0.2}},\"type\":\"barpolar\"}],\"pie\":[{\"automargin\":true,\"type\":\"pie\"}]},\"layout\":{\"autotypenumbers\":\"strict\",\"colorway\":[\"#636efa\",\"#EF553B\",\"#00cc96\",\"#ab63fa\",\"#FFA15A\",\"#19d3f3\",\"#FF6692\",\"#B6E880\",\"#FF97FF\",\"#FECB52\"],\"font\":{\"color\":\"#2a3f5f\"},\"hovermode\":\"closest\",\"hoverlabel\":{\"align\":\"left\"},\"paper_bgcolor\":\"white\",\"plot_bgcolor\":\"#E5ECF6\",\"polar\":{\"bgcolor\":\"#E5ECF6\",\"angularaxis\":{\"gridcolor\":\"white\",\"linecolor\":\"white\",\"ticks\":\"\"},\"radialaxis\":{\"gridcolor\":\"white\",\"linecolor\":\"white\",\"ticks\":\"\"}},\"ternary\":{\"bgcolor\":\"#E5ECF6\",\"aaxis\":{\"gridcolor\":\"white\",\"linecolor\":\"white\",\"ticks\":\"\"},\"baxis\":{\"gridcolor\":\"white\",\"linecolor\":\"white\",\"ticks\":\"\"},\"caxis\":{\"gridcolor\":\"white\",\"linecolor\":\"white\",\"ticks\":\"\"}},\"coloraxis\":{\"colorbar\":{\"outlinewidth\":0,\"ticks\":\"\"}},\"colorscale\":{\"sequential\":[[0.0,\"#0d0887\"],[0.1111111111111111,\"#46039f\"],[0.2222222222222222,\"#7201a8\"],[0.3333333333333333,\"#9c179e\"],[0.4444444444444444,\"#bd3786\"],[0.5555555555555556,\"#d8576b\"],[0.6666666666666666,\"#ed7953\"],[0.7777777777777778,\"#fb9f3a\"],[0.8888888888888888,\"#fdca26\"],[1.0,\"#f0f921\"]],\"sequentialminus\":[[0.0,\"#0d0887\"],[0.1111111111111111,\"#46039f\"],[0.2222222222222222,\"#7201a8\"],[0.3333333333333333,\"#9c179e\"],[0.4444444444444444,\"#bd3786\"],[0.5555555555555556,\"#d8576b\"],[0.6666666666666666,\"#ed7953\"],[0.7777777777777778,\"#fb9f3a\"],[0.8888888888888888,\"#fdca26\"],[1.0,\"#f0f921\"]],\"diverging\":[[0,\"#8e0152\"],[0.1,\"#c51b7d\"],[0.2,\"#de77ae\"],[0.3,\"#f1b6da\"],[0.4,\"#fde0ef\"],[0.5,\"#f7f7f7\"],[0.6,\"#e6f5d0\"],[0.7,\"#b8e186\"],[0.8,\"#7fbc41\"],[0.9,\"#4d9221\"],[1,\"#276419\"]]},\"xaxis\":{\"gridcolor\":\"white\",\"linecolor\":\"white\",\"ticks\":\"\",\"title\":{\"standoff\":15},\"zerolinecolor\":\"white\",\"automargin\":true,\"zerolinewidth\":2},\"yaxis\":{\"gridcolor\":\"white\",\"linecolor\":\"white\",\"ticks\":\"\",\"title\":{\"standoff\":15},\"zerolinecolor\":\"white\",\"automargin\":true,\"zerolinewidth\":2},\"scene\":{\"xaxis\":{\"backgroundcolor\":\"#E5ECF6\",\"gridcolor\":\"white\",\"linecolor\":\"white\",\"showbackground\":true,\"ticks\":\"\",\"zerolinecolor\":\"white\",\"gridwidth\":2},\"yaxis\":{\"backgroundcolor\":\"#E5ECF6\",\"gridcolor\":\"white\",\"linecolor\":\"white\",\"showbackground\":true,\"ticks\":\"\",\"zerolinecolor\":\"white\",\"gridwidth\":2},\"zaxis\":{\"backgroundcolor\":\"#E5ECF6\",\"gridcolor\":\"white\",\"linecolor\":\"white\",\"showbackground\":true,\"ticks\":\"\",\"zerolinecolor\":\"white\",\"gridwidth\":2}},\"shapedefaults\":{\"line\":{\"color\":\"#2a3f5f\"}},\"annotationdefaults\":{\"arrowcolor\":\"#2a3f5f\",\"arrowhead\":0,\"arrowwidth\":1},\"geo\":{\"bgcolor\":\"white\",\"landcolor\":\"#E5ECF6\",\"subunitcolor\":\"white\",\"showland\":true,\"showlakes\":true,\"lakecolor\":\"white\"},\"title\":{\"x\":0.05},\"mapbox\":{\"style\":\"light\"}}},\"xaxis\":{\"anchor\":\"y\",\"domain\":[0.0,1.0],\"title\":{\"text\":\"Station\"}},\"yaxis\":{\"anchor\":\"x\",\"domain\":[0.0,1.0],\"title\":{\"text\":\"Nombre de Validations\"}},\"legend\":{\"tracegroupgap\":0},\"title\":{\"text\":\"Stations les plus fr\\u00e9quent\\u00e9es en terme de nombre de validations\"},\"barmode\":\"relative\"},                        {\"responsive\": true}                    ).then(function(){\n",
       "                            \n",
       "var gd = document.getElementById('4b77e930-42f7-4e92-b54e-d75dec7d01a2');\n",
       "var x = new MutationObserver(function (mutations, observer) {{\n",
       "        var display = window.getComputedStyle(gd).display;\n",
       "        if (!display || display === 'none') {{\n",
       "            console.log([gd, 'removed!']);\n",
       "            Plotly.purge(gd);\n",
       "            observer.disconnect();\n",
       "        }}\n",
       "}});\n",
       "\n",
       "// Listen for the removal of the full notebook cells\n",
       "var notebookContainer = gd.closest('#notebook-container');\n",
       "if (notebookContainer) {{\n",
       "    x.observe(notebookContainer, {childList: true});\n",
       "}}\n",
       "\n",
       "// Listen for the clearing of the current output cell\n",
       "var outputEl = gd.closest('.output');\n",
       "if (outputEl) {{\n",
       "    x.observe(outputEl, {childList: true});\n",
       "}}\n",
       "\n",
       "                        })                };                });            </script>        </div>"
      ]
     },
     "metadata": {},
     "output_type": "display_data"
    }
   ],
   "source": [
    "# graphe des stations les plus fréquentées et du nombre de validations associé\n",
    "\n",
    "fig = px.bar(stations_freq_sorted_top, x='LIBELLE_ARRET', y='NB_VALD',\n",
    "             title='Stations les plus fréquentées en terme de nombre de validations',\n",
    "             labels={'LIBELLE_ARRET': 'Station', 'NB_VALD': 'Nombre de Validations'})\n",
    "\n",
    "fig.update_traces(marker=dict(color='skyblue'), selector=dict(type='bar'))\n",
    "\n",
    "fig.show()\n"
   ]
  },
  {
   "cell_type": "markdown",
   "id": "d0a5b717-c25c-4a70-ac0c-d795c8124890",
   "metadata": {},
   "source": [
    "# idées : \n",
    "\n",
    "- évolution de la fréquentation de manière différenciée : selon le titre de transport\n",
    "\n",
    "- faire une carte de l'importance de la fréquentation sur tout le semestre en fonction de la localisation"
   ]
  },
  {
   "cell_type": "markdown",
   "id": "12155ff0-ecc1-4431-9b74-2ae02c9fd82b",
   "metadata": {},
   "source": [
    "*Note à moi-même : inutile ici, mais utile dans la présentation des données : à remettre ailleurs*\n",
    "\n",
    "Quelques précisions sur les données de validations afin de bien comprendre la manière dont on pourrait utiliser cette base.\n",
    "\n",
    "Les données de validations ne comptabilisent pas :\n",
    "- les tickets magnétiques (par exemple, les ticket T+, Forfait Mobilis, Forfait Paris Visite, etc.)\n",
    "- les usagers qui ne valident pas à la montée dans un bus ou tram, ou en entrant dans une gare (par exemple si le quai est\n",
    "accessible sans passer par une barrière de contrôle, ou si les barrières de contrôle sont indisponibles en raison de travaux, etc. )\n",
    "- les fraudeurs\n",
    "\n",
    "… et donnent donc une vision incomplète du trafic sur le réseau de transport.\n",
    "*(Note à nous-même : à rajouter dans la conclusion, dans les limites)*\n",
    "\n",
    "La base de données ci-dessus est tirée d'une base de données elle-même composée :\n",
    "- du **réseau ferré** (RER, métro, transilien), qui est caractérisé par des **arrêts** \n",
    "- du réseau dit de **\"lignes administratives\"** (bus, tram), aussi appelé **réseau de surface**, qui est caractérisé par des **lignes**\n",
    "\n",
    "Cela génère une différence dans le type de validation :\n",
    "- les validations du **réseau ferré** sont rattachées à une **station**\n",
    "- les validations du **réseau de surface** sont rattachées à une **ligne** (car les valideurs sont embarqués dans les véhicules et donc mobiles).\n",
    "\n",
    "**Qu'est-ce qu'une ligne ?**\n",
    "Dans les données de validation, la notion de ligne regroupe un ensemble d’arrêts prédéfinis par l’offre de transport. Elle est identifiée par un nom de ligne et un identifiant de ligne.\n",
    "\n",
    "**Qu'est-ce qu'un arrêt ?**\n",
    "Dans les données de validation, un arrêt est le lieu où le voyageur valide son titre de transport sur le réseau ferré (i.e. dans une station de métro ou une gare). Il est identifié par un nom d’arrêt et un identifiant de l’arrêt.\n",
    "\n",
    "**Conclusion** : dans notre base de donnée à nous, nous n'avons **que les validations du réseau ferré**, et donc **par arrêt**. "
   ]
  },
  {
   "cell_type": "code",
   "execution_count": null,
   "id": "0f2d1800-acca-45cb-bff6-e56c209d6a36",
   "metadata": {},
   "outputs": [],
   "source": []
  }
 ],
 "metadata": {
  "kernelspec": {
   "display_name": "Python 3 (ipykernel)",
   "language": "python",
   "name": "python3"
  },
  "language_info": {
   "codemirror_mode": {
    "name": "ipython",
    "version": 3
   },
   "file_extension": ".py",
   "mimetype": "text/x-python",
   "name": "python",
   "nbconvert_exporter": "python",
   "pygments_lexer": "ipython3",
   "version": "3.10.13"
  }
 },
 "nbformat": 4,
 "nbformat_minor": 5
}
