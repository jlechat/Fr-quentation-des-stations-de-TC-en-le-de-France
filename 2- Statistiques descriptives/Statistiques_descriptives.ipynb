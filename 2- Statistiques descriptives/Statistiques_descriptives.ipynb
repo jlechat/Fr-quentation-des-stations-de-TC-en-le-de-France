{
 "cells": [
  {
   "cell_type": "markdown",
   "id": "8a4c1469-a850-4d57-978b-060e599ab286",
   "metadata": {},
   "source": [
    "il faudrait maintenant faire des statistiques descriptives avec les données sur lesquelles on travaille pour être très rigoureux"
   ]
  },
  {
   "cell_type": "code",
   "execution_count": 76,
   "id": "7ca4769c-70f3-468f-aab7-6e019fb69cf9",
   "metadata": {},
   "outputs": [],
   "source": [
    "import pandas as pd\n",
    "from _jointure_validations_stations import df_jointure_validations_stations\n",
    "import matplotlib.pyplot as plt\n",
    "from _pre_proces_stations import df_stations"
   ]
  },
  {
   "cell_type": "code",
   "execution_count": 34,
   "id": "83648395-8cdb-4545-ae21-5cb138e645b0",
   "metadata": {},
   "outputs": [
    {
     "name": "stdout",
     "output_type": "stream",
     "text": [
      "Requirement already satisfied: plotly in /opt/mamba/lib/python3.10/site-packages (5.18.0)\n",
      "Requirement already satisfied: tenacity>=6.2.0 in /opt/mamba/lib/python3.10/site-packages (from plotly) (8.2.3)\n",
      "Requirement already satisfied: packaging in /opt/mamba/lib/python3.10/site-packages (from plotly) (23.1)\n"
     ]
    }
   ],
   "source": [
    "!pip install plotly"
   ]
  },
  {
   "cell_type": "code",
   "execution_count": 35,
   "id": "e498283c-fe8b-491b-9386-157f4fdb5db2",
   "metadata": {},
   "outputs": [],
   "source": [
    "import plotly.express as px"
   ]
  },
  {
   "cell_type": "code",
   "execution_count": 3,
   "id": "6d6923ac-50a7-48d2-a247-c5f785a3a8f1",
   "metadata": {},
   "outputs": [
    {
     "name": "stderr",
     "output_type": "stream",
     "text": [
      "ERROR 1: PROJ: proj_create_from_database: Open of /opt/mamba/share/proj failed\n"
     ]
    }
   ],
   "source": [
    "data=df_jointure_validations_stations()"
   ]
  },
  {
   "cell_type": "code",
   "execution_count": 4,
   "id": "f6c6d497-bb13-4fd0-949a-fddcbf5de162",
   "metadata": {},
   "outputs": [
    {
     "data": {
      "text/html": [
       "<div>\n",
       "<style scoped>\n",
       "    .dataframe tbody tr th:only-of-type {\n",
       "        vertical-align: middle;\n",
       "    }\n",
       "\n",
       "    .dataframe tbody tr th {\n",
       "        vertical-align: top;\n",
       "    }\n",
       "\n",
       "    .dataframe thead th {\n",
       "        text-align: right;\n",
       "    }\n",
       "</style>\n",
       "<table border=\"1\" class=\"dataframe\">\n",
       "  <thead>\n",
       "    <tr style=\"text-align: right;\">\n",
       "      <th></th>\n",
       "      <th>JOUR</th>\n",
       "      <th>lda</th>\n",
       "      <th>CATEGORIE_TITRE</th>\n",
       "      <th>NB_VALD</th>\n",
       "      <th>Mois</th>\n",
       "      <th>Année</th>\n",
       "      <th>Geo Point</th>\n",
       "      <th>Geo Shape</th>\n",
       "      <th>gares_id</th>\n",
       "      <th>nom_long</th>\n",
       "      <th>...</th>\n",
       "      <th>ind_40_54</th>\n",
       "      <th>ind_55_64</th>\n",
       "      <th>ind_65_79</th>\n",
       "      <th>ind_80p</th>\n",
       "      <th>ind_inc</th>\n",
       "      <th>pre_IDF</th>\n",
       "      <th>select</th>\n",
       "      <th>expt</th>\n",
       "      <th></th>\n",
       "      <th>res_com</th>\n",
       "    </tr>\n",
       "  </thead>\n",
       "  <tbody>\n",
       "    <tr>\n",
       "      <th>0</th>\n",
       "      <td>2023-01-01</td>\n",
       "      <td>59830</td>\n",
       "      <td>NON DEFINI</td>\n",
       "      <td>5</td>\n",
       "      <td>1</td>\n",
       "      <td>2023</td>\n",
       "      <td>48.53289010230884, 2.290082513840396</td>\n",
       "      <td>{\"coordinates\": [2.290082513840396, 48.5328901...</td>\n",
       "      <td>101</td>\n",
       "      <td>Bouray</td>\n",
       "      <td>...</td>\n",
       "      <td>138.0</td>\n",
       "      <td>87.0</td>\n",
       "      <td>83.0</td>\n",
       "      <td>46.0</td>\n",
       "      <td>1.0</td>\n",
       "      <td>1.0</td>\n",
       "      <td>1.0</td>\n",
       "      <td>1.0</td>\n",
       "      <td>NaN</td>\n",
       "      <td>RER C</td>\n",
       "    </tr>\n",
       "    <tr>\n",
       "      <th>1</th>\n",
       "      <td>2023-01-01</td>\n",
       "      <td>59830</td>\n",
       "      <td>AMETHYSTE</td>\n",
       "      <td>5</td>\n",
       "      <td>1</td>\n",
       "      <td>2023</td>\n",
       "      <td>48.53289010230884, 2.290082513840396</td>\n",
       "      <td>{\"coordinates\": [2.290082513840396, 48.5328901...</td>\n",
       "      <td>101</td>\n",
       "      <td>Bouray</td>\n",
       "      <td>...</td>\n",
       "      <td>138.0</td>\n",
       "      <td>87.0</td>\n",
       "      <td>83.0</td>\n",
       "      <td>46.0</td>\n",
       "      <td>1.0</td>\n",
       "      <td>1.0</td>\n",
       "      <td>1.0</td>\n",
       "      <td>1.0</td>\n",
       "      <td>NaN</td>\n",
       "      <td>RER C</td>\n",
       "    </tr>\n",
       "    <tr>\n",
       "      <th>2</th>\n",
       "      <td>2023-01-01</td>\n",
       "      <td>59830</td>\n",
       "      <td>FGT</td>\n",
       "      <td>5</td>\n",
       "      <td>1</td>\n",
       "      <td>2023</td>\n",
       "      <td>48.53289010230884, 2.290082513840396</td>\n",
       "      <td>{\"coordinates\": [2.290082513840396, 48.5328901...</td>\n",
       "      <td>101</td>\n",
       "      <td>Bouray</td>\n",
       "      <td>...</td>\n",
       "      <td>138.0</td>\n",
       "      <td>87.0</td>\n",
       "      <td>83.0</td>\n",
       "      <td>46.0</td>\n",
       "      <td>1.0</td>\n",
       "      <td>1.0</td>\n",
       "      <td>1.0</td>\n",
       "      <td>1.0</td>\n",
       "      <td>NaN</td>\n",
       "      <td>RER C</td>\n",
       "    </tr>\n",
       "    <tr>\n",
       "      <th>3</th>\n",
       "      <td>2023-01-01</td>\n",
       "      <td>59830</td>\n",
       "      <td>IMAGINE R</td>\n",
       "      <td>82</td>\n",
       "      <td>1</td>\n",
       "      <td>2023</td>\n",
       "      <td>48.53289010230884, 2.290082513840396</td>\n",
       "      <td>{\"coordinates\": [2.290082513840396, 48.5328901...</td>\n",
       "      <td>101</td>\n",
       "      <td>Bouray</td>\n",
       "      <td>...</td>\n",
       "      <td>138.0</td>\n",
       "      <td>87.0</td>\n",
       "      <td>83.0</td>\n",
       "      <td>46.0</td>\n",
       "      <td>1.0</td>\n",
       "      <td>1.0</td>\n",
       "      <td>1.0</td>\n",
       "      <td>1.0</td>\n",
       "      <td>NaN</td>\n",
       "      <td>RER C</td>\n",
       "    </tr>\n",
       "    <tr>\n",
       "      <th>4</th>\n",
       "      <td>2023-01-01</td>\n",
       "      <td>59830</td>\n",
       "      <td>NAVIGO</td>\n",
       "      <td>101</td>\n",
       "      <td>1</td>\n",
       "      <td>2023</td>\n",
       "      <td>48.53289010230884, 2.290082513840396</td>\n",
       "      <td>{\"coordinates\": [2.290082513840396, 48.5328901...</td>\n",
       "      <td>101</td>\n",
       "      <td>Bouray</td>\n",
       "      <td>...</td>\n",
       "      <td>138.0</td>\n",
       "      <td>87.0</td>\n",
       "      <td>83.0</td>\n",
       "      <td>46.0</td>\n",
       "      <td>1.0</td>\n",
       "      <td>1.0</td>\n",
       "      <td>1.0</td>\n",
       "      <td>1.0</td>\n",
       "      <td>NaN</td>\n",
       "      <td>RER C</td>\n",
       "    </tr>\n",
       "  </tbody>\n",
       "</table>\n",
       "<p>5 rows × 70 columns</p>\n",
       "</div>"
      ],
      "text/plain": [
       "        JOUR    lda CATEGORIE_TITRE  NB_VALD  Mois  Année  \\\n",
       "0 2023-01-01  59830      NON DEFINI        5     1   2023   \n",
       "1 2023-01-01  59830       AMETHYSTE        5     1   2023   \n",
       "2 2023-01-01  59830             FGT        5     1   2023   \n",
       "3 2023-01-01  59830       IMAGINE R       82     1   2023   \n",
       "4 2023-01-01  59830          NAVIGO      101     1   2023   \n",
       "\n",
       "                              Geo Point  \\\n",
       "0  48.53289010230884, 2.290082513840396   \n",
       "1  48.53289010230884, 2.290082513840396   \n",
       "2  48.53289010230884, 2.290082513840396   \n",
       "3  48.53289010230884, 2.290082513840396   \n",
       "4  48.53289010230884, 2.290082513840396   \n",
       "\n",
       "                                           Geo Shape  gares_id nom_long  ...  \\\n",
       "0  {\"coordinates\": [2.290082513840396, 48.5328901...       101   Bouray  ...   \n",
       "1  {\"coordinates\": [2.290082513840396, 48.5328901...       101   Bouray  ...   \n",
       "2  {\"coordinates\": [2.290082513840396, 48.5328901...       101   Bouray  ...   \n",
       "3  {\"coordinates\": [2.290082513840396, 48.5328901...       101   Bouray  ...   \n",
       "4  {\"coordinates\": [2.290082513840396, 48.5328901...       101   Bouray  ...   \n",
       "\n",
       "  ind_40_54 ind_55_64  ind_65_79 ind_80p  ind_inc pre_IDF select expt      \\\n",
       "0     138.0      87.0       83.0    46.0      1.0     1.0    1.0  1.0 NaN   \n",
       "1     138.0      87.0       83.0    46.0      1.0     1.0    1.0  1.0 NaN   \n",
       "2     138.0      87.0       83.0    46.0      1.0     1.0    1.0  1.0 NaN   \n",
       "3     138.0      87.0       83.0    46.0      1.0     1.0    1.0  1.0 NaN   \n",
       "4     138.0      87.0       83.0    46.0      1.0     1.0    1.0  1.0 NaN   \n",
       "\n",
       "  res_com  \n",
       "0   RER C  \n",
       "1   RER C  \n",
       "2   RER C  \n",
       "3   RER C  \n",
       "4   RER C  \n",
       "\n",
       "[5 rows x 70 columns]"
      ]
     },
     "execution_count": 4,
     "metadata": {},
     "output_type": "execute_result"
    }
   ],
   "source": [
    "data.head()"
   ]
  },
  {
   "cell_type": "code",
   "execution_count": 5,
   "id": "933cabe4-9f7c-4c20-81bb-d44df68788b4",
   "metadata": {},
   "outputs": [
    {
     "data": {
      "text/plain": [
       "Index(['JOUR', 'lda', 'CATEGORIE_TITRE', 'NB_VALD', 'Mois', 'Année',\n",
       "       'Geo Point', 'Geo Shape', 'gares_id', 'nom_long', 'nom_so_gar',\n",
       "       'nom_su_gar', 'id_ref_ZdC', 'nom_ZdC', 'id_ref_ZdA', 'nom_ZdA',\n",
       "       'idrefliga', 'idrefligc', 'indice_lig', 'mode_', 'tertrain', 'terrer',\n",
       "       'termetro', 'tertram', 'terval', 'exploitant', 'idf', 'principal', 'x',\n",
       "       'y', 'picto ligne', 'nom_iv', 'geometry', 'index_right', 'idcar_1km',\n",
       "       'i_est_1km', 'lcog_geo', 'ind', 'men', 'men_pauv', 'men_1ind',\n",
       "       'men_5ind', 'men_prop', 'men_fmp', 'ind_snv', 'men_surf', 'men_coll',\n",
       "       'men_mais', 'log_av45', 'log_45_70', 'log_70_90', 'log_ap90', 'log_inc',\n",
       "       'log_soc', 'ind_0_3', 'ind_4_5', 'ind_6_10', 'ind_11_17', 'ind_18_24',\n",
       "       'ind_25_39', 'ind_40_54', 'ind_55_64', 'ind_65_79', 'ind_80p',\n",
       "       'ind_inc', 'pre_IDF', 'select', 'expt', '', 'res_com'],\n",
       "      dtype='object')"
      ]
     },
     "execution_count": 5,
     "metadata": {},
     "output_type": "execute_result"
    }
   ],
   "source": [
    "data.columns"
   ]
  },
  {
   "cell_type": "markdown",
   "id": "9837cbcf-bdcf-4813-a63c-0a61f29b3ef2",
   "metadata": {},
   "source": [
    "## Sur la fréquentation des stations de RER\n",
    "Les données de validations sont obtenues à partir de tous les supports de télé-billetiques : cela signifie que les tickets en carton ne sont pas pris en compte, seuls les pass Navigo sont comptabilisés dans ces données. Voici quelques précisions sur les différentes catégories de titre : \n",
    "- **IMAGINE R** : regroupe les forfaits annuels Imagine R Scolaire et Imagine R Etudiant, forfaits réservés aux élèves, apprentis et étudiants qui permet de voyager à volonté toute l’année et dans toute l Ile-de-France.\n",
    "- **NAVIGO** : regroupe les forfaits Navigo Annuel, Navigo Mois et Navigo Semaine.\n",
    "- **AMETHYSTE** : comptabilise les forfaits Améthyste : forfait réservé aux personnes âgées ou handicapées sous conditions de ressources ou de statut, et résidant en Île-de-France. Ce forfait\n",
    "annuel permet à son bénéficiaire de se déplacer de manière illimitée sur tous les modes de transport à l intérieur des zones de validité.\n",
    "- **TST** : regroupe les forfaits hebdomadaires et mensuels à tarif réduit, accordé aux bénéficiaires\n",
    "de la Réduction Solidarité Transport, pour voyager à l’intérieur des zones choisies sur tous les\n",
    "modes de transport en Île-de-France.\n",
    "- **FGT** : comptabilise les Forfaits Navigo Gratuité Transport, forfait qui permet à certain bénéficiaire d’aides sociales de voyager gratuitement dans toute l’Île-de-France.\n",
    "- **AUTRE TITRE** : comptabilise les forfaits spéciaux.\n",
    "- **NON DEFINI** : comptabilise les validations dont le type de titre n’est pas défini (anomalies).\n",
    "\n",
    "Ensuite, il est important de noter qu'il s'agit de validations uniquement à l'entrée des stations. Il n'est donc pas question ici d'analyser les déplacements, de plutot de voir la fréquentation en \"entrée\" des stations. Pour restreindre notre analyse avec le temps que l'on a pour réaliser ce projet nous avons décider de nous restreindre uniquement aux stations de *RER*.\n",
    "\n",
    "### Fréquentation\n",
    "Dans un premier temps on s'interresse aux données de fréquentation brutes, sur tous les jours du premier semestre 2023 sur les stations de *RER*."
   ]
  },
  {
   "cell_type": "code",
   "execution_count": 16,
   "id": "a51d6654-c3ef-47f1-875a-6fde1c6da70d",
   "metadata": {},
   "outputs": [
    {
     "data": {
      "text/plain": [
       "(327424, 70)"
      ]
     },
     "execution_count": 16,
     "metadata": {},
     "output_type": "execute_result"
    }
   ],
   "source": [
    "data.shape"
   ]
  },
  {
   "cell_type": "code",
   "execution_count": 13,
   "id": "8aec5186-53ab-426b-ae9b-f75718ac7226",
   "metadata": {},
   "outputs": [
    {
     "data": {
      "text/html": [
       "<div>\n",
       "<style scoped>\n",
       "    .dataframe tbody tr th:only-of-type {\n",
       "        vertical-align: middle;\n",
       "    }\n",
       "\n",
       "    .dataframe tbody tr th {\n",
       "        vertical-align: top;\n",
       "    }\n",
       "\n",
       "    .dataframe thead th {\n",
       "        text-align: right;\n",
       "    }\n",
       "</style>\n",
       "<table border=\"1\" class=\"dataframe\">\n",
       "  <thead>\n",
       "    <tr style=\"text-align: right;\">\n",
       "      <th></th>\n",
       "      <th>NB_VALD</th>\n",
       "    </tr>\n",
       "  </thead>\n",
       "  <tbody>\n",
       "    <tr>\n",
       "      <th>count</th>\n",
       "      <td>327424.00000</td>\n",
       "    </tr>\n",
       "    <tr>\n",
       "      <th>mean</th>\n",
       "      <td>1004.92835</td>\n",
       "    </tr>\n",
       "    <tr>\n",
       "      <th>std</th>\n",
       "      <td>3786.49506</td>\n",
       "    </tr>\n",
       "    <tr>\n",
       "      <th>min</th>\n",
       "      <td>5.00000</td>\n",
       "    </tr>\n",
       "    <tr>\n",
       "      <th>25%</th>\n",
       "      <td>28.00000</td>\n",
       "    </tr>\n",
       "    <tr>\n",
       "      <th>50%</th>\n",
       "      <td>143.00000</td>\n",
       "    </tr>\n",
       "    <tr>\n",
       "      <th>75%</th>\n",
       "      <td>629.00000</td>\n",
       "    </tr>\n",
       "    <tr>\n",
       "      <th>max</th>\n",
       "      <td>128664.00000</td>\n",
       "    </tr>\n",
       "  </tbody>\n",
       "</table>\n",
       "</div>"
      ],
      "text/plain": [
       "            NB_VALD\n",
       "count  327424.00000\n",
       "mean     1004.92835\n",
       "std      3786.49506\n",
       "min         5.00000\n",
       "25%        28.00000\n",
       "50%       143.00000\n",
       "75%       629.00000\n",
       "max    128664.00000"
      ]
     },
     "execution_count": 13,
     "metadata": {},
     "output_type": "execute_result"
    }
   ],
   "source": [
    "data.loc[:,['NB_VALD']].describe()"
   ]
  },
  {
   "cell_type": "markdown",
   "id": "f7dce3b1-4e59-4456-88ba-3aa15d36ce78",
   "metadata": {},
   "source": [
    "Il y a, en moyenne, 1005 validations par jour dans les stations du *RER*, cependant cette moyenne cache de très gros écart. Il y a des stations qui sont extrèmement peu fréquentée : la documentation d'ÎDFM indique que lorsque le nombre de validations est inférieur à 5 mais strictement positif, la donnée est tronquée à 5 pour respecter les exigences de la CNIL.\n",
    "\n",
    "#### Stations de RER très peu fréquentées\n",
    "\n",
    "Une information statistique de ce tableau est également très interessante : le Q3 est inférieur à la moyenne : cela signifie que la fréquentation de certaines stations est si grande qu'elle \"gonfle\" la moyenne. Ces stations sont donc peu nombreuses au vue du nombre de stations totales du *RER* mais pourtant ce sont elles qui canalisent le plus de validation.\n",
    "\n",
    "Pour identifier les stations avec les plus faibles validations on aggrégèe les données par jour (et donc on enlève les catégories). Il faut bien prendre en compte que le nombre de validations minimales gardé est de 5, et donc que, en aggrégeant par catégorie de pass Navigo on aura mécaniquement plus de validations (l'approximation sera gonflée). Si il n'y a aucune validation dans la journée pour un titre specifique la colonne est soit à 0 soit inexistante."
   ]
  },
  {
   "cell_type": "code",
   "execution_count": 128,
   "id": "0ed18824-dbda-49fd-831e-6feefbba5e8c",
   "metadata": {},
   "outputs": [
    {
     "data": {
      "text/html": [
       "<div>\n",
       "<style scoped>\n",
       "    .dataframe tbody tr th:only-of-type {\n",
       "        vertical-align: middle;\n",
       "    }\n",
       "\n",
       "    .dataframe tbody tr th {\n",
       "        vertical-align: top;\n",
       "    }\n",
       "\n",
       "    .dataframe thead th {\n",
       "        text-align: right;\n",
       "    }\n",
       "</style>\n",
       "<table border=\"1\" class=\"dataframe\">\n",
       "  <thead>\n",
       "    <tr style=\"text-align: right;\">\n",
       "      <th></th>\n",
       "      <th>JOUR</th>\n",
       "      <th>nom_long</th>\n",
       "      <th>NB_VALD</th>\n",
       "    </tr>\n",
       "  </thead>\n",
       "  <tbody>\n",
       "    <tr>\n",
       "      <th>0</th>\n",
       "      <td>2023-01-01</td>\n",
       "      <td>Ablon</td>\n",
       "      <td>336</td>\n",
       "    </tr>\n",
       "    <tr>\n",
       "      <th>1</th>\n",
       "      <td>2023-01-01</td>\n",
       "      <td>Achères-Grand-Cormier</td>\n",
       "      <td>23</td>\n",
       "    </tr>\n",
       "    <tr>\n",
       "      <th>2</th>\n",
       "      <td>2023-01-01</td>\n",
       "      <td>Achères-Ville</td>\n",
       "      <td>872</td>\n",
       "    </tr>\n",
       "    <tr>\n",
       "      <th>3</th>\n",
       "      <td>2023-01-01</td>\n",
       "      <td>Antony</td>\n",
       "      <td>2237</td>\n",
       "    </tr>\n",
       "    <tr>\n",
       "      <th>4</th>\n",
       "      <td>2023-01-01</td>\n",
       "      <td>Arcueil-Cachan</td>\n",
       "      <td>1612</td>\n",
       "    </tr>\n",
       "    <tr>\n",
       "      <th>...</th>\n",
       "      <td>...</td>\n",
       "      <td>...</td>\n",
       "      <td>...</td>\n",
       "    </tr>\n",
       "    <tr>\n",
       "      <th>42041</th>\n",
       "      <td>2023-06-30</td>\n",
       "      <td>Épinay-sur-Seine</td>\n",
       "      <td>5184</td>\n",
       "    </tr>\n",
       "    <tr>\n",
       "      <th>42042</th>\n",
       "      <td>2023-06-30</td>\n",
       "      <td>Étampes</td>\n",
       "      <td>2583</td>\n",
       "    </tr>\n",
       "    <tr>\n",
       "      <th>42043</th>\n",
       "      <td>2023-06-30</td>\n",
       "      <td>Étréchy</td>\n",
       "      <td>612</td>\n",
       "    </tr>\n",
       "    <tr>\n",
       "      <th>42044</th>\n",
       "      <td>2023-06-30</td>\n",
       "      <td>Évry</td>\n",
       "      <td>713</td>\n",
       "    </tr>\n",
       "    <tr>\n",
       "      <th>42045</th>\n",
       "      <td>2023-06-30</td>\n",
       "      <td>Évry Courcouronnes</td>\n",
       "      <td>12624</td>\n",
       "    </tr>\n",
       "  </tbody>\n",
       "</table>\n",
       "<p>42046 rows × 3 columns</p>\n",
       "</div>"
      ],
      "text/plain": [
       "            JOUR               nom_long  NB_VALD\n",
       "0     2023-01-01                  Ablon      336\n",
       "1     2023-01-01  Achères-Grand-Cormier       23\n",
       "2     2023-01-01          Achères-Ville      872\n",
       "3     2023-01-01                 Antony     2237\n",
       "4     2023-01-01         Arcueil-Cachan     1612\n",
       "...          ...                    ...      ...\n",
       "42041 2023-06-30       Épinay-sur-Seine     5184\n",
       "42042 2023-06-30                Étampes     2583\n",
       "42043 2023-06-30                Étréchy      612\n",
       "42044 2023-06-30                   Évry      713\n",
       "42045 2023-06-30     Évry Courcouronnes    12624\n",
       "\n",
       "[42046 rows x 3 columns]"
      ]
     },
     "execution_count": 128,
     "metadata": {},
     "output_type": "execute_result"
    }
   ],
   "source": [
    "freq=data.loc[:,['JOUR', 'nom_long', 'CATEGORIE_TITRE', 'NB_VALD']]\n",
    "freq_stations = freq.groupby(['JOUR', 'nom_long'])['NB_VALD'].sum().reset_index()\n",
    "freq_stations"
   ]
  },
  {
   "cell_type": "code",
   "execution_count": 129,
   "id": "030284fb-a707-4678-be8f-70bd2a295a60",
   "metadata": {},
   "outputs": [
    {
     "data": {
      "text/html": [
       "<div>\n",
       "<style scoped>\n",
       "    .dataframe tbody tr th:only-of-type {\n",
       "        vertical-align: middle;\n",
       "    }\n",
       "\n",
       "    .dataframe tbody tr th {\n",
       "        vertical-align: top;\n",
       "    }\n",
       "\n",
       "    .dataframe thead th {\n",
       "        text-align: right;\n",
       "    }\n",
       "</style>\n",
       "<table border=\"1\" class=\"dataframe\">\n",
       "  <thead>\n",
       "    <tr style=\"text-align: right;\">\n",
       "      <th></th>\n",
       "      <th>JOUR</th>\n",
       "      <th>nom_long</th>\n",
       "      <th>NB_VALD</th>\n",
       "    </tr>\n",
       "  </thead>\n",
       "  <tbody>\n",
       "    <tr>\n",
       "      <th>1</th>\n",
       "      <td>2023-01-01</td>\n",
       "      <td>Achères-Grand-Cormier</td>\n",
       "      <td>23</td>\n",
       "    </tr>\n",
       "    <tr>\n",
       "      <th>16</th>\n",
       "      <td>2023-01-01</td>\n",
       "      <td>Boigneville</td>\n",
       "      <td>17</td>\n",
       "    </tr>\n",
       "    <tr>\n",
       "      <th>17</th>\n",
       "      <td>2023-01-01</td>\n",
       "      <td>Boissise-le-Roi</td>\n",
       "      <td>31</td>\n",
       "    </tr>\n",
       "    <tr>\n",
       "      <th>23</th>\n",
       "      <td>2023-01-01</td>\n",
       "      <td>Boutigny</td>\n",
       "      <td>23</td>\n",
       "    </tr>\n",
       "    <tr>\n",
       "      <th>29</th>\n",
       "      <td>2023-01-01</td>\n",
       "      <td>Buno-Gironville</td>\n",
       "      <td>15</td>\n",
       "    </tr>\n",
       "    <tr>\n",
       "      <th>...</th>\n",
       "      <td>...</td>\n",
       "      <td>...</td>\n",
       "      <td>...</td>\n",
       "    </tr>\n",
       "    <tr>\n",
       "      <th>41869</th>\n",
       "      <td>2023-06-30</td>\n",
       "      <td>Dourdan-la-Forêt</td>\n",
       "      <td>27</td>\n",
       "    </tr>\n",
       "    <tr>\n",
       "      <th>41946</th>\n",
       "      <td>2023-06-30</td>\n",
       "      <td>Musée d'Orsay</td>\n",
       "      <td>5</td>\n",
       "    </tr>\n",
       "    <tr>\n",
       "      <th>41993</th>\n",
       "      <td>2023-06-30</td>\n",
       "      <td>Saint-Fargeau</td>\n",
       "      <td>20</td>\n",
       "    </tr>\n",
       "    <tr>\n",
       "      <th>42010</th>\n",
       "      <td>2023-06-30</td>\n",
       "      <td>Sermaise</td>\n",
       "      <td>10</td>\n",
       "    </tr>\n",
       "    <tr>\n",
       "      <th>42036</th>\n",
       "      <td>2023-06-30</td>\n",
       "      <td>Vosves</td>\n",
       "      <td>42</td>\n",
       "    </tr>\n",
       "  </tbody>\n",
       "</table>\n",
       "<p>1787 rows × 3 columns</p>\n",
       "</div>"
      ],
      "text/plain": [
       "            JOUR               nom_long  NB_VALD\n",
       "1     2023-01-01  Achères-Grand-Cormier       23\n",
       "16    2023-01-01            Boigneville       17\n",
       "17    2023-01-01        Boissise-le-Roi       31\n",
       "23    2023-01-01               Boutigny       23\n",
       "29    2023-01-01        Buno-Gironville       15\n",
       "...          ...                    ...      ...\n",
       "41869 2023-06-30       Dourdan-la-Forêt       27\n",
       "41946 2023-06-30          Musée d'Orsay        5\n",
       "41993 2023-06-30          Saint-Fargeau       20\n",
       "42010 2023-06-30               Sermaise       10\n",
       "42036 2023-06-30                 Vosves       42\n",
       "\n",
       "[1787 rows x 3 columns]"
      ]
     },
     "execution_count": 129,
     "metadata": {},
     "output_type": "execute_result"
    }
   ],
   "source": [
    "faible_freq=freq_stations[freq_stations['NB_VALD'] <= 50]\n",
    "faible_freq"
   ]
  },
  {
   "cell_type": "markdown",
   "id": "fbadd5e7-346f-45aa-96c2-9dc7015ec0d8",
   "metadata": {},
   "source": [
    "**commenter**"
   ]
  },
  {
   "cell_type": "code",
   "execution_count": 139,
   "id": "f9a80304-b2f6-4e75-9e44-4d44ed843fd5",
   "metadata": {},
   "outputs": [
    {
     "data": {
      "text/plain": [
       "nom_long\n",
       "Vosves                          160\n",
       "Boigneville                     160\n",
       "Sermaise                        150\n",
       "Le Plessis-Chenet               144\n",
       "Buno-Gironville                 121\n",
       "                               ... \n",
       "Nogent-le-Perreux                 1\n",
       "Créteil Pompadour                 1\n",
       "Aéroport Charles De Gaulle 1      1\n",
       "Villepinte                        1\n",
       "Javel                             1\n",
       "Name: count, Length: 115, dtype: int64"
      ]
     },
     "execution_count": 139,
     "metadata": {},
     "output_type": "execute_result"
    }
   ],
   "source": [
    "faible_freq_stations=faible_freq.loc[:,['nom_long']]\n",
    "liste_faible_freq_stations= faible_freq_stations['nom_long'].value_counts()\n",
    "liste_faible_freq_stations"
   ]
  },
  {
   "cell_type": "markdown",
   "id": "be6587b0-5965-41c9-815d-47f0c3140227",
   "metadata": {},
   "source": [
    "**commenter**\n",
    "\n",
    "*Les prochains graphiques sont interractifs*"
   ]
  },
  {
   "cell_type": "code",
   "execution_count": 140,
   "id": "ca2c3de4-4b7f-43d0-83f0-6c18458097e6",
   "metadata": {},
   "outputs": [],
   "source": [
    "df=liste_faible_freq_stations.reset_index()\n",
    "df.columns=['Station de RER', 'Nb de jours avec moins de 50 validations']\n",
    "liste_faible_freq_stations=df.merge(stations, left_on=\"Station de RER\", right_on=\"nom_long\")"
   ]
  },
  {
   "cell_type": "code",
   "execution_count": 135,
   "id": "6bbf826f-0e18-4bfe-884b-f2e415d66a33",
   "metadata": {},
   "outputs": [],
   "source": [
    "couleurs_res_com = {\n",
    "    'RER A': 'red', 'RER B': 'blue', 'RER C': 'yellow',\n",
    "    'RER D': 'green', 'RER E': 'pink'}"
   ]
  },
  {
   "cell_type": "code",
   "execution_count": 141,
   "id": "b38a36fd-1514-4037-ad15-7a042258482c",
   "metadata": {},
   "outputs": [
    {
     "data": {
      "application/vnd.plotly.v1+json": {
       "config": {
        "plotlyServerURL": "https://plot.ly"
       },
       "data": [
        {
         "alignmentgroup": "True",
         "hovertemplate": "res_com=RER D<br>Station de RER=%{x}<br>Nb de jours avec moins de 50 validations=%{y}<extra></extra>",
         "legendgroup": "RER D",
         "marker": {
          "color": "green",
          "pattern": {
           "shape": ""
          }
         },
         "name": "RER D",
         "offsetgroup": "RER D",
         "orientation": "v",
         "showlegend": true,
         "textposition": "auto",
         "type": "bar",
         "x": [
          "Vosves",
          "Boigneville",
          "Le Plessis-Chenet",
          "Buno-Gironville",
          "Saint-Fargeau",
          "Boissise-le-Roi",
          "Le Coudray-Montceaux",
          "Villabé",
          "Grand-Bourg",
          "Maisse",
          "Essonnes-Robinson",
          "Ponthierry-Pringy",
          "Évry",
          "Ris-Orangis",
          "Boutigny",
          "Moulin-Galant",
          "La Ferté-Alais",
          "Mennecy",
          "Les Noues",
          "Ballancourt",
          "Le Bras-de-Fer",
          "Grigny-Centre",
          "Villeneuve-Triage",
          "Le Mée",
          "Cesson",
          "Orangis-Bois de l'Epine",
          "Évry Courcouronnes",
          "Louvres",
          "Stade de France-Saint-Denis",
          "Lieusaint-Moissy",
          "Le Vert-de-Maisons",
          "Survilliers-Fosses",
          "Créteil Pompadour"
         ],
         "xaxis": "x",
         "y": [
          160,
          160,
          144,
          121,
          74,
          65,
          65,
          35,
          28,
          28,
          26,
          26,
          23,
          23,
          19,
          12,
          10,
          10,
          8,
          8,
          6,
          5,
          5,
          4,
          4,
          4,
          3,
          2,
          2,
          2,
          2,
          1,
          1
         ],
         "yaxis": "y"
        },
        {
         "alignmentgroup": "True",
         "hovertemplate": "res_com=RER C<br>Station de RER=%{x}<br>Nb de jours avec moins de 50 validations=%{y}<extra></extra>",
         "legendgroup": "RER C",
         "marker": {
          "color": "yellow",
          "pattern": {
           "shape": ""
          }
         },
         "name": "RER C",
         "offsetgroup": "RER C",
         "orientation": "v",
         "showlegend": true,
         "textposition": "auto",
         "type": "bar",
         "x": [
          "Sermaise",
          "Dourdan-la-Forêt",
          "Chamarande",
          "La Norville",
          "Versailles Château",
          "Rungis-La Fraternelle",
          "Chemin d'Antony",
          "Sainte-Geneviève-des-Bois",
          "Épinay-sur-Orge",
          "Pont de Rungis",
          "Saint-Michel-sur-Orge",
          "Égly",
          "Breuillet",
          "Saint-Gratien",
          "Boulainvilliers",
          "Savigny-sur-Orge",
          "Saint-Chéron",
          "Marolles-en-Hurepoix",
          "Gennevilliers",
          "Bouray",
          "Étréchy",
          "Saint-Martin-d'Étampes",
          "Breuillet-Village",
          "Issy",
          "Lardy",
          "Saint-Ouen",
          "Pont du Garigliano",
          "Les Ardoines",
          "Musée d'Orsay",
          "Les Saules",
          "Arpajon",
          "Orly Ville",
          "Ivry-sur-Seine",
          "Vitry-sur-Seine",
          "Issy-Val-de-Seine",
          "Champ de Mars",
          "Les Grésillons",
          "Dourdan",
          "Étampes",
          "Avenue du Président Kennedy",
          "Avenue Henri Martin",
          "Athis-Mons",
          "Villeneuve-le-Roi",
          "Avenue Foch",
          "Chaville-Vélizy",
          "Choisy-le-Roi",
          "Ablon",
          "Javel"
         ],
         "xaxis": "x",
         "y": [
          150,
          67,
          20,
          15,
          12,
          10,
          9,
          9,
          9,
          8,
          8,
          7,
          7,
          7,
          7,
          6,
          6,
          6,
          6,
          5,
          5,
          5,
          5,
          5,
          5,
          5,
          4,
          4,
          4,
          4,
          3,
          3,
          3,
          3,
          3,
          3,
          2,
          2,
          2,
          2,
          2,
          2,
          2,
          1,
          1,
          1,
          1,
          1
         ],
         "yaxis": "y"
        },
        {
         "alignmentgroup": "True",
         "hovertemplate": "res_com=RER A<br>Station de RER=%{x}<br>Nb de jours avec moins de 50 validations=%{y}<extra></extra>",
         "legendgroup": "RER A",
         "marker": {
          "color": "red",
          "pattern": {
           "shape": ""
          }
         },
         "name": "RER A",
         "offsetgroup": "RER A",
         "orientation": "v",
         "showlegend": true,
         "textposition": "auto",
         "type": "bar",
         "x": [
          "Achères-Grand-Cormier"
         ],
         "xaxis": "x",
         "y": [
          68
         ],
         "yaxis": "y"
        },
        {
         "alignmentgroup": "True",
         "hovertemplate": "res_com=RER B<br>Station de RER=%{x}<br>Nb de jours avec moins de 50 validations=%{y}<extra></extra>",
         "legendgroup": "RER B",
         "marker": {
          "color": "blue",
          "pattern": {
           "shape": ""
          }
         },
         "name": "RER B",
         "offsetgroup": "RER B",
         "orientation": "v",
         "showlegend": true,
         "textposition": "auto",
         "type": "bar",
         "x": [
          "Bagneux",
          "Villeparisis-Mitry-le-Neuf",
          "Vert-Galant",
          "Sevran-Livry",
          "La Plaine-Stade de France",
          "La Courneuve-Aubervilliers",
          "Drancy",
          "Mitry-Claye",
          "Le Blanc-Mesnil",
          "Les Baconnets",
          "Sevran-Beaudottes",
          "Aéroport Charles De Gaulle 2-TGV",
          "Parc des Expositions",
          "Aéroport Charles De Gaulle 1",
          "Villepinte"
         ],
         "xaxis": "x",
         "y": [
          20,
          16,
          14,
          14,
          12,
          10,
          8,
          5,
          4,
          3,
          2,
          2,
          1,
          1,
          1
         ],
         "yaxis": "y"
        },
        {
         "alignmentgroup": "True",
         "hovertemplate": "res_com=RER E<br>Station de RER=%{x}<br>Nb de jours avec moins de 50 validations=%{y}<extra></extra>",
         "legendgroup": "RER E",
         "marker": {
          "color": "pink",
          "pattern": {
           "shape": ""
          }
         },
         "name": "RER E",
         "offsetgroup": "RER E",
         "orientation": "v",
         "showlegend": true,
         "textposition": "auto",
         "type": "bar",
         "x": [
          "Les Yvris-Noisy-le-Grand",
          "Tournan",
          "Pantin",
          "Gretz-Armainvilliers",
          "Ozoir-la-Ferrière",
          "Villiers-sur-Marne - Le Plessis-Trévise",
          "Les Boullereaux-Champigny",
          "Émerainville-Pontault-Combault",
          "Roissy-en-Brie",
          "Rosa Parks",
          "Le Raincy-Villemomble-Montfermeil",
          "Noisy-le-Sec",
          "Rosny-Bois-Perrier",
          "Le Chénay-Gagny",
          "Rosny-sous-Bois",
          "Gagny",
          "Chelles-Gournay",
          "Nogent-le-Perreux"
         ],
         "xaxis": "x",
         "y": [
          7,
          7,
          7,
          7,
          6,
          5,
          5,
          4,
          3,
          2,
          2,
          2,
          1,
          1,
          1,
          1,
          1,
          1
         ],
         "yaxis": "y"
        }
       ],
       "layout": {
        "autosize": true,
        "barmode": "relative",
        "legend": {
         "title": {
          "text": "res_com"
         },
         "tracegroupgap": 0
        },
        "template": {
         "data": {
          "bar": [
           {
            "error_x": {
             "color": "#2a3f5f"
            },
            "error_y": {
             "color": "#2a3f5f"
            },
            "marker": {
             "line": {
              "color": "#E5ECF6",
              "width": 0.5
             },
             "pattern": {
              "fillmode": "overlay",
              "size": 10,
              "solidity": 0.2
             }
            },
            "type": "bar"
           }
          ],
          "barpolar": [
           {
            "marker": {
             "line": {
              "color": "#E5ECF6",
              "width": 0.5
             },
             "pattern": {
              "fillmode": "overlay",
              "size": 10,
              "solidity": 0.2
             }
            },
            "type": "barpolar"
           }
          ],
          "carpet": [
           {
            "aaxis": {
             "endlinecolor": "#2a3f5f",
             "gridcolor": "white",
             "linecolor": "white",
             "minorgridcolor": "white",
             "startlinecolor": "#2a3f5f"
            },
            "baxis": {
             "endlinecolor": "#2a3f5f",
             "gridcolor": "white",
             "linecolor": "white",
             "minorgridcolor": "white",
             "startlinecolor": "#2a3f5f"
            },
            "type": "carpet"
           }
          ],
          "choropleth": [
           {
            "colorbar": {
             "outlinewidth": 0,
             "ticks": ""
            },
            "type": "choropleth"
           }
          ],
          "contour": [
           {
            "colorbar": {
             "outlinewidth": 0,
             "ticks": ""
            },
            "colorscale": [
             [
              0,
              "#0d0887"
             ],
             [
              0.1111111111111111,
              "#46039f"
             ],
             [
              0.2222222222222222,
              "#7201a8"
             ],
             [
              0.3333333333333333,
              "#9c179e"
             ],
             [
              0.4444444444444444,
              "#bd3786"
             ],
             [
              0.5555555555555556,
              "#d8576b"
             ],
             [
              0.6666666666666666,
              "#ed7953"
             ],
             [
              0.7777777777777778,
              "#fb9f3a"
             ],
             [
              0.8888888888888888,
              "#fdca26"
             ],
             [
              1,
              "#f0f921"
             ]
            ],
            "type": "contour"
           }
          ],
          "contourcarpet": [
           {
            "colorbar": {
             "outlinewidth": 0,
             "ticks": ""
            },
            "type": "contourcarpet"
           }
          ],
          "heatmap": [
           {
            "colorbar": {
             "outlinewidth": 0,
             "ticks": ""
            },
            "colorscale": [
             [
              0,
              "#0d0887"
             ],
             [
              0.1111111111111111,
              "#46039f"
             ],
             [
              0.2222222222222222,
              "#7201a8"
             ],
             [
              0.3333333333333333,
              "#9c179e"
             ],
             [
              0.4444444444444444,
              "#bd3786"
             ],
             [
              0.5555555555555556,
              "#d8576b"
             ],
             [
              0.6666666666666666,
              "#ed7953"
             ],
             [
              0.7777777777777778,
              "#fb9f3a"
             ],
             [
              0.8888888888888888,
              "#fdca26"
             ],
             [
              1,
              "#f0f921"
             ]
            ],
            "type": "heatmap"
           }
          ],
          "heatmapgl": [
           {
            "colorbar": {
             "outlinewidth": 0,
             "ticks": ""
            },
            "colorscale": [
             [
              0,
              "#0d0887"
             ],
             [
              0.1111111111111111,
              "#46039f"
             ],
             [
              0.2222222222222222,
              "#7201a8"
             ],
             [
              0.3333333333333333,
              "#9c179e"
             ],
             [
              0.4444444444444444,
              "#bd3786"
             ],
             [
              0.5555555555555556,
              "#d8576b"
             ],
             [
              0.6666666666666666,
              "#ed7953"
             ],
             [
              0.7777777777777778,
              "#fb9f3a"
             ],
             [
              0.8888888888888888,
              "#fdca26"
             ],
             [
              1,
              "#f0f921"
             ]
            ],
            "type": "heatmapgl"
           }
          ],
          "histogram": [
           {
            "marker": {
             "pattern": {
              "fillmode": "overlay",
              "size": 10,
              "solidity": 0.2
             }
            },
            "type": "histogram"
           }
          ],
          "histogram2d": [
           {
            "colorbar": {
             "outlinewidth": 0,
             "ticks": ""
            },
            "colorscale": [
             [
              0,
              "#0d0887"
             ],
             [
              0.1111111111111111,
              "#46039f"
             ],
             [
              0.2222222222222222,
              "#7201a8"
             ],
             [
              0.3333333333333333,
              "#9c179e"
             ],
             [
              0.4444444444444444,
              "#bd3786"
             ],
             [
              0.5555555555555556,
              "#d8576b"
             ],
             [
              0.6666666666666666,
              "#ed7953"
             ],
             [
              0.7777777777777778,
              "#fb9f3a"
             ],
             [
              0.8888888888888888,
              "#fdca26"
             ],
             [
              1,
              "#f0f921"
             ]
            ],
            "type": "histogram2d"
           }
          ],
          "histogram2dcontour": [
           {
            "colorbar": {
             "outlinewidth": 0,
             "ticks": ""
            },
            "colorscale": [
             [
              0,
              "#0d0887"
             ],
             [
              0.1111111111111111,
              "#46039f"
             ],
             [
              0.2222222222222222,
              "#7201a8"
             ],
             [
              0.3333333333333333,
              "#9c179e"
             ],
             [
              0.4444444444444444,
              "#bd3786"
             ],
             [
              0.5555555555555556,
              "#d8576b"
             ],
             [
              0.6666666666666666,
              "#ed7953"
             ],
             [
              0.7777777777777778,
              "#fb9f3a"
             ],
             [
              0.8888888888888888,
              "#fdca26"
             ],
             [
              1,
              "#f0f921"
             ]
            ],
            "type": "histogram2dcontour"
           }
          ],
          "mesh3d": [
           {
            "colorbar": {
             "outlinewidth": 0,
             "ticks": ""
            },
            "type": "mesh3d"
           }
          ],
          "parcoords": [
           {
            "line": {
             "colorbar": {
              "outlinewidth": 0,
              "ticks": ""
             }
            },
            "type": "parcoords"
           }
          ],
          "pie": [
           {
            "automargin": true,
            "type": "pie"
           }
          ],
          "scatter": [
           {
            "fillpattern": {
             "fillmode": "overlay",
             "size": 10,
             "solidity": 0.2
            },
            "type": "scatter"
           }
          ],
          "scatter3d": [
           {
            "line": {
             "colorbar": {
              "outlinewidth": 0,
              "ticks": ""
             }
            },
            "marker": {
             "colorbar": {
              "outlinewidth": 0,
              "ticks": ""
             }
            },
            "type": "scatter3d"
           }
          ],
          "scattercarpet": [
           {
            "marker": {
             "colorbar": {
              "outlinewidth": 0,
              "ticks": ""
             }
            },
            "type": "scattercarpet"
           }
          ],
          "scattergeo": [
           {
            "marker": {
             "colorbar": {
              "outlinewidth": 0,
              "ticks": ""
             }
            },
            "type": "scattergeo"
           }
          ],
          "scattergl": [
           {
            "marker": {
             "colorbar": {
              "outlinewidth": 0,
              "ticks": ""
             }
            },
            "type": "scattergl"
           }
          ],
          "scattermapbox": [
           {
            "marker": {
             "colorbar": {
              "outlinewidth": 0,
              "ticks": ""
             }
            },
            "type": "scattermapbox"
           }
          ],
          "scatterpolar": [
           {
            "marker": {
             "colorbar": {
              "outlinewidth": 0,
              "ticks": ""
             }
            },
            "type": "scatterpolar"
           }
          ],
          "scatterpolargl": [
           {
            "marker": {
             "colorbar": {
              "outlinewidth": 0,
              "ticks": ""
             }
            },
            "type": "scatterpolargl"
           }
          ],
          "scatterternary": [
           {
            "marker": {
             "colorbar": {
              "outlinewidth": 0,
              "ticks": ""
             }
            },
            "type": "scatterternary"
           }
          ],
          "surface": [
           {
            "colorbar": {
             "outlinewidth": 0,
             "ticks": ""
            },
            "colorscale": [
             [
              0,
              "#0d0887"
             ],
             [
              0.1111111111111111,
              "#46039f"
             ],
             [
              0.2222222222222222,
              "#7201a8"
             ],
             [
              0.3333333333333333,
              "#9c179e"
             ],
             [
              0.4444444444444444,
              "#bd3786"
             ],
             [
              0.5555555555555556,
              "#d8576b"
             ],
             [
              0.6666666666666666,
              "#ed7953"
             ],
             [
              0.7777777777777778,
              "#fb9f3a"
             ],
             [
              0.8888888888888888,
              "#fdca26"
             ],
             [
              1,
              "#f0f921"
             ]
            ],
            "type": "surface"
           }
          ],
          "table": [
           {
            "cells": {
             "fill": {
              "color": "#EBF0F8"
             },
             "line": {
              "color": "white"
             }
            },
            "header": {
             "fill": {
              "color": "#C8D4E3"
             },
             "line": {
              "color": "white"
             }
            },
            "type": "table"
           }
          ]
         },
         "layout": {
          "annotationdefaults": {
           "arrowcolor": "#2a3f5f",
           "arrowhead": 0,
           "arrowwidth": 1
          },
          "autotypenumbers": "strict",
          "coloraxis": {
           "colorbar": {
            "outlinewidth": 0,
            "ticks": ""
           }
          },
          "colorscale": {
           "diverging": [
            [
             0,
             "#8e0152"
            ],
            [
             0.1,
             "#c51b7d"
            ],
            [
             0.2,
             "#de77ae"
            ],
            [
             0.3,
             "#f1b6da"
            ],
            [
             0.4,
             "#fde0ef"
            ],
            [
             0.5,
             "#f7f7f7"
            ],
            [
             0.6,
             "#e6f5d0"
            ],
            [
             0.7,
             "#b8e186"
            ],
            [
             0.8,
             "#7fbc41"
            ],
            [
             0.9,
             "#4d9221"
            ],
            [
             1,
             "#276419"
            ]
           ],
           "sequential": [
            [
             0,
             "#0d0887"
            ],
            [
             0.1111111111111111,
             "#46039f"
            ],
            [
             0.2222222222222222,
             "#7201a8"
            ],
            [
             0.3333333333333333,
             "#9c179e"
            ],
            [
             0.4444444444444444,
             "#bd3786"
            ],
            [
             0.5555555555555556,
             "#d8576b"
            ],
            [
             0.6666666666666666,
             "#ed7953"
            ],
            [
             0.7777777777777778,
             "#fb9f3a"
            ],
            [
             0.8888888888888888,
             "#fdca26"
            ],
            [
             1,
             "#f0f921"
            ]
           ],
           "sequentialminus": [
            [
             0,
             "#0d0887"
            ],
            [
             0.1111111111111111,
             "#46039f"
            ],
            [
             0.2222222222222222,
             "#7201a8"
            ],
            [
             0.3333333333333333,
             "#9c179e"
            ],
            [
             0.4444444444444444,
             "#bd3786"
            ],
            [
             0.5555555555555556,
             "#d8576b"
            ],
            [
             0.6666666666666666,
             "#ed7953"
            ],
            [
             0.7777777777777778,
             "#fb9f3a"
            ],
            [
             0.8888888888888888,
             "#fdca26"
            ],
            [
             1,
             "#f0f921"
            ]
           ]
          },
          "colorway": [
           "#636efa",
           "#EF553B",
           "#00cc96",
           "#ab63fa",
           "#FFA15A",
           "#19d3f3",
           "#FF6692",
           "#B6E880",
           "#FF97FF",
           "#FECB52"
          ],
          "font": {
           "color": "#2a3f5f"
          },
          "geo": {
           "bgcolor": "white",
           "lakecolor": "white",
           "landcolor": "#E5ECF6",
           "showlakes": true,
           "showland": true,
           "subunitcolor": "white"
          },
          "hoverlabel": {
           "align": "left"
          },
          "hovermode": "closest",
          "mapbox": {
           "style": "light"
          },
          "paper_bgcolor": "white",
          "plot_bgcolor": "#E5ECF6",
          "polar": {
           "angularaxis": {
            "gridcolor": "white",
            "linecolor": "white",
            "ticks": ""
           },
           "bgcolor": "#E5ECF6",
           "radialaxis": {
            "gridcolor": "white",
            "linecolor": "white",
            "ticks": ""
           }
          },
          "scene": {
           "xaxis": {
            "backgroundcolor": "#E5ECF6",
            "gridcolor": "white",
            "gridwidth": 2,
            "linecolor": "white",
            "showbackground": true,
            "ticks": "",
            "zerolinecolor": "white"
           },
           "yaxis": {
            "backgroundcolor": "#E5ECF6",
            "gridcolor": "white",
            "gridwidth": 2,
            "linecolor": "white",
            "showbackground": true,
            "ticks": "",
            "zerolinecolor": "white"
           },
           "zaxis": {
            "backgroundcolor": "#E5ECF6",
            "gridcolor": "white",
            "gridwidth": 2,
            "linecolor": "white",
            "showbackground": true,
            "ticks": "",
            "zerolinecolor": "white"
           }
          },
          "shapedefaults": {
           "line": {
            "color": "#2a3f5f"
           }
          },
          "ternary": {
           "aaxis": {
            "gridcolor": "white",
            "linecolor": "white",
            "ticks": ""
           },
           "baxis": {
            "gridcolor": "white",
            "linecolor": "white",
            "ticks": ""
           },
           "bgcolor": "#E5ECF6",
           "caxis": {
            "gridcolor": "white",
            "linecolor": "white",
            "ticks": ""
           }
          },
          "title": {
           "x": 0.05
          },
          "xaxis": {
           "automargin": true,
           "gridcolor": "white",
           "linecolor": "white",
           "ticks": "",
           "title": {
            "standoff": 15
           },
           "zerolinecolor": "white",
           "zerolinewidth": 2
          },
          "yaxis": {
           "automargin": true,
           "gridcolor": "white",
           "linecolor": "white",
           "ticks": "",
           "title": {
            "standoff": 15
           },
           "zerolinecolor": "white",
           "zerolinewidth": 2
          }
         }
        },
        "title": {
         "text": "Stations de RER les moins fréquentées au S1 2023"
        },
        "xaxis": {
         "anchor": "y",
         "autorange": true,
         "domain": [
          0,
          1
         ],
         "range": [
          -0.5,
          114.5
         ],
         "tickangle": -45,
         "title": {
          "text": "Station de RER"
         },
         "type": "category"
        },
        "yaxis": {
         "anchor": "x",
         "autorange": true,
         "domain": [
          0,
          1
         ],
         "range": [
          0,
          168.42105263157896
         ],
         "title": {
          "font": {
           "size": 10
          },
          "text": "Nb de jours avec moins de 50 validations"
         },
         "type": "linear"
        }
       }
      },
      "image/png": "[encoded data removed]",
      "text/html": [
       "<div>                            <div id=\"1a612ca6-d520-471a-9a99-e85c978c06ff\" class=\"plotly-graph-div\" style=\"height:525px; width:100%;\"></div>            <script type=\"text/javascript\">                require([\"plotly\"], function(Plotly) {                    window.PLOTLYENV=window.PLOTLYENV || {};                                    if (document.getElementById(\"1a612ca6-d520-471a-9a99-e85c978c06ff\")) {                    Plotly.newPlot(                        \"1a612ca6-d520-471a-9a99-e85c978c06ff\",                        [{\"alignmentgroup\":\"True\",\"hovertemplate\":\"res_com=RER D\\u003cbr\\u003eStation de RER=%{x}\\u003cbr\\u003eNb de jours avec moins de 50 validations=%{y}\\u003cextra\\u003e\\u003c\\u002fextra\\u003e\",\"legendgroup\":\"RER D\",\"marker\":{\"color\":\"green\",\"pattern\":{\"shape\":\"\"}},\"name\":\"RER D\",\"offsetgroup\":\"RER D\",\"orientation\":\"v\",\"showlegend\":true,\"textposition\":\"auto\",\"x\":[\"Vosves\",\"Boigneville\",\"Le Plessis-Chenet\",\"Buno-Gironville\",\"Saint-Fargeau\",\"Boissise-le-Roi\",\"Le Coudray-Montceaux\",\"Villab\\u00e9\",\"Grand-Bourg\",\"Maisse\",\"Essonnes-Robinson\",\"Ponthierry-Pringy\",\"\\u00c9vry\",\"Ris-Orangis\",\"Boutigny\",\"Moulin-Galant\",\"La Fert\\u00e9-Alais\",\"Mennecy\",\"Les Noues\",\"Ballancourt\",\"Le Bras-de-Fer\",\"Grigny-Centre\",\"Villeneuve-Triage\",\"Le M\\u00e9e\",\"Cesson\",\"Orangis-Bois de l'Epine\",\"\\u00c9vry Courcouronnes\",\"Louvres\",\"Stade de France-Saint-Denis\",\"Lieusaint-Moissy\",\"Le Vert-de-Maisons\",\"Survilliers-Fosses\",\"Cr\\u00e9teil Pompadour\"],\"xaxis\":\"x\",\"y\":[160,160,144,121,74,65,65,35,28,28,26,26,23,23,19,12,10,10,8,8,6,5,5,4,4,4,3,2,2,2,2,1,1],\"yaxis\":\"y\",\"type\":\"bar\"},{\"alignmentgroup\":\"True\",\"hovertemplate\":\"res_com=RER C\\u003cbr\\u003eStation de RER=%{x}\\u003cbr\\u003eNb de jours avec moins de 50 validations=%{y}\\u003cextra\\u003e\\u003c\\u002fextra\\u003e\",\"legendgroup\":\"RER C\",\"marker\":{\"color\":\"yellow\",\"pattern\":{\"shape\":\"\"}},\"name\":\"RER C\",\"offsetgroup\":\"RER C\",\"orientation\":\"v\",\"showlegend\":true,\"textposition\":\"auto\",\"x\":[\"Sermaise\",\"Dourdan-la-For\\u00eat\",\"Chamarande\",\"La Norville\",\"Versailles Ch\\u00e2teau\",\"Rungis-La Fraternelle\",\"Chemin d'Antony\",\"Sainte-Genevi\\u00e8ve-des-Bois\",\"\\u00c9pinay-sur-Orge\",\"Pont de Rungis\",\"Saint-Michel-sur-Orge\",\"\\u00c9gly\",\"Breuillet\",\"Saint-Gratien\",\"Boulainvilliers\",\"Savigny-sur-Orge\",\"Saint-Ch\\u00e9ron\",\"Marolles-en-Hurepoix\",\"Gennevilliers\",\"Bouray\",\"\\u00c9tr\\u00e9chy\",\"Saint-Martin-d'\\u00c9tampes\",\"Breuillet-Village\",\"Issy\",\"Lardy\",\"Saint-Ouen\",\"Pont du Garigliano\",\"Les Ardoines\",\"Mus\\u00e9e d'Orsay\",\"Les Saules\",\"Arpajon\",\"Orly Ville\",\"Ivry-sur-Seine\",\"Vitry-sur-Seine\",\"Issy-Val-de-Seine\",\"Champ de Mars\",\"Les Gr\\u00e9sillons\",\"Dourdan\",\"\\u00c9tampes\",\"Avenue du Pr\\u00e9sident Kennedy\",\"Avenue Henri Martin\",\"Athis-Mons\",\"Villeneuve-le-Roi\",\"Avenue Foch\",\"Chaville-V\\u00e9lizy\",\"Choisy-le-Roi\",\"Ablon\",\"Javel\"],\"xaxis\":\"x\",\"y\":[150,67,20,15,12,10,9,9,9,8,8,7,7,7,7,6,6,6,6,5,5,5,5,5,5,5,4,4,4,4,3,3,3,3,3,3,2,2,2,2,2,2,2,1,1,1,1,1],\"yaxis\":\"y\",\"type\":\"bar\"},{\"alignmentgroup\":\"True\",\"hovertemplate\":\"res_com=RER A\\u003cbr\\u003eStation de RER=%{x}\\u003cbr\\u003eNb de jours avec moins de 50 validations=%{y}\\u003cextra\\u003e\\u003c\\u002fextra\\u003e\",\"legendgroup\":\"RER A\",\"marker\":{\"color\":\"red\",\"pattern\":{\"shape\":\"\"}},\"name\":\"RER A\",\"offsetgroup\":\"RER A\",\"orientation\":\"v\",\"showlegend\":true,\"textposition\":\"auto\",\"x\":[\"Ach\\u00e8res-Grand-Cormier\"],\"xaxis\":\"x\",\"y\":[68],\"yaxis\":\"y\",\"type\":\"bar\"},{\"alignmentgroup\":\"True\",\"hovertemplate\":\"res_com=RER B\\u003cbr\\u003eStation de RER=%{x}\\u003cbr\\u003eNb de jours avec moins de 50 validations=%{y}\\u003cextra\\u003e\\u003c\\u002fextra\\u003e\",\"legendgroup\":\"RER B\",\"marker\":{\"color\":\"blue\",\"pattern\":{\"shape\":\"\"}},\"name\":\"RER B\",\"offsetgroup\":\"RER B\",\"orientation\":\"v\",\"showlegend\":true,\"textposition\":\"auto\",\"x\":[\"Bagneux\",\"Villeparisis-Mitry-le-Neuf\",\"Vert-Galant\",\"Sevran-Livry\",\"La Plaine-Stade de France\",\"La Courneuve-Aubervilliers\",\"Drancy\",\"Mitry-Claye\",\"Le Blanc-Mesnil\",\"Les Baconnets\",\"Sevran-Beaudottes\",\"A\\u00e9roport Charles De Gaulle 2-TGV\",\"Parc des Expositions\",\"A\\u00e9roport Charles De Gaulle 1\",\"Villepinte\"],\"xaxis\":\"x\",\"y\":[20,16,14,14,12,10,8,5,4,3,2,2,1,1,1],\"yaxis\":\"y\",\"type\":\"bar\"},{\"alignmentgroup\":\"True\",\"hovertemplate\":\"res_com=RER E\\u003cbr\\u003eStation de RER=%{x}\\u003cbr\\u003eNb de jours avec moins de 50 validations=%{y}\\u003cextra\\u003e\\u003c\\u002fextra\\u003e\",\"legendgroup\":\"RER E\",\"marker\":{\"color\":\"pink\",\"pattern\":{\"shape\":\"\"}},\"name\":\"RER E\",\"offsetgroup\":\"RER E\",\"orientation\":\"v\",\"showlegend\":true,\"textposition\":\"auto\",\"x\":[\"Les Yvris-Noisy-le-Grand\",\"Tournan\",\"Pantin\",\"Gretz-Armainvilliers\",\"Ozoir-la-Ferri\\u00e8re\",\"Villiers-sur-Marne - Le Plessis-Tr\\u00e9vise\",\"Les Boullereaux-Champigny\",\"\\u00c9merainville-Pontault-Combault\",\"Roissy-en-Brie\",\"Rosa Parks\",\"Le Raincy-Villemomble-Montfermeil\",\"Noisy-le-Sec\",\"Rosny-Bois-Perrier\",\"Le Ch\\u00e9nay-Gagny\",\"Rosny-sous-Bois\",\"Gagny\",\"Chelles-Gournay\",\"Nogent-le-Perreux\"],\"xaxis\":\"x\",\"y\":[7,7,7,7,6,5,5,4,3,2,2,2,1,1,1,1,1,1],\"yaxis\":\"y\",\"type\":\"bar\"}],                        {\"template\":{\"data\":{\"histogram2dcontour\":[{\"type\":\"histogram2dcontour\",\"colorbar\":{\"outlinewidth\":0,\"ticks\":\"\"},\"colorscale\":[[0.0,\"#0d0887\"],[0.1111111111111111,\"#46039f\"],[0.2222222222222222,\"#7201a8\"],[0.3333333333333333,\"#9c179e\"],[0.4444444444444444,\"#bd3786\"],[0.5555555555555556,\"#d8576b\"],[0.6666666666666666,\"#ed7953\"],[0.7777777777777778,\"#fb9f3a\"],[0.8888888888888888,\"#fdca26\"],[1.0,\"#f0f921\"]]}],\"choropleth\":[{\"type\":\"choropleth\",\"colorbar\":{\"outlinewidth\":0,\"ticks\":\"\"}}],\"histogram2d\":[{\"type\":\"histogram2d\",\"colorbar\":{\"outlinewidth\":0,\"ticks\":\"\"},\"colorscale\":[[0.0,\"#0d0887\"],[0.1111111111111111,\"#46039f\"],[0.2222222222222222,\"#7201a8\"],[0.3333333333333333,\"#9c179e\"],[0.4444444444444444,\"#bd3786\"],[0.5555555555555556,\"#d8576b\"],[0.6666666666666666,\"#ed7953\"],[0.7777777777777778,\"#fb9f3a\"],[0.8888888888888888,\"#fdca26\"],[1.0,\"#f0f921\"]]}],\"heatmap\":[{\"type\":\"heatmap\",\"colorbar\":{\"outlinewidth\":0,\"ticks\":\"\"},\"colorscale\":[[0.0,\"#0d0887\"],[0.1111111111111111,\"#46039f\"],[0.2222222222222222,\"#7201a8\"],[0.3333333333333333,\"#9c179e\"],[0.4444444444444444,\"#bd3786\"],[0.5555555555555556,\"#d8576b\"],[0.6666666666666666,\"#ed7953\"],[0.7777777777777778,\"#fb9f3a\"],[0.8888888888888888,\"#fdca26\"],[1.0,\"#f0f921\"]]}],\"heatmapgl\":[{\"type\":\"heatmapgl\",\"colorbar\":{\"outlinewidth\":0,\"ticks\":\"\"},\"colorscale\":[[0.0,\"#0d0887\"],[0.1111111111111111,\"#46039f\"],[0.2222222222222222,\"#7201a8\"],[0.3333333333333333,\"#9c179e\"],[0.4444444444444444,\"#bd3786\"],[0.5555555555555556,\"#d8576b\"],[0.6666666666666666,\"#ed7953\"],[0.7777777777777778,\"#fb9f3a\"],[0.8888888888888888,\"#fdca26\"],[1.0,\"#f0f921\"]]}],\"contourcarpet\":[{\"type\":\"contourcarpet\",\"colorbar\":{\"outlinewidth\":0,\"ticks\":\"\"}}],\"contour\":[{\"type\":\"contour\",\"colorbar\":{\"outlinewidth\":0,\"ticks\":\"\"},\"colorscale\":[[0.0,\"#0d0887\"],[0.1111111111111111,\"#46039f\"],[0.2222222222222222,\"#7201a8\"],[0.3333333333333333,\"#9c179e\"],[0.4444444444444444,\"#bd3786\"],[0.5555555555555556,\"#d8576b\"],[0.6666666666666666,\"#ed7953\"],[0.7777777777777778,\"#fb9f3a\"],[0.8888888888888888,\"#fdca26\"],[1.0,\"#f0f921\"]]}],\"surface\":[{\"type\":\"surface\",\"colorbar\":{\"outlinewidth\":0,\"ticks\":\"\"},\"colorscale\":[[0.0,\"#0d0887\"],[0.1111111111111111,\"#46039f\"],[0.2222222222222222,\"#7201a8\"],[0.3333333333333333,\"#9c179e\"],[0.4444444444444444,\"#bd3786\"],[0.5555555555555556,\"#d8576b\"],[0.6666666666666666,\"#ed7953\"],[0.7777777777777778,\"#fb9f3a\"],[0.8888888888888888,\"#fdca26\"],[1.0,\"#f0f921\"]]}],\"mesh3d\":[{\"type\":\"mesh3d\",\"colorbar\":{\"outlinewidth\":0,\"ticks\":\"\"}}],\"scatter\":[{\"fillpattern\":{\"fillmode\":\"overlay\",\"size\":10,\"solidity\":0.2},\"type\":\"scatter\"}],\"parcoords\":[{\"type\":\"parcoords\",\"line\":{\"colorbar\":{\"outlinewidth\":0,\"ticks\":\"\"}}}],\"scatterpolargl\":[{\"type\":\"scatterpolargl\",\"marker\":{\"colorbar\":{\"outlinewidth\":0,\"ticks\":\"\"}}}],\"bar\":[{\"error_x\":{\"color\":\"#2a3f5f\"},\"error_y\":{\"color\":\"#2a3f5f\"},\"marker\":{\"line\":{\"color\":\"#E5ECF6\",\"width\":0.5},\"pattern\":{\"fillmode\":\"overlay\",\"size\":10,\"solidity\":0.2}},\"type\":\"bar\"}],\"scattergeo\":[{\"type\":\"scattergeo\",\"marker\":{\"colorbar\":{\"outlinewidth\":0,\"ticks\":\"\"}}}],\"scatterpolar\":[{\"type\":\"scatterpolar\",\"marker\":{\"colorbar\":{\"outlinewidth\":0,\"ticks\":\"\"}}}],\"histogram\":[{\"marker\":{\"pattern\":{\"fillmode\":\"overlay\",\"size\":10,\"solidity\":0.2}},\"type\":\"histogram\"}],\"scattergl\":[{\"type\":\"scattergl\",\"marker\":{\"colorbar\":{\"outlinewidth\":0,\"ticks\":\"\"}}}],\"scatter3d\":[{\"type\":\"scatter3d\",\"line\":{\"colorbar\":{\"outlinewidth\":0,\"ticks\":\"\"}},\"marker\":{\"colorbar\":{\"outlinewidth\":0,\"ticks\":\"\"}}}],\"scattermapbox\":[{\"type\":\"scattermapbox\",\"marker\":{\"colorbar\":{\"outlinewidth\":0,\"ticks\":\"\"}}}],\"scatterternary\":[{\"type\":\"scatterternary\",\"marker\":{\"colorbar\":{\"outlinewidth\":0,\"ticks\":\"\"}}}],\"scattercarpet\":[{\"type\":\"scattercarpet\",\"marker\":{\"colorbar\":{\"outlinewidth\":0,\"ticks\":\"\"}}}],\"carpet\":[{\"aaxis\":{\"endlinecolor\":\"#2a3f5f\",\"gridcolor\":\"white\",\"linecolor\":\"white\",\"minorgridcolor\":\"white\",\"startlinecolor\":\"#2a3f5f\"},\"baxis\":{\"endlinecolor\":\"#2a3f5f\",\"gridcolor\":\"white\",\"linecolor\":\"white\",\"minorgridcolor\":\"white\",\"startlinecolor\":\"#2a3f5f\"},\"type\":\"carpet\"}],\"table\":[{\"cells\":{\"fill\":{\"color\":\"#EBF0F8\"},\"line\":{\"color\":\"white\"}},\"header\":{\"fill\":{\"color\":\"#C8D4E3\"},\"line\":{\"color\":\"white\"}},\"type\":\"table\"}],\"barpolar\":[{\"marker\":{\"line\":{\"color\":\"#E5ECF6\",\"width\":0.5},\"pattern\":{\"fillmode\":\"overlay\",\"size\":10,\"solidity\":0.2}},\"type\":\"barpolar\"}],\"pie\":[{\"automargin\":true,\"type\":\"pie\"}]},\"layout\":{\"autotypenumbers\":\"strict\",\"colorway\":[\"#636efa\",\"#EF553B\",\"#00cc96\",\"#ab63fa\",\"#FFA15A\",\"#19d3f3\",\"#FF6692\",\"#B6E880\",\"#FF97FF\",\"#FECB52\"],\"font\":{\"color\":\"#2a3f5f\"},\"hovermode\":\"closest\",\"hoverlabel\":{\"align\":\"left\"},\"paper_bgcolor\":\"white\",\"plot_bgcolor\":\"#E5ECF6\",\"polar\":{\"bgcolor\":\"#E5ECF6\",\"angularaxis\":{\"gridcolor\":\"white\",\"linecolor\":\"white\",\"ticks\":\"\"},\"radialaxis\":{\"gridcolor\":\"white\",\"linecolor\":\"white\",\"ticks\":\"\"}},\"ternary\":{\"bgcolor\":\"#E5ECF6\",\"aaxis\":{\"gridcolor\":\"white\",\"linecolor\":\"white\",\"ticks\":\"\"},\"baxis\":{\"gridcolor\":\"white\",\"linecolor\":\"white\",\"ticks\":\"\"},\"caxis\":{\"gridcolor\":\"white\",\"linecolor\":\"white\",\"ticks\":\"\"}},\"coloraxis\":{\"colorbar\":{\"outlinewidth\":0,\"ticks\":\"\"}},\"colorscale\":{\"sequential\":[[0.0,\"#0d0887\"],[0.1111111111111111,\"#46039f\"],[0.2222222222222222,\"#7201a8\"],[0.3333333333333333,\"#9c179e\"],[0.4444444444444444,\"#bd3786\"],[0.5555555555555556,\"#d8576b\"],[0.6666666666666666,\"#ed7953\"],[0.7777777777777778,\"#fb9f3a\"],[0.8888888888888888,\"#fdca26\"],[1.0,\"#f0f921\"]],\"sequentialminus\":[[0.0,\"#0d0887\"],[0.1111111111111111,\"#46039f\"],[0.2222222222222222,\"#7201a8\"],[0.3333333333333333,\"#9c179e\"],[0.4444444444444444,\"#bd3786\"],[0.5555555555555556,\"#d8576b\"],[0.6666666666666666,\"#ed7953\"],[0.7777777777777778,\"#fb9f3a\"],[0.8888888888888888,\"#fdca26\"],[1.0,\"#f0f921\"]],\"diverging\":[[0,\"#8e0152\"],[0.1,\"#c51b7d\"],[0.2,\"#de77ae\"],[0.3,\"#f1b6da\"],[0.4,\"#fde0ef\"],[0.5,\"#f7f7f7\"],[0.6,\"#e6f5d0\"],[0.7,\"#b8e186\"],[0.8,\"#7fbc41\"],[0.9,\"#4d9221\"],[1,\"#276419\"]]},\"xaxis\":{\"gridcolor\":\"white\",\"linecolor\":\"white\",\"ticks\":\"\",\"title\":{\"standoff\":15},\"zerolinecolor\":\"white\",\"automargin\":true,\"zerolinewidth\":2},\"yaxis\":{\"gridcolor\":\"white\",\"linecolor\":\"white\",\"ticks\":\"\",\"title\":{\"standoff\":15},\"zerolinecolor\":\"white\",\"automargin\":true,\"zerolinewidth\":2},\"scene\":{\"xaxis\":{\"backgroundcolor\":\"#E5ECF6\",\"gridcolor\":\"white\",\"linecolor\":\"white\",\"showbackground\":true,\"ticks\":\"\",\"zerolinecolor\":\"white\",\"gridwidth\":2},\"yaxis\":{\"backgroundcolor\":\"#E5ECF6\",\"gridcolor\":\"white\",\"linecolor\":\"white\",\"showbackground\":true,\"ticks\":\"\",\"zerolinecolor\":\"white\",\"gridwidth\":2},\"zaxis\":{\"backgroundcolor\":\"#E5ECF6\",\"gridcolor\":\"white\",\"linecolor\":\"white\",\"showbackground\":true,\"ticks\":\"\",\"zerolinecolor\":\"white\",\"gridwidth\":2}},\"shapedefaults\":{\"line\":{\"color\":\"#2a3f5f\"}},\"annotationdefaults\":{\"arrowcolor\":\"#2a3f5f\",\"arrowhead\":0,\"arrowwidth\":1},\"geo\":{\"bgcolor\":\"white\",\"landcolor\":\"#E5ECF6\",\"subunitcolor\":\"white\",\"showland\":true,\"showlakes\":true,\"lakecolor\":\"white\"},\"title\":{\"x\":0.05},\"mapbox\":{\"style\":\"light\"}}},\"xaxis\":{\"anchor\":\"y\",\"domain\":[0.0,1.0],\"title\":{\"text\":\"Station de RER\"},\"tickangle\":-45},\"yaxis\":{\"anchor\":\"x\",\"domain\":[0.0,1.0],\"title\":{\"text\":\"Nb de jours avec moins de 50 validations\",\"font\":{\"size\":10}}},\"legend\":{\"title\":{\"text\":\"res_com\"},\"tracegroupgap\":0},\"title\":{\"text\":\"Stations de RER les moins fr\\u00e9quent\\u00e9es au S1 2023\"},\"barmode\":\"relative\"},                        {\"responsive\": true}                    ).then(function(){\n",
       "                            \n",
       "var gd = document.getElementById('1a612ca6-d520-471a-9a99-e85c978c06ff');\n",
       "var x = new MutationObserver(function (mutations, observer) {{\n",
       "        var display = window.getComputedStyle(gd).display;\n",
       "        if (!display || display === 'none') {{\n",
       "            console.log([gd, 'removed!']);\n",
       "            Plotly.purge(gd);\n",
       "            observer.disconnect();\n",
       "        }}\n",
       "}});\n",
       "\n",
       "// Listen for the removal of the full notebook cells\n",
       "var notebookContainer = gd.closest('#notebook-container');\n",
       "if (notebookContainer) {{\n",
       "    x.observe(notebookContainer, {childList: true});\n",
       "}}\n",
       "\n",
       "// Listen for the clearing of the current output cell\n",
       "var outputEl = gd.closest('.output');\n",
       "if (outputEl) {{\n",
       "    x.observe(outputEl, {childList: true});\n",
       "}}\n",
       "\n",
       "                        })                };                });            </script>        </div>"
      ]
     },
     "metadata": {},
     "output_type": "display_data"
    }
   ],
   "source": [
    "fig = px.bar(liste_faible_freq_stations, x='Station de RER', y='Nb de jours avec moins de 50 validations', color='res_com',\n",
    "             title='Stations de RER les moins fréquentées au S1 2023',\n",
    "            color_discrete_map=couleurs_res_com)\n",
    "\n",
    "# Personnaliser le graphique\n",
    "fig.update_layout(xaxis_tickangle=-45)  # Incliner les étiquettes de l'axe des abscisses\n",
    "#fig.update_traces(marker_color='skyblue')  # La couleur par défaut des barres, peut être écrasée par 'color'\n",
    "fig.update_yaxes(title_font=dict(size=10))  # Réduire la taille de la police pour l'axe des ordonnées\n",
    "\n",
    "# Afficher le graphique\n",
    "fig.show()"
   ]
  },
  {
   "cell_type": "code",
   "execution_count": 143,
   "id": "94d6363f-b704-4206-a1c1-acd30e7cbc7e",
   "metadata": {},
   "outputs": [
    {
     "data": {
      "application/vnd.plotly.v1+json": {
       "config": {
        "plotlyServerURL": "https://plot.ly"
       },
       "data": [
        {
         "alignmentgroup": "True",
         "hovertemplate": "res_com=RER D<br>Station de RER=%{x}<br>Nb de jours avec moins de 50 validations=%{y}<extra></extra>",
         "legendgroup": "RER D",
         "marker": {
          "color": "green",
          "pattern": {
           "shape": ""
          }
         },
         "name": "RER D",
         "offsetgroup": "RER D",
         "orientation": "v",
         "showlegend": true,
         "textposition": "auto",
         "type": "bar",
         "x": [
          "Vosves",
          "Boigneville",
          "Le Plessis-Chenet",
          "Buno-Gironville",
          "Saint-Fargeau",
          "Boissise-le-Roi",
          "Le Coudray-Montceaux",
          "Villabé",
          "Grand-Bourg",
          "Maisse",
          "Essonnes-Robinson",
          "Ponthierry-Pringy",
          "Ris-Orangis",
          "Évry",
          "Boutigny",
          "Moulin-Galant",
          "Mennecy",
          "La Ferté-Alais",
          "Les Noues",
          "Ballancourt",
          "Le Bras-de-Fer",
          "Grigny-Centre",
          "Villeneuve-Triage",
          "Orangis-Bois de l'Epine",
          "Le Mée",
          "Cesson",
          "Évry Courcouronnes",
          "Le Vert-de-Maisons",
          "Lieusaint-Moissy",
          "Stade de France-Saint-Denis",
          "Louvres",
          "Survilliers-Fosses",
          "Créteil Pompadour"
         ],
         "xaxis": "x",
         "y": [
          160,
          160,
          144,
          121,
          74,
          65,
          65,
          35,
          28,
          28,
          26,
          26,
          23,
          23,
          19,
          12,
          10,
          10,
          8,
          8,
          6,
          5,
          5,
          4,
          4,
          4,
          3,
          2,
          2,
          2,
          2,
          1,
          1
         ],
         "yaxis": "y"
        },
        {
         "alignmentgroup": "True",
         "hovertemplate": "res_com=RER C<br>Station de RER=%{x}<br>Nb de jours avec moins de 50 validations=%{y}<extra></extra>",
         "legendgroup": "RER C",
         "marker": {
          "color": "yellow",
          "pattern": {
           "shape": ""
          }
         },
         "name": "RER C",
         "offsetgroup": "RER C",
         "orientation": "v",
         "showlegend": true,
         "textposition": "auto",
         "type": "bar",
         "x": [
          "Sermaise",
          "Dourdan-la-Forêt",
          "Chamarande",
          "La Norville",
          "Versailles Château",
          "Rungis-La Fraternelle",
          "Épinay-sur-Orge",
          "Sainte-Geneviève-des-Bois",
          "Chemin d'Antony",
          "Saint-Michel-sur-Orge",
          "Pont de Rungis",
          "Breuillet",
          "Saint-Gratien",
          "Boulainvilliers",
          "Égly",
          "Marolles-en-Hurepoix",
          "Saint-Chéron",
          "Savigny-sur-Orge",
          "Gennevilliers",
          "Issy",
          "Lardy",
          "Bouray",
          "Étréchy",
          "Saint-Martin-d'Étampes",
          "Breuillet-Village",
          "Saint-Ouen",
          "Pont du Garigliano",
          "Musée d'Orsay",
          "Les Saules",
          "Les Ardoines",
          "Issy-Val-de-Seine",
          "Champ de Mars",
          "Arpajon",
          "Orly Ville",
          "Ivry-sur-Seine",
          "Vitry-sur-Seine",
          "Villeneuve-le-Roi",
          "Athis-Mons",
          "Avenue Henri Martin",
          "Avenue du Président Kennedy",
          "Étampes",
          "Dourdan",
          "Les Grésillons",
          "Avenue Foch",
          "Choisy-le-Roi",
          "Ablon",
          "Chaville-Vélizy",
          "Javel"
         ],
         "xaxis": "x",
         "y": [
          150,
          67,
          20,
          15,
          12,
          10,
          9,
          9,
          9,
          8,
          8,
          7,
          7,
          7,
          7,
          6,
          6,
          6,
          6,
          5,
          5,
          5,
          5,
          5,
          5,
          5,
          4,
          4,
          4,
          4,
          3,
          3,
          3,
          3,
          3,
          3,
          2,
          2,
          2,
          2,
          2,
          2,
          2,
          1,
          1,
          1,
          1,
          1
         ],
         "yaxis": "y"
        },
        {
         "alignmentgroup": "True",
         "hovertemplate": "res_com=RER A<br>Station de RER=%{x}<br>Nb de jours avec moins de 50 validations=%{y}<extra></extra>",
         "legendgroup": "RER A",
         "marker": {
          "color": "red",
          "pattern": {
           "shape": ""
          }
         },
         "name": "RER A",
         "offsetgroup": "RER A",
         "orientation": "v",
         "showlegend": true,
         "textposition": "auto",
         "type": "bar",
         "x": [
          "Achères-Grand-Cormier"
         ],
         "xaxis": "x",
         "y": [
          68
         ],
         "yaxis": "y"
        },
        {
         "alignmentgroup": "True",
         "hovertemplate": "res_com=RER B<br>Station de RER=%{x}<br>Nb de jours avec moins de 50 validations=%{y}<extra></extra>",
         "legendgroup": "RER B",
         "marker": {
          "color": "blue",
          "pattern": {
           "shape": ""
          }
         },
         "name": "RER B",
         "offsetgroup": "RER B",
         "orientation": "v",
         "showlegend": true,
         "textposition": "auto",
         "type": "bar",
         "x": [
          "Bagneux",
          "Villeparisis-Mitry-le-Neuf",
          "Vert-Galant",
          "Sevran-Livry",
          "La Plaine-Stade de France",
          "La Courneuve-Aubervilliers",
          "Drancy",
          "Mitry-Claye",
          "Le Blanc-Mesnil",
          "Les Baconnets",
          "Aéroport Charles De Gaulle 2-TGV",
          "Sevran-Beaudottes",
          "Parc des Expositions",
          "Aéroport Charles De Gaulle 1",
          "Villepinte"
         ],
         "xaxis": "x",
         "y": [
          20,
          16,
          14,
          14,
          12,
          10,
          8,
          5,
          4,
          3,
          2,
          2,
          1,
          1,
          1
         ],
         "yaxis": "y"
        },
        {
         "alignmentgroup": "True",
         "hovertemplate": "res_com=RER E<br>Station de RER=%{x}<br>Nb de jours avec moins de 50 validations=%{y}<extra></extra>",
         "legendgroup": "RER E",
         "marker": {
          "color": "pink",
          "pattern": {
           "shape": ""
          }
         },
         "name": "RER E",
         "offsetgroup": "RER E",
         "orientation": "v",
         "showlegend": true,
         "textposition": "auto",
         "type": "bar",
         "x": [
          "Tournan",
          "Les Yvris-Noisy-le-Grand",
          "Pantin",
          "Gretz-Armainvilliers",
          "Ozoir-la-Ferrière",
          "Les Boullereaux-Champigny",
          "Villiers-sur-Marne - Le Plessis-Trévise",
          "Émerainville-Pontault-Combault",
          "Roissy-en-Brie",
          "Noisy-le-Sec",
          "Le Raincy-Villemomble-Montfermeil",
          "Rosa Parks",
          "Le Chénay-Gagny",
          "Rosny-Bois-Perrier",
          "Nogent-le-Perreux",
          "Chelles-Gournay",
          "Gagny",
          "Rosny-sous-Bois"
         ],
         "xaxis": "x",
         "y": [
          7,
          7,
          7,
          7,
          6,
          5,
          5,
          4,
          3,
          2,
          2,
          2,
          1,
          1,
          1,
          1,
          1,
          1
         ],
         "yaxis": "y"
        }
       ],
       "layout": {
        "autosize": true,
        "barmode": "relative",
        "legend": {
         "title": {
          "text": "res_com"
         },
         "tracegroupgap": 0
        },
        "template": {
         "data": {
          "bar": [
           {
            "error_x": {
             "color": "#2a3f5f"
            },
            "error_y": {
             "color": "#2a3f5f"
            },
            "marker": {
             "line": {
              "color": "#E5ECF6",
              "width": 0.5
             },
             "pattern": {
              "fillmode": "overlay",
              "size": 10,
              "solidity": 0.2
             }
            },
            "type": "bar"
           }
          ],
          "barpolar": [
           {
            "marker": {
             "line": {
              "color": "#E5ECF6",
              "width": 0.5
             },
             "pattern": {
              "fillmode": "overlay",
              "size": 10,
              "solidity": 0.2
             }
            },
            "type": "barpolar"
           }
          ],
          "carpet": [
           {
            "aaxis": {
             "endlinecolor": "#2a3f5f",
             "gridcolor": "white",
             "linecolor": "white",
             "minorgridcolor": "white",
             "startlinecolor": "#2a3f5f"
            },
            "baxis": {
             "endlinecolor": "#2a3f5f",
             "gridcolor": "white",
             "linecolor": "white",
             "minorgridcolor": "white",
             "startlinecolor": "#2a3f5f"
            },
            "type": "carpet"
           }
          ],
          "choropleth": [
           {
            "colorbar": {
             "outlinewidth": 0,
             "ticks": ""
            },
            "type": "choropleth"
           }
          ],
          "contour": [
           {
            "colorbar": {
             "outlinewidth": 0,
             "ticks": ""
            },
            "colorscale": [
             [
              0,
              "#0d0887"
             ],
             [
              0.1111111111111111,
              "#46039f"
             ],
             [
              0.2222222222222222,
              "#7201a8"
             ],
             [
              0.3333333333333333,
              "#9c179e"
             ],
             [
              0.4444444444444444,
              "#bd3786"
             ],
             [
              0.5555555555555556,
              "#d8576b"
             ],
             [
              0.6666666666666666,
              "#ed7953"
             ],
             [
              0.7777777777777778,
              "#fb9f3a"
             ],
             [
              0.8888888888888888,
              "#fdca26"
             ],
             [
              1,
              "#f0f921"
             ]
            ],
            "type": "contour"
           }
          ],
          "contourcarpet": [
           {
            "colorbar": {
             "outlinewidth": 0,
             "ticks": ""
            },
            "type": "contourcarpet"
           }
          ],
          "heatmap": [
           {
            "colorbar": {
             "outlinewidth": 0,
             "ticks": ""
            },
            "colorscale": [
             [
              0,
              "#0d0887"
             ],
             [
              0.1111111111111111,
              "#46039f"
             ],
             [
              0.2222222222222222,
              "#7201a8"
             ],
             [
              0.3333333333333333,
              "#9c179e"
             ],
             [
              0.4444444444444444,
              "#bd3786"
             ],
             [
              0.5555555555555556,
              "#d8576b"
             ],
             [
              0.6666666666666666,
              "#ed7953"
             ],
             [
              0.7777777777777778,
              "#fb9f3a"
             ],
             [
              0.8888888888888888,
              "#fdca26"
             ],
             [
              1,
              "#f0f921"
             ]
            ],
            "type": "heatmap"
           }
          ],
          "heatmapgl": [
           {
            "colorbar": {
             "outlinewidth": 0,
             "ticks": ""
            },
            "colorscale": [
             [
              0,
              "#0d0887"
             ],
             [
              0.1111111111111111,
              "#46039f"
             ],
             [
              0.2222222222222222,
              "#7201a8"
             ],
             [
              0.3333333333333333,
              "#9c179e"
             ],
             [
              0.4444444444444444,
              "#bd3786"
             ],
             [
              0.5555555555555556,
              "#d8576b"
             ],
             [
              0.6666666666666666,
              "#ed7953"
             ],
             [
              0.7777777777777778,
              "#fb9f3a"
             ],
             [
              0.8888888888888888,
              "#fdca26"
             ],
             [
              1,
              "#f0f921"
             ]
            ],
            "type": "heatmapgl"
           }
          ],
          "histogram": [
           {
            "marker": {
             "pattern": {
              "fillmode": "overlay",
              "size": 10,
              "solidity": 0.2
             }
            },
            "type": "histogram"
           }
          ],
          "histogram2d": [
           {
            "colorbar": {
             "outlinewidth": 0,
             "ticks": ""
            },
            "colorscale": [
             [
              0,
              "#0d0887"
             ],
             [
              0.1111111111111111,
              "#46039f"
             ],
             [
              0.2222222222222222,
              "#7201a8"
             ],
             [
              0.3333333333333333,
              "#9c179e"
             ],
             [
              0.4444444444444444,
              "#bd3786"
             ],
             [
              0.5555555555555556,
              "#d8576b"
             ],
             [
              0.6666666666666666,
              "#ed7953"
             ],
             [
              0.7777777777777778,
              "#fb9f3a"
             ],
             [
              0.8888888888888888,
              "#fdca26"
             ],
             [
              1,
              "#f0f921"
             ]
            ],
            "type": "histogram2d"
           }
          ],
          "histogram2dcontour": [
           {
            "colorbar": {
             "outlinewidth": 0,
             "ticks": ""
            },
            "colorscale": [
             [
              0,
              "#0d0887"
             ],
             [
              0.1111111111111111,
              "#46039f"
             ],
             [
              0.2222222222222222,
              "#7201a8"
             ],
             [
              0.3333333333333333,
              "#9c179e"
             ],
             [
              0.4444444444444444,
              "#bd3786"
             ],
             [
              0.5555555555555556,
              "#d8576b"
             ],
             [
              0.6666666666666666,
              "#ed7953"
             ],
             [
              0.7777777777777778,
              "#fb9f3a"
             ],
             [
              0.8888888888888888,
              "#fdca26"
             ],
             [
              1,
              "#f0f921"
             ]
            ],
            "type": "histogram2dcontour"
           }
          ],
          "mesh3d": [
           {
            "colorbar": {
             "outlinewidth": 0,
             "ticks": ""
            },
            "type": "mesh3d"
           }
          ],
          "parcoords": [
           {
            "line": {
             "colorbar": {
              "outlinewidth": 0,
              "ticks": ""
             }
            },
            "type": "parcoords"
           }
          ],
          "pie": [
           {
            "automargin": true,
            "type": "pie"
           }
          ],
          "scatter": [
           {
            "fillpattern": {
             "fillmode": "overlay",
             "size": 10,
             "solidity": 0.2
            },
            "type": "scatter"
           }
          ],
          "scatter3d": [
           {
            "line": {
             "colorbar": {
              "outlinewidth": 0,
              "ticks": ""
             }
            },
            "marker": {
             "colorbar": {
              "outlinewidth": 0,
              "ticks": ""
             }
            },
            "type": "scatter3d"
           }
          ],
          "scattercarpet": [
           {
            "marker": {
             "colorbar": {
              "outlinewidth": 0,
              "ticks": ""
             }
            },
            "type": "scattercarpet"
           }
          ],
          "scattergeo": [
           {
            "marker": {
             "colorbar": {
              "outlinewidth": 0,
              "ticks": ""
             }
            },
            "type": "scattergeo"
           }
          ],
          "scattergl": [
           {
            "marker": {
             "colorbar": {
              "outlinewidth": 0,
              "ticks": ""
             }
            },
            "type": "scattergl"
           }
          ],
          "scattermapbox": [
           {
            "marker": {
             "colorbar": {
              "outlinewidth": 0,
              "ticks": ""
             }
            },
            "type": "scattermapbox"
           }
          ],
          "scatterpolar": [
           {
            "marker": {
             "colorbar": {
              "outlinewidth": 0,
              "ticks": ""
             }
            },
            "type": "scatterpolar"
           }
          ],
          "scatterpolargl": [
           {
            "marker": {
             "colorbar": {
              "outlinewidth": 0,
              "ticks": ""
             }
            },
            "type": "scatterpolargl"
           }
          ],
          "scatterternary": [
           {
            "marker": {
             "colorbar": {
              "outlinewidth": 0,
              "ticks": ""
             }
            },
            "type": "scatterternary"
           }
          ],
          "surface": [
           {
            "colorbar": {
             "outlinewidth": 0,
             "ticks": ""
            },
            "colorscale": [
             [
              0,
              "#0d0887"
             ],
             [
              0.1111111111111111,
              "#46039f"
             ],
             [
              0.2222222222222222,
              "#7201a8"
             ],
             [
              0.3333333333333333,
              "#9c179e"
             ],
             [
              0.4444444444444444,
              "#bd3786"
             ],
             [
              0.5555555555555556,
              "#d8576b"
             ],
             [
              0.6666666666666666,
              "#ed7953"
             ],
             [
              0.7777777777777778,
              "#fb9f3a"
             ],
             [
              0.8888888888888888,
              "#fdca26"
             ],
             [
              1,
              "#f0f921"
             ]
            ],
            "type": "surface"
           }
          ],
          "table": [
           {
            "cells": {
             "fill": {
              "color": "#EBF0F8"
             },
             "line": {
              "color": "white"
             }
            },
            "header": {
             "fill": {
              "color": "#C8D4E3"
             },
             "line": {
              "color": "white"
             }
            },
            "type": "table"
           }
          ]
         },
         "layout": {
          "annotationdefaults": {
           "arrowcolor": "#2a3f5f",
           "arrowhead": 0,
           "arrowwidth": 1
          },
          "autotypenumbers": "strict",
          "coloraxis": {
           "colorbar": {
            "outlinewidth": 0,
            "ticks": ""
           }
          },
          "colorscale": {
           "diverging": [
            [
             0,
             "#8e0152"
            ],
            [
             0.1,
             "#c51b7d"
            ],
            [
             0.2,
             "#de77ae"
            ],
            [
             0.3,
             "#f1b6da"
            ],
            [
             0.4,
             "#fde0ef"
            ],
            [
             0.5,
             "#f7f7f7"
            ],
            [
             0.6,
             "#e6f5d0"
            ],
            [
             0.7,
             "#b8e186"
            ],
            [
             0.8,
             "#7fbc41"
            ],
            [
             0.9,
             "#4d9221"
            ],
            [
             1,
             "#276419"
            ]
           ],
           "sequential": [
            [
             0,
             "#0d0887"
            ],
            [
             0.1111111111111111,
             "#46039f"
            ],
            [
             0.2222222222222222,
             "#7201a8"
            ],
            [
             0.3333333333333333,
             "#9c179e"
            ],
            [
             0.4444444444444444,
             "#bd3786"
            ],
            [
             0.5555555555555556,
             "#d8576b"
            ],
            [
             0.6666666666666666,
             "#ed7953"
            ],
            [
             0.7777777777777778,
             "#fb9f3a"
            ],
            [
             0.8888888888888888,
             "#fdca26"
            ],
            [
             1,
             "#f0f921"
            ]
           ],
           "sequentialminus": [
            [
             0,
             "#0d0887"
            ],
            [
             0.1111111111111111,
             "#46039f"
            ],
            [
             0.2222222222222222,
             "#7201a8"
            ],
            [
             0.3333333333333333,
             "#9c179e"
            ],
            [
             0.4444444444444444,
             "#bd3786"
            ],
            [
             0.5555555555555556,
             "#d8576b"
            ],
            [
             0.6666666666666666,
             "#ed7953"
            ],
            [
             0.7777777777777778,
             "#fb9f3a"
            ],
            [
             0.8888888888888888,
             "#fdca26"
            ],
            [
             1,
             "#f0f921"
            ]
           ]
          },
          "colorway": [
           "#636efa",
           "#EF553B",
           "#00cc96",
           "#ab63fa",
           "#FFA15A",
           "#19d3f3",
           "#FF6692",
           "#B6E880",
           "#FF97FF",
           "#FECB52"
          ],
          "font": {
           "color": "#2a3f5f"
          },
          "geo": {
           "bgcolor": "white",
           "lakecolor": "white",
           "landcolor": "#E5ECF6",
           "showlakes": true,
           "showland": true,
           "subunitcolor": "white"
          },
          "hoverlabel": {
           "align": "left"
          },
          "hovermode": "closest",
          "mapbox": {
           "style": "light"
          },
          "paper_bgcolor": "white",
          "plot_bgcolor": "#E5ECF6",
          "polar": {
           "angularaxis": {
            "gridcolor": "white",
            "linecolor": "white",
            "ticks": ""
           },
           "bgcolor": "#E5ECF6",
           "radialaxis": {
            "gridcolor": "white",
            "linecolor": "white",
            "ticks": ""
           }
          },
          "scene": {
           "xaxis": {
            "backgroundcolor": "#E5ECF6",
            "gridcolor": "white",
            "gridwidth": 2,
            "linecolor": "white",
            "showbackground": true,
            "ticks": "",
            "zerolinecolor": "white"
           },
           "yaxis": {
            "backgroundcolor": "#E5ECF6",
            "gridcolor": "white",
            "gridwidth": 2,
            "linecolor": "white",
            "showbackground": true,
            "ticks": "",
            "zerolinecolor": "white"
           },
           "zaxis": {
            "backgroundcolor": "#E5ECF6",
            "gridcolor": "white",
            "gridwidth": 2,
            "linecolor": "white",
            "showbackground": true,
            "ticks": "",
            "zerolinecolor": "white"
           }
          },
          "shapedefaults": {
           "line": {
            "color": "#2a3f5f"
           }
          },
          "ternary": {
           "aaxis": {
            "gridcolor": "white",
            "linecolor": "white",
            "ticks": ""
           },
           "baxis": {
            "gridcolor": "white",
            "linecolor": "white",
            "ticks": ""
           },
           "bgcolor": "#E5ECF6",
           "caxis": {
            "gridcolor": "white",
            "linecolor": "white",
            "ticks": ""
           }
          },
          "title": {
           "x": 0.05
          },
          "xaxis": {
           "automargin": true,
           "gridcolor": "white",
           "linecolor": "white",
           "ticks": "",
           "title": {
            "standoff": 15
           },
           "zerolinecolor": "white",
           "zerolinewidth": 2
          },
          "yaxis": {
           "automargin": true,
           "gridcolor": "white",
           "linecolor": "white",
           "ticks": "",
           "title": {
            "standoff": 15
           },
           "zerolinecolor": "white",
           "zerolinewidth": 2
          }
         }
        },
        "title": {
         "text": "Stations de RER les moins fréquentées au S1 2023"
        },
        "xaxis": {
         "anchor": "y",
         "autorange": true,
         "categoryarray": [
          "Vosves",
          "Boigneville",
          "Sermaise",
          "Le Plessis-Chenet",
          "Buno-Gironville",
          "Saint-Fargeau",
          "Achères-Grand-Cormier",
          "Dourdan-la-Forêt",
          "Boissise-le-Roi",
          "Le Coudray-Montceaux",
          "Villabé",
          "Grand-Bourg",
          "Maisse",
          "Essonnes-Robinson",
          "Ponthierry-Pringy",
          "Ris-Orangis",
          "Évry",
          "Chamarande",
          "Bagneux",
          "Boutigny",
          "Villeparisis-Mitry-le-Neuf",
          "La Norville",
          "Vert-Galant",
          "Sevran-Livry",
          "Moulin-Galant",
          "La Plaine-Stade de France",
          "Versailles Château",
          "La Courneuve-Aubervilliers",
          "Rungis-La Fraternelle",
          "Mennecy",
          "La Ferté-Alais",
          "Épinay-sur-Orge",
          "Sainte-Geneviève-des-Bois",
          "Chemin d'Antony",
          "Saint-Michel-sur-Orge",
          "Drancy",
          "Pont de Rungis",
          "Les Noues",
          "Ballancourt",
          "Tournan",
          "Breuillet",
          "Les Yvris-Noisy-le-Grand",
          "Saint-Gratien",
          "Pantin",
          "Boulainvilliers",
          "Gretz-Armainvilliers",
          "Égly",
          "Ozoir-la-Ferrière",
          "Marolles-en-Hurepoix",
          "Saint-Chéron",
          "Savigny-sur-Orge",
          "Le Bras-de-Fer",
          "Gennevilliers",
          "Issy",
          "Lardy",
          "Grigny-Centre",
          "Villeneuve-Triage",
          "Bouray",
          "Étréchy",
          "Saint-Martin-d'Étampes",
          "Breuillet-Village",
          "Saint-Ouen",
          "Les Boullereaux-Champigny",
          "Villiers-sur-Marne - Le Plessis-Trévise",
          "Mitry-Claye",
          "Pont du Garigliano",
          "Le Blanc-Mesnil",
          "Musée d'Orsay",
          "Émerainville-Pontault-Combault",
          "Les Saules",
          "Orangis-Bois de l'Epine",
          "Le Mée",
          "Cesson",
          "Les Ardoines",
          "Issy-Val-de-Seine",
          "Évry Courcouronnes",
          "Champ de Mars",
          "Roissy-en-Brie",
          "Arpajon",
          "Orly Ville",
          "Ivry-sur-Seine",
          "Vitry-sur-Seine",
          "Les Baconnets",
          "Villeneuve-le-Roi",
          "Athis-Mons",
          "Avenue Henri Martin",
          "Le Vert-de-Maisons",
          "Lieusaint-Moissy",
          "Noisy-le-Sec",
          "Stade de France-Saint-Denis",
          "Louvres",
          "Avenue du Président Kennedy",
          "Aéroport Charles De Gaulle 2-TGV",
          "Sevran-Beaudottes",
          "Étampes",
          "Dourdan",
          "Les Grésillons",
          "Le Raincy-Villemomble-Montfermeil",
          "Rosa Parks",
          "Avenue Foch",
          "Le Chénay-Gagny",
          "Rosny-Bois-Perrier",
          "Survilliers-Fosses",
          "Choisy-le-Roi",
          "Ablon",
          "Nogent-le-Perreux",
          "Créteil Pompadour",
          "Parc des Expositions",
          "Chaville-Vélizy",
          "Chelles-Gournay",
          "Gagny",
          "Rosny-sous-Bois",
          "Aéroport Charles De Gaulle 1",
          "Villepinte",
          "Javel"
         ],
         "categoryorder": "array",
         "domain": [
          0,
          1
         ],
         "range": [
          -0.5,
          114.5
         ],
         "tickangle": -45,
         "title": {
          "text": "Station de RER"
         },
         "type": "category"
        },
        "yaxis": {
         "anchor": "x",
         "autorange": true,
         "domain": [
          0,
          1
         ],
         "range": [
          0,
          168.42105263157896
         ],
         "title": {
          "font": {
           "size": 10
          },
          "text": "Nb de jours avec moins de 50 validations"
         },
         "type": "linear"
        }
       }
      },
      "image/png": "[encoded data removed]",
      "text/html": [
       "<div>                            <div id=\"769cbeae-2cfd-44b9-b8b0-c4d7fe9c965e\" class=\"plotly-graph-div\" style=\"height:525px; width:100%;\"></div>            <script type=\"text/javascript\">                require([\"plotly\"], function(Plotly) {                    window.PLOTLYENV=window.PLOTLYENV || {};                                    if (document.getElementById(\"769cbeae-2cfd-44b9-b8b0-c4d7fe9c965e\")) {                    Plotly.newPlot(                        \"769cbeae-2cfd-44b9-b8b0-c4d7fe9c965e\",                        [{\"alignmentgroup\":\"True\",\"hovertemplate\":\"res_com=RER D\\u003cbr\\u003eStation de RER=%{x}\\u003cbr\\u003eNb de jours avec moins de 50 validations=%{y}\\u003cextra\\u003e\\u003c\\u002fextra\\u003e\",\"legendgroup\":\"RER D\",\"marker\":{\"color\":\"green\",\"pattern\":{\"shape\":\"\"}},\"name\":\"RER D\",\"offsetgroup\":\"RER D\",\"orientation\":\"v\",\"showlegend\":true,\"textposition\":\"auto\",\"x\":[\"Vosves\",\"Boigneville\",\"Le Plessis-Chenet\",\"Buno-Gironville\",\"Saint-Fargeau\",\"Boissise-le-Roi\",\"Le Coudray-Montceaux\",\"Villab\\u00e9\",\"Grand-Bourg\",\"Maisse\",\"Essonnes-Robinson\",\"Ponthierry-Pringy\",\"Ris-Orangis\",\"\\u00c9vry\",\"Boutigny\",\"Moulin-Galant\",\"Mennecy\",\"La Fert\\u00e9-Alais\",\"Les Noues\",\"Ballancourt\",\"Le Bras-de-Fer\",\"Grigny-Centre\",\"Villeneuve-Triage\",\"Orangis-Bois de l'Epine\",\"Le M\\u00e9e\",\"Cesson\",\"\\u00c9vry Courcouronnes\",\"Le Vert-de-Maisons\",\"Lieusaint-Moissy\",\"Stade de France-Saint-Denis\",\"Louvres\",\"Survilliers-Fosses\",\"Cr\\u00e9teil Pompadour\"],\"xaxis\":\"x\",\"y\":[160,160,144,121,74,65,65,35,28,28,26,26,23,23,19,12,10,10,8,8,6,5,5,4,4,4,3,2,2,2,2,1,1],\"yaxis\":\"y\",\"type\":\"bar\"},{\"alignmentgroup\":\"True\",\"hovertemplate\":\"res_com=RER C\\u003cbr\\u003eStation de RER=%{x}\\u003cbr\\u003eNb de jours avec moins de 50 validations=%{y}\\u003cextra\\u003e\\u003c\\u002fextra\\u003e\",\"legendgroup\":\"RER C\",\"marker\":{\"color\":\"yellow\",\"pattern\":{\"shape\":\"\"}},\"name\":\"RER C\",\"offsetgroup\":\"RER C\",\"orientation\":\"v\",\"showlegend\":true,\"textposition\":\"auto\",\"x\":[\"Sermaise\",\"Dourdan-la-For\\u00eat\",\"Chamarande\",\"La Norville\",\"Versailles Ch\\u00e2teau\",\"Rungis-La Fraternelle\",\"\\u00c9pinay-sur-Orge\",\"Sainte-Genevi\\u00e8ve-des-Bois\",\"Chemin d'Antony\",\"Saint-Michel-sur-Orge\",\"Pont de Rungis\",\"Breuillet\",\"Saint-Gratien\",\"Boulainvilliers\",\"\\u00c9gly\",\"Marolles-en-Hurepoix\",\"Saint-Ch\\u00e9ron\",\"Savigny-sur-Orge\",\"Gennevilliers\",\"Issy\",\"Lardy\",\"Bouray\",\"\\u00c9tr\\u00e9chy\",\"Saint-Martin-d'\\u00c9tampes\",\"Breuillet-Village\",\"Saint-Ouen\",\"Pont du Garigliano\",\"Mus\\u00e9e d'Orsay\",\"Les Saules\",\"Les Ardoines\",\"Issy-Val-de-Seine\",\"Champ de Mars\",\"Arpajon\",\"Orly Ville\",\"Ivry-sur-Seine\",\"Vitry-sur-Seine\",\"Villeneuve-le-Roi\",\"Athis-Mons\",\"Avenue Henri Martin\",\"Avenue du Pr\\u00e9sident Kennedy\",\"\\u00c9tampes\",\"Dourdan\",\"Les Gr\\u00e9sillons\",\"Avenue Foch\",\"Choisy-le-Roi\",\"Ablon\",\"Chaville-V\\u00e9lizy\",\"Javel\"],\"xaxis\":\"x\",\"y\":[150,67,20,15,12,10,9,9,9,8,8,7,7,7,7,6,6,6,6,5,5,5,5,5,5,5,4,4,4,4,3,3,3,3,3,3,2,2,2,2,2,2,2,1,1,1,1,1],\"yaxis\":\"y\",\"type\":\"bar\"},{\"alignmentgroup\":\"True\",\"hovertemplate\":\"res_com=RER A\\u003cbr\\u003eStation de RER=%{x}\\u003cbr\\u003eNb de jours avec moins de 50 validations=%{y}\\u003cextra\\u003e\\u003c\\u002fextra\\u003e\",\"legendgroup\":\"RER A\",\"marker\":{\"color\":\"red\",\"pattern\":{\"shape\":\"\"}},\"name\":\"RER A\",\"offsetgroup\":\"RER A\",\"orientation\":\"v\",\"showlegend\":true,\"textposition\":\"auto\",\"x\":[\"Ach\\u00e8res-Grand-Cormier\"],\"xaxis\":\"x\",\"y\":[68],\"yaxis\":\"y\",\"type\":\"bar\"},{\"alignmentgroup\":\"True\",\"hovertemplate\":\"res_com=RER B\\u003cbr\\u003eStation de RER=%{x}\\u003cbr\\u003eNb de jours avec moins de 50 validations=%{y}\\u003cextra\\u003e\\u003c\\u002fextra\\u003e\",\"legendgroup\":\"RER B\",\"marker\":{\"color\":\"blue\",\"pattern\":{\"shape\":\"\"}},\"name\":\"RER B\",\"offsetgroup\":\"RER B\",\"orientation\":\"v\",\"showlegend\":true,\"textposition\":\"auto\",\"x\":[\"Bagneux\",\"Villeparisis-Mitry-le-Neuf\",\"Vert-Galant\",\"Sevran-Livry\",\"La Plaine-Stade de France\",\"La Courneuve-Aubervilliers\",\"Drancy\",\"Mitry-Claye\",\"Le Blanc-Mesnil\",\"Les Baconnets\",\"A\\u00e9roport Charles De Gaulle 2-TGV\",\"Sevran-Beaudottes\",\"Parc des Expositions\",\"A\\u00e9roport Charles De Gaulle 1\",\"Villepinte\"],\"xaxis\":\"x\",\"y\":[20,16,14,14,12,10,8,5,4,3,2,2,1,1,1],\"yaxis\":\"y\",\"type\":\"bar\"},{\"alignmentgroup\":\"True\",\"hovertemplate\":\"res_com=RER E\\u003cbr\\u003eStation de RER=%{x}\\u003cbr\\u003eNb de jours avec moins de 50 validations=%{y}\\u003cextra\\u003e\\u003c\\u002fextra\\u003e\",\"legendgroup\":\"RER E\",\"marker\":{\"color\":\"pink\",\"pattern\":{\"shape\":\"\"}},\"name\":\"RER E\",\"offsetgroup\":\"RER E\",\"orientation\":\"v\",\"showlegend\":true,\"textposition\":\"auto\",\"x\":[\"Tournan\",\"Les Yvris-Noisy-le-Grand\",\"Pantin\",\"Gretz-Armainvilliers\",\"Ozoir-la-Ferri\\u00e8re\",\"Les Boullereaux-Champigny\",\"Villiers-sur-Marne - Le Plessis-Tr\\u00e9vise\",\"\\u00c9merainville-Pontault-Combault\",\"Roissy-en-Brie\",\"Noisy-le-Sec\",\"Le Raincy-Villemomble-Montfermeil\",\"Rosa Parks\",\"Le Ch\\u00e9nay-Gagny\",\"Rosny-Bois-Perrier\",\"Nogent-le-Perreux\",\"Chelles-Gournay\",\"Gagny\",\"Rosny-sous-Bois\"],\"xaxis\":\"x\",\"y\":[7,7,7,7,6,5,5,4,3,2,2,2,1,1,1,1,1,1],\"yaxis\":\"y\",\"type\":\"bar\"}],                        {\"template\":{\"data\":{\"histogram2dcontour\":[{\"type\":\"histogram2dcontour\",\"colorbar\":{\"outlinewidth\":0,\"ticks\":\"\"},\"colorscale\":[[0.0,\"#0d0887\"],[0.1111111111111111,\"#46039f\"],[0.2222222222222222,\"#7201a8\"],[0.3333333333333333,\"#9c179e\"],[0.4444444444444444,\"#bd3786\"],[0.5555555555555556,\"#d8576b\"],[0.6666666666666666,\"#ed7953\"],[0.7777777777777778,\"#fb9f3a\"],[0.8888888888888888,\"#fdca26\"],[1.0,\"#f0f921\"]]}],\"choropleth\":[{\"type\":\"choropleth\",\"colorbar\":{\"outlinewidth\":0,\"ticks\":\"\"}}],\"histogram2d\":[{\"type\":\"histogram2d\",\"colorbar\":{\"outlinewidth\":0,\"ticks\":\"\"},\"colorscale\":[[0.0,\"#0d0887\"],[0.1111111111111111,\"#46039f\"],[0.2222222222222222,\"#7201a8\"],[0.3333333333333333,\"#9c179e\"],[0.4444444444444444,\"#bd3786\"],[0.5555555555555556,\"#d8576b\"],[0.6666666666666666,\"#ed7953\"],[0.7777777777777778,\"#fb9f3a\"],[0.8888888888888888,\"#fdca26\"],[1.0,\"#f0f921\"]]}],\"heatmap\":[{\"type\":\"heatmap\",\"colorbar\":{\"outlinewidth\":0,\"ticks\":\"\"},\"colorscale\":[[0.0,\"#0d0887\"],[0.1111111111111111,\"#46039f\"],[0.2222222222222222,\"#7201a8\"],[0.3333333333333333,\"#9c179e\"],[0.4444444444444444,\"#bd3786\"],[0.5555555555555556,\"#d8576b\"],[0.6666666666666666,\"#ed7953\"],[0.7777777777777778,\"#fb9f3a\"],[0.8888888888888888,\"#fdca26\"],[1.0,\"#f0f921\"]]}],\"heatmapgl\":[{\"type\":\"heatmapgl\",\"colorbar\":{\"outlinewidth\":0,\"ticks\":\"\"},\"colorscale\":[[0.0,\"#0d0887\"],[0.1111111111111111,\"#46039f\"],[0.2222222222222222,\"#7201a8\"],[0.3333333333333333,\"#9c179e\"],[0.4444444444444444,\"#bd3786\"],[0.5555555555555556,\"#d8576b\"],[0.6666666666666666,\"#ed7953\"],[0.7777777777777778,\"#fb9f3a\"],[0.8888888888888888,\"#fdca26\"],[1.0,\"#f0f921\"]]}],\"contourcarpet\":[{\"type\":\"contourcarpet\",\"colorbar\":{\"outlinewidth\":0,\"ticks\":\"\"}}],\"contour\":[{\"type\":\"contour\",\"colorbar\":{\"outlinewidth\":0,\"ticks\":\"\"},\"colorscale\":[[0.0,\"#0d0887\"],[0.1111111111111111,\"#46039f\"],[0.2222222222222222,\"#7201a8\"],[0.3333333333333333,\"#9c179e\"],[0.4444444444444444,\"#bd3786\"],[0.5555555555555556,\"#d8576b\"],[0.6666666666666666,\"#ed7953\"],[0.7777777777777778,\"#fb9f3a\"],[0.8888888888888888,\"#fdca26\"],[1.0,\"#f0f921\"]]}],\"surface\":[{\"type\":\"surface\",\"colorbar\":{\"outlinewidth\":0,\"ticks\":\"\"},\"colorscale\":[[0.0,\"#0d0887\"],[0.1111111111111111,\"#46039f\"],[0.2222222222222222,\"#7201a8\"],[0.3333333333333333,\"#9c179e\"],[0.4444444444444444,\"#bd3786\"],[0.5555555555555556,\"#d8576b\"],[0.6666666666666666,\"#ed7953\"],[0.7777777777777778,\"#fb9f3a\"],[0.8888888888888888,\"#fdca26\"],[1.0,\"#f0f921\"]]}],\"mesh3d\":[{\"type\":\"mesh3d\",\"colorbar\":{\"outlinewidth\":0,\"ticks\":\"\"}}],\"scatter\":[{\"fillpattern\":{\"fillmode\":\"overlay\",\"size\":10,\"solidity\":0.2},\"type\":\"scatter\"}],\"parcoords\":[{\"type\":\"parcoords\",\"line\":{\"colorbar\":{\"outlinewidth\":0,\"ticks\":\"\"}}}],\"scatterpolargl\":[{\"type\":\"scatterpolargl\",\"marker\":{\"colorbar\":{\"outlinewidth\":0,\"ticks\":\"\"}}}],\"bar\":[{\"error_x\":{\"color\":\"#2a3f5f\"},\"error_y\":{\"color\":\"#2a3f5f\"},\"marker\":{\"line\":{\"color\":\"#E5ECF6\",\"width\":0.5},\"pattern\":{\"fillmode\":\"overlay\",\"size\":10,\"solidity\":0.2}},\"type\":\"bar\"}],\"scattergeo\":[{\"type\":\"scattergeo\",\"marker\":{\"colorbar\":{\"outlinewidth\":0,\"ticks\":\"\"}}}],\"scatterpolar\":[{\"type\":\"scatterpolar\",\"marker\":{\"colorbar\":{\"outlinewidth\":0,\"ticks\":\"\"}}}],\"histogram\":[{\"marker\":{\"pattern\":{\"fillmode\":\"overlay\",\"size\":10,\"solidity\":0.2}},\"type\":\"histogram\"}],\"scattergl\":[{\"type\":\"scattergl\",\"marker\":{\"colorbar\":{\"outlinewidth\":0,\"ticks\":\"\"}}}],\"scatter3d\":[{\"type\":\"scatter3d\",\"line\":{\"colorbar\":{\"outlinewidth\":0,\"ticks\":\"\"}},\"marker\":{\"colorbar\":{\"outlinewidth\":0,\"ticks\":\"\"}}}],\"scattermapbox\":[{\"type\":\"scattermapbox\",\"marker\":{\"colorbar\":{\"outlinewidth\":0,\"ticks\":\"\"}}}],\"scatterternary\":[{\"type\":\"scatterternary\",\"marker\":{\"colorbar\":{\"outlinewidth\":0,\"ticks\":\"\"}}}],\"scattercarpet\":[{\"type\":\"scattercarpet\",\"marker\":{\"colorbar\":{\"outlinewidth\":0,\"ticks\":\"\"}}}],\"carpet\":[{\"aaxis\":{\"endlinecolor\":\"#2a3f5f\",\"gridcolor\":\"white\",\"linecolor\":\"white\",\"minorgridcolor\":\"white\",\"startlinecolor\":\"#2a3f5f\"},\"baxis\":{\"endlinecolor\":\"#2a3f5f\",\"gridcolor\":\"white\",\"linecolor\":\"white\",\"minorgridcolor\":\"white\",\"startlinecolor\":\"#2a3f5f\"},\"type\":\"carpet\"}],\"table\":[{\"cells\":{\"fill\":{\"color\":\"#EBF0F8\"},\"line\":{\"color\":\"white\"}},\"header\":{\"fill\":{\"color\":\"#C8D4E3\"},\"line\":{\"color\":\"white\"}},\"type\":\"table\"}],\"barpolar\":[{\"marker\":{\"line\":{\"color\":\"#E5ECF6\",\"width\":0.5},\"pattern\":{\"fillmode\":\"overlay\",\"size\":10,\"solidity\":0.2}},\"type\":\"barpolar\"}],\"pie\":[{\"automargin\":true,\"type\":\"pie\"}]},\"layout\":{\"autotypenumbers\":\"strict\",\"colorway\":[\"#636efa\",\"#EF553B\",\"#00cc96\",\"#ab63fa\",\"#FFA15A\",\"#19d3f3\",\"#FF6692\",\"#B6E880\",\"#FF97FF\",\"#FECB52\"],\"font\":{\"color\":\"#2a3f5f\"},\"hovermode\":\"closest\",\"hoverlabel\":{\"align\":\"left\"},\"paper_bgcolor\":\"white\",\"plot_bgcolor\":\"#E5ECF6\",\"polar\":{\"bgcolor\":\"#E5ECF6\",\"angularaxis\":{\"gridcolor\":\"white\",\"linecolor\":\"white\",\"ticks\":\"\"},\"radialaxis\":{\"gridcolor\":\"white\",\"linecolor\":\"white\",\"ticks\":\"\"}},\"ternary\":{\"bgcolor\":\"#E5ECF6\",\"aaxis\":{\"gridcolor\":\"white\",\"linecolor\":\"white\",\"ticks\":\"\"},\"baxis\":{\"gridcolor\":\"white\",\"linecolor\":\"white\",\"ticks\":\"\"},\"caxis\":{\"gridcolor\":\"white\",\"linecolor\":\"white\",\"ticks\":\"\"}},\"coloraxis\":{\"colorbar\":{\"outlinewidth\":0,\"ticks\":\"\"}},\"colorscale\":{\"sequential\":[[0.0,\"#0d0887\"],[0.1111111111111111,\"#46039f\"],[0.2222222222222222,\"#7201a8\"],[0.3333333333333333,\"#9c179e\"],[0.4444444444444444,\"#bd3786\"],[0.5555555555555556,\"#d8576b\"],[0.6666666666666666,\"#ed7953\"],[0.7777777777777778,\"#fb9f3a\"],[0.8888888888888888,\"#fdca26\"],[1.0,\"#f0f921\"]],\"sequentialminus\":[[0.0,\"#0d0887\"],[0.1111111111111111,\"#46039f\"],[0.2222222222222222,\"#7201a8\"],[0.3333333333333333,\"#9c179e\"],[0.4444444444444444,\"#bd3786\"],[0.5555555555555556,\"#d8576b\"],[0.6666666666666666,\"#ed7953\"],[0.7777777777777778,\"#fb9f3a\"],[0.8888888888888888,\"#fdca26\"],[1.0,\"#f0f921\"]],\"diverging\":[[0,\"#8e0152\"],[0.1,\"#c51b7d\"],[0.2,\"#de77ae\"],[0.3,\"#f1b6da\"],[0.4,\"#fde0ef\"],[0.5,\"#f7f7f7\"],[0.6,\"#e6f5d0\"],[0.7,\"#b8e186\"],[0.8,\"#7fbc41\"],[0.9,\"#4d9221\"],[1,\"#276419\"]]},\"xaxis\":{\"gridcolor\":\"white\",\"linecolor\":\"white\",\"ticks\":\"\",\"title\":{\"standoff\":15},\"zerolinecolor\":\"white\",\"automargin\":true,\"zerolinewidth\":2},\"yaxis\":{\"gridcolor\":\"white\",\"linecolor\":\"white\",\"ticks\":\"\",\"title\":{\"standoff\":15},\"zerolinecolor\":\"white\",\"automargin\":true,\"zerolinewidth\":2},\"scene\":{\"xaxis\":{\"backgroundcolor\":\"#E5ECF6\",\"gridcolor\":\"white\",\"linecolor\":\"white\",\"showbackground\":true,\"ticks\":\"\",\"zerolinecolor\":\"white\",\"gridwidth\":2},\"yaxis\":{\"backgroundcolor\":\"#E5ECF6\",\"gridcolor\":\"white\",\"linecolor\":\"white\",\"showbackground\":true,\"ticks\":\"\",\"zerolinecolor\":\"white\",\"gridwidth\":2},\"zaxis\":{\"backgroundcolor\":\"#E5ECF6\",\"gridcolor\":\"white\",\"linecolor\":\"white\",\"showbackground\":true,\"ticks\":\"\",\"zerolinecolor\":\"white\",\"gridwidth\":2}},\"shapedefaults\":{\"line\":{\"color\":\"#2a3f5f\"}},\"annotationdefaults\":{\"arrowcolor\":\"#2a3f5f\",\"arrowhead\":0,\"arrowwidth\":1},\"geo\":{\"bgcolor\":\"white\",\"landcolor\":\"#E5ECF6\",\"subunitcolor\":\"white\",\"showland\":true,\"showlakes\":true,\"lakecolor\":\"white\"},\"title\":{\"x\":0.05},\"mapbox\":{\"style\":\"light\"}}},\"xaxis\":{\"anchor\":\"y\",\"domain\":[0.0,1.0],\"title\":{\"text\":\"Station de RER\"},\"categoryorder\":\"array\",\"categoryarray\":[\"Vosves\",\"Boigneville\",\"Sermaise\",\"Le Plessis-Chenet\",\"Buno-Gironville\",\"Saint-Fargeau\",\"Ach\\u00e8res-Grand-Cormier\",\"Dourdan-la-For\\u00eat\",\"Boissise-le-Roi\",\"Le Coudray-Montceaux\",\"Villab\\u00e9\",\"Grand-Bourg\",\"Maisse\",\"Essonnes-Robinson\",\"Ponthierry-Pringy\",\"Ris-Orangis\",\"\\u00c9vry\",\"Chamarande\",\"Bagneux\",\"Boutigny\",\"Villeparisis-Mitry-le-Neuf\",\"La Norville\",\"Vert-Galant\",\"Sevran-Livry\",\"Moulin-Galant\",\"La Plaine-Stade de France\",\"Versailles Ch\\u00e2teau\",\"La Courneuve-Aubervilliers\",\"Rungis-La Fraternelle\",\"Mennecy\",\"La Fert\\u00e9-Alais\",\"\\u00c9pinay-sur-Orge\",\"Sainte-Genevi\\u00e8ve-des-Bois\",\"Chemin d'Antony\",\"Saint-Michel-sur-Orge\",\"Drancy\",\"Pont de Rungis\",\"Les Noues\",\"Ballancourt\",\"Tournan\",\"Breuillet\",\"Les Yvris-Noisy-le-Grand\",\"Saint-Gratien\",\"Pantin\",\"Boulainvilliers\",\"Gretz-Armainvilliers\",\"\\u00c9gly\",\"Ozoir-la-Ferri\\u00e8re\",\"Marolles-en-Hurepoix\",\"Saint-Ch\\u00e9ron\",\"Savigny-sur-Orge\",\"Le Bras-de-Fer\",\"Gennevilliers\",\"Issy\",\"Lardy\",\"Grigny-Centre\",\"Villeneuve-Triage\",\"Bouray\",\"\\u00c9tr\\u00e9chy\",\"Saint-Martin-d'\\u00c9tampes\",\"Breuillet-Village\",\"Saint-Ouen\",\"Les Boullereaux-Champigny\",\"Villiers-sur-Marne - Le Plessis-Tr\\u00e9vise\",\"Mitry-Claye\",\"Pont du Garigliano\",\"Le Blanc-Mesnil\",\"Mus\\u00e9e d'Orsay\",\"\\u00c9merainville-Pontault-Combault\",\"Les Saules\",\"Orangis-Bois de l'Epine\",\"Le M\\u00e9e\",\"Cesson\",\"Les Ardoines\",\"Issy-Val-de-Seine\",\"\\u00c9vry Courcouronnes\",\"Champ de Mars\",\"Roissy-en-Brie\",\"Arpajon\",\"Orly Ville\",\"Ivry-sur-Seine\",\"Vitry-sur-Seine\",\"Les Baconnets\",\"Villeneuve-le-Roi\",\"Athis-Mons\",\"Avenue Henri Martin\",\"Le Vert-de-Maisons\",\"Lieusaint-Moissy\",\"Noisy-le-Sec\",\"Stade de France-Saint-Denis\",\"Louvres\",\"Avenue du Pr\\u00e9sident Kennedy\",\"A\\u00e9roport Charles De Gaulle 2-TGV\",\"Sevran-Beaudottes\",\"\\u00c9tampes\",\"Dourdan\",\"Les Gr\\u00e9sillons\",\"Le Raincy-Villemomble-Montfermeil\",\"Rosa Parks\",\"Avenue Foch\",\"Le Ch\\u00e9nay-Gagny\",\"Rosny-Bois-Perrier\",\"Survilliers-Fosses\",\"Choisy-le-Roi\",\"Ablon\",\"Nogent-le-Perreux\",\"Cr\\u00e9teil Pompadour\",\"Parc des Expositions\",\"Chaville-V\\u00e9lizy\",\"Chelles-Gournay\",\"Gagny\",\"Rosny-sous-Bois\",\"A\\u00e9roport Charles De Gaulle 1\",\"Villepinte\",\"Javel\"],\"tickangle\":-45},\"yaxis\":{\"anchor\":\"x\",\"domain\":[0.0,1.0],\"title\":{\"text\":\"Nb de jours avec moins de 50 validations\",\"font\":{\"size\":10}}},\"legend\":{\"title\":{\"text\":\"res_com\"},\"tracegroupgap\":0},\"title\":{\"text\":\"Stations de RER les moins fr\\u00e9quent\\u00e9es au S1 2023\"},\"barmode\":\"relative\"},                        {\"responsive\": true}                    ).then(function(){\n",
       "                            \n",
       "var gd = document.getElementById('769cbeae-2cfd-44b9-b8b0-c4d7fe9c965e');\n",
       "var x = new MutationObserver(function (mutations, observer) {{\n",
       "        var display = window.getComputedStyle(gd).display;\n",
       "        if (!display || display === 'none') {{\n",
       "            console.log([gd, 'removed!']);\n",
       "            Plotly.purge(gd);\n",
       "            observer.disconnect();\n",
       "        }}\n",
       "}});\n",
       "\n",
       "// Listen for the removal of the full notebook cells\n",
       "var notebookContainer = gd.closest('#notebook-container');\n",
       "if (notebookContainer) {{\n",
       "    x.observe(notebookContainer, {childList: true});\n",
       "}}\n",
       "\n",
       "// Listen for the clearing of the current output cell\n",
       "var outputEl = gd.closest('.output');\n",
       "if (outputEl) {{\n",
       "    x.observe(outputEl, {childList: true});\n",
       "}}\n",
       "\n",
       "                        })                };                });            </script>        </div>"
      ]
     },
     "metadata": {},
     "output_type": "display_data"
    }
   ],
   "source": [
    "# Trier le DataFrame par 'Nb de jours avec moins de 50 validations' en ordre décroissant\n",
    "df_sorted = liste_faible_freq_stations.sort_values(by='Nb de jours avec moins de 50 validations', ascending=False)\n",
    "\n",
    "# Créer un graphique en barres interactif avec des couleurs conditionnelles\n",
    "fig = px.bar(df_sorted, x='Station de RER', y='Nb de jours avec moins de 50 validations', color='res_com',\n",
    "             title='Stations de RER les moins fréquentées au S1 2023',\n",
    "             color_discrete_map=couleurs_res_com,\n",
    "             category_orders={\"Station de RER\": df_sorted['Station de RER'].tolist()})  # Définir l'ordre des catégories\n",
    "\n",
    "# Personnaliser le graphique\n",
    "fig.update_layout(xaxis_tickangle=-45)\n",
    "fig.update_yaxes(title_font=dict(size=10))\n",
    "\n",
    "# Afficher le graphique\n",
    "fig.show()"
   ]
  },
  {
   "cell_type": "markdown",
   "id": "354d333e-9845-42e3-bce5-9287ddb400e2",
   "metadata": {},
   "source": [
    "**commenter**\n",
    "\n",
    "**rajouter une section sur les lignes** ou pas d'interet avec la classification déjà faite ??"
   ]
  },
  {
   "cell_type": "code",
   "execution_count": 173,
   "id": "964bc215-448a-41df-8f16-91c98bb67d9e",
   "metadata": {},
   "outputs": [
    {
     "data": {
      "text/html": [
       "<div>\n",
       "<style scoped>\n",
       "    .dataframe tbody tr th:only-of-type {\n",
       "        vertical-align: middle;\n",
       "    }\n",
       "\n",
       "    .dataframe tbody tr th {\n",
       "        vertical-align: top;\n",
       "    }\n",
       "\n",
       "    .dataframe thead th {\n",
       "        text-align: right;\n",
       "    }\n",
       "</style>\n",
       "<table border=\"1\" class=\"dataframe\">\n",
       "  <thead>\n",
       "    <tr style=\"text-align: right;\">\n",
       "      <th></th>\n",
       "      <th>JOUR</th>\n",
       "      <th>nom_long</th>\n",
       "      <th>NB_VALD</th>\n",
       "    </tr>\n",
       "  </thead>\n",
       "  <tbody>\n",
       "    <tr>\n",
       "      <th>9832</th>\n",
       "      <td>2023-02-12</td>\n",
       "      <td>Dourdan-la-Forêt</td>\n",
       "      <td>5</td>\n",
       "    </tr>\n",
       "    <tr>\n",
       "      <th>21022</th>\n",
       "      <td>2023-04-01</td>\n",
       "      <td>Saint-Gratien</td>\n",
       "      <td>5</td>\n",
       "    </tr>\n",
       "    <tr>\n",
       "      <th>21082</th>\n",
       "      <td>2023-04-02</td>\n",
       "      <td>Avenue Henri Martin</td>\n",
       "      <td>5</td>\n",
       "    </tr>\n",
       "    <tr>\n",
       "      <th>17680</th>\n",
       "      <td>2023-03-18</td>\n",
       "      <td>Grand-Bourg</td>\n",
       "      <td>5</td>\n",
       "    </tr>\n",
       "    <tr>\n",
       "      <th>17706</th>\n",
       "      <td>2023-03-18</td>\n",
       "      <td>Le Coudray-Montceaux</td>\n",
       "      <td>5</td>\n",
       "    </tr>\n",
       "  </tbody>\n",
       "</table>\n",
       "</div>"
      ],
      "text/plain": [
       "            JOUR              nom_long  NB_VALD\n",
       "9832  2023-02-12      Dourdan-la-Forêt        5\n",
       "21022 2023-04-01         Saint-Gratien        5\n",
       "21082 2023-04-02   Avenue Henri Martin        5\n",
       "17680 2023-03-18           Grand-Bourg        5\n",
       "17706 2023-03-18  Le Coudray-Montceaux        5"
      ]
     },
     "execution_count": 173,
     "metadata": {},
     "output_type": "execute_result"
    }
   ],
   "source": [
    "faible_freq.sort_values(by=\"NB_VALD\", ascending=True).head()"
   ]
  },
  {
   "cell_type": "markdown",
   "id": "1914f60e-375c-4a13-86dc-44cddb2eddd8",
   "metadata": {},
   "source": [
    "#### Stations de RER très fréquentées"
   ]
  },
  {
   "cell_type": "code",
   "execution_count": 161,
   "id": "e44c485a-2d0b-44a4-a473-02961637c4bb",
   "metadata": {},
   "outputs": [
    {
     "data": {
      "text/html": [
       "<div>\n",
       "<style scoped>\n",
       "    .dataframe tbody tr th:only-of-type {\n",
       "        vertical-align: middle;\n",
       "    }\n",
       "\n",
       "    .dataframe tbody tr th {\n",
       "        vertical-align: top;\n",
       "    }\n",
       "\n",
       "    .dataframe thead th {\n",
       "        text-align: right;\n",
       "    }\n",
       "</style>\n",
       "<table border=\"1\" class=\"dataframe\">\n",
       "  <thead>\n",
       "    <tr style=\"text-align: right;\">\n",
       "      <th></th>\n",
       "      <th>JOUR</th>\n",
       "      <th>nom_long</th>\n",
       "      <th>NB_VALD</th>\n",
       "    </tr>\n",
       "  </thead>\n",
       "  <tbody>\n",
       "    <tr>\n",
       "      <th>2</th>\n",
       "      <td>2023-01-01</td>\n",
       "      <td>Achères-Ville</td>\n",
       "      <td>872</td>\n",
       "    </tr>\n",
       "    <tr>\n",
       "      <th>3</th>\n",
       "      <td>2023-01-01</td>\n",
       "      <td>Antony</td>\n",
       "      <td>2237</td>\n",
       "    </tr>\n",
       "    <tr>\n",
       "      <th>4</th>\n",
       "      <td>2023-01-01</td>\n",
       "      <td>Arcueil-Cachan</td>\n",
       "      <td>1612</td>\n",
       "    </tr>\n",
       "    <tr>\n",
       "      <th>7</th>\n",
       "      <td>2023-01-01</td>\n",
       "      <td>Auber</td>\n",
       "      <td>2420</td>\n",
       "    </tr>\n",
       "    <tr>\n",
       "      <th>8</th>\n",
       "      <td>2023-01-01</td>\n",
       "      <td>Aulnay-sous-Bois</td>\n",
       "      <td>4053</td>\n",
       "    </tr>\n",
       "    <tr>\n",
       "      <th>...</th>\n",
       "      <td>...</td>\n",
       "      <td>...</td>\n",
       "      <td>...</td>\n",
       "    </tr>\n",
       "    <tr>\n",
       "      <th>42040</th>\n",
       "      <td>2023-06-30</td>\n",
       "      <td>Épinay-sur-Orge</td>\n",
       "      <td>3715</td>\n",
       "    </tr>\n",
       "    <tr>\n",
       "      <th>42041</th>\n",
       "      <td>2023-06-30</td>\n",
       "      <td>Épinay-sur-Seine</td>\n",
       "      <td>5184</td>\n",
       "    </tr>\n",
       "    <tr>\n",
       "      <th>42042</th>\n",
       "      <td>2023-06-30</td>\n",
       "      <td>Étampes</td>\n",
       "      <td>2583</td>\n",
       "    </tr>\n",
       "    <tr>\n",
       "      <th>42044</th>\n",
       "      <td>2023-06-30</td>\n",
       "      <td>Évry</td>\n",
       "      <td>713</td>\n",
       "    </tr>\n",
       "    <tr>\n",
       "      <th>42045</th>\n",
       "      <td>2023-06-30</td>\n",
       "      <td>Évry Courcouronnes</td>\n",
       "      <td>12624</td>\n",
       "    </tr>\n",
       "  </tbody>\n",
       "</table>\n",
       "<p>33818 rows × 3 columns</p>\n",
       "</div>"
      ],
      "text/plain": [
       "            JOUR            nom_long  NB_VALD\n",
       "2     2023-01-01       Achères-Ville      872\n",
       "3     2023-01-01              Antony     2237\n",
       "4     2023-01-01      Arcueil-Cachan     1612\n",
       "7     2023-01-01               Auber     2420\n",
       "8     2023-01-01    Aulnay-sous-Bois     4053\n",
       "...          ...                 ...      ...\n",
       "42040 2023-06-30     Épinay-sur-Orge     3715\n",
       "42041 2023-06-30    Épinay-sur-Seine     5184\n",
       "42042 2023-06-30             Étampes     2583\n",
       "42044 2023-06-30                Évry      713\n",
       "42045 2023-06-30  Évry Courcouronnes    12624\n",
       "\n",
       "[33818 rows x 3 columns]"
      ]
     },
     "execution_count": 161,
     "metadata": {},
     "output_type": "execute_result"
    }
   ],
   "source": [
    "haute_freq=freq_stations[freq_stations['NB_VALD'] >= 700]\n",
    "haute_freq"
   ]
  },
  {
   "cell_type": "markdown",
   "id": "eec56a3e-fa8e-4e64-aaef-566b3c359be9",
   "metadata": {},
   "source": [
    "**commenter**"
   ]
  },
  {
   "cell_type": "code",
   "execution_count": 162,
   "id": "a94759e8-eb7a-4407-84de-bbd28f4444f2",
   "metadata": {},
   "outputs": [
    {
     "data": {
      "text/plain": [
       "nom_long\n",
       "Sucy-Bonneuil               181\n",
       "Torcy                       181\n",
       "Val d'Europe                181\n",
       "Val de Fontenay             181\n",
       "Saint-Denis                 181\n",
       "                           ... \n",
       "Étréchy                      62\n",
       "Les Yvris-Noisy-le-Grand     51\n",
       "Rungis-La Fraternelle        48\n",
       "Gretz-Armainvilliers         30\n",
       "Évry                         24\n",
       "Name: count, Length: 205, dtype: int64"
      ]
     },
     "execution_count": 162,
     "metadata": {},
     "output_type": "execute_result"
    }
   ],
   "source": [
    "haute_freq_stations=haute_freq.loc[:,['nom_long']]\n",
    "liste_haute_freq_stations= haute_freq_stations['nom_long'].value_counts()\n",
    "liste_haute_freq_stations"
   ]
  },
  {
   "cell_type": "markdown",
   "id": "d4c79c77-b12c-4388-a72b-c06e30fddd71",
   "metadata": {},
   "source": [
    "**commenter**\n",
    "\n",
    "*Les prochains graphiques sont interractifs*"
   ]
  },
  {
   "cell_type": "code",
   "execution_count": 163,
   "id": "f174a802-321c-45eb-8eaa-c3df478b0214",
   "metadata": {},
   "outputs": [],
   "source": [
    "df=liste_haute_freq_stations.reset_index()\n",
    "df.columns=['Station de RER', 'Nb de jours avec plus de 700 validations']\n",
    "liste_haute_freq_stations=df.merge(stations, left_on=\"Station de RER\", right_on=\"nom_long\")"
   ]
  },
  {
   "cell_type": "code",
   "execution_count": 164,
   "id": "9b4b5600-7fb8-465e-87cb-e26499002bfb",
   "metadata": {},
   "outputs": [],
   "source": [
    "couleurs_res_com = {\n",
    "    'RER A': 'red', 'RER B': 'blue', 'RER C': 'yellow',\n",
    "    'RER D': 'green', 'RER E': 'pink', 'RER E, RER A': 'black',\n",
    "    'RER A, RER B, RER D': 'black', 'RER D, RER A':'black', \n",
    "    'RER B, RER D, RER E': 'black', 'RER C, RER D':'black',\n",
    "    'RER B, RER C':'black', 'RER C, RER B':'black'}"
   ]
  },
  {
   "cell_type": "code",
   "execution_count": 165,
   "id": "7ba29390-238b-4219-bfdb-fa3b24a2c252",
   "metadata": {},
   "outputs": [
    {
     "data": {
      "application/vnd.plotly.v1+json": {
       "config": {
        "plotlyServerURL": "https://plot.ly"
       },
       "data": [
        {
         "alignmentgroup": "True",
         "hovertemplate": "res_com=RER A<br>Station de RER=%{x}<br>Nb de jours avec plus de 700 validations=%{y}<extra></extra>",
         "legendgroup": "RER A",
         "marker": {
          "color": "red",
          "pattern": {
           "shape": ""
          }
         },
         "name": "RER A",
         "offsetgroup": "RER A",
         "orientation": "v",
         "showlegend": true,
         "textposition": "auto",
         "type": "bar",
         "x": [
          "Sucy-Bonneuil",
          "Torcy",
          "Val d'Europe",
          "Saint-Germain-en-Laye",
          "Saint-Maur-Créteil",
          "Bussy-Saint-Georges",
          "Cergy-Préfecture",
          "Cergy-Saint-Christophe",
          "Champigny",
          "Charles De Gaulle-Étoile",
          "Châtou-Croissy",
          "Conflans-Fin-d'Oise",
          "Rueil-Malmaison",
          "Fontenay-sous-Bois",
          "Houilles-Carrières-sur-Seine",
          "Joinville-le-Pont",
          "La Défense",
          "La Varenne-Chennevières",
          "Noisy-le-Grand-Mont d'Est",
          "Poissy",
          "Le Parc de Saint-Maur",
          "Lognes",
          "Vincennes",
          "Marne-la-Vallée-Chessy",
          "Nanterre-Université",
          "Nanterre-Ville",
          "Nation",
          "Neuilly-Plaisance",
          "Nogent-sur-Marne",
          "Noisiel",
          "Noisy-Champs",
          "Sartrouville",
          "Achères-Ville",
          "Boissy-Saint-Léger",
          "Bry-sur-Marne",
          "Auber",
          "Maisons-Laffitte",
          "Nanterre-Préfecture",
          "Le Vésinet-Le Pecq",
          "Le Vésinet-Centre",
          "Cergy Le Haut",
          "Neuville Université"
         ],
         "xaxis": "x",
         "y": [
          181,
          181,
          181,
          181,
          181,
          181,
          181,
          181,
          181,
          181,
          181,
          181,
          181,
          181,
          181,
          181,
          181,
          181,
          181,
          181,
          181,
          181,
          181,
          181,
          181,
          181,
          181,
          181,
          181,
          181,
          181,
          181,
          181,
          181,
          181,
          180,
          180,
          180,
          180,
          180,
          180,
          180
         ],
         "yaxis": "y"
        },
        {
         "alignmentgroup": "True",
         "hovertemplate": "res_com=RER E, RER A<br>Station de RER=%{x}<br>Nb de jours avec plus de 700 validations=%{y}<extra></extra>",
         "legendgroup": "RER E, RER A",
         "marker": {
          "color": "black",
          "pattern": {
           "shape": ""
          }
         },
         "name": "RER E, RER A",
         "offsetgroup": "RER E, RER A",
         "orientation": "v",
         "showlegend": true,
         "textposition": "auto",
         "type": "bar",
         "x": [
          "Val de Fontenay"
         ],
         "xaxis": "x",
         "y": [
          181
         ],
         "yaxis": "y"
        },
        {
         "alignmentgroup": "True",
         "hovertemplate": "res_com=RER D<br>Station de RER=%{x}<br>Nb de jours avec plus de 700 validations=%{y}<extra></extra>",
         "legendgroup": "RER D",
         "marker": {
          "color": "green",
          "pattern": {
           "shape": ""
          }
         },
         "name": "RER D",
         "offsetgroup": "RER D",
         "orientation": "v",
         "showlegend": true,
         "textposition": "auto",
         "type": "bar",
         "x": [
          "Saint-Denis",
          "Villeneuve-Saint-Georges",
          "Villiers-le-Bel-Gonesse-Arnouville",
          "Garges-Sarcelles",
          "Goussainville",
          "Pierrefitte Stains",
          "Maisons-Alfort-Alfortville",
          "Yerres",
          "Melun",
          "Montgeron-Crosne",
          "Brunoy",
          "Boussy-Saint-Antoine",
          "Combs-la-Ville - Quincy",
          "Vigneux-sur-Seine",
          "Corbeil-Essonnes",
          "Créteil Pompadour",
          "Savigny-le-Temple-Nandy",
          "Le Vert-de-Maisons",
          "Viry-Châtillon",
          "Stade de France-Saint-Denis",
          "Lieusaint-Moissy",
          "Évry Courcouronnes",
          "Louvres",
          "Le Mée",
          "Grigny-Centre",
          "Orangis-Bois de l'Epine",
          "Le Bras-de-Fer",
          "Survilliers-Fosses",
          "Les Noues",
          "Cesson",
          "Ris-Orangis",
          "Mennecy",
          "Villeneuve-Triage",
          "Évry"
         ],
         "xaxis": "x",
         "y": [
          181,
          181,
          181,
          181,
          181,
          181,
          181,
          181,
          181,
          181,
          181,
          180,
          180,
          179,
          179,
          179,
          178,
          177,
          175,
          174,
          173,
          172,
          172,
          172,
          171,
          170,
          169,
          167,
          128,
          121,
          104,
          100,
          63,
          24
         ],
         "yaxis": "y"
        },
        {
         "alignmentgroup": "True",
         "hovertemplate": "res_com=RER A, RER B, RER D<br>Station de RER=%{x}<br>Nb de jours avec plus de 700 validations=%{y}<extra></extra>",
         "legendgroup": "RER A, RER B, RER D",
         "marker": {
          "color": "black",
          "pattern": {
           "shape": ""
          }
         },
         "name": "RER A, RER B, RER D",
         "offsetgroup": "RER A, RER B, RER D",
         "orientation": "v",
         "showlegend": true,
         "textposition": "auto",
         "type": "bar",
         "x": [
          "Châtelet-Les Halles"
         ],
         "xaxis": "x",
         "y": [
          181
         ],
         "yaxis": "y"
        },
        {
         "alignmentgroup": "True",
         "hovertemplate": "res_com=RER B<br>Station de RER=%{x}<br>Nb de jours avec plus de 700 validations=%{y}<extra></extra>",
         "legendgroup": "RER B",
         "marker": {
          "color": "blue",
          "pattern": {
           "shape": ""
          }
         },
         "name": "RER B",
         "offsetgroup": "RER B",
         "orientation": "v",
         "showlegend": true,
         "textposition": "auto",
         "type": "bar",
         "x": [
          "Cité Universitaire",
          "Port Royal",
          "Robinson",
          "Denfert-Rochereau",
          "Gentilly",
          "La Croix-de-Berny-Fresnes",
          "Laplace",
          "Le Bourget",
          "Luxembourg",
          "Antony",
          "Arcueil-Cachan",
          "Aulnay-sous-Bois",
          "Bourg-la-Reine",
          "Fontenay-aux-Roses",
          "Orsay-Ville",
          "Sevran-Beaudottes",
          "Aéroport Charles De Gaulle 1",
          "Aéroport Charles De Gaulle 2-TGV",
          "Fontaine-Michalon",
          "Palaiseau",
          "Les Baconnets",
          "Saint-Rémy-lès-Chevreuse",
          "Parc des Expositions",
          "Villepinte",
          "Le Blanc-Mesnil",
          "Sceaux",
          "La Courneuve-Aubervilliers",
          "La Plaine-Stade de France",
          "Drancy",
          "Parc de Sceaux",
          "Villeparisis-Mitry-le-Neuf",
          "Vert-Galant",
          "Le Guichet",
          "Sevran-Livry",
          "Mitry-Claye",
          "Gif-sur-Yvette",
          "Lozère",
          "Bagneux",
          "Bures-sur-Yvette",
          "Palaiseau-Villebon",
          "Courcelle-sur-Yvette",
          "La Hacquinière"
         ],
         "xaxis": "x",
         "y": [
          181,
          181,
          181,
          181,
          181,
          181,
          181,
          181,
          181,
          181,
          181,
          181,
          181,
          180,
          180,
          179,
          179,
          179,
          178,
          177,
          177,
          174,
          172,
          172,
          168,
          168,
          168,
          168,
          168,
          164,
          163,
          163,
          162,
          158,
          155,
          151,
          150,
          148,
          145,
          136,
          89,
          79
         ],
         "yaxis": "y"
        },
        {
         "alignmentgroup": "True",
         "hovertemplate": "res_com=RER C<br>Station de RER=%{x}<br>Nb de jours avec plus de 700 validations=%{y}<extra></extra>",
         "legendgroup": "RER C",
         "marker": {
          "color": "yellow",
          "pattern": {
           "shape": ""
          }
         },
         "name": "RER C",
         "offsetgroup": "RER C",
         "orientation": "v",
         "showlegend": true,
         "textposition": "auto",
         "type": "bar",
         "x": [
          "Saint-Cyr",
          "Ermont-Eaubonne",
          "Franconville-Le Plessis-Bouchard",
          "Paris Austerlitz",
          "Pereire-Levallois",
          "Pontoise",
          "Versailles-Chantiers",
          "Épinay-sur-Seine",
          "Montigny-Beauchamp",
          "Neuilly Porte Maillot",
          "Saint-Quentin-en-Yvelines",
          "Bibliothèque François Mitterrand",
          "Viroflay Rive Gauche",
          "Cernay",
          "Porte de Clichy",
          "Brétigny",
          "Javel",
          "Invalides",
          "Choisy-le-Roi",
          "Saint-Ouen-l'Aumône",
          "Champ de Mars",
          "Saint-Ouen",
          "Vitry-sur-Seine",
          "Savigny-sur-Orge",
          "Ivry-sur-Seine",
          "Versailles Château",
          "Issy-Val-de-Seine",
          "Étampes",
          "Pont de l'Alma",
          "Sainte-Geneviève-des-Bois",
          "Épinay-sur-Orge",
          "Boulainvilliers",
          "Saint-Gratien",
          "Les Grésillons",
          "Saint-Michel-sur-Orge",
          "Gennevilliers",
          "Pont du Garigliano",
          "Issy",
          "Musée d'Orsay",
          "Les Ardoines",
          "Ablon",
          "Orly Ville",
          "Chaville-Vélizy",
          "Saint-Ouen-l'Aumône-Liesse",
          "Meudon-Val-Fleury",
          "Les Saules",
          "Arpajon",
          "Villeneuve-le-Roi",
          "Avenue Henri Martin",
          "Avenue du Président Kennedy",
          "Pierrelaye",
          "Marolles-en-Hurepoix",
          "Bouray",
          "Athis-Mons",
          "Avenue Foch",
          "Dourdan",
          "Porchefontaine",
          "Étréchy",
          "Rungis-La Fraternelle"
         ],
         "xaxis": "x",
         "y": [
          181,
          181,
          181,
          181,
          181,
          181,
          181,
          181,
          181,
          181,
          181,
          181,
          180,
          180,
          180,
          179,
          179,
          179,
          179,
          179,
          178,
          176,
          176,
          172,
          170,
          169,
          169,
          169,
          168,
          166,
          165,
          164,
          164,
          162,
          162,
          161,
          160,
          159,
          157,
          154,
          150,
          150,
          145,
          144,
          144,
          131,
          123,
          123,
          122,
          122,
          122,
          120,
          120,
          119,
          118,
          110,
          108,
          62,
          48
         ],
         "yaxis": "y"
        },
        {
         "alignmentgroup": "True",
         "hovertemplate": "res_com=RER D, RER A<br>Station de RER=%{x}<br>Nb de jours avec plus de 700 validations=%{y}<extra></extra>",
         "legendgroup": "RER D, RER A",
         "marker": {
          "color": "black",
          "pattern": {
           "shape": ""
          }
         },
         "name": "RER D, RER A",
         "offsetgroup": "RER D, RER A",
         "orientation": "v",
         "showlegend": true,
         "textposition": "auto",
         "type": "bar",
         "x": [
          "Gare de Lyon"
         ],
         "xaxis": "x",
         "y": [
          181
         ],
         "yaxis": "y"
        },
        {
         "alignmentgroup": "True",
         "hovertemplate": "res_com=RER B, RER D, RER E<br>Station de RER=%{x}<br>Nb de jours avec plus de 700 validations=%{y}<extra></extra>",
         "legendgroup": "RER B, RER D, RER E",
         "marker": {
          "color": "black",
          "pattern": {
           "shape": ""
          }
         },
         "name": "RER B, RER D, RER E",
         "offsetgroup": "RER B, RER D, RER E",
         "orientation": "v",
         "showlegend": true,
         "textposition": "auto",
         "type": "bar",
         "x": [
          "Gare du Nord"
         ],
         "xaxis": "x",
         "y": [
          181
         ],
         "yaxis": "y"
        },
        {
         "alignmentgroup": "True",
         "hovertemplate": "res_com=RER E<br>Station de RER=%{x}<br>Nb de jours avec plus de 700 validations=%{y}<extra></extra>",
         "legendgroup": "RER E",
         "marker": {
          "color": "pink",
          "pattern": {
           "shape": ""
          }
         },
         "name": "RER E",
         "offsetgroup": "RER E",
         "orientation": "v",
         "showlegend": true,
         "textposition": "auto",
         "type": "bar",
         "x": [
          "Haussmann-Saint-Lazare",
          "Bondy",
          "Noisy-le-Sec",
          "Chelles-Gournay",
          "Gagny",
          "Le Raincy-Villemomble-Montfermeil",
          "Rosny-Bois-Perrier",
          "Rosny-sous-Bois",
          "Nogent-le-Perreux",
          "Le Chénay-Gagny",
          "Villiers-sur-Marne - Le Plessis-Trévise",
          "Pantin",
          "Roissy-en-Brie",
          "Rosa Parks",
          "Émerainville-Pontault-Combault",
          "Les Boullereaux-Champigny",
          "Ozoir-la-Ferrière",
          "Tournan",
          "Les Yvris-Noisy-le-Grand",
          "Gretz-Armainvilliers"
         ],
         "xaxis": "x",
         "y": [
          181,
          181,
          179,
          178,
          178,
          177,
          177,
          176,
          176,
          174,
          174,
          173,
          172,
          169,
          164,
          138,
          122,
          121,
          51,
          30
         ],
         "yaxis": "y"
        },
        {
         "alignmentgroup": "True",
         "hovertemplate": "res_com=RER C, RER D<br>Station de RER=%{x}<br>Nb de jours avec plus de 700 validations=%{y}<extra></extra>",
         "legendgroup": "RER C, RER D",
         "marker": {
          "color": "black",
          "pattern": {
           "shape": ""
          }
         },
         "name": "RER C, RER D",
         "offsetgroup": "RER C, RER D",
         "orientation": "v",
         "showlegend": true,
         "textposition": "auto",
         "type": "bar",
         "x": [
          "Juvisy"
         ],
         "xaxis": "x",
         "y": [
          181
         ],
         "yaxis": "y"
        },
        {
         "alignmentgroup": "True",
         "hovertemplate": "res_com=RER B, RER C<br>Station de RER=%{x}<br>Nb de jours avec plus de 700 validations=%{y}<extra></extra>",
         "legendgroup": "RER B, RER C",
         "marker": {
          "color": "black",
          "pattern": {
           "shape": ""
          }
         },
         "name": "RER B, RER C",
         "offsetgroup": "RER B, RER C",
         "orientation": "v",
         "showlegend": true,
         "textposition": "auto",
         "type": "bar",
         "x": [
          "Massy-Palaiseau",
          "Massy-Verrières"
         ],
         "xaxis": "x",
         "y": [
          181,
          155
         ],
         "yaxis": "y"
        },
        {
         "alignmentgroup": "True",
         "hovertemplate": "res_com=RER C, RER B<br>Station de RER=%{x}<br>Nb de jours avec plus de 700 validations=%{y}<extra></extra>",
         "legendgroup": "RER C, RER B",
         "marker": {
          "color": "black",
          "pattern": {
           "shape": ""
          }
         },
         "name": "RER C, RER B",
         "offsetgroup": "RER C, RER B",
         "orientation": "v",
         "showlegend": true,
         "textposition": "auto",
         "type": "bar",
         "x": [
          "Saint-Michel"
         ],
         "xaxis": "x",
         "y": [
          181
         ],
         "yaxis": "y"
        }
       ],
       "layout": {
        "autosize": true,
        "barmode": "relative",
        "legend": {
         "title": {
          "text": "res_com"
         },
         "tracegroupgap": 0
        },
        "template": {
         "data": {
          "bar": [
           {
            "error_x": {
             "color": "#2a3f5f"
            },
            "error_y": {
             "color": "#2a3f5f"
            },
            "marker": {
             "line": {
              "color": "#E5ECF6",
              "width": 0.5
             },
             "pattern": {
              "fillmode": "overlay",
              "size": 10,
              "solidity": 0.2
             }
            },
            "type": "bar"
           }
          ],
          "barpolar": [
           {
            "marker": {
             "line": {
              "color": "#E5ECF6",
              "width": 0.5
             },
             "pattern": {
              "fillmode": "overlay",
              "size": 10,
              "solidity": 0.2
             }
            },
            "type": "barpolar"
           }
          ],
          "carpet": [
           {
            "aaxis": {
             "endlinecolor": "#2a3f5f",
             "gridcolor": "white",
             "linecolor": "white",
             "minorgridcolor": "white",
             "startlinecolor": "#2a3f5f"
            },
            "baxis": {
             "endlinecolor": "#2a3f5f",
             "gridcolor": "white",
             "linecolor": "white",
             "minorgridcolor": "white",
             "startlinecolor": "#2a3f5f"
            },
            "type": "carpet"
           }
          ],
          "choropleth": [
           {
            "colorbar": {
             "outlinewidth": 0,
             "ticks": ""
            },
            "type": "choropleth"
           }
          ],
          "contour": [
           {
            "colorbar": {
             "outlinewidth": 0,
             "ticks": ""
            },
            "colorscale": [
             [
              0,
              "#0d0887"
             ],
             [
              0.1111111111111111,
              "#46039f"
             ],
             [
              0.2222222222222222,
              "#7201a8"
             ],
             [
              0.3333333333333333,
              "#9c179e"
             ],
             [
              0.4444444444444444,
              "#bd3786"
             ],
             [
              0.5555555555555556,
              "#d8576b"
             ],
             [
              0.6666666666666666,
              "#ed7953"
             ],
             [
              0.7777777777777778,
              "#fb9f3a"
             ],
             [
              0.8888888888888888,
              "#fdca26"
             ],
             [
              1,
              "#f0f921"
             ]
            ],
            "type": "contour"
           }
          ],
          "contourcarpet": [
           {
            "colorbar": {
             "outlinewidth": 0,
             "ticks": ""
            },
            "type": "contourcarpet"
           }
          ],
          "heatmap": [
           {
            "colorbar": {
             "outlinewidth": 0,
             "ticks": ""
            },
            "colorscale": [
             [
              0,
              "#0d0887"
             ],
             [
              0.1111111111111111,
              "#46039f"
             ],
             [
              0.2222222222222222,
              "#7201a8"
             ],
             [
              0.3333333333333333,
              "#9c179e"
             ],
             [
              0.4444444444444444,
              "#bd3786"
             ],
             [
              0.5555555555555556,
              "#d8576b"
             ],
             [
              0.6666666666666666,
              "#ed7953"
             ],
             [
              0.7777777777777778,
              "#fb9f3a"
             ],
             [
              0.8888888888888888,
              "#fdca26"
             ],
             [
              1,
              "#f0f921"
             ]
            ],
            "type": "heatmap"
           }
          ],
          "heatmapgl": [
           {
            "colorbar": {
             "outlinewidth": 0,
             "ticks": ""
            },
            "colorscale": [
             [
              0,
              "#0d0887"
             ],
             [
              0.1111111111111111,
              "#46039f"
             ],
             [
              0.2222222222222222,
              "#7201a8"
             ],
             [
              0.3333333333333333,
              "#9c179e"
             ],
             [
              0.4444444444444444,
              "#bd3786"
             ],
             [
              0.5555555555555556,
              "#d8576b"
             ],
             [
              0.6666666666666666,
              "#ed7953"
             ],
             [
              0.7777777777777778,
              "#fb9f3a"
             ],
             [
              0.8888888888888888,
              "#fdca26"
             ],
             [
              1,
              "#f0f921"
             ]
            ],
            "type": "heatmapgl"
           }
          ],
          "histogram": [
           {
            "marker": {
             "pattern": {
              "fillmode": "overlay",
              "size": 10,
              "solidity": 0.2
             }
            },
            "type": "histogram"
           }
          ],
          "histogram2d": [
           {
            "colorbar": {
             "outlinewidth": 0,
             "ticks": ""
            },
            "colorscale": [
             [
              0,
              "#0d0887"
             ],
             [
              0.1111111111111111,
              "#46039f"
             ],
             [
              0.2222222222222222,
              "#7201a8"
             ],
             [
              0.3333333333333333,
              "#9c179e"
             ],
             [
              0.4444444444444444,
              "#bd3786"
             ],
             [
              0.5555555555555556,
              "#d8576b"
             ],
             [
              0.6666666666666666,
              "#ed7953"
             ],
             [
              0.7777777777777778,
              "#fb9f3a"
             ],
             [
              0.8888888888888888,
              "#fdca26"
             ],
             [
              1,
              "#f0f921"
             ]
            ],
            "type": "histogram2d"
           }
          ],
          "histogram2dcontour": [
           {
            "colorbar": {
             "outlinewidth": 0,
             "ticks": ""
            },
            "colorscale": [
             [
              0,
              "#0d0887"
             ],
             [
              0.1111111111111111,
              "#46039f"
             ],
             [
              0.2222222222222222,
              "#7201a8"
             ],
             [
              0.3333333333333333,
              "#9c179e"
             ],
             [
              0.4444444444444444,
              "#bd3786"
             ],
             [
              0.5555555555555556,
              "#d8576b"
             ],
             [
              0.6666666666666666,
              "#ed7953"
             ],
             [
              0.7777777777777778,
              "#fb9f3a"
             ],
             [
              0.8888888888888888,
              "#fdca26"
             ],
             [
              1,
              "#f0f921"
             ]
            ],
            "type": "histogram2dcontour"
           }
          ],
          "mesh3d": [
           {
            "colorbar": {
             "outlinewidth": 0,
             "ticks": ""
            },
            "type": "mesh3d"
           }
          ],
          "parcoords": [
           {
            "line": {
             "colorbar": {
              "outlinewidth": 0,
              "ticks": ""
             }
            },
            "type": "parcoords"
           }
          ],
          "pie": [
           {
            "automargin": true,
            "type": "pie"
           }
          ],
          "scatter": [
           {
            "fillpattern": {
             "fillmode": "overlay",
             "size": 10,
             "solidity": 0.2
            },
            "type": "scatter"
           }
          ],
          "scatter3d": [
           {
            "line": {
             "colorbar": {
              "outlinewidth": 0,
              "ticks": ""
             }
            },
            "marker": {
             "colorbar": {
              "outlinewidth": 0,
              "ticks": ""
             }
            },
            "type": "scatter3d"
           }
          ],
          "scattercarpet": [
           {
            "marker": {
             "colorbar": {
              "outlinewidth": 0,
              "ticks": ""
             }
            },
            "type": "scattercarpet"
           }
          ],
          "scattergeo": [
           {
            "marker": {
             "colorbar": {
              "outlinewidth": 0,
              "ticks": ""
             }
            },
            "type": "scattergeo"
           }
          ],
          "scattergl": [
           {
            "marker": {
             "colorbar": {
              "outlinewidth": 0,
              "ticks": ""
             }
            },
            "type": "scattergl"
           }
          ],
          "scattermapbox": [
           {
            "marker": {
             "colorbar": {
              "outlinewidth": 0,
              "ticks": ""
             }
            },
            "type": "scattermapbox"
           }
          ],
          "scatterpolar": [
           {
            "marker": {
             "colorbar": {
              "outlinewidth": 0,
              "ticks": ""
             }
            },
            "type": "scatterpolar"
           }
          ],
          "scatterpolargl": [
           {
            "marker": {
             "colorbar": {
              "outlinewidth": 0,
              "ticks": ""
             }
            },
            "type": "scatterpolargl"
           }
          ],
          "scatterternary": [
           {
            "marker": {
             "colorbar": {
              "outlinewidth": 0,
              "ticks": ""
             }
            },
            "type": "scatterternary"
           }
          ],
          "surface": [
           {
            "colorbar": {
             "outlinewidth": 0,
             "ticks": ""
            },
            "colorscale": [
             [
              0,
              "#0d0887"
             ],
             [
              0.1111111111111111,
              "#46039f"
             ],
             [
              0.2222222222222222,
              "#7201a8"
             ],
             [
              0.3333333333333333,
              "#9c179e"
             ],
             [
              0.4444444444444444,
              "#bd3786"
             ],
             [
              0.5555555555555556,
              "#d8576b"
             ],
             [
              0.6666666666666666,
              "#ed7953"
             ],
             [
              0.7777777777777778,
              "#fb9f3a"
             ],
             [
              0.8888888888888888,
              "#fdca26"
             ],
             [
              1,
              "#f0f921"
             ]
            ],
            "type": "surface"
           }
          ],
          "table": [
           {
            "cells": {
             "fill": {
              "color": "#EBF0F8"
             },
             "line": {
              "color": "white"
             }
            },
            "header": {
             "fill": {
              "color": "#C8D4E3"
             },
             "line": {
              "color": "white"
             }
            },
            "type": "table"
           }
          ]
         },
         "layout": {
          "annotationdefaults": {
           "arrowcolor": "#2a3f5f",
           "arrowhead": 0,
           "arrowwidth": 1
          },
          "autotypenumbers": "strict",
          "coloraxis": {
           "colorbar": {
            "outlinewidth": 0,
            "ticks": ""
           }
          },
          "colorscale": {
           "diverging": [
            [
             0,
             "#8e0152"
            ],
            [
             0.1,
             "#c51b7d"
            ],
            [
             0.2,
             "#de77ae"
            ],
            [
             0.3,
             "#f1b6da"
            ],
            [
             0.4,
             "#fde0ef"
            ],
            [
             0.5,
             "#f7f7f7"
            ],
            [
             0.6,
             "#e6f5d0"
            ],
            [
             0.7,
             "#b8e186"
            ],
            [
             0.8,
             "#7fbc41"
            ],
            [
             0.9,
             "#4d9221"
            ],
            [
             1,
             "#276419"
            ]
           ],
           "sequential": [
            [
             0,
             "#0d0887"
            ],
            [
             0.1111111111111111,
             "#46039f"
            ],
            [
             0.2222222222222222,
             "#7201a8"
            ],
            [
             0.3333333333333333,
             "#9c179e"
            ],
            [
             0.4444444444444444,
             "#bd3786"
            ],
            [
             0.5555555555555556,
             "#d8576b"
            ],
            [
             0.6666666666666666,
             "#ed7953"
            ],
            [
             0.7777777777777778,
             "#fb9f3a"
            ],
            [
             0.8888888888888888,
             "#fdca26"
            ],
            [
             1,
             "#f0f921"
            ]
           ],
           "sequentialminus": [
            [
             0,
             "#0d0887"
            ],
            [
             0.1111111111111111,
             "#46039f"
            ],
            [
             0.2222222222222222,
             "#7201a8"
            ],
            [
             0.3333333333333333,
             "#9c179e"
            ],
            [
             0.4444444444444444,
             "#bd3786"
            ],
            [
             0.5555555555555556,
             "#d8576b"
            ],
            [
             0.6666666666666666,
             "#ed7953"
            ],
            [
             0.7777777777777778,
             "#fb9f3a"
            ],
            [
             0.8888888888888888,
             "#fdca26"
            ],
            [
             1,
             "#f0f921"
            ]
           ]
          },
          "colorway": [
           "#636efa",
           "#EF553B",
           "#00cc96",
           "#ab63fa",
           "#FFA15A",
           "#19d3f3",
           "#FF6692",
           "#B6E880",
           "#FF97FF",
           "#FECB52"
          ],
          "font": {
           "color": "#2a3f5f"
          },
          "geo": {
           "bgcolor": "white",
           "lakecolor": "white",
           "landcolor": "#E5ECF6",
           "showlakes": true,
           "showland": true,
           "subunitcolor": "white"
          },
          "hoverlabel": {
           "align": "left"
          },
          "hovermode": "closest",
          "mapbox": {
           "style": "light"
          },
          "paper_bgcolor": "white",
          "plot_bgcolor": "#E5ECF6",
          "polar": {
           "angularaxis": {
            "gridcolor": "white",
            "linecolor": "white",
            "ticks": ""
           },
           "bgcolor": "#E5ECF6",
           "radialaxis": {
            "gridcolor": "white",
            "linecolor": "white",
            "ticks": ""
           }
          },
          "scene": {
           "xaxis": {
            "backgroundcolor": "#E5ECF6",
            "gridcolor": "white",
            "gridwidth": 2,
            "linecolor": "white",
            "showbackground": true,
            "ticks": "",
            "zerolinecolor": "white"
           },
           "yaxis": {
            "backgroundcolor": "#E5ECF6",
            "gridcolor": "white",
            "gridwidth": 2,
            "linecolor": "white",
            "showbackground": true,
            "ticks": "",
            "zerolinecolor": "white"
           },
           "zaxis": {
            "backgroundcolor": "#E5ECF6",
            "gridcolor": "white",
            "gridwidth": 2,
            "linecolor": "white",
            "showbackground": true,
            "ticks": "",
            "zerolinecolor": "white"
           }
          },
          "shapedefaults": {
           "line": {
            "color": "#2a3f5f"
           }
          },
          "ternary": {
           "aaxis": {
            "gridcolor": "white",
            "linecolor": "white",
            "ticks": ""
           },
           "baxis": {
            "gridcolor": "white",
            "linecolor": "white",
            "ticks": ""
           },
           "bgcolor": "#E5ECF6",
           "caxis": {
            "gridcolor": "white",
            "linecolor": "white",
            "ticks": ""
           }
          },
          "title": {
           "x": 0.05
          },
          "xaxis": {
           "automargin": true,
           "gridcolor": "white",
           "linecolor": "white",
           "ticks": "",
           "title": {
            "standoff": 15
           },
           "zerolinecolor": "white",
           "zerolinewidth": 2
          },
          "yaxis": {
           "automargin": true,
           "gridcolor": "white",
           "linecolor": "white",
           "ticks": "",
           "title": {
            "standoff": 15
           },
           "zerolinecolor": "white",
           "zerolinewidth": 2
          }
         }
        },
        "title": {
         "text": "Stations de RER les plus fréquentées au S1 2023"
        },
        "xaxis": {
         "anchor": "y",
         "autorange": true,
         "domain": [
          0,
          1
         ],
         "range": [
          -0.5,
          204.5
         ],
         "tickangle": -45,
         "title": {
          "text": "Station de RER"
         },
         "type": "category"
        },
        "yaxis": {
         "anchor": "x",
         "autorange": true,
         "domain": [
          0,
          1
         ],
         "range": [
          0,
          190.5263157894737
         ],
         "title": {
          "font": {
           "size": 10
          },
          "text": "Nb de jours avec plus de 700 validations"
         },
         "type": "linear"
        }
       }
      },
      "image/png": "[encoded data removed]",
      "text/html": [
       "<div>                            <div id=\"66b4f893-06f4-4b0a-8aec-f55479c2c6de\" class=\"plotly-graph-div\" style=\"height:525px; width:100%;\"></div>            <script type=\"text/javascript\">                require([\"plotly\"], function(Plotly) {                    window.PLOTLYENV=window.PLOTLYENV || {};                                    if (document.getElementById(\"66b4f893-06f4-4b0a-8aec-f55479c2c6de\")) {                    Plotly.newPlot(                        \"66b4f893-06f4-4b0a-8aec-f55479c2c6de\",                        [{\"alignmentgroup\":\"True\",\"hovertemplate\":\"res_com=RER A\\u003cbr\\u003eStation de RER=%{x}\\u003cbr\\u003eNb de jours avec plus de 700 validations=%{y}\\u003cextra\\u003e\\u003c\\u002fextra\\u003e\",\"legendgroup\":\"RER A\",\"marker\":{\"color\":\"red\",\"pattern\":{\"shape\":\"\"}},\"name\":\"RER A\",\"offsetgroup\":\"RER A\",\"orientation\":\"v\",\"showlegend\":true,\"textposition\":\"auto\",\"x\":[\"Sucy-Bonneuil\",\"Torcy\",\"Val d'Europe\",\"Saint-Germain-en-Laye\",\"Saint-Maur-Cr\\u00e9teil\",\"Bussy-Saint-Georges\",\"Cergy-Pr\\u00e9fecture\",\"Cergy-Saint-Christophe\",\"Champigny\",\"Charles De Gaulle-\\u00c9toile\",\"Ch\\u00e2tou-Croissy\",\"Conflans-Fin-d'Oise\",\"Rueil-Malmaison\",\"Fontenay-sous-Bois\",\"Houilles-Carri\\u00e8res-sur-Seine\",\"Joinville-le-Pont\",\"La D\\u00e9fense\",\"La Varenne-Chennevi\\u00e8res\",\"Noisy-le-Grand-Mont d'Est\",\"Poissy\",\"Le Parc de Saint-Maur\",\"Lognes\",\"Vincennes\",\"Marne-la-Vall\\u00e9e-Chessy\",\"Nanterre-Universit\\u00e9\",\"Nanterre-Ville\",\"Nation\",\"Neuilly-Plaisance\",\"Nogent-sur-Marne\",\"Noisiel\",\"Noisy-Champs\",\"Sartrouville\",\"Ach\\u00e8res-Ville\",\"Boissy-Saint-L\\u00e9ger\",\"Bry-sur-Marne\",\"Auber\",\"Maisons-Laffitte\",\"Nanterre-Pr\\u00e9fecture\",\"Le V\\u00e9sinet-Le Pecq\",\"Le V\\u00e9sinet-Centre\",\"Cergy Le Haut\",\"Neuville Universit\\u00e9\"],\"xaxis\":\"x\",\"y\":[181,181,181,181,181,181,181,181,181,181,181,181,181,181,181,181,181,181,181,181,181,181,181,181,181,181,181,181,181,181,181,181,181,181,181,180,180,180,180,180,180,180],\"yaxis\":\"y\",\"type\":\"bar\"},{\"alignmentgroup\":\"True\",\"hovertemplate\":\"res_com=RER E, RER A\\u003cbr\\u003eStation de RER=%{x}\\u003cbr\\u003eNb de jours avec plus de 700 validations=%{y}\\u003cextra\\u003e\\u003c\\u002fextra\\u003e\",\"legendgroup\":\"RER E, RER A\",\"marker\":{\"color\":\"black\",\"pattern\":{\"shape\":\"\"}},\"name\":\"RER E, RER A\",\"offsetgroup\":\"RER E, RER A\",\"orientation\":\"v\",\"showlegend\":true,\"textposition\":\"auto\",\"x\":[\"Val de Fontenay\"],\"xaxis\":\"x\",\"y\":[181],\"yaxis\":\"y\",\"type\":\"bar\"},{\"alignmentgroup\":\"True\",\"hovertemplate\":\"res_com=RER D\\u003cbr\\u003eStation de RER=%{x}\\u003cbr\\u003eNb de jours avec plus de 700 validations=%{y}\\u003cextra\\u003e\\u003c\\u002fextra\\u003e\",\"legendgroup\":\"RER D\",\"marker\":{\"color\":\"green\",\"pattern\":{\"shape\":\"\"}},\"name\":\"RER D\",\"offsetgroup\":\"RER D\",\"orientation\":\"v\",\"showlegend\":true,\"textposition\":\"auto\",\"x\":[\"Saint-Denis\",\"Villeneuve-Saint-Georges\",\"Villiers-le-Bel-Gonesse-Arnouville\",\"Garges-Sarcelles\",\"Goussainville\",\"Pierrefitte Stains\",\"Maisons-Alfort-Alfortville\",\"Yerres\",\"Melun\",\"Montgeron-Crosne\",\"Brunoy\",\"Boussy-Saint-Antoine\",\"Combs-la-Ville - Quincy\",\"Vigneux-sur-Seine\",\"Corbeil-Essonnes\",\"Cr\\u00e9teil Pompadour\",\"Savigny-le-Temple-Nandy\",\"Le Vert-de-Maisons\",\"Viry-Ch\\u00e2tillon\",\"Stade de France-Saint-Denis\",\"Lieusaint-Moissy\",\"\\u00c9vry Courcouronnes\",\"Louvres\",\"Le M\\u00e9e\",\"Grigny-Centre\",\"Orangis-Bois de l'Epine\",\"Le Bras-de-Fer\",\"Survilliers-Fosses\",\"Les Noues\",\"Cesson\",\"Ris-Orangis\",\"Mennecy\",\"Villeneuve-Triage\",\"\\u00c9vry\"],\"xaxis\":\"x\",\"y\":[181,181,181,181,181,181,181,181,181,181,181,180,180,179,179,179,178,177,175,174,173,172,172,172,171,170,169,167,128,121,104,100,63,24],\"yaxis\":\"y\",\"type\":\"bar\"},{\"alignmentgroup\":\"True\",\"hovertemplate\":\"res_com=RER A, RER B, RER D\\u003cbr\\u003eStation de RER=%{x}\\u003cbr\\u003eNb de jours avec plus de 700 validations=%{y}\\u003cextra\\u003e\\u003c\\u002fextra\\u003e\",\"legendgroup\":\"RER A, RER B, RER D\",\"marker\":{\"color\":\"black\",\"pattern\":{\"shape\":\"\"}},\"name\":\"RER A, RER B, RER D\",\"offsetgroup\":\"RER A, RER B, RER D\",\"orientation\":\"v\",\"showlegend\":true,\"textposition\":\"auto\",\"x\":[\"Ch\\u00e2telet-Les Halles\"],\"xaxis\":\"x\",\"y\":[181],\"yaxis\":\"y\",\"type\":\"bar\"},{\"alignmentgroup\":\"True\",\"hovertemplate\":\"res_com=RER B\\u003cbr\\u003eStation de RER=%{x}\\u003cbr\\u003eNb de jours avec plus de 700 validations=%{y}\\u003cextra\\u003e\\u003c\\u002fextra\\u003e\",\"legendgroup\":\"RER B\",\"marker\":{\"color\":\"blue\",\"pattern\":{\"shape\":\"\"}},\"name\":\"RER B\",\"offsetgroup\":\"RER B\",\"orientation\":\"v\",\"showlegend\":true,\"textposition\":\"auto\",\"x\":[\"Cit\\u00e9 Universitaire\",\"Port Royal\",\"Robinson\",\"Denfert-Rochereau\",\"Gentilly\",\"La Croix-de-Berny-Fresnes\",\"Laplace\",\"Le Bourget\",\"Luxembourg\",\"Antony\",\"Arcueil-Cachan\",\"Aulnay-sous-Bois\",\"Bourg-la-Reine\",\"Fontenay-aux-Roses\",\"Orsay-Ville\",\"Sevran-Beaudottes\",\"A\\u00e9roport Charles De Gaulle 1\",\"A\\u00e9roport Charles De Gaulle 2-TGV\",\"Fontaine-Michalon\",\"Palaiseau\",\"Les Baconnets\",\"Saint-R\\u00e9my-l\\u00e8s-Chevreuse\",\"Parc des Expositions\",\"Villepinte\",\"Le Blanc-Mesnil\",\"Sceaux\",\"La Courneuve-Aubervilliers\",\"La Plaine-Stade de France\",\"Drancy\",\"Parc de Sceaux\",\"Villeparisis-Mitry-le-Neuf\",\"Vert-Galant\",\"Le Guichet\",\"Sevran-Livry\",\"Mitry-Claye\",\"Gif-sur-Yvette\",\"Loz\\u00e8re\",\"Bagneux\",\"Bures-sur-Yvette\",\"Palaiseau-Villebon\",\"Courcelle-sur-Yvette\",\"La Hacquini\\u00e8re\"],\"xaxis\":\"x\",\"y\":[181,181,181,181,181,181,181,181,181,181,181,181,181,180,180,179,179,179,178,177,177,174,172,172,168,168,168,168,168,164,163,163,162,158,155,151,150,148,145,136,89,79],\"yaxis\":\"y\",\"type\":\"bar\"},{\"alignmentgroup\":\"True\",\"hovertemplate\":\"res_com=RER C\\u003cbr\\u003eStation de RER=%{x}\\u003cbr\\u003eNb de jours avec plus de 700 validations=%{y}\\u003cextra\\u003e\\u003c\\u002fextra\\u003e\",\"legendgroup\":\"RER C\",\"marker\":{\"color\":\"yellow\",\"pattern\":{\"shape\":\"\"}},\"name\":\"RER C\",\"offsetgroup\":\"RER C\",\"orientation\":\"v\",\"showlegend\":true,\"textposition\":\"auto\",\"x\":[\"Saint-Cyr\",\"Ermont-Eaubonne\",\"Franconville-Le Plessis-Bouchard\",\"Paris Austerlitz\",\"Pereire-Levallois\",\"Pontoise\",\"Versailles-Chantiers\",\"\\u00c9pinay-sur-Seine\",\"Montigny-Beauchamp\",\"Neuilly Porte Maillot\",\"Saint-Quentin-en-Yvelines\",\"Biblioth\\u00e8que Fran\\u00e7ois Mitterrand\",\"Viroflay Rive Gauche\",\"Cernay\",\"Porte de Clichy\",\"Br\\u00e9tigny\",\"Javel\",\"Invalides\",\"Choisy-le-Roi\",\"Saint-Ouen-l'Aum\\u00f4ne\",\"Champ de Mars\",\"Saint-Ouen\",\"Vitry-sur-Seine\",\"Savigny-sur-Orge\",\"Ivry-sur-Seine\",\"Versailles Ch\\u00e2teau\",\"Issy-Val-de-Seine\",\"\\u00c9tampes\",\"Pont de l'Alma\",\"Sainte-Genevi\\u00e8ve-des-Bois\",\"\\u00c9pinay-sur-Orge\",\"Boulainvilliers\",\"Saint-Gratien\",\"Les Gr\\u00e9sillons\",\"Saint-Michel-sur-Orge\",\"Gennevilliers\",\"Pont du Garigliano\",\"Issy\",\"Mus\\u00e9e d'Orsay\",\"Les Ardoines\",\"Ablon\",\"Orly Ville\",\"Chaville-V\\u00e9lizy\",\"Saint-Ouen-l'Aum\\u00f4ne-Liesse\",\"Meudon-Val-Fleury\",\"Les Saules\",\"Arpajon\",\"Villeneuve-le-Roi\",\"Avenue Henri Martin\",\"Avenue du Pr\\u00e9sident Kennedy\",\"Pierrelaye\",\"Marolles-en-Hurepoix\",\"Bouray\",\"Athis-Mons\",\"Avenue Foch\",\"Dourdan\",\"Porchefontaine\",\"\\u00c9tr\\u00e9chy\",\"Rungis-La Fraternelle\"],\"xaxis\":\"x\",\"y\":[181,181,181,181,181,181,181,181,181,181,181,181,180,180,180,179,179,179,179,179,178,176,176,172,170,169,169,169,168,166,165,164,164,162,162,161,160,159,157,154,150,150,145,144,144,131,123,123,122,122,122,120,120,119,118,110,108,62,48],\"yaxis\":\"y\",\"type\":\"bar\"},{\"alignmentgroup\":\"True\",\"hovertemplate\":\"res_com=RER D, RER A\\u003cbr\\u003eStation de RER=%{x}\\u003cbr\\u003eNb de jours avec plus de 700 validations=%{y}\\u003cextra\\u003e\\u003c\\u002fextra\\u003e\",\"legendgroup\":\"RER D, RER A\",\"marker\":{\"color\":\"black\",\"pattern\":{\"shape\":\"\"}},\"name\":\"RER D, RER A\",\"offsetgroup\":\"RER D, RER A\",\"orientation\":\"v\",\"showlegend\":true,\"textposition\":\"auto\",\"x\":[\"Gare de Lyon\"],\"xaxis\":\"x\",\"y\":[181],\"yaxis\":\"y\",\"type\":\"bar\"},{\"alignmentgroup\":\"True\",\"hovertemplate\":\"res_com=RER B, RER D, RER E\\u003cbr\\u003eStation de RER=%{x}\\u003cbr\\u003eNb de jours avec plus de 700 validations=%{y}\\u003cextra\\u003e\\u003c\\u002fextra\\u003e\",\"legendgroup\":\"RER B, RER D, RER E\",\"marker\":{\"color\":\"black\",\"pattern\":{\"shape\":\"\"}},\"name\":\"RER B, RER D, RER E\",\"offsetgroup\":\"RER B, RER D, RER E\",\"orientation\":\"v\",\"showlegend\":true,\"textposition\":\"auto\",\"x\":[\"Gare du Nord\"],\"xaxis\":\"x\",\"y\":[181],\"yaxis\":\"y\",\"type\":\"bar\"},{\"alignmentgroup\":\"True\",\"hovertemplate\":\"res_com=RER E\\u003cbr\\u003eStation de RER=%{x}\\u003cbr\\u003eNb de jours avec plus de 700 validations=%{y}\\u003cextra\\u003e\\u003c\\u002fextra\\u003e\",\"legendgroup\":\"RER E\",\"marker\":{\"color\":\"pink\",\"pattern\":{\"shape\":\"\"}},\"name\":\"RER E\",\"offsetgroup\":\"RER E\",\"orientation\":\"v\",\"showlegend\":true,\"textposition\":\"auto\",\"x\":[\"Haussmann-Saint-Lazare\",\"Bondy\",\"Noisy-le-Sec\",\"Chelles-Gournay\",\"Gagny\",\"Le Raincy-Villemomble-Montfermeil\",\"Rosny-Bois-Perrier\",\"Rosny-sous-Bois\",\"Nogent-le-Perreux\",\"Le Ch\\u00e9nay-Gagny\",\"Villiers-sur-Marne - Le Plessis-Tr\\u00e9vise\",\"Pantin\",\"Roissy-en-Brie\",\"Rosa Parks\",\"\\u00c9merainville-Pontault-Combault\",\"Les Boullereaux-Champigny\",\"Ozoir-la-Ferri\\u00e8re\",\"Tournan\",\"Les Yvris-Noisy-le-Grand\",\"Gretz-Armainvilliers\"],\"xaxis\":\"x\",\"y\":[181,181,179,178,178,177,177,176,176,174,174,173,172,169,164,138,122,121,51,30],\"yaxis\":\"y\",\"type\":\"bar\"},{\"alignmentgroup\":\"True\",\"hovertemplate\":\"res_com=RER C, RER D\\u003cbr\\u003eStation de RER=%{x}\\u003cbr\\u003eNb de jours avec plus de 700 validations=%{y}\\u003cextra\\u003e\\u003c\\u002fextra\\u003e\",\"legendgroup\":\"RER C, RER D\",\"marker\":{\"color\":\"black\",\"pattern\":{\"shape\":\"\"}},\"name\":\"RER C, RER D\",\"offsetgroup\":\"RER C, RER D\",\"orientation\":\"v\",\"showlegend\":true,\"textposition\":\"auto\",\"x\":[\"Juvisy\"],\"xaxis\":\"x\",\"y\":[181],\"yaxis\":\"y\",\"type\":\"bar\"},{\"alignmentgroup\":\"True\",\"hovertemplate\":\"res_com=RER B, RER C\\u003cbr\\u003eStation de RER=%{x}\\u003cbr\\u003eNb de jours avec plus de 700 validations=%{y}\\u003cextra\\u003e\\u003c\\u002fextra\\u003e\",\"legendgroup\":\"RER B, RER C\",\"marker\":{\"color\":\"black\",\"pattern\":{\"shape\":\"\"}},\"name\":\"RER B, RER C\",\"offsetgroup\":\"RER B, RER C\",\"orientation\":\"v\",\"showlegend\":true,\"textposition\":\"auto\",\"x\":[\"Massy-Palaiseau\",\"Massy-Verri\\u00e8res\"],\"xaxis\":\"x\",\"y\":[181,155],\"yaxis\":\"y\",\"type\":\"bar\"},{\"alignmentgroup\":\"True\",\"hovertemplate\":\"res_com=RER C, RER B\\u003cbr\\u003eStation de RER=%{x}\\u003cbr\\u003eNb de jours avec plus de 700 validations=%{y}\\u003cextra\\u003e\\u003c\\u002fextra\\u003e\",\"legendgroup\":\"RER C, RER B\",\"marker\":{\"color\":\"black\",\"pattern\":{\"shape\":\"\"}},\"name\":\"RER C, RER B\",\"offsetgroup\":\"RER C, RER B\",\"orientation\":\"v\",\"showlegend\":true,\"textposition\":\"auto\",\"x\":[\"Saint-Michel\"],\"xaxis\":\"x\",\"y\":[181],\"yaxis\":\"y\",\"type\":\"bar\"}],                        {\"template\":{\"data\":{\"histogram2dcontour\":[{\"type\":\"histogram2dcontour\",\"colorbar\":{\"outlinewidth\":0,\"ticks\":\"\"},\"colorscale\":[[0.0,\"#0d0887\"],[0.1111111111111111,\"#46039f\"],[0.2222222222222222,\"#7201a8\"],[0.3333333333333333,\"#9c179e\"],[0.4444444444444444,\"#bd3786\"],[0.5555555555555556,\"#d8576b\"],[0.6666666666666666,\"#ed7953\"],[0.7777777777777778,\"#fb9f3a\"],[0.8888888888888888,\"#fdca26\"],[1.0,\"#f0f921\"]]}],\"choropleth\":[{\"type\":\"choropleth\",\"colorbar\":{\"outlinewidth\":0,\"ticks\":\"\"}}],\"histogram2d\":[{\"type\":\"histogram2d\",\"colorbar\":{\"outlinewidth\":0,\"ticks\":\"\"},\"colorscale\":[[0.0,\"#0d0887\"],[0.1111111111111111,\"#46039f\"],[0.2222222222222222,\"#7201a8\"],[0.3333333333333333,\"#9c179e\"],[0.4444444444444444,\"#bd3786\"],[0.5555555555555556,\"#d8576b\"],[0.6666666666666666,\"#ed7953\"],[0.7777777777777778,\"#fb9f3a\"],[0.8888888888888888,\"#fdca26\"],[1.0,\"#f0f921\"]]}],\"heatmap\":[{\"type\":\"heatmap\",\"colorbar\":{\"outlinewidth\":0,\"ticks\":\"\"},\"colorscale\":[[0.0,\"#0d0887\"],[0.1111111111111111,\"#46039f\"],[0.2222222222222222,\"#7201a8\"],[0.3333333333333333,\"#9c179e\"],[0.4444444444444444,\"#bd3786\"],[0.5555555555555556,\"#d8576b\"],[0.6666666666666666,\"#ed7953\"],[0.7777777777777778,\"#fb9f3a\"],[0.8888888888888888,\"#fdca26\"],[1.0,\"#f0f921\"]]}],\"heatmapgl\":[{\"type\":\"heatmapgl\",\"colorbar\":{\"outlinewidth\":0,\"ticks\":\"\"},\"colorscale\":[[0.0,\"#0d0887\"],[0.1111111111111111,\"#46039f\"],[0.2222222222222222,\"#7201a8\"],[0.3333333333333333,\"#9c179e\"],[0.4444444444444444,\"#bd3786\"],[0.5555555555555556,\"#d8576b\"],[0.6666666666666666,\"#ed7953\"],[0.7777777777777778,\"#fb9f3a\"],[0.8888888888888888,\"#fdca26\"],[1.0,\"#f0f921\"]]}],\"contourcarpet\":[{\"type\":\"contourcarpet\",\"colorbar\":{\"outlinewidth\":0,\"ticks\":\"\"}}],\"contour\":[{\"type\":\"contour\",\"colorbar\":{\"outlinewidth\":0,\"ticks\":\"\"},\"colorscale\":[[0.0,\"#0d0887\"],[0.1111111111111111,\"#46039f\"],[0.2222222222222222,\"#7201a8\"],[0.3333333333333333,\"#9c179e\"],[0.4444444444444444,\"#bd3786\"],[0.5555555555555556,\"#d8576b\"],[0.6666666666666666,\"#ed7953\"],[0.7777777777777778,\"#fb9f3a\"],[0.8888888888888888,\"#fdca26\"],[1.0,\"#f0f921\"]]}],\"surface\":[{\"type\":\"surface\",\"colorbar\":{\"outlinewidth\":0,\"ticks\":\"\"},\"colorscale\":[[0.0,\"#0d0887\"],[0.1111111111111111,\"#46039f\"],[0.2222222222222222,\"#7201a8\"],[0.3333333333333333,\"#9c179e\"],[0.4444444444444444,\"#bd3786\"],[0.5555555555555556,\"#d8576b\"],[0.6666666666666666,\"#ed7953\"],[0.7777777777777778,\"#fb9f3a\"],[0.8888888888888888,\"#fdca26\"],[1.0,\"#f0f921\"]]}],\"mesh3d\":[{\"type\":\"mesh3d\",\"colorbar\":{\"outlinewidth\":0,\"ticks\":\"\"}}],\"scatter\":[{\"fillpattern\":{\"fillmode\":\"overlay\",\"size\":10,\"solidity\":0.2},\"type\":\"scatter\"}],\"parcoords\":[{\"type\":\"parcoords\",\"line\":{\"colorbar\":{\"outlinewidth\":0,\"ticks\":\"\"}}}],\"scatterpolargl\":[{\"type\":\"scatterpolargl\",\"marker\":{\"colorbar\":{\"outlinewidth\":0,\"ticks\":\"\"}}}],\"bar\":[{\"error_x\":{\"color\":\"#2a3f5f\"},\"error_y\":{\"color\":\"#2a3f5f\"},\"marker\":{\"line\":{\"color\":\"#E5ECF6\",\"width\":0.5},\"pattern\":{\"fillmode\":\"overlay\",\"size\":10,\"solidity\":0.2}},\"type\":\"bar\"}],\"scattergeo\":[{\"type\":\"scattergeo\",\"marker\":{\"colorbar\":{\"outlinewidth\":0,\"ticks\":\"\"}}}],\"scatterpolar\":[{\"type\":\"scatterpolar\",\"marker\":{\"colorbar\":{\"outlinewidth\":0,\"ticks\":\"\"}}}],\"histogram\":[{\"marker\":{\"pattern\":{\"fillmode\":\"overlay\",\"size\":10,\"solidity\":0.2}},\"type\":\"histogram\"}],\"scattergl\":[{\"type\":\"scattergl\",\"marker\":{\"colorbar\":{\"outlinewidth\":0,\"ticks\":\"\"}}}],\"scatter3d\":[{\"type\":\"scatter3d\",\"line\":{\"colorbar\":{\"outlinewidth\":0,\"ticks\":\"\"}},\"marker\":{\"colorbar\":{\"outlinewidth\":0,\"ticks\":\"\"}}}],\"scattermapbox\":[{\"type\":\"scattermapbox\",\"marker\":{\"colorbar\":{\"outlinewidth\":0,\"ticks\":\"\"}}}],\"scatterternary\":[{\"type\":\"scatterternary\",\"marker\":{\"colorbar\":{\"outlinewidth\":0,\"ticks\":\"\"}}}],\"scattercarpet\":[{\"type\":\"scattercarpet\",\"marker\":{\"colorbar\":{\"outlinewidth\":0,\"ticks\":\"\"}}}],\"carpet\":[{\"aaxis\":{\"endlinecolor\":\"#2a3f5f\",\"gridcolor\":\"white\",\"linecolor\":\"white\",\"minorgridcolor\":\"white\",\"startlinecolor\":\"#2a3f5f\"},\"baxis\":{\"endlinecolor\":\"#2a3f5f\",\"gridcolor\":\"white\",\"linecolor\":\"white\",\"minorgridcolor\":\"white\",\"startlinecolor\":\"#2a3f5f\"},\"type\":\"carpet\"}],\"table\":[{\"cells\":{\"fill\":{\"color\":\"#EBF0F8\"},\"line\":{\"color\":\"white\"}},\"header\":{\"fill\":{\"color\":\"#C8D4E3\"},\"line\":{\"color\":\"white\"}},\"type\":\"table\"}],\"barpolar\":[{\"marker\":{\"line\":{\"color\":\"#E5ECF6\",\"width\":0.5},\"pattern\":{\"fillmode\":\"overlay\",\"size\":10,\"solidity\":0.2}},\"type\":\"barpolar\"}],\"pie\":[{\"automargin\":true,\"type\":\"pie\"}]},\"layout\":{\"autotypenumbers\":\"strict\",\"colorway\":[\"#636efa\",\"#EF553B\",\"#00cc96\",\"#ab63fa\",\"#FFA15A\",\"#19d3f3\",\"#FF6692\",\"#B6E880\",\"#FF97FF\",\"#FECB52\"],\"font\":{\"color\":\"#2a3f5f\"},\"hovermode\":\"closest\",\"hoverlabel\":{\"align\":\"left\"},\"paper_bgcolor\":\"white\",\"plot_bgcolor\":\"#E5ECF6\",\"polar\":{\"bgcolor\":\"#E5ECF6\",\"angularaxis\":{\"gridcolor\":\"white\",\"linecolor\":\"white\",\"ticks\":\"\"},\"radialaxis\":{\"gridcolor\":\"white\",\"linecolor\":\"white\",\"ticks\":\"\"}},\"ternary\":{\"bgcolor\":\"#E5ECF6\",\"aaxis\":{\"gridcolor\":\"white\",\"linecolor\":\"white\",\"ticks\":\"\"},\"baxis\":{\"gridcolor\":\"white\",\"linecolor\":\"white\",\"ticks\":\"\"},\"caxis\":{\"gridcolor\":\"white\",\"linecolor\":\"white\",\"ticks\":\"\"}},\"coloraxis\":{\"colorbar\":{\"outlinewidth\":0,\"ticks\":\"\"}},\"colorscale\":{\"sequential\":[[0.0,\"#0d0887\"],[0.1111111111111111,\"#46039f\"],[0.2222222222222222,\"#7201a8\"],[0.3333333333333333,\"#9c179e\"],[0.4444444444444444,\"#bd3786\"],[0.5555555555555556,\"#d8576b\"],[0.6666666666666666,\"#ed7953\"],[0.7777777777777778,\"#fb9f3a\"],[0.8888888888888888,\"#fdca26\"],[1.0,\"#f0f921\"]],\"sequentialminus\":[[0.0,\"#0d0887\"],[0.1111111111111111,\"#46039f\"],[0.2222222222222222,\"#7201a8\"],[0.3333333333333333,\"#9c179e\"],[0.4444444444444444,\"#bd3786\"],[0.5555555555555556,\"#d8576b\"],[0.6666666666666666,\"#ed7953\"],[0.7777777777777778,\"#fb9f3a\"],[0.8888888888888888,\"#fdca26\"],[1.0,\"#f0f921\"]],\"diverging\":[[0,\"#8e0152\"],[0.1,\"#c51b7d\"],[0.2,\"#de77ae\"],[0.3,\"#f1b6da\"],[0.4,\"#fde0ef\"],[0.5,\"#f7f7f7\"],[0.6,\"#e6f5d0\"],[0.7,\"#b8e186\"],[0.8,\"#7fbc41\"],[0.9,\"#4d9221\"],[1,\"#276419\"]]},\"xaxis\":{\"gridcolor\":\"white\",\"linecolor\":\"white\",\"ticks\":\"\",\"title\":{\"standoff\":15},\"zerolinecolor\":\"white\",\"automargin\":true,\"zerolinewidth\":2},\"yaxis\":{\"gridcolor\":\"white\",\"linecolor\":\"white\",\"ticks\":\"\",\"title\":{\"standoff\":15},\"zerolinecolor\":\"white\",\"automargin\":true,\"zerolinewidth\":2},\"scene\":{\"xaxis\":{\"backgroundcolor\":\"#E5ECF6\",\"gridcolor\":\"white\",\"linecolor\":\"white\",\"showbackground\":true,\"ticks\":\"\",\"zerolinecolor\":\"white\",\"gridwidth\":2},\"yaxis\":{\"backgroundcolor\":\"#E5ECF6\",\"gridcolor\":\"white\",\"linecolor\":\"white\",\"showbackground\":true,\"ticks\":\"\",\"zerolinecolor\":\"white\",\"gridwidth\":2},\"zaxis\":{\"backgroundcolor\":\"#E5ECF6\",\"gridcolor\":\"white\",\"linecolor\":\"white\",\"showbackground\":true,\"ticks\":\"\",\"zerolinecolor\":\"white\",\"gridwidth\":2}},\"shapedefaults\":{\"line\":{\"color\":\"#2a3f5f\"}},\"annotationdefaults\":{\"arrowcolor\":\"#2a3f5f\",\"arrowhead\":0,\"arrowwidth\":1},\"geo\":{\"bgcolor\":\"white\",\"landcolor\":\"#E5ECF6\",\"subunitcolor\":\"white\",\"showland\":true,\"showlakes\":true,\"lakecolor\":\"white\"},\"title\":{\"x\":0.05},\"mapbox\":{\"style\":\"light\"}}},\"xaxis\":{\"anchor\":\"y\",\"domain\":[0.0,1.0],\"title\":{\"text\":\"Station de RER\"},\"tickangle\":-45},\"yaxis\":{\"anchor\":\"x\",\"domain\":[0.0,1.0],\"title\":{\"text\":\"Nb de jours avec plus de 700 validations\",\"font\":{\"size\":10}}},\"legend\":{\"title\":{\"text\":\"res_com\"},\"tracegroupgap\":0},\"title\":{\"text\":\"Stations de RER les plus fr\\u00e9quent\\u00e9es au S1 2023\"},\"barmode\":\"relative\"},                        {\"responsive\": true}                    ).then(function(){\n",
       "                            \n",
       "var gd = document.getElementById('66b4f893-06f4-4b0a-8aec-f55479c2c6de');\n",
       "var x = new MutationObserver(function (mutations, observer) {{\n",
       "        var display = window.getComputedStyle(gd).display;\n",
       "        if (!display || display === 'none') {{\n",
       "            console.log([gd, 'removed!']);\n",
       "            Plotly.purge(gd);\n",
       "            observer.disconnect();\n",
       "        }}\n",
       "}});\n",
       "\n",
       "// Listen for the removal of the full notebook cells\n",
       "var notebookContainer = gd.closest('#notebook-container');\n",
       "if (notebookContainer) {{\n",
       "    x.observe(notebookContainer, {childList: true});\n",
       "}}\n",
       "\n",
       "// Listen for the clearing of the current output cell\n",
       "var outputEl = gd.closest('.output');\n",
       "if (outputEl) {{\n",
       "    x.observe(outputEl, {childList: true});\n",
       "}}\n",
       "\n",
       "                        })                };                });            </script>        </div>"
      ]
     },
     "metadata": {},
     "output_type": "display_data"
    }
   ],
   "source": [
    "fig = px.bar(liste_haute_freq_stations, x='Station de RER', y='Nb de jours avec plus de 700 validations', color='res_com',\n",
    "             title='Stations de RER les plus fréquentées au S1 2023',\n",
    "            color_discrete_map=couleurs_res_com)\n",
    "\n",
    "# Personnaliser le graphique\n",
    "fig.update_layout(xaxis_tickangle=-45)  # Incliner les étiquettes de l'axe des abscisses\n",
    "#fig.update_traces(marker_color='skyblue')  # La couleur par défaut des barres, peut être écrasée par 'color'\n",
    "fig.update_yaxes(title_font=dict(size=10))  # Réduire la taille de la police pour l'axe des ordonnées\n",
    "\n",
    "# Afficher le graphique\n",
    "fig.show()"
   ]
  },
  {
   "cell_type": "code",
   "execution_count": 167,
   "id": "138a624e-dced-40c7-8094-91d67e7a9a73",
   "metadata": {},
   "outputs": [
    {
     "data": {
      "application/vnd.plotly.v1+json": {
       "config": {
        "plotlyServerURL": "https://plot.ly"
       },
       "data": [
        {
         "alignmentgroup": "True",
         "hovertemplate": "res_com=RER B<br>Station de RER=%{x}<br>Nb de jours avec plus de 700 validations=%{y}<extra></extra>",
         "legendgroup": "RER B",
         "marker": {
          "color": "blue",
          "pattern": {
           "shape": ""
          }
         },
         "name": "RER B",
         "offsetgroup": "RER B",
         "orientation": "v",
         "showlegend": true,
         "textposition": "auto",
         "type": "bar",
         "x": [
          "Arcueil-Cachan",
          "Aulnay-sous-Bois",
          "Bourg-la-Reine",
          "Cité Universitaire",
          "Port Royal",
          "Robinson",
          "Denfert-Rochereau",
          "Gentilly",
          "La Croix-de-Berny-Fresnes",
          "Laplace",
          "Le Bourget",
          "Luxembourg",
          "Antony",
          "Fontenay-aux-Roses",
          "Orsay-Ville",
          "Sevran-Beaudottes",
          "Aéroport Charles De Gaulle 1",
          "Aéroport Charles De Gaulle 2-TGV",
          "Fontaine-Michalon",
          "Palaiseau",
          "Les Baconnets",
          "Saint-Rémy-lès-Chevreuse",
          "Parc des Expositions",
          "Villepinte",
          "La Courneuve-Aubervilliers",
          "Le Blanc-Mesnil",
          "Sceaux",
          "Drancy",
          "La Plaine-Stade de France",
          "Parc de Sceaux",
          "Villeparisis-Mitry-le-Neuf",
          "Vert-Galant",
          "Le Guichet",
          "Sevran-Livry",
          "Mitry-Claye",
          "Gif-sur-Yvette",
          "Lozère",
          "Bagneux",
          "Bures-sur-Yvette",
          "Palaiseau-Villebon",
          "Courcelle-sur-Yvette",
          "La Hacquinière"
         ],
         "xaxis": "x",
         "y": [
          181,
          181,
          181,
          181,
          181,
          181,
          181,
          181,
          181,
          181,
          181,
          181,
          181,
          180,
          180,
          179,
          179,
          179,
          178,
          177,
          177,
          174,
          172,
          172,
          168,
          168,
          168,
          168,
          168,
          164,
          163,
          163,
          162,
          158,
          155,
          151,
          150,
          148,
          145,
          136,
          89,
          79
         ],
         "yaxis": "y"
        },
        {
         "alignmentgroup": "True",
         "hovertemplate": "res_com=RER C<br>Station de RER=%{x}<br>Nb de jours avec plus de 700 validations=%{y}<extra></extra>",
         "legendgroup": "RER C",
         "marker": {
          "color": "yellow",
          "pattern": {
           "shape": ""
          }
         },
         "name": "RER C",
         "offsetgroup": "RER C",
         "orientation": "v",
         "showlegend": true,
         "textposition": "auto",
         "type": "bar",
         "x": [
          "Bibliothèque François Mitterrand",
          "Saint-Cyr",
          "Ermont-Eaubonne",
          "Franconville-Le Plessis-Bouchard",
          "Paris Austerlitz",
          "Pereire-Levallois",
          "Pontoise",
          "Versailles-Chantiers",
          "Épinay-sur-Seine",
          "Montigny-Beauchamp",
          "Neuilly Porte Maillot",
          "Saint-Quentin-en-Yvelines",
          "Viroflay Rive Gauche",
          "Cernay",
          "Porte de Clichy",
          "Javel",
          "Brétigny",
          "Invalides",
          "Saint-Ouen-l'Aumône",
          "Choisy-le-Roi",
          "Champ de Mars",
          "Saint-Ouen",
          "Vitry-sur-Seine",
          "Savigny-sur-Orge",
          "Ivry-sur-Seine",
          "Étampes",
          "Issy-Val-de-Seine",
          "Versailles Château",
          "Pont de l'Alma",
          "Sainte-Geneviève-des-Bois",
          "Épinay-sur-Orge",
          "Saint-Gratien",
          "Boulainvilliers",
          "Saint-Michel-sur-Orge",
          "Les Grésillons",
          "Gennevilliers",
          "Pont du Garigliano",
          "Issy",
          "Musée d'Orsay",
          "Les Ardoines",
          "Orly Ville",
          "Ablon",
          "Chaville-Vélizy",
          "Meudon-Val-Fleury",
          "Saint-Ouen-l'Aumône-Liesse",
          "Les Saules",
          "Villeneuve-le-Roi",
          "Arpajon",
          "Avenue du Président Kennedy",
          "Avenue Henri Martin",
          "Pierrelaye",
          "Marolles-en-Hurepoix",
          "Bouray",
          "Athis-Mons",
          "Avenue Foch",
          "Dourdan",
          "Porchefontaine",
          "Étréchy",
          "Rungis-La Fraternelle"
         ],
         "xaxis": "x",
         "y": [
          181,
          181,
          181,
          181,
          181,
          181,
          181,
          181,
          181,
          181,
          181,
          181,
          180,
          180,
          180,
          179,
          179,
          179,
          179,
          179,
          178,
          176,
          176,
          172,
          170,
          169,
          169,
          169,
          168,
          166,
          165,
          164,
          164,
          162,
          162,
          161,
          160,
          159,
          157,
          154,
          150,
          150,
          145,
          144,
          144,
          131,
          123,
          123,
          122,
          122,
          122,
          120,
          120,
          119,
          118,
          110,
          108,
          62,
          48
         ],
         "yaxis": "y"
        },
        {
         "alignmentgroup": "True",
         "hovertemplate": "res_com=RER A<br>Station de RER=%{x}<br>Nb de jours avec plus de 700 validations=%{y}<extra></extra>",
         "legendgroup": "RER A",
         "marker": {
          "color": "red",
          "pattern": {
           "shape": ""
          }
         },
         "name": "RER A",
         "offsetgroup": "RER A",
         "orientation": "v",
         "showlegend": true,
         "textposition": "auto",
         "type": "bar",
         "x": [
          "Boissy-Saint-Léger",
          "Bry-sur-Marne",
          "Cergy-Préfecture",
          "Cergy-Saint-Christophe",
          "Champigny",
          "Charles De Gaulle-Étoile",
          "Châtou-Croissy",
          "Conflans-Fin-d'Oise",
          "Rueil-Malmaison",
          "Fontenay-sous-Bois",
          "Houilles-Carrières-sur-Seine",
          "Joinville-le-Pont",
          "La Défense",
          "La Varenne-Chennevières",
          "Noisy-le-Grand-Mont d'Est",
          "Poissy",
          "Le Parc de Saint-Maur",
          "Lognes",
          "Vincennes",
          "Marne-la-Vallée-Chessy",
          "Nanterre-Université",
          "Nanterre-Ville",
          "Nation",
          "Neuilly-Plaisance",
          "Nogent-sur-Marne",
          "Noisiel",
          "Noisy-Champs",
          "Sartrouville",
          "Achères-Ville",
          "Sucy-Bonneuil",
          "Torcy",
          "Val d'Europe",
          "Saint-Germain-en-Laye",
          "Saint-Maur-Créteil",
          "Bussy-Saint-Georges",
          "Auber",
          "Maisons-Laffitte",
          "Nanterre-Préfecture",
          "Le Vésinet-Le Pecq",
          "Neuville Université",
          "Le Vésinet-Centre",
          "Cergy Le Haut"
         ],
         "xaxis": "x",
         "y": [
          181,
          181,
          181,
          181,
          181,
          181,
          181,
          181,
          181,
          181,
          181,
          181,
          181,
          181,
          181,
          181,
          181,
          181,
          181,
          181,
          181,
          181,
          181,
          181,
          181,
          181,
          181,
          181,
          181,
          181,
          181,
          181,
          181,
          181,
          181,
          180,
          180,
          180,
          180,
          180,
          180,
          180
         ],
         "yaxis": "y"
        },
        {
         "alignmentgroup": "True",
         "hovertemplate": "res_com=RER E<br>Station de RER=%{x}<br>Nb de jours avec plus de 700 validations=%{y}<extra></extra>",
         "legendgroup": "RER E",
         "marker": {
          "color": "pink",
          "pattern": {
           "shape": ""
          }
         },
         "name": "RER E",
         "offsetgroup": "RER E",
         "orientation": "v",
         "showlegend": true,
         "textposition": "auto",
         "type": "bar",
         "x": [
          "Bondy",
          "Haussmann-Saint-Lazare",
          "Noisy-le-Sec",
          "Chelles-Gournay",
          "Gagny",
          "Le Raincy-Villemomble-Montfermeil",
          "Rosny-Bois-Perrier",
          "Rosny-sous-Bois",
          "Nogent-le-Perreux",
          "Villiers-sur-Marne - Le Plessis-Trévise",
          "Le Chénay-Gagny",
          "Pantin",
          "Roissy-en-Brie",
          "Rosa Parks",
          "Émerainville-Pontault-Combault",
          "Les Boullereaux-Champigny",
          "Ozoir-la-Ferrière",
          "Tournan",
          "Les Yvris-Noisy-le-Grand",
          "Gretz-Armainvilliers"
         ],
         "xaxis": "x",
         "y": [
          181,
          181,
          179,
          178,
          178,
          177,
          177,
          176,
          176,
          174,
          174,
          173,
          172,
          169,
          164,
          138,
          122,
          121,
          51,
          30
         ],
         "yaxis": "y"
        },
        {
         "alignmentgroup": "True",
         "hovertemplate": "res_com=RER D<br>Station de RER=%{x}<br>Nb de jours avec plus de 700 validations=%{y}<extra></extra>",
         "legendgroup": "RER D",
         "marker": {
          "color": "green",
          "pattern": {
           "shape": ""
          }
         },
         "name": "RER D",
         "offsetgroup": "RER D",
         "orientation": "v",
         "showlegend": true,
         "textposition": "auto",
         "type": "bar",
         "x": [
          "Brunoy",
          "Villeneuve-Saint-Georges",
          "Villiers-le-Bel-Gonesse-Arnouville",
          "Garges-Sarcelles",
          "Goussainville",
          "Pierrefitte Stains",
          "Maisons-Alfort-Alfortville",
          "Yerres",
          "Melun",
          "Montgeron-Crosne",
          "Saint-Denis",
          "Boussy-Saint-Antoine",
          "Combs-la-Ville - Quincy",
          "Créteil Pompadour",
          "Vigneux-sur-Seine",
          "Corbeil-Essonnes",
          "Savigny-le-Temple-Nandy",
          "Le Vert-de-Maisons",
          "Viry-Châtillon",
          "Stade de France-Saint-Denis",
          "Lieusaint-Moissy",
          "Le Mée",
          "Évry Courcouronnes",
          "Louvres",
          "Grigny-Centre",
          "Orangis-Bois de l'Epine",
          "Le Bras-de-Fer",
          "Survilliers-Fosses",
          "Les Noues",
          "Cesson",
          "Ris-Orangis",
          "Mennecy",
          "Villeneuve-Triage",
          "Évry"
         ],
         "xaxis": "x",
         "y": [
          181,
          181,
          181,
          181,
          181,
          181,
          181,
          181,
          181,
          181,
          181,
          180,
          180,
          179,
          179,
          179,
          178,
          177,
          175,
          174,
          173,
          172,
          172,
          172,
          171,
          170,
          169,
          167,
          128,
          121,
          104,
          100,
          63,
          24
         ],
         "yaxis": "y"
        },
        {
         "alignmentgroup": "True",
         "hovertemplate": "res_com=RER A, RER B, RER D<br>Station de RER=%{x}<br>Nb de jours avec plus de 700 validations=%{y}<extra></extra>",
         "legendgroup": "RER A, RER B, RER D",
         "marker": {
          "color": "black",
          "pattern": {
           "shape": ""
          }
         },
         "name": "RER A, RER B, RER D",
         "offsetgroup": "RER A, RER B, RER D",
         "orientation": "v",
         "showlegend": true,
         "textposition": "auto",
         "type": "bar",
         "x": [
          "Châtelet-Les Halles"
         ],
         "xaxis": "x",
         "y": [
          181
         ],
         "yaxis": "y"
        },
        {
         "alignmentgroup": "True",
         "hovertemplate": "res_com=RER D, RER A<br>Station de RER=%{x}<br>Nb de jours avec plus de 700 validations=%{y}<extra></extra>",
         "legendgroup": "RER D, RER A",
         "marker": {
          "color": "black",
          "pattern": {
           "shape": ""
          }
         },
         "name": "RER D, RER A",
         "offsetgroup": "RER D, RER A",
         "orientation": "v",
         "showlegend": true,
         "textposition": "auto",
         "type": "bar",
         "x": [
          "Gare de Lyon"
         ],
         "xaxis": "x",
         "y": [
          181
         ],
         "yaxis": "y"
        },
        {
         "alignmentgroup": "True",
         "hovertemplate": "res_com=RER B, RER D, RER E<br>Station de RER=%{x}<br>Nb de jours avec plus de 700 validations=%{y}<extra></extra>",
         "legendgroup": "RER B, RER D, RER E",
         "marker": {
          "color": "black",
          "pattern": {
           "shape": ""
          }
         },
         "name": "RER B, RER D, RER E",
         "offsetgroup": "RER B, RER D, RER E",
         "orientation": "v",
         "showlegend": true,
         "textposition": "auto",
         "type": "bar",
         "x": [
          "Gare du Nord"
         ],
         "xaxis": "x",
         "y": [
          181
         ],
         "yaxis": "y"
        },
        {
         "alignmentgroup": "True",
         "hovertemplate": "res_com=RER C, RER D<br>Station de RER=%{x}<br>Nb de jours avec plus de 700 validations=%{y}<extra></extra>",
         "legendgroup": "RER C, RER D",
         "marker": {
          "color": "black",
          "pattern": {
           "shape": ""
          }
         },
         "name": "RER C, RER D",
         "offsetgroup": "RER C, RER D",
         "orientation": "v",
         "showlegend": true,
         "textposition": "auto",
         "type": "bar",
         "x": [
          "Juvisy"
         ],
         "xaxis": "x",
         "y": [
          181
         ],
         "yaxis": "y"
        },
        {
         "alignmentgroup": "True",
         "hovertemplate": "res_com=RER B, RER C<br>Station de RER=%{x}<br>Nb de jours avec plus de 700 validations=%{y}<extra></extra>",
         "legendgroup": "RER B, RER C",
         "marker": {
          "color": "black",
          "pattern": {
           "shape": ""
          }
         },
         "name": "RER B, RER C",
         "offsetgroup": "RER B, RER C",
         "orientation": "v",
         "showlegend": true,
         "textposition": "auto",
         "type": "bar",
         "x": [
          "Massy-Palaiseau",
          "Massy-Verrières"
         ],
         "xaxis": "x",
         "y": [
          181,
          155
         ],
         "yaxis": "y"
        },
        {
         "alignmentgroup": "True",
         "hovertemplate": "res_com=RER C, RER B<br>Station de RER=%{x}<br>Nb de jours avec plus de 700 validations=%{y}<extra></extra>",
         "legendgroup": "RER C, RER B",
         "marker": {
          "color": "black",
          "pattern": {
           "shape": ""
          }
         },
         "name": "RER C, RER B",
         "offsetgroup": "RER C, RER B",
         "orientation": "v",
         "showlegend": true,
         "textposition": "auto",
         "type": "bar",
         "x": [
          "Saint-Michel"
         ],
         "xaxis": "x",
         "y": [
          181
         ],
         "yaxis": "y"
        },
        {
         "alignmentgroup": "True",
         "hovertemplate": "res_com=RER E, RER A<br>Station de RER=%{x}<br>Nb de jours avec plus de 700 validations=%{y}<extra></extra>",
         "legendgroup": "RER E, RER A",
         "marker": {
          "color": "black",
          "pattern": {
           "shape": ""
          }
         },
         "name": "RER E, RER A",
         "offsetgroup": "RER E, RER A",
         "orientation": "v",
         "showlegend": true,
         "textposition": "auto",
         "type": "bar",
         "x": [
          "Val de Fontenay"
         ],
         "xaxis": "x",
         "y": [
          181
         ],
         "yaxis": "y"
        }
       ],
       "layout": {
        "autosize": true,
        "barmode": "relative",
        "legend": {
         "title": {
          "text": "res_com"
         },
         "tracegroupgap": 0
        },
        "template": {
         "data": {
          "bar": [
           {
            "error_x": {
             "color": "#2a3f5f"
            },
            "error_y": {
             "color": "#2a3f5f"
            },
            "marker": {
             "line": {
              "color": "#E5ECF6",
              "width": 0.5
             },
             "pattern": {
              "fillmode": "overlay",
              "size": 10,
              "solidity": 0.2
             }
            },
            "type": "bar"
           }
          ],
          "barpolar": [
           {
            "marker": {
             "line": {
              "color": "#E5ECF6",
              "width": 0.5
             },
             "pattern": {
              "fillmode": "overlay",
              "size": 10,
              "solidity": 0.2
             }
            },
            "type": "barpolar"
           }
          ],
          "carpet": [
           {
            "aaxis": {
             "endlinecolor": "#2a3f5f",
             "gridcolor": "white",
             "linecolor": "white",
             "minorgridcolor": "white",
             "startlinecolor": "#2a3f5f"
            },
            "baxis": {
             "endlinecolor": "#2a3f5f",
             "gridcolor": "white",
             "linecolor": "white",
             "minorgridcolor": "white",
             "startlinecolor": "#2a3f5f"
            },
            "type": "carpet"
           }
          ],
          "choropleth": [
           {
            "colorbar": {
             "outlinewidth": 0,
             "ticks": ""
            },
            "type": "choropleth"
           }
          ],
          "contour": [
           {
            "colorbar": {
             "outlinewidth": 0,
             "ticks": ""
            },
            "colorscale": [
             [
              0,
              "#0d0887"
             ],
             [
              0.1111111111111111,
              "#46039f"
             ],
             [
              0.2222222222222222,
              "#7201a8"
             ],
             [
              0.3333333333333333,
              "#9c179e"
             ],
             [
              0.4444444444444444,
              "#bd3786"
             ],
             [
              0.5555555555555556,
              "#d8576b"
             ],
             [
              0.6666666666666666,
              "#ed7953"
             ],
             [
              0.7777777777777778,
              "#fb9f3a"
             ],
             [
              0.8888888888888888,
              "#fdca26"
             ],
             [
              1,
              "#f0f921"
             ]
            ],
            "type": "contour"
           }
          ],
          "contourcarpet": [
           {
            "colorbar": {
             "outlinewidth": 0,
             "ticks": ""
            },
            "type": "contourcarpet"
           }
          ],
          "heatmap": [
           {
            "colorbar": {
             "outlinewidth": 0,
             "ticks": ""
            },
            "colorscale": [
             [
              0,
              "#0d0887"
             ],
             [
              0.1111111111111111,
              "#46039f"
             ],
             [
              0.2222222222222222,
              "#7201a8"
             ],
             [
              0.3333333333333333,
              "#9c179e"
             ],
             [
              0.4444444444444444,
              "#bd3786"
             ],
             [
              0.5555555555555556,
              "#d8576b"
             ],
             [
              0.6666666666666666,
              "#ed7953"
             ],
             [
              0.7777777777777778,
              "#fb9f3a"
             ],
             [
              0.8888888888888888,
              "#fdca26"
             ],
             [
              1,
              "#f0f921"
             ]
            ],
            "type": "heatmap"
           }
          ],
          "heatmapgl": [
           {
            "colorbar": {
             "outlinewidth": 0,
             "ticks": ""
            },
            "colorscale": [
             [
              0,
              "#0d0887"
             ],
             [
              0.1111111111111111,
              "#46039f"
             ],
             [
              0.2222222222222222,
              "#7201a8"
             ],
             [
              0.3333333333333333,
              "#9c179e"
             ],
             [
              0.4444444444444444,
              "#bd3786"
             ],
             [
              0.5555555555555556,
              "#d8576b"
             ],
             [
              0.6666666666666666,
              "#ed7953"
             ],
             [
              0.7777777777777778,
              "#fb9f3a"
             ],
             [
              0.8888888888888888,
              "#fdca26"
             ],
             [
              1,
              "#f0f921"
             ]
            ],
            "type": "heatmapgl"
           }
          ],
          "histogram": [
           {
            "marker": {
             "pattern": {
              "fillmode": "overlay",
              "size": 10,
              "solidity": 0.2
             }
            },
            "type": "histogram"
           }
          ],
          "histogram2d": [
           {
            "colorbar": {
             "outlinewidth": 0,
             "ticks": ""
            },
            "colorscale": [
             [
              0,
              "#0d0887"
             ],
             [
              0.1111111111111111,
              "#46039f"
             ],
             [
              0.2222222222222222,
              "#7201a8"
             ],
             [
              0.3333333333333333,
              "#9c179e"
             ],
             [
              0.4444444444444444,
              "#bd3786"
             ],
             [
              0.5555555555555556,
              "#d8576b"
             ],
             [
              0.6666666666666666,
              "#ed7953"
             ],
             [
              0.7777777777777778,
              "#fb9f3a"
             ],
             [
              0.8888888888888888,
              "#fdca26"
             ],
             [
              1,
              "#f0f921"
             ]
            ],
            "type": "histogram2d"
           }
          ],
          "histogram2dcontour": [
           {
            "colorbar": {
             "outlinewidth": 0,
             "ticks": ""
            },
            "colorscale": [
             [
              0,
              "#0d0887"
             ],
             [
              0.1111111111111111,
              "#46039f"
             ],
             [
              0.2222222222222222,
              "#7201a8"
             ],
             [
              0.3333333333333333,
              "#9c179e"
             ],
             [
              0.4444444444444444,
              "#bd3786"
             ],
             [
              0.5555555555555556,
              "#d8576b"
             ],
             [
              0.6666666666666666,
              "#ed7953"
             ],
             [
              0.7777777777777778,
              "#fb9f3a"
             ],
             [
              0.8888888888888888,
              "#fdca26"
             ],
             [
              1,
              "#f0f921"
             ]
            ],
            "type": "histogram2dcontour"
           }
          ],
          "mesh3d": [
           {
            "colorbar": {
             "outlinewidth": 0,
             "ticks": ""
            },
            "type": "mesh3d"
           }
          ],
          "parcoords": [
           {
            "line": {
             "colorbar": {
              "outlinewidth": 0,
              "ticks": ""
             }
            },
            "type": "parcoords"
           }
          ],
          "pie": [
           {
            "automargin": true,
            "type": "pie"
           }
          ],
          "scatter": [
           {
            "fillpattern": {
             "fillmode": "overlay",
             "size": 10,
             "solidity": 0.2
            },
            "type": "scatter"
           }
          ],
          "scatter3d": [
           {
            "line": {
             "colorbar": {
              "outlinewidth": 0,
              "ticks": ""
             }
            },
            "marker": {
             "colorbar": {
              "outlinewidth": 0,
              "ticks": ""
             }
            },
            "type": "scatter3d"
           }
          ],
          "scattercarpet": [
           {
            "marker": {
             "colorbar": {
              "outlinewidth": 0,
              "ticks": ""
             }
            },
            "type": "scattercarpet"
           }
          ],
          "scattergeo": [
           {
            "marker": {
             "colorbar": {
              "outlinewidth": 0,
              "ticks": ""
             }
            },
            "type": "scattergeo"
           }
          ],
          "scattergl": [
           {
            "marker": {
             "colorbar": {
              "outlinewidth": 0,
              "ticks": ""
             }
            },
            "type": "scattergl"
           }
          ],
          "scattermapbox": [
           {
            "marker": {
             "colorbar": {
              "outlinewidth": 0,
              "ticks": ""
             }
            },
            "type": "scattermapbox"
           }
          ],
          "scatterpolar": [
           {
            "marker": {
             "colorbar": {
              "outlinewidth": 0,
              "ticks": ""
             }
            },
            "type": "scatterpolar"
           }
          ],
          "scatterpolargl": [
           {
            "marker": {
             "colorbar": {
              "outlinewidth": 0,
              "ticks": ""
             }
            },
            "type": "scatterpolargl"
           }
          ],
          "scatterternary": [
           {
            "marker": {
             "colorbar": {
              "outlinewidth": 0,
              "ticks": ""
             }
            },
            "type": "scatterternary"
           }
          ],
          "surface": [
           {
            "colorbar": {
             "outlinewidth": 0,
             "ticks": ""
            },
            "colorscale": [
             [
              0,
              "#0d0887"
             ],
             [
              0.1111111111111111,
              "#46039f"
             ],
             [
              0.2222222222222222,
              "#7201a8"
             ],
             [
              0.3333333333333333,
              "#9c179e"
             ],
             [
              0.4444444444444444,
              "#bd3786"
             ],
             [
              0.5555555555555556,
              "#d8576b"
             ],
             [
              0.6666666666666666,
              "#ed7953"
             ],
             [
              0.7777777777777778,
              "#fb9f3a"
             ],
             [
              0.8888888888888888,
              "#fdca26"
             ],
             [
              1,
              "#f0f921"
             ]
            ],
            "type": "surface"
           }
          ],
          "table": [
           {
            "cells": {
             "fill": {
              "color": "#EBF0F8"
             },
             "line": {
              "color": "white"
             }
            },
            "header": {
             "fill": {
              "color": "#C8D4E3"
             },
             "line": {
              "color": "white"
             }
            },
            "type": "table"
           }
          ]
         },
         "layout": {
          "annotationdefaults": {
           "arrowcolor": "#2a3f5f",
           "arrowhead": 0,
           "arrowwidth": 1
          },
          "autotypenumbers": "strict",
          "coloraxis": {
           "colorbar": {
            "outlinewidth": 0,
            "ticks": ""
           }
          },
          "colorscale": {
           "diverging": [
            [
             0,
             "#8e0152"
            ],
            [
             0.1,
             "#c51b7d"
            ],
            [
             0.2,
             "#de77ae"
            ],
            [
             0.3,
             "#f1b6da"
            ],
            [
             0.4,
             "#fde0ef"
            ],
            [
             0.5,
             "#f7f7f7"
            ],
            [
             0.6,
             "#e6f5d0"
            ],
            [
             0.7,
             "#b8e186"
            ],
            [
             0.8,
             "#7fbc41"
            ],
            [
             0.9,
             "#4d9221"
            ],
            [
             1,
             "#276419"
            ]
           ],
           "sequential": [
            [
             0,
             "#0d0887"
            ],
            [
             0.1111111111111111,
             "#46039f"
            ],
            [
             0.2222222222222222,
             "#7201a8"
            ],
            [
             0.3333333333333333,
             "#9c179e"
            ],
            [
             0.4444444444444444,
             "#bd3786"
            ],
            [
             0.5555555555555556,
             "#d8576b"
            ],
            [
             0.6666666666666666,
             "#ed7953"
            ],
            [
             0.7777777777777778,
             "#fb9f3a"
            ],
            [
             0.8888888888888888,
             "#fdca26"
            ],
            [
             1,
             "#f0f921"
            ]
           ],
           "sequentialminus": [
            [
             0,
             "#0d0887"
            ],
            [
             0.1111111111111111,
             "#46039f"
            ],
            [
             0.2222222222222222,
             "#7201a8"
            ],
            [
             0.3333333333333333,
             "#9c179e"
            ],
            [
             0.4444444444444444,
             "#bd3786"
            ],
            [
             0.5555555555555556,
             "#d8576b"
            ],
            [
             0.6666666666666666,
             "#ed7953"
            ],
            [
             0.7777777777777778,
             "#fb9f3a"
            ],
            [
             0.8888888888888888,
             "#fdca26"
            ],
            [
             1,
             "#f0f921"
            ]
           ]
          },
          "colorway": [
           "#636efa",
           "#EF553B",
           "#00cc96",
           "#ab63fa",
           "#FFA15A",
           "#19d3f3",
           "#FF6692",
           "#B6E880",
           "#FF97FF",
           "#FECB52"
          ],
          "font": {
           "color": "#2a3f5f"
          },
          "geo": {
           "bgcolor": "white",
           "lakecolor": "white",
           "landcolor": "#E5ECF6",
           "showlakes": true,
           "showland": true,
           "subunitcolor": "white"
          },
          "hoverlabel": {
           "align": "left"
          },
          "hovermode": "closest",
          "mapbox": {
           "style": "light"
          },
          "paper_bgcolor": "white",
          "plot_bgcolor": "#E5ECF6",
          "polar": {
           "angularaxis": {
            "gridcolor": "white",
            "linecolor": "white",
            "ticks": ""
           },
           "bgcolor": "#E5ECF6",
           "radialaxis": {
            "gridcolor": "white",
            "linecolor": "white",
            "ticks": ""
           }
          },
          "scene": {
           "xaxis": {
            "backgroundcolor": "#E5ECF6",
            "gridcolor": "white",
            "gridwidth": 2,
            "linecolor": "white",
            "showbackground": true,
            "ticks": "",
            "zerolinecolor": "white"
           },
           "yaxis": {
            "backgroundcolor": "#E5ECF6",
            "gridcolor": "white",
            "gridwidth": 2,
            "linecolor": "white",
            "showbackground": true,
            "ticks": "",
            "zerolinecolor": "white"
           },
           "zaxis": {
            "backgroundcolor": "#E5ECF6",
            "gridcolor": "white",
            "gridwidth": 2,
            "linecolor": "white",
            "showbackground": true,
            "ticks": "",
            "zerolinecolor": "white"
           }
          },
          "shapedefaults": {
           "line": {
            "color": "#2a3f5f"
           }
          },
          "ternary": {
           "aaxis": {
            "gridcolor": "white",
            "linecolor": "white",
            "ticks": ""
           },
           "baxis": {
            "gridcolor": "white",
            "linecolor": "white",
            "ticks": ""
           },
           "bgcolor": "#E5ECF6",
           "caxis": {
            "gridcolor": "white",
            "linecolor": "white",
            "ticks": ""
           }
          },
          "title": {
           "x": 0.05
          },
          "xaxis": {
           "automargin": true,
           "gridcolor": "white",
           "linecolor": "white",
           "ticks": "",
           "title": {
            "standoff": 15
           },
           "zerolinecolor": "white",
           "zerolinewidth": 2
          },
          "yaxis": {
           "automargin": true,
           "gridcolor": "white",
           "linecolor": "white",
           "ticks": "",
           "title": {
            "standoff": 15
           },
           "zerolinecolor": "white",
           "zerolinewidth": 2
          }
         }
        },
        "title": {
         "text": "Stations de RER les plus fréquentées au S1 2023"
        },
        "xaxis": {
         "anchor": "y",
         "autorange": true,
         "categoryarray": [
          "Arcueil-Cachan",
          "Aulnay-sous-Bois",
          "Bibliothèque François Mitterrand",
          "Boissy-Saint-Léger",
          "Bondy",
          "Bourg-la-Reine",
          "Brunoy",
          "Bry-sur-Marne",
          "Cergy-Préfecture",
          "Cergy-Saint-Christophe",
          "Champigny",
          "Charles De Gaulle-Étoile",
          "Châtelet-Les Halles",
          "Châtou-Croissy",
          "Cité Universitaire",
          "Conflans-Fin-d'Oise",
          "Villeneuve-Saint-Georges",
          "Villiers-le-Bel-Gonesse-Arnouville",
          "Port Royal",
          "Robinson",
          "Rueil-Malmaison",
          "Saint-Cyr",
          "Denfert-Rochereau",
          "Ermont-Eaubonne",
          "Fontenay-sous-Bois",
          "Franconville-Le Plessis-Bouchard",
          "Gare de Lyon",
          "Gare du Nord",
          "Garges-Sarcelles",
          "Gentilly",
          "Goussainville",
          "Haussmann-Saint-Lazare",
          "Houilles-Carrières-sur-Seine",
          "Joinville-le-Pont",
          "Juvisy",
          "La Croix-de-Berny-Fresnes",
          "La Défense",
          "La Varenne-Chennevières",
          "Laplace",
          "Le Bourget",
          "Noisy-le-Grand-Mont d'Est",
          "Paris Austerlitz",
          "Pereire-Levallois",
          "Pierrefitte Stains",
          "Poissy",
          "Pontoise",
          "Versailles-Chantiers",
          "Le Parc de Saint-Maur",
          "Lognes",
          "Luxembourg",
          "Maisons-Alfort-Alfortville",
          "Vincennes",
          "Yerres",
          "Épinay-sur-Seine",
          "Marne-la-Vallée-Chessy",
          "Massy-Palaiseau",
          "Melun",
          "Montgeron-Crosne",
          "Montigny-Beauchamp",
          "Nanterre-Université",
          "Nanterre-Ville",
          "Nation",
          "Neuilly Porte Maillot",
          "Neuilly-Plaisance",
          "Nogent-sur-Marne",
          "Noisiel",
          "Noisy-Champs",
          "Saint-Michel",
          "Saint-Quentin-en-Yvelines",
          "Sartrouville",
          "Achères-Ville",
          "Antony",
          "Sucy-Bonneuil",
          "Torcy",
          "Val d'Europe",
          "Val de Fontenay",
          "Saint-Denis",
          "Saint-Germain-en-Laye",
          "Saint-Maur-Créteil",
          "Bussy-Saint-Georges",
          "Viroflay Rive Gauche",
          "Boussy-Saint-Antoine",
          "Auber",
          "Maisons-Laffitte",
          "Nanterre-Préfecture",
          "Fontenay-aux-Roses",
          "Cernay",
          "Combs-la-Ville - Quincy",
          "Le Vésinet-Le Pecq",
          "Neuville Université",
          "Le Vésinet-Centre",
          "Orsay-Ville",
          "Cergy Le Haut",
          "Porte de Clichy",
          "Javel",
          "Noisy-le-Sec",
          "Brétigny",
          "Créteil Pompadour",
          "Invalides",
          "Vigneux-sur-Seine",
          "Corbeil-Essonnes",
          "Saint-Ouen-l'Aumône",
          "Choisy-le-Roi",
          "Sevran-Beaudottes",
          "Aéroport Charles De Gaulle 1",
          "Aéroport Charles De Gaulle 2-TGV",
          "Savigny-le-Temple-Nandy",
          "Chelles-Gournay",
          "Champ de Mars",
          "Fontaine-Michalon",
          "Gagny",
          "Palaiseau",
          "Le Raincy-Villemomble-Montfermeil",
          "Le Vert-de-Maisons",
          "Les Baconnets",
          "Rosny-Bois-Perrier",
          "Saint-Ouen",
          "Vitry-sur-Seine",
          "Rosny-sous-Bois",
          "Nogent-le-Perreux",
          "Viry-Châtillon",
          "Villiers-sur-Marne - Le Plessis-Trévise",
          "Le Chénay-Gagny",
          "Stade de France-Saint-Denis",
          "Saint-Rémy-lès-Chevreuse",
          "Lieusaint-Moissy",
          "Pantin",
          "Savigny-sur-Orge",
          "Parc des Expositions",
          "Le Mée",
          "Roissy-en-Brie",
          "Évry Courcouronnes",
          "Louvres",
          "Villepinte",
          "Grigny-Centre",
          "Ivry-sur-Seine",
          "Orangis-Bois de l'Epine",
          "Étampes",
          "Le Bras-de-Fer",
          "Issy-Val-de-Seine",
          "Versailles Château",
          "Rosa Parks",
          "La Courneuve-Aubervilliers",
          "Le Blanc-Mesnil",
          "Sceaux",
          "Pont de l'Alma",
          "Drancy",
          "La Plaine-Stade de France",
          "Survilliers-Fosses",
          "Sainte-Geneviève-des-Bois",
          "Épinay-sur-Orge",
          "Parc de Sceaux",
          "Saint-Gratien",
          "Boulainvilliers",
          "Émerainville-Pontault-Combault",
          "Villeparisis-Mitry-le-Neuf",
          "Vert-Galant",
          "Saint-Michel-sur-Orge",
          "Le Guichet",
          "Les Grésillons",
          "Gennevilliers",
          "Pont du Garigliano",
          "Issy",
          "Sevran-Livry",
          "Musée d'Orsay",
          "Massy-Verrières",
          "Mitry-Claye",
          "Les Ardoines",
          "Gif-sur-Yvette",
          "Orly Ville",
          "Ablon",
          "Lozère",
          "Bagneux",
          "Chaville-Vélizy",
          "Bures-sur-Yvette",
          "Meudon-Val-Fleury",
          "Saint-Ouen-l'Aumône-Liesse",
          "Les Boullereaux-Champigny",
          "Palaiseau-Villebon",
          "Les Saules",
          "Les Noues",
          "Villeneuve-le-Roi",
          "Arpajon",
          "Avenue du Président Kennedy",
          "Avenue Henri Martin",
          "Pierrelaye",
          "Ozoir-la-Ferrière",
          "Tournan",
          "Cesson",
          "Marolles-en-Hurepoix",
          "Bouray",
          "Athis-Mons",
          "Avenue Foch",
          "Dourdan",
          "Porchefontaine",
          "Ris-Orangis",
          "Mennecy",
          "Courcelle-sur-Yvette",
          "La Hacquinière",
          "Villeneuve-Triage",
          "Étréchy",
          "Les Yvris-Noisy-le-Grand",
          "Rungis-La Fraternelle",
          "Gretz-Armainvilliers",
          "Évry"
         ],
         "categoryorder": "array",
         "domain": [
          0,
          1
         ],
         "range": [
          -0.5,
          204.5
         ],
         "tickangle": -45,
         "title": {
          "text": "Station de RER"
         },
         "type": "category"
        },
        "yaxis": {
         "anchor": "x",
         "autorange": true,
         "domain": [
          0,
          1
         ],
         "range": [
          0,
          190.5263157894737
         ],
         "title": {
          "font": {
           "size": 8
          },
          "text": "Nb de jours avec plus de 700 validations"
         },
         "type": "linear"
        }
       }
      },
      "image/png": "[encoded data removed]",
      "text/html": [
       "<div>                            <div id=\"f0eba83f-1313-4e09-a448-f3d7c3a5cab9\" class=\"plotly-graph-div\" style=\"height:525px; width:100%;\"></div>            <script type=\"text/javascript\">                require([\"plotly\"], function(Plotly) {                    window.PLOTLYENV=window.PLOTLYENV || {};                                    if (document.getElementById(\"f0eba83f-1313-4e09-a448-f3d7c3a5cab9\")) {                    Plotly.newPlot(                        \"f0eba83f-1313-4e09-a448-f3d7c3a5cab9\",                        [{\"alignmentgroup\":\"True\",\"hovertemplate\":\"res_com=RER B\\u003cbr\\u003eStation de RER=%{x}\\u003cbr\\u003eNb de jours avec plus de 700 validations=%{y}\\u003cextra\\u003e\\u003c\\u002fextra\\u003e\",\"legendgroup\":\"RER B\",\"marker\":{\"color\":\"blue\",\"pattern\":{\"shape\":\"\"}},\"name\":\"RER B\",\"offsetgroup\":\"RER B\",\"orientation\":\"v\",\"showlegend\":true,\"textposition\":\"auto\",\"x\":[\"Arcueil-Cachan\",\"Aulnay-sous-Bois\",\"Bourg-la-Reine\",\"Cit\\u00e9 Universitaire\",\"Port Royal\",\"Robinson\",\"Denfert-Rochereau\",\"Gentilly\",\"La Croix-de-Berny-Fresnes\",\"Laplace\",\"Le Bourget\",\"Luxembourg\",\"Antony\",\"Fontenay-aux-Roses\",\"Orsay-Ville\",\"Sevran-Beaudottes\",\"A\\u00e9roport Charles De Gaulle 1\",\"A\\u00e9roport Charles De Gaulle 2-TGV\",\"Fontaine-Michalon\",\"Palaiseau\",\"Les Baconnets\",\"Saint-R\\u00e9my-l\\u00e8s-Chevreuse\",\"Parc des Expositions\",\"Villepinte\",\"La Courneuve-Aubervilliers\",\"Le Blanc-Mesnil\",\"Sceaux\",\"Drancy\",\"La Plaine-Stade de France\",\"Parc de Sceaux\",\"Villeparisis-Mitry-le-Neuf\",\"Vert-Galant\",\"Le Guichet\",\"Sevran-Livry\",\"Mitry-Claye\",\"Gif-sur-Yvette\",\"Loz\\u00e8re\",\"Bagneux\",\"Bures-sur-Yvette\",\"Palaiseau-Villebon\",\"Courcelle-sur-Yvette\",\"La Hacquini\\u00e8re\"],\"xaxis\":\"x\",\"y\":[181,181,181,181,181,181,181,181,181,181,181,181,181,180,180,179,179,179,178,177,177,174,172,172,168,168,168,168,168,164,163,163,162,158,155,151,150,148,145,136,89,79],\"yaxis\":\"y\",\"type\":\"bar\"},{\"alignmentgroup\":\"True\",\"hovertemplate\":\"res_com=RER C\\u003cbr\\u003eStation de RER=%{x}\\u003cbr\\u003eNb de jours avec plus de 700 validations=%{y}\\u003cextra\\u003e\\u003c\\u002fextra\\u003e\",\"legendgroup\":\"RER C\",\"marker\":{\"color\":\"yellow\",\"pattern\":{\"shape\":\"\"}},\"name\":\"RER C\",\"offsetgroup\":\"RER C\",\"orientation\":\"v\",\"showlegend\":true,\"textposition\":\"auto\",\"x\":[\"Biblioth\\u00e8que Fran\\u00e7ois Mitterrand\",\"Saint-Cyr\",\"Ermont-Eaubonne\",\"Franconville-Le Plessis-Bouchard\",\"Paris Austerlitz\",\"Pereire-Levallois\",\"Pontoise\",\"Versailles-Chantiers\",\"\\u00c9pinay-sur-Seine\",\"Montigny-Beauchamp\",\"Neuilly Porte Maillot\",\"Saint-Quentin-en-Yvelines\",\"Viroflay Rive Gauche\",\"Cernay\",\"Porte de Clichy\",\"Javel\",\"Br\\u00e9tigny\",\"Invalides\",\"Saint-Ouen-l'Aum\\u00f4ne\",\"Choisy-le-Roi\",\"Champ de Mars\",\"Saint-Ouen\",\"Vitry-sur-Seine\",\"Savigny-sur-Orge\",\"Ivry-sur-Seine\",\"\\u00c9tampes\",\"Issy-Val-de-Seine\",\"Versailles Ch\\u00e2teau\",\"Pont de l'Alma\",\"Sainte-Genevi\\u00e8ve-des-Bois\",\"\\u00c9pinay-sur-Orge\",\"Saint-Gratien\",\"Boulainvilliers\",\"Saint-Michel-sur-Orge\",\"Les Gr\\u00e9sillons\",\"Gennevilliers\",\"Pont du Garigliano\",\"Issy\",\"Mus\\u00e9e d'Orsay\",\"Les Ardoines\",\"Orly Ville\",\"Ablon\",\"Chaville-V\\u00e9lizy\",\"Meudon-Val-Fleury\",\"Saint-Ouen-l'Aum\\u00f4ne-Liesse\",\"Les Saules\",\"Villeneuve-le-Roi\",\"Arpajon\",\"Avenue du Pr\\u00e9sident Kennedy\",\"Avenue Henri Martin\",\"Pierrelaye\",\"Marolles-en-Hurepoix\",\"Bouray\",\"Athis-Mons\",\"Avenue Foch\",\"Dourdan\",\"Porchefontaine\",\"\\u00c9tr\\u00e9chy\",\"Rungis-La Fraternelle\"],\"xaxis\":\"x\",\"y\":[181,181,181,181,181,181,181,181,181,181,181,181,180,180,180,179,179,179,179,179,178,176,176,172,170,169,169,169,168,166,165,164,164,162,162,161,160,159,157,154,150,150,145,144,144,131,123,123,122,122,122,120,120,119,118,110,108,62,48],\"yaxis\":\"y\",\"type\":\"bar\"},{\"alignmentgroup\":\"True\",\"hovertemplate\":\"res_com=RER A\\u003cbr\\u003eStation de RER=%{x}\\u003cbr\\u003eNb de jours avec plus de 700 validations=%{y}\\u003cextra\\u003e\\u003c\\u002fextra\\u003e\",\"legendgroup\":\"RER A\",\"marker\":{\"color\":\"red\",\"pattern\":{\"shape\":\"\"}},\"name\":\"RER A\",\"offsetgroup\":\"RER A\",\"orientation\":\"v\",\"showlegend\":true,\"textposition\":\"auto\",\"x\":[\"Boissy-Saint-L\\u00e9ger\",\"Bry-sur-Marne\",\"Cergy-Pr\\u00e9fecture\",\"Cergy-Saint-Christophe\",\"Champigny\",\"Charles De Gaulle-\\u00c9toile\",\"Ch\\u00e2tou-Croissy\",\"Conflans-Fin-d'Oise\",\"Rueil-Malmaison\",\"Fontenay-sous-Bois\",\"Houilles-Carri\\u00e8res-sur-Seine\",\"Joinville-le-Pont\",\"La D\\u00e9fense\",\"La Varenne-Chennevi\\u00e8res\",\"Noisy-le-Grand-Mont d'Est\",\"Poissy\",\"Le Parc de Saint-Maur\",\"Lognes\",\"Vincennes\",\"Marne-la-Vall\\u00e9e-Chessy\",\"Nanterre-Universit\\u00e9\",\"Nanterre-Ville\",\"Nation\",\"Neuilly-Plaisance\",\"Nogent-sur-Marne\",\"Noisiel\",\"Noisy-Champs\",\"Sartrouville\",\"Ach\\u00e8res-Ville\",\"Sucy-Bonneuil\",\"Torcy\",\"Val d'Europe\",\"Saint-Germain-en-Laye\",\"Saint-Maur-Cr\\u00e9teil\",\"Bussy-Saint-Georges\",\"Auber\",\"Maisons-Laffitte\",\"Nanterre-Pr\\u00e9fecture\",\"Le V\\u00e9sinet-Le Pecq\",\"Neuville Universit\\u00e9\",\"Le V\\u00e9sinet-Centre\",\"Cergy Le Haut\"],\"xaxis\":\"x\",\"y\":[181,181,181,181,181,181,181,181,181,181,181,181,181,181,181,181,181,181,181,181,181,181,181,181,181,181,181,181,181,181,181,181,181,181,181,180,180,180,180,180,180,180],\"yaxis\":\"y\",\"type\":\"bar\"},{\"alignmentgroup\":\"True\",\"hovertemplate\":\"res_com=RER E\\u003cbr\\u003eStation de RER=%{x}\\u003cbr\\u003eNb de jours avec plus de 700 validations=%{y}\\u003cextra\\u003e\\u003c\\u002fextra\\u003e\",\"legendgroup\":\"RER E\",\"marker\":{\"color\":\"pink\",\"pattern\":{\"shape\":\"\"}},\"name\":\"RER E\",\"offsetgroup\":\"RER E\",\"orientation\":\"v\",\"showlegend\":true,\"textposition\":\"auto\",\"x\":[\"Bondy\",\"Haussmann-Saint-Lazare\",\"Noisy-le-Sec\",\"Chelles-Gournay\",\"Gagny\",\"Le Raincy-Villemomble-Montfermeil\",\"Rosny-Bois-Perrier\",\"Rosny-sous-Bois\",\"Nogent-le-Perreux\",\"Villiers-sur-Marne - Le Plessis-Tr\\u00e9vise\",\"Le Ch\\u00e9nay-Gagny\",\"Pantin\",\"Roissy-en-Brie\",\"Rosa Parks\",\"\\u00c9merainville-Pontault-Combault\",\"Les Boullereaux-Champigny\",\"Ozoir-la-Ferri\\u00e8re\",\"Tournan\",\"Les Yvris-Noisy-le-Grand\",\"Gretz-Armainvilliers\"],\"xaxis\":\"x\",\"y\":[181,181,179,178,178,177,177,176,176,174,174,173,172,169,164,138,122,121,51,30],\"yaxis\":\"y\",\"type\":\"bar\"},{\"alignmentgroup\":\"True\",\"hovertemplate\":\"res_com=RER D\\u003cbr\\u003eStation de RER=%{x}\\u003cbr\\u003eNb de jours avec plus de 700 validations=%{y}\\u003cextra\\u003e\\u003c\\u002fextra\\u003e\",\"legendgroup\":\"RER D\",\"marker\":{\"color\":\"green\",\"pattern\":{\"shape\":\"\"}},\"name\":\"RER D\",\"offsetgroup\":\"RER D\",\"orientation\":\"v\",\"showlegend\":true,\"textposition\":\"auto\",\"x\":[\"Brunoy\",\"Villeneuve-Saint-Georges\",\"Villiers-le-Bel-Gonesse-Arnouville\",\"Garges-Sarcelles\",\"Goussainville\",\"Pierrefitte Stains\",\"Maisons-Alfort-Alfortville\",\"Yerres\",\"Melun\",\"Montgeron-Crosne\",\"Saint-Denis\",\"Boussy-Saint-Antoine\",\"Combs-la-Ville - Quincy\",\"Cr\\u00e9teil Pompadour\",\"Vigneux-sur-Seine\",\"Corbeil-Essonnes\",\"Savigny-le-Temple-Nandy\",\"Le Vert-de-Maisons\",\"Viry-Ch\\u00e2tillon\",\"Stade de France-Saint-Denis\",\"Lieusaint-Moissy\",\"Le M\\u00e9e\",\"\\u00c9vry Courcouronnes\",\"Louvres\",\"Grigny-Centre\",\"Orangis-Bois de l'Epine\",\"Le Bras-de-Fer\",\"Survilliers-Fosses\",\"Les Noues\",\"Cesson\",\"Ris-Orangis\",\"Mennecy\",\"Villeneuve-Triage\",\"\\u00c9vry\"],\"xaxis\":\"x\",\"y\":[181,181,181,181,181,181,181,181,181,181,181,180,180,179,179,179,178,177,175,174,173,172,172,172,171,170,169,167,128,121,104,100,63,24],\"yaxis\":\"y\",\"type\":\"bar\"},{\"alignmentgroup\":\"True\",\"hovertemplate\":\"res_com=RER A, RER B, RER D\\u003cbr\\u003eStation de RER=%{x}\\u003cbr\\u003eNb de jours avec plus de 700 validations=%{y}\\u003cextra\\u003e\\u003c\\u002fextra\\u003e\",\"legendgroup\":\"RER A, RER B, RER D\",\"marker\":{\"color\":\"black\",\"pattern\":{\"shape\":\"\"}},\"name\":\"RER A, RER B, RER D\",\"offsetgroup\":\"RER A, RER B, RER D\",\"orientation\":\"v\",\"showlegend\":true,\"textposition\":\"auto\",\"x\":[\"Ch\\u00e2telet-Les Halles\"],\"xaxis\":\"x\",\"y\":[181],\"yaxis\":\"y\",\"type\":\"bar\"},{\"alignmentgroup\":\"True\",\"hovertemplate\":\"res_com=RER D, RER A\\u003cbr\\u003eStation de RER=%{x}\\u003cbr\\u003eNb de jours avec plus de 700 validations=%{y}\\u003cextra\\u003e\\u003c\\u002fextra\\u003e\",\"legendgroup\":\"RER D, RER A\",\"marker\":{\"color\":\"black\",\"pattern\":{\"shape\":\"\"}},\"name\":\"RER D, RER A\",\"offsetgroup\":\"RER D, RER A\",\"orientation\":\"v\",\"showlegend\":true,\"textposition\":\"auto\",\"x\":[\"Gare de Lyon\"],\"xaxis\":\"x\",\"y\":[181],\"yaxis\":\"y\",\"type\":\"bar\"},{\"alignmentgroup\":\"True\",\"hovertemplate\":\"res_com=RER B, RER D, RER E\\u003cbr\\u003eStation de RER=%{x}\\u003cbr\\u003eNb de jours avec plus de 700 validations=%{y}\\u003cextra\\u003e\\u003c\\u002fextra\\u003e\",\"legendgroup\":\"RER B, RER D, RER E\",\"marker\":{\"color\":\"black\",\"pattern\":{\"shape\":\"\"}},\"name\":\"RER B, RER D, RER E\",\"offsetgroup\":\"RER B, RER D, RER E\",\"orientation\":\"v\",\"showlegend\":true,\"textposition\":\"auto\",\"x\":[\"Gare du Nord\"],\"xaxis\":\"x\",\"y\":[181],\"yaxis\":\"y\",\"type\":\"bar\"},{\"alignmentgroup\":\"True\",\"hovertemplate\":\"res_com=RER C, RER D\\u003cbr\\u003eStation de RER=%{x}\\u003cbr\\u003eNb de jours avec plus de 700 validations=%{y}\\u003cextra\\u003e\\u003c\\u002fextra\\u003e\",\"legendgroup\":\"RER C, RER D\",\"marker\":{\"color\":\"black\",\"pattern\":{\"shape\":\"\"}},\"name\":\"RER C, RER D\",\"offsetgroup\":\"RER C, RER D\",\"orientation\":\"v\",\"showlegend\":true,\"textposition\":\"auto\",\"x\":[\"Juvisy\"],\"xaxis\":\"x\",\"y\":[181],\"yaxis\":\"y\",\"type\":\"bar\"},{\"alignmentgroup\":\"True\",\"hovertemplate\":\"res_com=RER B, RER C\\u003cbr\\u003eStation de RER=%{x}\\u003cbr\\u003eNb de jours avec plus de 700 validations=%{y}\\u003cextra\\u003e\\u003c\\u002fextra\\u003e\",\"legendgroup\":\"RER B, RER C\",\"marker\":{\"color\":\"black\",\"pattern\":{\"shape\":\"\"}},\"name\":\"RER B, RER C\",\"offsetgroup\":\"RER B, RER C\",\"orientation\":\"v\",\"showlegend\":true,\"textposition\":\"auto\",\"x\":[\"Massy-Palaiseau\",\"Massy-Verri\\u00e8res\"],\"xaxis\":\"x\",\"y\":[181,155],\"yaxis\":\"y\",\"type\":\"bar\"},{\"alignmentgroup\":\"True\",\"hovertemplate\":\"res_com=RER C, RER B\\u003cbr\\u003eStation de RER=%{x}\\u003cbr\\u003eNb de jours avec plus de 700 validations=%{y}\\u003cextra\\u003e\\u003c\\u002fextra\\u003e\",\"legendgroup\":\"RER C, RER B\",\"marker\":{\"color\":\"black\",\"pattern\":{\"shape\":\"\"}},\"name\":\"RER C, RER B\",\"offsetgroup\":\"RER C, RER B\",\"orientation\":\"v\",\"showlegend\":true,\"textposition\":\"auto\",\"x\":[\"Saint-Michel\"],\"xaxis\":\"x\",\"y\":[181],\"yaxis\":\"y\",\"type\":\"bar\"},{\"alignmentgroup\":\"True\",\"hovertemplate\":\"res_com=RER E, RER A\\u003cbr\\u003eStation de RER=%{x}\\u003cbr\\u003eNb de jours avec plus de 700 validations=%{y}\\u003cextra\\u003e\\u003c\\u002fextra\\u003e\",\"legendgroup\":\"RER E, RER A\",\"marker\":{\"color\":\"black\",\"pattern\":{\"shape\":\"\"}},\"name\":\"RER E, RER A\",\"offsetgroup\":\"RER E, RER A\",\"orientation\":\"v\",\"showlegend\":true,\"textposition\":\"auto\",\"x\":[\"Val de Fontenay\"],\"xaxis\":\"x\",\"y\":[181],\"yaxis\":\"y\",\"type\":\"bar\"}],                        {\"template\":{\"data\":{\"histogram2dcontour\":[{\"type\":\"histogram2dcontour\",\"colorbar\":{\"outlinewidth\":0,\"ticks\":\"\"},\"colorscale\":[[0.0,\"#0d0887\"],[0.1111111111111111,\"#46039f\"],[0.2222222222222222,\"#7201a8\"],[0.3333333333333333,\"#9c179e\"],[0.4444444444444444,\"#bd3786\"],[0.5555555555555556,\"#d8576b\"],[0.6666666666666666,\"#ed7953\"],[0.7777777777777778,\"#fb9f3a\"],[0.8888888888888888,\"#fdca26\"],[1.0,\"#f0f921\"]]}],\"choropleth\":[{\"type\":\"choropleth\",\"colorbar\":{\"outlinewidth\":0,\"ticks\":\"\"}}],\"histogram2d\":[{\"type\":\"histogram2d\",\"colorbar\":{\"outlinewidth\":0,\"ticks\":\"\"},\"colorscale\":[[0.0,\"#0d0887\"],[0.1111111111111111,\"#46039f\"],[0.2222222222222222,\"#7201a8\"],[0.3333333333333333,\"#9c179e\"],[0.4444444444444444,\"#bd3786\"],[0.5555555555555556,\"#d8576b\"],[0.6666666666666666,\"#ed7953\"],[0.7777777777777778,\"#fb9f3a\"],[0.8888888888888888,\"#fdca26\"],[1.0,\"#f0f921\"]]}],\"heatmap\":[{\"type\":\"heatmap\",\"colorbar\":{\"outlinewidth\":0,\"ticks\":\"\"},\"colorscale\":[[0.0,\"#0d0887\"],[0.1111111111111111,\"#46039f\"],[0.2222222222222222,\"#7201a8\"],[0.3333333333333333,\"#9c179e\"],[0.4444444444444444,\"#bd3786\"],[0.5555555555555556,\"#d8576b\"],[0.6666666666666666,\"#ed7953\"],[0.7777777777777778,\"#fb9f3a\"],[0.8888888888888888,\"#fdca26\"],[1.0,\"#f0f921\"]]}],\"heatmapgl\":[{\"type\":\"heatmapgl\",\"colorbar\":{\"outlinewidth\":0,\"ticks\":\"\"},\"colorscale\":[[0.0,\"#0d0887\"],[0.1111111111111111,\"#46039f\"],[0.2222222222222222,\"#7201a8\"],[0.3333333333333333,\"#9c179e\"],[0.4444444444444444,\"#bd3786\"],[0.5555555555555556,\"#d8576b\"],[0.6666666666666666,\"#ed7953\"],[0.7777777777777778,\"#fb9f3a\"],[0.8888888888888888,\"#fdca26\"],[1.0,\"#f0f921\"]]}],\"contourcarpet\":[{\"type\":\"contourcarpet\",\"colorbar\":{\"outlinewidth\":0,\"ticks\":\"\"}}],\"contour\":[{\"type\":\"contour\",\"colorbar\":{\"outlinewidth\":0,\"ticks\":\"\"},\"colorscale\":[[0.0,\"#0d0887\"],[0.1111111111111111,\"#46039f\"],[0.2222222222222222,\"#7201a8\"],[0.3333333333333333,\"#9c179e\"],[0.4444444444444444,\"#bd3786\"],[0.5555555555555556,\"#d8576b\"],[0.6666666666666666,\"#ed7953\"],[0.7777777777777778,\"#fb9f3a\"],[0.8888888888888888,\"#fdca26\"],[1.0,\"#f0f921\"]]}],\"surface\":[{\"type\":\"surface\",\"colorbar\":{\"outlinewidth\":0,\"ticks\":\"\"},\"colorscale\":[[0.0,\"#0d0887\"],[0.1111111111111111,\"#46039f\"],[0.2222222222222222,\"#7201a8\"],[0.3333333333333333,\"#9c179e\"],[0.4444444444444444,\"#bd3786\"],[0.5555555555555556,\"#d8576b\"],[0.6666666666666666,\"#ed7953\"],[0.7777777777777778,\"#fb9f3a\"],[0.8888888888888888,\"#fdca26\"],[1.0,\"#f0f921\"]]}],\"mesh3d\":[{\"type\":\"mesh3d\",\"colorbar\":{\"outlinewidth\":0,\"ticks\":\"\"}}],\"scatter\":[{\"fillpattern\":{\"fillmode\":\"overlay\",\"size\":10,\"solidity\":0.2},\"type\":\"scatter\"}],\"parcoords\":[{\"type\":\"parcoords\",\"line\":{\"colorbar\":{\"outlinewidth\":0,\"ticks\":\"\"}}}],\"scatterpolargl\":[{\"type\":\"scatterpolargl\",\"marker\":{\"colorbar\":{\"outlinewidth\":0,\"ticks\":\"\"}}}],\"bar\":[{\"error_x\":{\"color\":\"#2a3f5f\"},\"error_y\":{\"color\":\"#2a3f5f\"},\"marker\":{\"line\":{\"color\":\"#E5ECF6\",\"width\":0.5},\"pattern\":{\"fillmode\":\"overlay\",\"size\":10,\"solidity\":0.2}},\"type\":\"bar\"}],\"scattergeo\":[{\"type\":\"scattergeo\",\"marker\":{\"colorbar\":{\"outlinewidth\":0,\"ticks\":\"\"}}}],\"scatterpolar\":[{\"type\":\"scatterpolar\",\"marker\":{\"colorbar\":{\"outlinewidth\":0,\"ticks\":\"\"}}}],\"histogram\":[{\"marker\":{\"pattern\":{\"fillmode\":\"overlay\",\"size\":10,\"solidity\":0.2}},\"type\":\"histogram\"}],\"scattergl\":[{\"type\":\"scattergl\",\"marker\":{\"colorbar\":{\"outlinewidth\":0,\"ticks\":\"\"}}}],\"scatter3d\":[{\"type\":\"scatter3d\",\"line\":{\"colorbar\":{\"outlinewidth\":0,\"ticks\":\"\"}},\"marker\":{\"colorbar\":{\"outlinewidth\":0,\"ticks\":\"\"}}}],\"scattermapbox\":[{\"type\":\"scattermapbox\",\"marker\":{\"colorbar\":{\"outlinewidth\":0,\"ticks\":\"\"}}}],\"scatterternary\":[{\"type\":\"scatterternary\",\"marker\":{\"colorbar\":{\"outlinewidth\":0,\"ticks\":\"\"}}}],\"scattercarpet\":[{\"type\":\"scattercarpet\",\"marker\":{\"colorbar\":{\"outlinewidth\":0,\"ticks\":\"\"}}}],\"carpet\":[{\"aaxis\":{\"endlinecolor\":\"#2a3f5f\",\"gridcolor\":\"white\",\"linecolor\":\"white\",\"minorgridcolor\":\"white\",\"startlinecolor\":\"#2a3f5f\"},\"baxis\":{\"endlinecolor\":\"#2a3f5f\",\"gridcolor\":\"white\",\"linecolor\":\"white\",\"minorgridcolor\":\"white\",\"startlinecolor\":\"#2a3f5f\"},\"type\":\"carpet\"}],\"table\":[{\"cells\":{\"fill\":{\"color\":\"#EBF0F8\"},\"line\":{\"color\":\"white\"}},\"header\":{\"fill\":{\"color\":\"#C8D4E3\"},\"line\":{\"color\":\"white\"}},\"type\":\"table\"}],\"barpolar\":[{\"marker\":{\"line\":{\"color\":\"#E5ECF6\",\"width\":0.5},\"pattern\":{\"fillmode\":\"overlay\",\"size\":10,\"solidity\":0.2}},\"type\":\"barpolar\"}],\"pie\":[{\"automargin\":true,\"type\":\"pie\"}]},\"layout\":{\"autotypenumbers\":\"strict\",\"colorway\":[\"#636efa\",\"#EF553B\",\"#00cc96\",\"#ab63fa\",\"#FFA15A\",\"#19d3f3\",\"#FF6692\",\"#B6E880\",\"#FF97FF\",\"#FECB52\"],\"font\":{\"color\":\"#2a3f5f\"},\"hovermode\":\"closest\",\"hoverlabel\":{\"align\":\"left\"},\"paper_bgcolor\":\"white\",\"plot_bgcolor\":\"#E5ECF6\",\"polar\":{\"bgcolor\":\"#E5ECF6\",\"angularaxis\":{\"gridcolor\":\"white\",\"linecolor\":\"white\",\"ticks\":\"\"},\"radialaxis\":{\"gridcolor\":\"white\",\"linecolor\":\"white\",\"ticks\":\"\"}},\"ternary\":{\"bgcolor\":\"#E5ECF6\",\"aaxis\":{\"gridcolor\":\"white\",\"linecolor\":\"white\",\"ticks\":\"\"},\"baxis\":{\"gridcolor\":\"white\",\"linecolor\":\"white\",\"ticks\":\"\"},\"caxis\":{\"gridcolor\":\"white\",\"linecolor\":\"white\",\"ticks\":\"\"}},\"coloraxis\":{\"colorbar\":{\"outlinewidth\":0,\"ticks\":\"\"}},\"colorscale\":{\"sequential\":[[0.0,\"#0d0887\"],[0.1111111111111111,\"#46039f\"],[0.2222222222222222,\"#7201a8\"],[0.3333333333333333,\"#9c179e\"],[0.4444444444444444,\"#bd3786\"],[0.5555555555555556,\"#d8576b\"],[0.6666666666666666,\"#ed7953\"],[0.7777777777777778,\"#fb9f3a\"],[0.8888888888888888,\"#fdca26\"],[1.0,\"#f0f921\"]],\"sequentialminus\":[[0.0,\"#0d0887\"],[0.1111111111111111,\"#46039f\"],[0.2222222222222222,\"#7201a8\"],[0.3333333333333333,\"#9c179e\"],[0.4444444444444444,\"#bd3786\"],[0.5555555555555556,\"#d8576b\"],[0.6666666666666666,\"#ed7953\"],[0.7777777777777778,\"#fb9f3a\"],[0.8888888888888888,\"#fdca26\"],[1.0,\"#f0f921\"]],\"diverging\":[[0,\"#8e0152\"],[0.1,\"#c51b7d\"],[0.2,\"#de77ae\"],[0.3,\"#f1b6da\"],[0.4,\"#fde0ef\"],[0.5,\"#f7f7f7\"],[0.6,\"#e6f5d0\"],[0.7,\"#b8e186\"],[0.8,\"#7fbc41\"],[0.9,\"#4d9221\"],[1,\"#276419\"]]},\"xaxis\":{\"gridcolor\":\"white\",\"linecolor\":\"white\",\"ticks\":\"\",\"title\":{\"standoff\":15},\"zerolinecolor\":\"white\",\"automargin\":true,\"zerolinewidth\":2},\"yaxis\":{\"gridcolor\":\"white\",\"linecolor\":\"white\",\"ticks\":\"\",\"title\":{\"standoff\":15},\"zerolinecolor\":\"white\",\"automargin\":true,\"zerolinewidth\":2},\"scene\":{\"xaxis\":{\"backgroundcolor\":\"#E5ECF6\",\"gridcolor\":\"white\",\"linecolor\":\"white\",\"showbackground\":true,\"ticks\":\"\",\"zerolinecolor\":\"white\",\"gridwidth\":2},\"yaxis\":{\"backgroundcolor\":\"#E5ECF6\",\"gridcolor\":\"white\",\"linecolor\":\"white\",\"showbackground\":true,\"ticks\":\"\",\"zerolinecolor\":\"white\",\"gridwidth\":2},\"zaxis\":{\"backgroundcolor\":\"#E5ECF6\",\"gridcolor\":\"white\",\"linecolor\":\"white\",\"showbackground\":true,\"ticks\":\"\",\"zerolinecolor\":\"white\",\"gridwidth\":2}},\"shapedefaults\":{\"line\":{\"color\":\"#2a3f5f\"}},\"annotationdefaults\":{\"arrowcolor\":\"#2a3f5f\",\"arrowhead\":0,\"arrowwidth\":1},\"geo\":{\"bgcolor\":\"white\",\"landcolor\":\"#E5ECF6\",\"subunitcolor\":\"white\",\"showland\":true,\"showlakes\":true,\"lakecolor\":\"white\"},\"title\":{\"x\":0.05},\"mapbox\":{\"style\":\"light\"}}},\"xaxis\":{\"anchor\":\"y\",\"domain\":[0.0,1.0],\"title\":{\"text\":\"Station de RER\"},\"categoryorder\":\"array\",\"categoryarray\":[\"Arcueil-Cachan\",\"Aulnay-sous-Bois\",\"Biblioth\\u00e8que Fran\\u00e7ois Mitterrand\",\"Boissy-Saint-L\\u00e9ger\",\"Bondy\",\"Bourg-la-Reine\",\"Brunoy\",\"Bry-sur-Marne\",\"Cergy-Pr\\u00e9fecture\",\"Cergy-Saint-Christophe\",\"Champigny\",\"Charles De Gaulle-\\u00c9toile\",\"Ch\\u00e2telet-Les Halles\",\"Ch\\u00e2tou-Croissy\",\"Cit\\u00e9 Universitaire\",\"Conflans-Fin-d'Oise\",\"Villeneuve-Saint-Georges\",\"Villiers-le-Bel-Gonesse-Arnouville\",\"Port Royal\",\"Robinson\",\"Rueil-Malmaison\",\"Saint-Cyr\",\"Denfert-Rochereau\",\"Ermont-Eaubonne\",\"Fontenay-sous-Bois\",\"Franconville-Le Plessis-Bouchard\",\"Gare de Lyon\",\"Gare du Nord\",\"Garges-Sarcelles\",\"Gentilly\",\"Goussainville\",\"Haussmann-Saint-Lazare\",\"Houilles-Carri\\u00e8res-sur-Seine\",\"Joinville-le-Pont\",\"Juvisy\",\"La Croix-de-Berny-Fresnes\",\"La D\\u00e9fense\",\"La Varenne-Chennevi\\u00e8res\",\"Laplace\",\"Le Bourget\",\"Noisy-le-Grand-Mont d'Est\",\"Paris Austerlitz\",\"Pereire-Levallois\",\"Pierrefitte Stains\",\"Poissy\",\"Pontoise\",\"Versailles-Chantiers\",\"Le Parc de Saint-Maur\",\"Lognes\",\"Luxembourg\",\"Maisons-Alfort-Alfortville\",\"Vincennes\",\"Yerres\",\"\\u00c9pinay-sur-Seine\",\"Marne-la-Vall\\u00e9e-Chessy\",\"Massy-Palaiseau\",\"Melun\",\"Montgeron-Crosne\",\"Montigny-Beauchamp\",\"Nanterre-Universit\\u00e9\",\"Nanterre-Ville\",\"Nation\",\"Neuilly Porte Maillot\",\"Neuilly-Plaisance\",\"Nogent-sur-Marne\",\"Noisiel\",\"Noisy-Champs\",\"Saint-Michel\",\"Saint-Quentin-en-Yvelines\",\"Sartrouville\",\"Ach\\u00e8res-Ville\",\"Antony\",\"Sucy-Bonneuil\",\"Torcy\",\"Val d'Europe\",\"Val de Fontenay\",\"Saint-Denis\",\"Saint-Germain-en-Laye\",\"Saint-Maur-Cr\\u00e9teil\",\"Bussy-Saint-Georges\",\"Viroflay Rive Gauche\",\"Boussy-Saint-Antoine\",\"Auber\",\"Maisons-Laffitte\",\"Nanterre-Pr\\u00e9fecture\",\"Fontenay-aux-Roses\",\"Cernay\",\"Combs-la-Ville - Quincy\",\"Le V\\u00e9sinet-Le Pecq\",\"Neuville Universit\\u00e9\",\"Le V\\u00e9sinet-Centre\",\"Orsay-Ville\",\"Cergy Le Haut\",\"Porte de Clichy\",\"Javel\",\"Noisy-le-Sec\",\"Br\\u00e9tigny\",\"Cr\\u00e9teil Pompadour\",\"Invalides\",\"Vigneux-sur-Seine\",\"Corbeil-Essonnes\",\"Saint-Ouen-l'Aum\\u00f4ne\",\"Choisy-le-Roi\",\"Sevran-Beaudottes\",\"A\\u00e9roport Charles De Gaulle 1\",\"A\\u00e9roport Charles De Gaulle 2-TGV\",\"Savigny-le-Temple-Nandy\",\"Chelles-Gournay\",\"Champ de Mars\",\"Fontaine-Michalon\",\"Gagny\",\"Palaiseau\",\"Le Raincy-Villemomble-Montfermeil\",\"Le Vert-de-Maisons\",\"Les Baconnets\",\"Rosny-Bois-Perrier\",\"Saint-Ouen\",\"Vitry-sur-Seine\",\"Rosny-sous-Bois\",\"Nogent-le-Perreux\",\"Viry-Ch\\u00e2tillon\",\"Villiers-sur-Marne - Le Plessis-Tr\\u00e9vise\",\"Le Ch\\u00e9nay-Gagny\",\"Stade de France-Saint-Denis\",\"Saint-R\\u00e9my-l\\u00e8s-Chevreuse\",\"Lieusaint-Moissy\",\"Pantin\",\"Savigny-sur-Orge\",\"Parc des Expositions\",\"Le M\\u00e9e\",\"Roissy-en-Brie\",\"\\u00c9vry Courcouronnes\",\"Louvres\",\"Villepinte\",\"Grigny-Centre\",\"Ivry-sur-Seine\",\"Orangis-Bois de l'Epine\",\"\\u00c9tampes\",\"Le Bras-de-Fer\",\"Issy-Val-de-Seine\",\"Versailles Ch\\u00e2teau\",\"Rosa Parks\",\"La Courneuve-Aubervilliers\",\"Le Blanc-Mesnil\",\"Sceaux\",\"Pont de l'Alma\",\"Drancy\",\"La Plaine-Stade de France\",\"Survilliers-Fosses\",\"Sainte-Genevi\\u00e8ve-des-Bois\",\"\\u00c9pinay-sur-Orge\",\"Parc de Sceaux\",\"Saint-Gratien\",\"Boulainvilliers\",\"\\u00c9merainville-Pontault-Combault\",\"Villeparisis-Mitry-le-Neuf\",\"Vert-Galant\",\"Saint-Michel-sur-Orge\",\"Le Guichet\",\"Les Gr\\u00e9sillons\",\"Gennevilliers\",\"Pont du Garigliano\",\"Issy\",\"Sevran-Livry\",\"Mus\\u00e9e d'Orsay\",\"Massy-Verri\\u00e8res\",\"Mitry-Claye\",\"Les Ardoines\",\"Gif-sur-Yvette\",\"Orly Ville\",\"Ablon\",\"Loz\\u00e8re\",\"Bagneux\",\"Chaville-V\\u00e9lizy\",\"Bures-sur-Yvette\",\"Meudon-Val-Fleury\",\"Saint-Ouen-l'Aum\\u00f4ne-Liesse\",\"Les Boullereaux-Champigny\",\"Palaiseau-Villebon\",\"Les Saules\",\"Les Noues\",\"Villeneuve-le-Roi\",\"Arpajon\",\"Avenue du Pr\\u00e9sident Kennedy\",\"Avenue Henri Martin\",\"Pierrelaye\",\"Ozoir-la-Ferri\\u00e8re\",\"Tournan\",\"Cesson\",\"Marolles-en-Hurepoix\",\"Bouray\",\"Athis-Mons\",\"Avenue Foch\",\"Dourdan\",\"Porchefontaine\",\"Ris-Orangis\",\"Mennecy\",\"Courcelle-sur-Yvette\",\"La Hacquini\\u00e8re\",\"Villeneuve-Triage\",\"\\u00c9tr\\u00e9chy\",\"Les Yvris-Noisy-le-Grand\",\"Rungis-La Fraternelle\",\"Gretz-Armainvilliers\",\"\\u00c9vry\"],\"tickangle\":-45},\"yaxis\":{\"anchor\":\"x\",\"domain\":[0.0,1.0],\"title\":{\"text\":\"Nb de jours avec plus de 700 validations\",\"font\":{\"size\":8}}},\"legend\":{\"title\":{\"text\":\"res_com\"},\"tracegroupgap\":0},\"title\":{\"text\":\"Stations de RER les plus fr\\u00e9quent\\u00e9es au S1 2023\"},\"barmode\":\"relative\"},                        {\"responsive\": true}                    ).then(function(){\n",
       "                            \n",
       "var gd = document.getElementById('f0eba83f-1313-4e09-a448-f3d7c3a5cab9');\n",
       "var x = new MutationObserver(function (mutations, observer) {{\n",
       "        var display = window.getComputedStyle(gd).display;\n",
       "        if (!display || display === 'none') {{\n",
       "            console.log([gd, 'removed!']);\n",
       "            Plotly.purge(gd);\n",
       "            observer.disconnect();\n",
       "        }}\n",
       "}});\n",
       "\n",
       "// Listen for the removal of the full notebook cells\n",
       "var notebookContainer = gd.closest('#notebook-container');\n",
       "if (notebookContainer) {{\n",
       "    x.observe(notebookContainer, {childList: true});\n",
       "}}\n",
       "\n",
       "// Listen for the clearing of the current output cell\n",
       "var outputEl = gd.closest('.output');\n",
       "if (outputEl) {{\n",
       "    x.observe(outputEl, {childList: true});\n",
       "}}\n",
       "\n",
       "                        })                };                });            </script>        </div>"
      ]
     },
     "metadata": {},
     "output_type": "display_data"
    }
   ],
   "source": [
    "# Trier le DataFrame par 'Nb de jours avec moins de 50 validations' en ordre décroissant\n",
    "df_sorted = liste_haute_freq_stations.sort_values(by='Nb de jours avec plus de 700 validations', ascending=False)\n",
    "\n",
    "# Créer un graphique en barres interactif avec des couleurs conditionnelles\n",
    "fig = px.bar(df_sorted, x='Station de RER', y='Nb de jours avec plus de 700 validations', color='res_com',\n",
    "             title='Stations de RER les plus fréquentées au S1 2023',\n",
    "             color_discrete_map=couleurs_res_com,\n",
    "             category_orders={\"Station de RER\": df_sorted['Station de RER'].tolist()})  # Définir l'ordre des catégories\n",
    "\n",
    "# Personnaliser le graphique\n",
    "fig.update_layout(xaxis_tickangle=-45)\n",
    "fig.update_yaxes(title_font=dict(size=8))\n",
    "\n",
    "# Afficher le graphique\n",
    "fig.show()"
   ]
  },
  {
   "cell_type": "markdown",
   "id": "49110a90-ccf5-4da1-bb4e-9316fab02007",
   "metadata": {},
   "source": [
    "**Rajouter sur les stations les plus fréquentées en absloue : les valeurs extrèmes par jours**"
   ]
  },
  {
   "cell_type": "code",
   "execution_count": 174,
   "id": "38169bc0-2316-43d6-9686-3275dcfcd30a",
   "metadata": {},
   "outputs": [
    {
     "data": {
      "text/html": [
       "<div>\n",
       "<style scoped>\n",
       "    .dataframe tbody tr th:only-of-type {\n",
       "        vertical-align: middle;\n",
       "    }\n",
       "\n",
       "    .dataframe tbody tr th {\n",
       "        vertical-align: top;\n",
       "    }\n",
       "\n",
       "    .dataframe thead th {\n",
       "        text-align: right;\n",
       "    }\n",
       "</style>\n",
       "<table border=\"1\" class=\"dataframe\">\n",
       "  <thead>\n",
       "    <tr style=\"text-align: right;\">\n",
       "      <th></th>\n",
       "      <th>JOUR</th>\n",
       "      <th>nom_long</th>\n",
       "      <th>NB_VALD</th>\n",
       "    </tr>\n",
       "  </thead>\n",
       "  <tbody>\n",
       "    <tr>\n",
       "      <th>39760</th>\n",
       "      <td>2023-06-21</td>\n",
       "      <td>Châtelet-Les Halles</td>\n",
       "      <td>255400</td>\n",
       "    </tr>\n",
       "    <tr>\n",
       "      <th>41393</th>\n",
       "      <td>2023-06-28</td>\n",
       "      <td>Châtelet-Les Halles</td>\n",
       "      <td>194301</td>\n",
       "    </tr>\n",
       "    <tr>\n",
       "      <th>41626</th>\n",
       "      <td>2023-06-29</td>\n",
       "      <td>Châtelet-Les Halles</td>\n",
       "      <td>192060</td>\n",
       "    </tr>\n",
       "    <tr>\n",
       "      <th>3822</th>\n",
       "      <td>2023-01-17</td>\n",
       "      <td>La Défense</td>\n",
       "      <td>191318</td>\n",
       "    </tr>\n",
       "    <tr>\n",
       "      <th>3083</th>\n",
       "      <td>2023-01-14</td>\n",
       "      <td>Châtelet-Les Halles</td>\n",
       "      <td>189522</td>\n",
       "    </tr>\n",
       "    <tr>\n",
       "      <th>31607</th>\n",
       "      <td>2023-05-17</td>\n",
       "      <td>Châtelet-Les Halles</td>\n",
       "      <td>188804</td>\n",
       "    </tr>\n",
       "    <tr>\n",
       "      <th>4703</th>\n",
       "      <td>2023-01-21</td>\n",
       "      <td>Châtelet-Les Halles</td>\n",
       "      <td>188605</td>\n",
       "    </tr>\n",
       "    <tr>\n",
       "      <th>35563</th>\n",
       "      <td>2023-06-03</td>\n",
       "      <td>Châtelet-Les Halles</td>\n",
       "      <td>188017</td>\n",
       "    </tr>\n",
       "    <tr>\n",
       "      <th>7962</th>\n",
       "      <td>2023-02-04</td>\n",
       "      <td>Châtelet-Les Halles</td>\n",
       "      <td>184162</td>\n",
       "    </tr>\n",
       "    <tr>\n",
       "      <th>30678</th>\n",
       "      <td>2023-05-13</td>\n",
       "      <td>Châtelet-Les Halles</td>\n",
       "      <td>183644</td>\n",
       "    </tr>\n",
       "    <tr>\n",
       "      <th>2849</th>\n",
       "      <td>2023-01-13</td>\n",
       "      <td>Châtelet-Les Halles</td>\n",
       "      <td>182842</td>\n",
       "    </tr>\n",
       "    <tr>\n",
       "      <th>2381</th>\n",
       "      <td>2023-01-11</td>\n",
       "      <td>Châtelet-Les Halles</td>\n",
       "      <td>181099</td>\n",
       "    </tr>\n",
       "    <tr>\n",
       "      <th>2187</th>\n",
       "      <td>2023-01-10</td>\n",
       "      <td>La Défense</td>\n",
       "      <td>180650</td>\n",
       "    </tr>\n",
       "    <tr>\n",
       "      <th>40227</th>\n",
       "      <td>2023-06-23</td>\n",
       "      <td>Châtelet-Les Halles</td>\n",
       "      <td>179852</td>\n",
       "    </tr>\n",
       "    <tr>\n",
       "      <th>6340</th>\n",
       "      <td>2023-01-28</td>\n",
       "      <td>Châtelet-Les Halles</td>\n",
       "      <td>179687</td>\n",
       "    </tr>\n",
       "  </tbody>\n",
       "</table>\n",
       "</div>"
      ],
      "text/plain": [
       "            JOUR             nom_long  NB_VALD\n",
       "39760 2023-06-21  Châtelet-Les Halles   255400\n",
       "41393 2023-06-28  Châtelet-Les Halles   194301\n",
       "41626 2023-06-29  Châtelet-Les Halles   192060\n",
       "3822  2023-01-17           La Défense   191318\n",
       "3083  2023-01-14  Châtelet-Les Halles   189522\n",
       "31607 2023-05-17  Châtelet-Les Halles   188804\n",
       "4703  2023-01-21  Châtelet-Les Halles   188605\n",
       "35563 2023-06-03  Châtelet-Les Halles   188017\n",
       "7962  2023-02-04  Châtelet-Les Halles   184162\n",
       "30678 2023-05-13  Châtelet-Les Halles   183644\n",
       "2849  2023-01-13  Châtelet-Les Halles   182842\n",
       "2381  2023-01-11  Châtelet-Les Halles   181099\n",
       "2187  2023-01-10           La Défense   180650\n",
       "40227 2023-06-23  Châtelet-Les Halles   179852\n",
       "6340  2023-01-28  Châtelet-Les Halles   179687"
      ]
     },
     "execution_count": 174,
     "metadata": {},
     "output_type": "execute_result"
    }
   ],
   "source": [
    "haute_freq.sort_values(by=\"NB_VALD\", ascending=False).head(15)"
   ]
  },
  {
   "cell_type": "code",
   "execution_count": 177,
   "id": "659093d5-935b-4d00-9dc6-aff06c05cfab",
   "metadata": {},
   "outputs": [
    {
     "data": {
      "text/html": [
       "<div>\n",
       "<style scoped>\n",
       "    .dataframe tbody tr th:only-of-type {\n",
       "        vertical-align: middle;\n",
       "    }\n",
       "\n",
       "    .dataframe tbody tr th {\n",
       "        vertical-align: top;\n",
       "    }\n",
       "\n",
       "    .dataframe thead th {\n",
       "        text-align: right;\n",
       "    }\n",
       "</style>\n",
       "<table border=\"1\" class=\"dataframe\">\n",
       "  <thead>\n",
       "    <tr style=\"text-align: right;\">\n",
       "      <th></th>\n",
       "      <th>JOUR</th>\n",
       "      <th>nom_long</th>\n",
       "      <th>NB_VALD</th>\n",
       "    </tr>\n",
       "  </thead>\n",
       "  <tbody>\n",
       "    <tr>\n",
       "      <th>3822</th>\n",
       "      <td>2023-01-17</td>\n",
       "      <td>La Défense</td>\n",
       "      <td>191318</td>\n",
       "    </tr>\n",
       "    <tr>\n",
       "      <th>2187</th>\n",
       "      <td>2023-01-10</td>\n",
       "      <td>La Défense</td>\n",
       "      <td>180650</td>\n",
       "    </tr>\n",
       "    <tr>\n",
       "      <th>2655</th>\n",
       "      <td>2023-01-12</td>\n",
       "      <td>La Défense</td>\n",
       "      <td>178947</td>\n",
       "    </tr>\n",
       "    <tr>\n",
       "      <th>4056</th>\n",
       "      <td>2023-01-18</td>\n",
       "      <td>La Défense</td>\n",
       "      <td>178020</td>\n",
       "    </tr>\n",
       "    <tr>\n",
       "      <th>2421</th>\n",
       "      <td>2023-01-11</td>\n",
       "      <td>La Défense</td>\n",
       "      <td>175723</td>\n",
       "    </tr>\n",
       "    <tr>\n",
       "      <th>5444</th>\n",
       "      <td>2023-01-24</td>\n",
       "      <td>La Défense</td>\n",
       "      <td>170976</td>\n",
       "    </tr>\n",
       "    <tr>\n",
       "      <th>1018</th>\n",
       "      <td>2023-01-05</td>\n",
       "      <td>La Défense</td>\n",
       "      <td>168556</td>\n",
       "    </tr>\n",
       "    <tr>\n",
       "      <th>5912</th>\n",
       "      <td>2023-01-26</td>\n",
       "      <td>La Défense</td>\n",
       "      <td>166783</td>\n",
       "    </tr>\n",
       "    <tr>\n",
       "      <th>3588</th>\n",
       "      <td>2023-01-16</td>\n",
       "      <td>La Défense</td>\n",
       "      <td>166710</td>\n",
       "    </tr>\n",
       "    <tr>\n",
       "      <th>1953</th>\n",
       "      <td>2023-01-09</td>\n",
       "      <td>La Défense</td>\n",
       "      <td>165460</td>\n",
       "    </tr>\n",
       "    <tr>\n",
       "      <th>5678</th>\n",
       "      <td>2023-01-25</td>\n",
       "      <td>La Défense</td>\n",
       "      <td>163089</td>\n",
       "    </tr>\n",
       "    <tr>\n",
       "      <th>784</th>\n",
       "      <td>2023-01-04</td>\n",
       "      <td>La Défense</td>\n",
       "      <td>158504</td>\n",
       "    </tr>\n",
       "    <tr>\n",
       "      <th>5210</th>\n",
       "      <td>2023-01-23</td>\n",
       "      <td>La Défense</td>\n",
       "      <td>155711</td>\n",
       "    </tr>\n",
       "    <tr>\n",
       "      <th>550</th>\n",
       "      <td>2023-01-03</td>\n",
       "      <td>La Défense</td>\n",
       "      <td>154514</td>\n",
       "    </tr>\n",
       "    <tr>\n",
       "      <th>2889</th>\n",
       "      <td>2023-01-13</td>\n",
       "      <td>La Défense</td>\n",
       "      <td>152743</td>\n",
       "    </tr>\n",
       "  </tbody>\n",
       "</table>\n",
       "</div>"
      ],
      "text/plain": [
       "           JOUR    nom_long  NB_VALD\n",
       "3822 2023-01-17  La Défense   191318\n",
       "2187 2023-01-10  La Défense   180650\n",
       "2655 2023-01-12  La Défense   178947\n",
       "4056 2023-01-18  La Défense   178020\n",
       "2421 2023-01-11  La Défense   175723\n",
       "5444 2023-01-24  La Défense   170976\n",
       "1018 2023-01-05  La Défense   168556\n",
       "5912 2023-01-26  La Défense   166783\n",
       "3588 2023-01-16  La Défense   166710\n",
       "1953 2023-01-09  La Défense   165460\n",
       "5678 2023-01-25  La Défense   163089\n",
       "784  2023-01-04  La Défense   158504\n",
       "5210 2023-01-23  La Défense   155711\n",
       "550  2023-01-03  La Défense   154514\n",
       "2889 2023-01-13  La Défense   152743"
      ]
     },
     "execution_count": 177,
     "metadata": {},
     "output_type": "execute_result"
    }
   ],
   "source": [
    "haute_freq[haute_freq['nom_long']!='Châtelet-Les Halles'].sort_values(by=\"NB_VALD\", ascending=False).head(15)"
   ]
  },
  {
   "cell_type": "code",
   "execution_count": 185,
   "id": "e9b99ba5-4291-48c6-9004-263c5ceb25a1",
   "metadata": {},
   "outputs": [
    {
     "data": {
      "text/html": [
       "<div>\n",
       "<style scoped>\n",
       "    .dataframe tbody tr th:only-of-type {\n",
       "        vertical-align: middle;\n",
       "    }\n",
       "\n",
       "    .dataframe tbody tr th {\n",
       "        vertical-align: top;\n",
       "    }\n",
       "\n",
       "    .dataframe thead th {\n",
       "        text-align: right;\n",
       "    }\n",
       "</style>\n",
       "<table border=\"1\" class=\"dataframe\">\n",
       "  <thead>\n",
       "    <tr style=\"text-align: right;\">\n",
       "      <th></th>\n",
       "      <th>JOUR</th>\n",
       "      <th>nom_long</th>\n",
       "      <th>NB_VALD</th>\n",
       "    </tr>\n",
       "  </thead>\n",
       "  <tbody>\n",
       "    <tr>\n",
       "      <th>39760</th>\n",
       "      <td>2023-06-21</td>\n",
       "      <td>Châtelet-Les Halles</td>\n",
       "      <td>255400</td>\n",
       "    </tr>\n",
       "    <tr>\n",
       "      <th>3822</th>\n",
       "      <td>2023-01-17</td>\n",
       "      <td>La Défense</td>\n",
       "      <td>191318</td>\n",
       "    </tr>\n",
       "    <tr>\n",
       "      <th>34647</th>\n",
       "      <td>2023-05-30</td>\n",
       "      <td>Gare de Lyon</td>\n",
       "      <td>143557</td>\n",
       "    </tr>\n",
       "    <tr>\n",
       "      <th>8449</th>\n",
       "      <td>2023-02-06</td>\n",
       "      <td>Gare du Nord</td>\n",
       "      <td>101716</td>\n",
       "    </tr>\n",
       "    <tr>\n",
       "      <th>10397</th>\n",
       "      <td>2023-02-14</td>\n",
       "      <td>Paris Austerlitz</td>\n",
       "      <td>65066</td>\n",
       "    </tr>\n",
       "    <tr>\n",
       "      <th>9682</th>\n",
       "      <td>2023-02-11</td>\n",
       "      <td>Nation</td>\n",
       "      <td>46739</td>\n",
       "    </tr>\n",
       "    <tr>\n",
       "      <th>39899</th>\n",
       "      <td>2023-06-21</td>\n",
       "      <td>Saint-Michel</td>\n",
       "      <td>46576</td>\n",
       "    </tr>\n",
       "    <tr>\n",
       "      <th>5373</th>\n",
       "      <td>2023-01-24</td>\n",
       "      <td>Bibliothèque François Mitterrand</td>\n",
       "      <td>46467</td>\n",
       "    </tr>\n",
       "    <tr>\n",
       "      <th>39521</th>\n",
       "      <td>2023-06-20</td>\n",
       "      <td>Charles De Gaulle-Étoile</td>\n",
       "      <td>39902</td>\n",
       "    </tr>\n",
       "    <tr>\n",
       "      <th>18205</th>\n",
       "      <td>2023-03-20</td>\n",
       "      <td>Neuilly Porte Maillot</td>\n",
       "      <td>39193</td>\n",
       "    </tr>\n",
       "    <tr>\n",
       "      <th>36968</th>\n",
       "      <td>2023-06-09</td>\n",
       "      <td>Denfert-Rochereau</td>\n",
       "      <td>33584</td>\n",
       "    </tr>\n",
       "    <tr>\n",
       "      <th>29089</th>\n",
       "      <td>2023-05-06</td>\n",
       "      <td>Juvisy</td>\n",
       "      <td>32471</td>\n",
       "    </tr>\n",
       "    <tr>\n",
       "      <th>9250</th>\n",
       "      <td>2023-02-09</td>\n",
       "      <td>Porte de Clichy</td>\n",
       "      <td>31037</td>\n",
       "    </tr>\n",
       "    <tr>\n",
       "      <th>39753</th>\n",
       "      <td>2023-06-21</td>\n",
       "      <td>Champ de Mars</td>\n",
       "      <td>31014</td>\n",
       "    </tr>\n",
       "    <tr>\n",
       "      <th>31780</th>\n",
       "      <td>2023-05-17</td>\n",
       "      <td>Vincennes</td>\n",
       "      <td>30880</td>\n",
       "    </tr>\n",
       "  </tbody>\n",
       "</table>\n",
       "</div>"
      ],
      "text/plain": [
       "            JOUR                          nom_long  NB_VALD\n",
       "39760 2023-06-21               Châtelet-Les Halles   255400\n",
       "3822  2023-01-17                        La Défense   191318\n",
       "34647 2023-05-30                      Gare de Lyon   143557\n",
       "8449  2023-02-06                      Gare du Nord   101716\n",
       "10397 2023-02-14                  Paris Austerlitz    65066\n",
       "9682  2023-02-11                            Nation    46739\n",
       "39899 2023-06-21                      Saint-Michel    46576\n",
       "5373  2023-01-24  Bibliothèque François Mitterrand    46467\n",
       "39521 2023-06-20          Charles De Gaulle-Étoile    39902\n",
       "18205 2023-03-20             Neuilly Porte Maillot    39193\n",
       "36968 2023-06-09                 Denfert-Rochereau    33584\n",
       "29089 2023-05-06                            Juvisy    32471\n",
       "9250  2023-02-09                   Porte de Clichy    31037\n",
       "39753 2023-06-21                     Champ de Mars    31014\n",
       "31780 2023-05-17                         Vincennes    30880"
      ]
     },
     "execution_count": 185,
     "metadata": {},
     "output_type": "execute_result"
    }
   ],
   "source": [
    "idx = haute_freq.groupby('nom_long')['NB_VALD'].idxmax()\n",
    "\n",
    "# Utiliser les indices pour récupérer les lignes correspondantes du DataFrame original\n",
    "result = haute_freq.loc[idx]\n",
    "result = result.sort_values(by=\"NB_VALD\", ascending=False)\n",
    "\n",
    "# Afficher le résultat\n",
    "result.head(15)"
   ]
  },
  {
   "cell_type": "markdown",
   "id": "7e29c102-17a1-41f4-b58f-c36d3be8fad3",
   "metadata": {},
   "source": [
    "## Sur les carreaux INSEE"
   ]
  }
 ],
 "metadata": {
  "kernelspec": {
   "display_name": "Python 3 (ipykernel)",
   "language": "python",
   "name": "python3"
  },
  "language_info": {
   "codemirror_mode": {
    "name": "ipython",
    "version": 3
   },
   "file_extension": ".py",
   "mimetype": "text/x-python",
   "name": "python",
   "nbconvert_exporter": "python",
   "pygments_lexer": "ipython3",
   "version": "3.10.13"
  }
 },
 "nbformat": 4,
 "nbformat_minor": 5
}
