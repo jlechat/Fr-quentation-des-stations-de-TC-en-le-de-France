{
 "cells": [
  {
   "cell_type": "markdown",
   "id": "8a4c1469-a850-4d57-978b-060e599ab286",
   "metadata": {},
   "source": [
    "il faudrait maintenant faire des statistiques descriptives avec les données sur lesquelles on travaille pour être très rigoureux"
   ]
  },
  {
   "cell_type": "code",
   "execution_count": 76,
   "id": "7ca4769c-70f3-468f-aab7-6e019fb69cf9",
   "metadata": {},
   "outputs": [],
   "source": [
    "import pandas as pd\n",
    "from _jointure_validations_stations import df_jointure_validations_stations\n",
    "import matplotlib.pyplot as plt\n",
    "from _pre_proces_stations import df_stations"
   ]
  },
  {
   "cell_type": "code",
   "execution_count": 34,
   "id": "83648395-8cdb-4545-ae21-5cb138e645b0",
   "metadata": {},
   "outputs": [
    {
     "name": "stdout",
     "output_type": "stream",
     "text": [
      "Requirement already satisfied: plotly in /opt/mamba/lib/python3.10/site-packages (5.18.0)\n",
      "Requirement already satisfied: tenacity>=6.2.0 in /opt/mamba/lib/python3.10/site-packages (from plotly) (8.2.3)\n",
      "Requirement already satisfied: packaging in /opt/mamba/lib/python3.10/site-packages (from plotly) (23.1)\n"
     ]
    }
   ],
   "source": [
    "!pip install plotly"
   ]
  },
  {
   "cell_type": "code",
   "execution_count": 35,
   "id": "e498283c-fe8b-491b-9386-157f4fdb5db2",
   "metadata": {},
   "outputs": [],
   "source": [
    "import plotly.express as px"
   ]
  },
  {
   "cell_type": "code",
   "execution_count": 3,
   "id": "6d6923ac-50a7-48d2-a247-c5f785a3a8f1",
   "metadata": {},
   "outputs": [
    {
     "name": "stderr",
     "output_type": "stream",
     "text": [
      "ERROR 1: PROJ: proj_create_from_database: Open of /opt/mamba/share/proj failed\n"
     ]
    }
   ],
   "source": [
    "data=df_jointure_validations_stations()"
   ]
  },
  {
   "cell_type": "code",
   "execution_count": 4,
   "id": "f6c6d497-bb13-4fd0-949a-fddcbf5de162",
   "metadata": {},
   "outputs": [
    {
     "data": {
      "text/html": [
       "<div>\n",
       "<style scoped>\n",
       "    .dataframe tbody tr th:only-of-type {\n",
       "        vertical-align: middle;\n",
       "    }\n",
       "\n",
       "    .dataframe tbody tr th {\n",
       "        vertical-align: top;\n",
       "    }\n",
       "\n",
       "    .dataframe thead th {\n",
       "        text-align: right;\n",
       "    }\n",
       "</style>\n",
       "<table border=\"1\" class=\"dataframe\">\n",
       "  <thead>\n",
       "    <tr style=\"text-align: right;\">\n",
       "      <th></th>\n",
       "      <th>JOUR</th>\n",
       "      <th>lda</th>\n",
       "      <th>CATEGORIE_TITRE</th>\n",
       "      <th>NB_VALD</th>\n",
       "      <th>Mois</th>\n",
       "      <th>Année</th>\n",
       "      <th>Geo Point</th>\n",
       "      <th>Geo Shape</th>\n",
       "      <th>gares_id</th>\n",
       "      <th>nom_long</th>\n",
       "      <th>...</th>\n",
       "      <th>ind_40_54</th>\n",
       "      <th>ind_55_64</th>\n",
       "      <th>ind_65_79</th>\n",
       "      <th>ind_80p</th>\n",
       "      <th>ind_inc</th>\n",
       "      <th>pre_IDF</th>\n",
       "      <th>select</th>\n",
       "      <th>expt</th>\n",
       "      <th></th>\n",
       "      <th>res_com</th>\n",
       "    </tr>\n",
       "  </thead>\n",
       "  <tbody>\n",
       "    <tr>\n",
       "      <th>0</th>\n",
       "      <td>2023-01-01</td>\n",
       "      <td>59830</td>\n",
       "      <td>NON DEFINI</td>\n",
       "      <td>5</td>\n",
       "      <td>1</td>\n",
       "      <td>2023</td>\n",
       "      <td>48.53289010230884, 2.290082513840396</td>\n",
       "      <td>{\"coordinates\": [2.290082513840396, 48.5328901...</td>\n",
       "      <td>101</td>\n",
       "      <td>Bouray</td>\n",
       "      <td>...</td>\n",
       "      <td>138.0</td>\n",
       "      <td>87.0</td>\n",
       "      <td>83.0</td>\n",
       "      <td>46.0</td>\n",
       "      <td>1.0</td>\n",
       "      <td>1.0</td>\n",
       "      <td>1.0</td>\n",
       "      <td>1.0</td>\n",
       "      <td>NaN</td>\n",
       "      <td>RER C</td>\n",
       "    </tr>\n",
       "    <tr>\n",
       "      <th>1</th>\n",
       "      <td>2023-01-01</td>\n",
       "      <td>59830</td>\n",
       "      <td>AMETHYSTE</td>\n",
       "      <td>5</td>\n",
       "      <td>1</td>\n",
       "      <td>2023</td>\n",
       "      <td>48.53289010230884, 2.290082513840396</td>\n",
       "      <td>{\"coordinates\": [2.290082513840396, 48.5328901...</td>\n",
       "      <td>101</td>\n",
       "      <td>Bouray</td>\n",
       "      <td>...</td>\n",
       "      <td>138.0</td>\n",
       "      <td>87.0</td>\n",
       "      <td>83.0</td>\n",
       "      <td>46.0</td>\n",
       "      <td>1.0</td>\n",
       "      <td>1.0</td>\n",
       "      <td>1.0</td>\n",
       "      <td>1.0</td>\n",
       "      <td>NaN</td>\n",
       "      <td>RER C</td>\n",
       "    </tr>\n",
       "    <tr>\n",
       "      <th>2</th>\n",
       "      <td>2023-01-01</td>\n",
       "      <td>59830</td>\n",
       "      <td>FGT</td>\n",
       "      <td>5</td>\n",
       "      <td>1</td>\n",
       "      <td>2023</td>\n",
       "      <td>48.53289010230884, 2.290082513840396</td>\n",
       "      <td>{\"coordinates\": [2.290082513840396, 48.5328901...</td>\n",
       "      <td>101</td>\n",
       "      <td>Bouray</td>\n",
       "      <td>...</td>\n",
       "      <td>138.0</td>\n",
       "      <td>87.0</td>\n",
       "      <td>83.0</td>\n",
       "      <td>46.0</td>\n",
       "      <td>1.0</td>\n",
       "      <td>1.0</td>\n",
       "      <td>1.0</td>\n",
       "      <td>1.0</td>\n",
       "      <td>NaN</td>\n",
       "      <td>RER C</td>\n",
       "    </tr>\n",
       "    <tr>\n",
       "      <th>3</th>\n",
       "      <td>2023-01-01</td>\n",
       "      <td>59830</td>\n",
       "      <td>IMAGINE R</td>\n",
       "      <td>82</td>\n",
       "      <td>1</td>\n",
       "      <td>2023</td>\n",
       "      <td>48.53289010230884, 2.290082513840396</td>\n",
       "      <td>{\"coordinates\": [2.290082513840396, 48.5328901...</td>\n",
       "      <td>101</td>\n",
       "      <td>Bouray</td>\n",
       "      <td>...</td>\n",
       "      <td>138.0</td>\n",
       "      <td>87.0</td>\n",
       "      <td>83.0</td>\n",
       "      <td>46.0</td>\n",
       "      <td>1.0</td>\n",
       "      <td>1.0</td>\n",
       "      <td>1.0</td>\n",
       "      <td>1.0</td>\n",
       "      <td>NaN</td>\n",
       "      <td>RER C</td>\n",
       "    </tr>\n",
       "    <tr>\n",
       "      <th>4</th>\n",
       "      <td>2023-01-01</td>\n",
       "      <td>59830</td>\n",
       "      <td>NAVIGO</td>\n",
       "      <td>101</td>\n",
       "      <td>1</td>\n",
       "      <td>2023</td>\n",
       "      <td>48.53289010230884, 2.290082513840396</td>\n",
       "      <td>{\"coordinates\": [2.290082513840396, 48.5328901...</td>\n",
       "      <td>101</td>\n",
       "      <td>Bouray</td>\n",
       "      <td>...</td>\n",
       "      <td>138.0</td>\n",
       "      <td>87.0</td>\n",
       "      <td>83.0</td>\n",
       "      <td>46.0</td>\n",
       "      <td>1.0</td>\n",
       "      <td>1.0</td>\n",
       "      <td>1.0</td>\n",
       "      <td>1.0</td>\n",
       "      <td>NaN</td>\n",
       "      <td>RER C</td>\n",
       "    </tr>\n",
       "  </tbody>\n",
       "</table>\n",
       "<p>5 rows × 70 columns</p>\n",
       "</div>"
      ],
      "text/plain": [
       "        JOUR    lda CATEGORIE_TITRE  NB_VALD  Mois  Année  \\\n",
       "0 2023-01-01  59830      NON DEFINI        5     1   2023   \n",
       "1 2023-01-01  59830       AMETHYSTE        5     1   2023   \n",
       "2 2023-01-01  59830             FGT        5     1   2023   \n",
       "3 2023-01-01  59830       IMAGINE R       82     1   2023   \n",
       "4 2023-01-01  59830          NAVIGO      101     1   2023   \n",
       "\n",
       "                              Geo Point  \\\n",
       "0  48.53289010230884, 2.290082513840396   \n",
       "1  48.53289010230884, 2.290082513840396   \n",
       "2  48.53289010230884, 2.290082513840396   \n",
       "3  48.53289010230884, 2.290082513840396   \n",
       "4  48.53289010230884, 2.290082513840396   \n",
       "\n",
       "                                           Geo Shape  gares_id nom_long  ...  \\\n",
       "0  {\"coordinates\": [2.290082513840396, 48.5328901...       101   Bouray  ...   \n",
       "1  {\"coordinates\": [2.290082513840396, 48.5328901...       101   Bouray  ...   \n",
       "2  {\"coordinates\": [2.290082513840396, 48.5328901...       101   Bouray  ...   \n",
       "3  {\"coordinates\": [2.290082513840396, 48.5328901...       101   Bouray  ...   \n",
       "4  {\"coordinates\": [2.290082513840396, 48.5328901...       101   Bouray  ...   \n",
       "\n",
       "  ind_40_54 ind_55_64  ind_65_79 ind_80p  ind_inc pre_IDF select expt      \\\n",
       "0     138.0      87.0       83.0    46.0      1.0     1.0    1.0  1.0 NaN   \n",
       "1     138.0      87.0       83.0    46.0      1.0     1.0    1.0  1.0 NaN   \n",
       "2     138.0      87.0       83.0    46.0      1.0     1.0    1.0  1.0 NaN   \n",
       "3     138.0      87.0       83.0    46.0      1.0     1.0    1.0  1.0 NaN   \n",
       "4     138.0      87.0       83.0    46.0      1.0     1.0    1.0  1.0 NaN   \n",
       "\n",
       "  res_com  \n",
       "0   RER C  \n",
       "1   RER C  \n",
       "2   RER C  \n",
       "3   RER C  \n",
       "4   RER C  \n",
       "\n",
       "[5 rows x 70 columns]"
      ]
     },
     "execution_count": 4,
     "metadata": {},
     "output_type": "execute_result"
    }
   ],
   "source": [
    "data.head()"
   ]
  },
  {
   "cell_type": "code",
   "execution_count": 5,
   "id": "933cabe4-9f7c-4c20-81bb-d44df68788b4",
   "metadata": {},
   "outputs": [
    {
     "data": {
      "text/plain": [
       "Index(['JOUR', 'lda', 'CATEGORIE_TITRE', 'NB_VALD', 'Mois', 'Année',\n",
       "       'Geo Point', 'Geo Shape', 'gares_id', 'nom_long', 'nom_so_gar',\n",
       "       'nom_su_gar', 'id_ref_ZdC', 'nom_ZdC', 'id_ref_ZdA', 'nom_ZdA',\n",
       "       'idrefliga', 'idrefligc', 'indice_lig', 'mode_', 'tertrain', 'terrer',\n",
       "       'termetro', 'tertram', 'terval', 'exploitant', 'idf', 'principal', 'x',\n",
       "       'y', 'picto ligne', 'nom_iv', 'geometry', 'index_right', 'idcar_1km',\n",
       "       'i_est_1km', 'lcog_geo', 'ind', 'men', 'men_pauv', 'men_1ind',\n",
       "       'men_5ind', 'men_prop', 'men_fmp', 'ind_snv', 'men_surf', 'men_coll',\n",
       "       'men_mais', 'log_av45', 'log_45_70', 'log_70_90', 'log_ap90', 'log_inc',\n",
       "       'log_soc', 'ind_0_3', 'ind_4_5', 'ind_6_10', 'ind_11_17', 'ind_18_24',\n",
       "       'ind_25_39', 'ind_40_54', 'ind_55_64', 'ind_65_79', 'ind_80p',\n",
       "       'ind_inc', 'pre_IDF', 'select', 'expt', '', 'res_com'],\n",
       "      dtype='object')"
      ]
     },
     "execution_count": 5,
     "metadata": {},
     "output_type": "execute_result"
    }
   ],
   "source": [
    "data.columns"
   ]
  },
  {
   "cell_type": "markdown",
   "id": "9837cbcf-bdcf-4813-a63c-0a61f29b3ef2",
   "metadata": {},
   "source": [
    "## Sur la fréquentation des stations de RER\n",
    "Les données de validations sont obtenues à partir de tous les supports de télé-billetiques : cela signifie que les tickets en carton ne sont pas pris en compte, seuls les pass Navigo sont comptabilisés dans ces données. Voici quelques précisions sur les différentes catégories de titre : \n",
    "- **IMAGINE R** : regroupe les forfaits annuels Imagine R Scolaire et Imagine R Etudiant, forfaits réservés aux élèves, apprentis et étudiants qui permet de voyager à volonté toute l’année et dans toute l Ile-de-France.\n",
    "- **NAVIGO** : regroupe les forfaits Navigo Annuel, Navigo Mois et Navigo Semaine.\n",
    "- **AMETHYSTE** : comptabilise les forfaits Améthyste : forfait réservé aux personnes âgées ou handicapées sous conditions de ressources ou de statut, et résidant en Île-de-France. Ce forfait\n",
    "annuel permet à son bénéficiaire de se déplacer de manière illimitée sur tous les modes de transport à l intérieur des zones de validité.\n",
    "- **TST** : regroupe les forfaits hebdomadaires et mensuels à tarif réduit, accordé aux bénéficiaires\n",
    "de la Réduction Solidarité Transport, pour voyager à l’intérieur des zones choisies sur tous les\n",
    "modes de transport en Île-de-France.\n",
    "- **FGT** : comptabilise les Forfaits Navigo Gratuité Transport, forfait qui permet à certain bénéficiaire d’aides sociales de voyager gratuitement dans toute l’Île-de-France.\n",
    "- **AUTRE TITRE** : comptabilise les forfaits spéciaux.\n",
    "- **NON DEFINI** : comptabilise les validations dont le type de titre n’est pas défini (anomalies).\n",
    "\n",
    "Ensuite, il est important de noter qu'il s'agit de validations uniquement à l'entrée des stations. Il n'est donc pas question ici d'analyser les déplacements, de plutot de voir la fréquentation en \"entrée\" des stations. Pour restreindre notre analyse avec le temps que l'on a pour réaliser ce projet nous avons décider de nous restreindre uniquement aux stations de *RER*.\n",
    "\n",
    "### Fréquentation\n",
    "Dans un premier temps on s'interresse aux données de fréquentation brutes, sur tous les jours du premier semestre 2023 sur les stations de *RER*."
   ]
  },
  {
   "cell_type": "code",
   "execution_count": 16,
   "id": "a51d6654-c3ef-47f1-875a-6fde1c6da70d",
   "metadata": {},
   "outputs": [
    {
     "data": {
      "text/plain": [
       "(327424, 70)"
      ]
     },
     "execution_count": 16,
     "metadata": {},
     "output_type": "execute_result"
    }
   ],
   "source": [
    "data.shape"
   ]
  },
  {
   "cell_type": "code",
   "execution_count": 13,
   "id": "8aec5186-53ab-426b-ae9b-f75718ac7226",
   "metadata": {},
   "outputs": [
    {
     "data": {
      "text/html": [
       "<div>\n",
       "<style scoped>\n",
       "    .dataframe tbody tr th:only-of-type {\n",
       "        vertical-align: middle;\n",
       "    }\n",
       "\n",
       "    .dataframe tbody tr th {\n",
       "        vertical-align: top;\n",
       "    }\n",
       "\n",
       "    .dataframe thead th {\n",
       "        text-align: right;\n",
       "    }\n",
       "</style>\n",
       "<table border=\"1\" class=\"dataframe\">\n",
       "  <thead>\n",
       "    <tr style=\"text-align: right;\">\n",
       "      <th></th>\n",
       "      <th>NB_VALD</th>\n",
       "    </tr>\n",
       "  </thead>\n",
       "  <tbody>\n",
       "    <tr>\n",
       "      <th>count</th>\n",
       "      <td>327424.00000</td>\n",
       "    </tr>\n",
       "    <tr>\n",
       "      <th>mean</th>\n",
       "      <td>1004.92835</td>\n",
       "    </tr>\n",
       "    <tr>\n",
       "      <th>std</th>\n",
       "      <td>3786.49506</td>\n",
       "    </tr>\n",
       "    <tr>\n",
       "      <th>min</th>\n",
       "      <td>5.00000</td>\n",
       "    </tr>\n",
       "    <tr>\n",
       "      <th>25%</th>\n",
       "      <td>28.00000</td>\n",
       "    </tr>\n",
       "    <tr>\n",
       "      <th>50%</th>\n",
       "      <td>143.00000</td>\n",
       "    </tr>\n",
       "    <tr>\n",
       "      <th>75%</th>\n",
       "      <td>629.00000</td>\n",
       "    </tr>\n",
       "    <tr>\n",
       "      <th>max</th>\n",
       "      <td>128664.00000</td>\n",
       "    </tr>\n",
       "  </tbody>\n",
       "</table>\n",
       "</div>"
      ],
      "text/plain": [
       "            NB_VALD\n",
       "count  327424.00000\n",
       "mean     1004.92835\n",
       "std      3786.49506\n",
       "min         5.00000\n",
       "25%        28.00000\n",
       "50%       143.00000\n",
       "75%       629.00000\n",
       "max    128664.00000"
      ]
     },
     "execution_count": 13,
     "metadata": {},
     "output_type": "execute_result"
    }
   ],
   "source": [
    "data.loc[:,['NB_VALD']].describe()"
   ]
  },
  {
   "cell_type": "markdown",
   "id": "f7dce3b1-4e59-4456-88ba-3aa15d36ce78",
   "metadata": {},
   "source": [
    "Il y a, en moyenne, 1005 validations par jour dans les stations du *RER*, cependant cette moyenne cache de très gros écart. Il y a des stations qui sont extrèmement peu fréquentée : la documentation d'ÎDFM indique que lorsque le nombre de validations est inférieur à 5 mais strictement positif, la donnée est tronquée à 5 pour respecter les exigences de la CNIL.\n",
    "\n",
    "#### Stations de RER très peu fréquentées\n",
    "\n",
    "Une information statistique de ce tableau est également très interessante : le Q3 est inférieur à la moyenne : cela signifie que la fréquentation de certaines stations est si grande qu'elle \"gonfle\" la moyenne. Ces stations sont donc peu nombreuses au vue du nombre de stations totales du *RER* mais pourtant ce sont elles qui canalisent le plus de validation.\n",
    "\n",
    "Pour identifier les stations avec les plus faibles validations on aggrégèe les données par jour (et donc on enlève les catégories). Il faut bien prendre en compte que le nombre de validations minimales gardé est de 5, et donc que, en aggrégeant par catégorie de pass Navigo on aura mécaniquement plus de validations (l'approximation sera gonflée). Si il n'y a aucune validation dans la journée pour un titre specifique la colonne est soit à 0 soit inexistante."
   ]
  },
  {
   "cell_type": "code",
   "execution_count": 69,
   "id": "0ed18824-dbda-49fd-831e-6feefbba5e8c",
   "metadata": {},
   "outputs": [
    {
     "data": {
      "text/html": [
       "<div>\n",
       "<style scoped>\n",
       "    .dataframe tbody tr th:only-of-type {\n",
       "        vertical-align: middle;\n",
       "    }\n",
       "\n",
       "    .dataframe tbody tr th {\n",
       "        vertical-align: top;\n",
       "    }\n",
       "\n",
       "    .dataframe thead th {\n",
       "        text-align: right;\n",
       "    }\n",
       "</style>\n",
       "<table border=\"1\" class=\"dataframe\">\n",
       "  <thead>\n",
       "    <tr style=\"text-align: right;\">\n",
       "      <th></th>\n",
       "      <th>JOUR</th>\n",
       "      <th>nom_long</th>\n",
       "      <th>NB_VALD</th>\n",
       "    </tr>\n",
       "  </thead>\n",
       "  <tbody>\n",
       "    <tr>\n",
       "      <th>0</th>\n",
       "      <td>2023-01-01</td>\n",
       "      <td>Ablon</td>\n",
       "      <td>336</td>\n",
       "    </tr>\n",
       "    <tr>\n",
       "      <th>1</th>\n",
       "      <td>2023-01-01</td>\n",
       "      <td>Achères-Grand-Cormier</td>\n",
       "      <td>23</td>\n",
       "    </tr>\n",
       "    <tr>\n",
       "      <th>2</th>\n",
       "      <td>2023-01-01</td>\n",
       "      <td>Achères-Ville</td>\n",
       "      <td>872</td>\n",
       "    </tr>\n",
       "    <tr>\n",
       "      <th>3</th>\n",
       "      <td>2023-01-01</td>\n",
       "      <td>Antony</td>\n",
       "      <td>2237</td>\n",
       "    </tr>\n",
       "    <tr>\n",
       "      <th>4</th>\n",
       "      <td>2023-01-01</td>\n",
       "      <td>Arcueil-Cachan</td>\n",
       "      <td>1612</td>\n",
       "    </tr>\n",
       "    <tr>\n",
       "      <th>...</th>\n",
       "      <td>...</td>\n",
       "      <td>...</td>\n",
       "      <td>...</td>\n",
       "    </tr>\n",
       "    <tr>\n",
       "      <th>42041</th>\n",
       "      <td>2023-06-30</td>\n",
       "      <td>Épinay-sur-Seine</td>\n",
       "      <td>5184</td>\n",
       "    </tr>\n",
       "    <tr>\n",
       "      <th>42042</th>\n",
       "      <td>2023-06-30</td>\n",
       "      <td>Étampes</td>\n",
       "      <td>2583</td>\n",
       "    </tr>\n",
       "    <tr>\n",
       "      <th>42043</th>\n",
       "      <td>2023-06-30</td>\n",
       "      <td>Étréchy</td>\n",
       "      <td>612</td>\n",
       "    </tr>\n",
       "    <tr>\n",
       "      <th>42044</th>\n",
       "      <td>2023-06-30</td>\n",
       "      <td>Évry</td>\n",
       "      <td>713</td>\n",
       "    </tr>\n",
       "    <tr>\n",
       "      <th>42045</th>\n",
       "      <td>2023-06-30</td>\n",
       "      <td>Évry Courcouronnes</td>\n",
       "      <td>12624</td>\n",
       "    </tr>\n",
       "  </tbody>\n",
       "</table>\n",
       "<p>42046 rows × 3 columns</p>\n",
       "</div>"
      ],
      "text/plain": [
       "            JOUR               nom_long  NB_VALD\n",
       "0     2023-01-01                  Ablon      336\n",
       "1     2023-01-01  Achères-Grand-Cormier       23\n",
       "2     2023-01-01          Achères-Ville      872\n",
       "3     2023-01-01                 Antony     2237\n",
       "4     2023-01-01         Arcueil-Cachan     1612\n",
       "...          ...                    ...      ...\n",
       "42041 2023-06-30       Épinay-sur-Seine     5184\n",
       "42042 2023-06-30                Étampes     2583\n",
       "42043 2023-06-30                Étréchy      612\n",
       "42044 2023-06-30                   Évry      713\n",
       "42045 2023-06-30     Évry Courcouronnes    12624\n",
       "\n",
       "[42046 rows x 3 columns]"
      ]
     },
     "execution_count": 69,
     "metadata": {},
     "output_type": "execute_result"
    }
   ],
   "source": [
    "freq=data.loc[:,['JOUR', 'nom_long', 'CATEGORIE_TITRE', 'NB_VALD']]\n",
    "freq_stations = freq.groupby(['JOUR', 'nom_long'])['NB_VALD'].sum().reset_index()\n",
    "freq_stations"
   ]
  },
  {
   "cell_type": "code",
   "execution_count": 102,
   "id": "030284fb-a707-4678-be8f-70bd2a295a60",
   "metadata": {},
   "outputs": [
    {
     "data": {
      "text/html": [
       "<div>\n",
       "<style scoped>\n",
       "    .dataframe tbody tr th:only-of-type {\n",
       "        vertical-align: middle;\n",
       "    }\n",
       "\n",
       "    .dataframe tbody tr th {\n",
       "        vertical-align: top;\n",
       "    }\n",
       "\n",
       "    .dataframe thead th {\n",
       "        text-align: right;\n",
       "    }\n",
       "</style>\n",
       "<table border=\"1\" class=\"dataframe\">\n",
       "  <thead>\n",
       "    <tr style=\"text-align: right;\">\n",
       "      <th></th>\n",
       "      <th>JOUR</th>\n",
       "      <th>nom_long</th>\n",
       "      <th>NB_VALD</th>\n",
       "    </tr>\n",
       "  </thead>\n",
       "  <tbody>\n",
       "    <tr>\n",
       "      <th>1</th>\n",
       "      <td>2023-01-01</td>\n",
       "      <td>Achères-Grand-Cormier</td>\n",
       "      <td>23</td>\n",
       "    </tr>\n",
       "    <tr>\n",
       "      <th>16</th>\n",
       "      <td>2023-01-01</td>\n",
       "      <td>Boigneville</td>\n",
       "      <td>17</td>\n",
       "    </tr>\n",
       "    <tr>\n",
       "      <th>17</th>\n",
       "      <td>2023-01-01</td>\n",
       "      <td>Boissise-le-Roi</td>\n",
       "      <td>31</td>\n",
       "    </tr>\n",
       "    <tr>\n",
       "      <th>23</th>\n",
       "      <td>2023-01-01</td>\n",
       "      <td>Boutigny</td>\n",
       "      <td>23</td>\n",
       "    </tr>\n",
       "    <tr>\n",
       "      <th>29</th>\n",
       "      <td>2023-01-01</td>\n",
       "      <td>Buno-Gironville</td>\n",
       "      <td>15</td>\n",
       "    </tr>\n",
       "    <tr>\n",
       "      <th>...</th>\n",
       "      <td>...</td>\n",
       "      <td>...</td>\n",
       "      <td>...</td>\n",
       "    </tr>\n",
       "    <tr>\n",
       "      <th>41869</th>\n",
       "      <td>2023-06-30</td>\n",
       "      <td>Dourdan-la-Forêt</td>\n",
       "      <td>27</td>\n",
       "    </tr>\n",
       "    <tr>\n",
       "      <th>41946</th>\n",
       "      <td>2023-06-30</td>\n",
       "      <td>Musée d'Orsay</td>\n",
       "      <td>5</td>\n",
       "    </tr>\n",
       "    <tr>\n",
       "      <th>41993</th>\n",
       "      <td>2023-06-30</td>\n",
       "      <td>Saint-Fargeau</td>\n",
       "      <td>20</td>\n",
       "    </tr>\n",
       "    <tr>\n",
       "      <th>42010</th>\n",
       "      <td>2023-06-30</td>\n",
       "      <td>Sermaise</td>\n",
       "      <td>10</td>\n",
       "    </tr>\n",
       "    <tr>\n",
       "      <th>42036</th>\n",
       "      <td>2023-06-30</td>\n",
       "      <td>Vosves</td>\n",
       "      <td>42</td>\n",
       "    </tr>\n",
       "  </tbody>\n",
       "</table>\n",
       "<p>1787 rows × 3 columns</p>\n",
       "</div>"
      ],
      "text/plain": [
       "            JOUR               nom_long  NB_VALD\n",
       "1     2023-01-01  Achères-Grand-Cormier       23\n",
       "16    2023-01-01            Boigneville       17\n",
       "17    2023-01-01        Boissise-le-Roi       31\n",
       "23    2023-01-01               Boutigny       23\n",
       "29    2023-01-01        Buno-Gironville       15\n",
       "...          ...                    ...      ...\n",
       "41869 2023-06-30       Dourdan-la-Forêt       27\n",
       "41946 2023-06-30          Musée d'Orsay        5\n",
       "41993 2023-06-30          Saint-Fargeau       20\n",
       "42010 2023-06-30               Sermaise       10\n",
       "42036 2023-06-30                 Vosves       42\n",
       "\n",
       "[1787 rows x 3 columns]"
      ]
     },
     "execution_count": 102,
     "metadata": {},
     "output_type": "execute_result"
    }
   ],
   "source": [
    "faible_freq=freq_stations[freq_stations['NB_VALD'] <= 50]\n",
    "faible_freq"
   ]
  },
  {
   "cell_type": "markdown",
   "id": "fbadd5e7-346f-45aa-96c2-9dc7015ec0d8",
   "metadata": {},
   "source": [
    "commenter"
   ]
  },
  {
   "cell_type": "code",
   "execution_count": 103,
   "id": "f9a80304-b2f6-4e75-9e44-4d44ed843fd5",
   "metadata": {},
   "outputs": [
    {
     "data": {
      "text/plain": [
       "nom_long\n",
       "Vosves                          160\n",
       "Boigneville                     160\n",
       "Sermaise                        150\n",
       "Le Plessis-Chenet               144\n",
       "Buno-Gironville                 121\n",
       "                               ... \n",
       "Nogent-le-Perreux                 1\n",
       "Créteil Pompadour                 1\n",
       "Aéroport Charles De Gaulle 1      1\n",
       "Villepinte                        1\n",
       "Javel                             1\n",
       "Name: count, Length: 115, dtype: int64"
      ]
     },
     "execution_count": 103,
     "metadata": {},
     "output_type": "execute_result"
    }
   ],
   "source": [
    "faible_freq_stations=faible_freq.loc[:,['nom_long']]\n",
    "liste_faible_freq_stations= faible_freq_stations['nom_long'].value_counts()\n",
    "liste_faible_freq_stations"
   ]
  },
  {
   "cell_type": "markdown",
   "id": "be6587b0-5965-41c9-815d-47f0c3140227",
   "metadata": {},
   "source": [
    "commenter"
   ]
  },
  {
   "cell_type": "code",
   "execution_count": 105,
   "id": "4001b200-ac2c-4712-b02d-bae2f74fa9df",
   "metadata": {},
   "outputs": [
    {
     "data": {
      "application/vnd.plotly.v1+json": {
       "config": {
        "plotlyServerURL": "https://plot.ly"
       },
       "data": [
        {
         "alignmentgroup": "True",
         "hovertemplate": "Station de RER=%{x}<br>Nb de jours avec moins de 50 validations=%{y}<extra></extra>",
         "legendgroup": "",
         "marker": {
          "color": "skyblue",
          "pattern": {
           "shape": ""
          }
         },
         "name": "",
         "offsetgroup": "",
         "orientation": "v",
         "showlegend": false,
         "textposition": "auto",
         "type": "bar",
         "x": [
          "Vosves",
          "Boigneville",
          "Sermaise",
          "Le Plessis-Chenet",
          "Buno-Gironville",
          "Saint-Fargeau",
          "Achères-Grand-Cormier",
          "Dourdan-la-Forêt",
          "Boissise-le-Roi",
          "Le Coudray-Montceaux",
          "Villabé",
          "Grand-Bourg",
          "Maisse",
          "Essonnes-Robinson",
          "Ponthierry-Pringy",
          "Évry",
          "Ris-Orangis",
          "Bagneux",
          "Chamarande",
          "Boutigny",
          "Villeparisis-Mitry-le-Neuf",
          "La Norville",
          "Vert-Galant",
          "Sevran-Livry",
          "La Plaine-Stade de France",
          "Moulin-Galant",
          "Versailles Château",
          "La Ferté-Alais",
          "Mennecy",
          "La Courneuve-Aubervilliers",
          "Rungis-La Fraternelle",
          "Chemin d'Antony",
          "Sainte-Geneviève-des-Bois",
          "Épinay-sur-Orge",
          "Pont de Rungis",
          "Saint-Michel-sur-Orge",
          "Les Noues",
          "Drancy",
          "Ballancourt",
          "Égly",
          "Breuillet",
          "Les Yvris-Noisy-le-Grand",
          "Saint-Gratien",
          "Tournan",
          "Boulainvilliers",
          "Pantin",
          "Gretz-Armainvilliers",
          "Savigny-sur-Orge",
          "Saint-Chéron",
          "Marolles-en-Hurepoix",
          "Ozoir-la-Ferrière",
          "Le Bras-de-Fer",
          "Gennevilliers",
          "Bouray",
          "Étréchy",
          "Saint-Martin-d'Étampes",
          "Breuillet-Village",
          "Issy",
          "Lardy",
          "Villiers-sur-Marne - Le Plessis-Trévise",
          "Mitry-Claye",
          "Saint-Ouen",
          "Les Boullereaux-Champigny",
          "Grigny-Centre",
          "Villeneuve-Triage",
          "Pont du Garigliano",
          "Le Blanc-Mesnil",
          "Le Mée",
          "Cesson",
          "Les Ardoines",
          "Orangis-Bois de l'Epine",
          "Musée d'Orsay",
          "Émerainville-Pontault-Combault",
          "Les Saules",
          "Arpajon",
          "Orly Ville",
          "Ivry-sur-Seine",
          "Vitry-sur-Seine",
          "Les Baconnets",
          "Issy-Val-de-Seine",
          "Roissy-en-Brie",
          "Champ de Mars",
          "Évry Courcouronnes",
          "Rosa Parks",
          "Le Raincy-Villemomble-Montfermeil",
          "Les Grésillons",
          "Dourdan",
          "Étampes",
          "Sevran-Beaudottes",
          "Aéroport Charles De Gaulle 2-TGV",
          "Avenue du Président Kennedy",
          "Louvres",
          "Stade de France-Saint-Denis",
          "Noisy-le-Sec",
          "Lieusaint-Moissy",
          "Le Vert-de-Maisons",
          "Avenue Henri Martin",
          "Athis-Mons",
          "Villeneuve-le-Roi",
          "Survilliers-Fosses",
          "Rosny-Bois-Perrier",
          "Le Chénay-Gagny",
          "Avenue Foch",
          "Rosny-sous-Bois",
          "Gagny",
          "Chelles-Gournay",
          "Chaville-Vélizy",
          "Parc des Expositions",
          "Choisy-le-Roi",
          "Ablon",
          "Nogent-le-Perreux",
          "Créteil Pompadour",
          "Aéroport Charles De Gaulle 1",
          "Villepinte",
          "Javel"
         ],
         "xaxis": "x",
         "y": [
          160,
          160,
          150,
          144,
          121,
          74,
          68,
          67,
          65,
          65,
          35,
          28,
          28,
          26,
          26,
          23,
          23,
          20,
          20,
          19,
          16,
          15,
          14,
          14,
          12,
          12,
          12,
          10,
          10,
          10,
          10,
          9,
          9,
          9,
          8,
          8,
          8,
          8,
          8,
          7,
          7,
          7,
          7,
          7,
          7,
          7,
          7,
          6,
          6,
          6,
          6,
          6,
          6,
          5,
          5,
          5,
          5,
          5,
          5,
          5,
          5,
          5,
          5,
          5,
          5,
          4,
          4,
          4,
          4,
          4,
          4,
          4,
          4,
          4,
          3,
          3,
          3,
          3,
          3,
          3,
          3,
          3,
          3,
          2,
          2,
          2,
          2,
          2,
          2,
          2,
          2,
          2,
          2,
          2,
          2,
          2,
          2,
          2,
          2,
          1,
          1,
          1,
          1,
          1,
          1,
          1,
          1,
          1,
          1,
          1,
          1,
          1,
          1,
          1,
          1
         ],
         "yaxis": "y"
        }
       ],
       "layout": {
        "autosize": true,
        "barmode": "relative",
        "legend": {
         "tracegroupgap": 0
        },
        "template": {
         "data": {
          "bar": [
           {
            "error_x": {
             "color": "#2a3f5f"
            },
            "error_y": {
             "color": "#2a3f5f"
            },
            "marker": {
             "line": {
              "color": "#E5ECF6",
              "width": 0.5
             },
             "pattern": {
              "fillmode": "overlay",
              "size": 10,
              "solidity": 0.2
             }
            },
            "type": "bar"
           }
          ],
          "barpolar": [
           {
            "marker": {
             "line": {
              "color": "#E5ECF6",
              "width": 0.5
             },
             "pattern": {
              "fillmode": "overlay",
              "size": 10,
              "solidity": 0.2
             }
            },
            "type": "barpolar"
           }
          ],
          "carpet": [
           {
            "aaxis": {
             "endlinecolor": "#2a3f5f",
             "gridcolor": "white",
             "linecolor": "white",
             "minorgridcolor": "white",
             "startlinecolor": "#2a3f5f"
            },
            "baxis": {
             "endlinecolor": "#2a3f5f",
             "gridcolor": "white",
             "linecolor": "white",
             "minorgridcolor": "white",
             "startlinecolor": "#2a3f5f"
            },
            "type": "carpet"
           }
          ],
          "choropleth": [
           {
            "colorbar": {
             "outlinewidth": 0,
             "ticks": ""
            },
            "type": "choropleth"
           }
          ],
          "contour": [
           {
            "colorbar": {
             "outlinewidth": 0,
             "ticks": ""
            },
            "colorscale": [
             [
              0,
              "#0d0887"
             ],
             [
              0.1111111111111111,
              "#46039f"
             ],
             [
              0.2222222222222222,
              "#7201a8"
             ],
             [
              0.3333333333333333,
              "#9c179e"
             ],
             [
              0.4444444444444444,
              "#bd3786"
             ],
             [
              0.5555555555555556,
              "#d8576b"
             ],
             [
              0.6666666666666666,
              "#ed7953"
             ],
             [
              0.7777777777777778,
              "#fb9f3a"
             ],
             [
              0.8888888888888888,
              "#fdca26"
             ],
             [
              1,
              "#f0f921"
             ]
            ],
            "type": "contour"
           }
          ],
          "contourcarpet": [
           {
            "colorbar": {
             "outlinewidth": 0,
             "ticks": ""
            },
            "type": "contourcarpet"
           }
          ],
          "heatmap": [
           {
            "colorbar": {
             "outlinewidth": 0,
             "ticks": ""
            },
            "colorscale": [
             [
              0,
              "#0d0887"
             ],
             [
              0.1111111111111111,
              "#46039f"
             ],
             [
              0.2222222222222222,
              "#7201a8"
             ],
             [
              0.3333333333333333,
              "#9c179e"
             ],
             [
              0.4444444444444444,
              "#bd3786"
             ],
             [
              0.5555555555555556,
              "#d8576b"
             ],
             [
              0.6666666666666666,
              "#ed7953"
             ],
             [
              0.7777777777777778,
              "#fb9f3a"
             ],
             [
              0.8888888888888888,
              "#fdca26"
             ],
             [
              1,
              "#f0f921"
             ]
            ],
            "type": "heatmap"
           }
          ],
          "heatmapgl": [
           {
            "colorbar": {
             "outlinewidth": 0,
             "ticks": ""
            },
            "colorscale": [
             [
              0,
              "#0d0887"
             ],
             [
              0.1111111111111111,
              "#46039f"
             ],
             [
              0.2222222222222222,
              "#7201a8"
             ],
             [
              0.3333333333333333,
              "#9c179e"
             ],
             [
              0.4444444444444444,
              "#bd3786"
             ],
             [
              0.5555555555555556,
              "#d8576b"
             ],
             [
              0.6666666666666666,
              "#ed7953"
             ],
             [
              0.7777777777777778,
              "#fb9f3a"
             ],
             [
              0.8888888888888888,
              "#fdca26"
             ],
             [
              1,
              "#f0f921"
             ]
            ],
            "type": "heatmapgl"
           }
          ],
          "histogram": [
           {
            "marker": {
             "pattern": {
              "fillmode": "overlay",
              "size": 10,
              "solidity": 0.2
             }
            },
            "type": "histogram"
           }
          ],
          "histogram2d": [
           {
            "colorbar": {
             "outlinewidth": 0,
             "ticks": ""
            },
            "colorscale": [
             [
              0,
              "#0d0887"
             ],
             [
              0.1111111111111111,
              "#46039f"
             ],
             [
              0.2222222222222222,
              "#7201a8"
             ],
             [
              0.3333333333333333,
              "#9c179e"
             ],
             [
              0.4444444444444444,
              "#bd3786"
             ],
             [
              0.5555555555555556,
              "#d8576b"
             ],
             [
              0.6666666666666666,
              "#ed7953"
             ],
             [
              0.7777777777777778,
              "#fb9f3a"
             ],
             [
              0.8888888888888888,
              "#fdca26"
             ],
             [
              1,
              "#f0f921"
             ]
            ],
            "type": "histogram2d"
           }
          ],
          "histogram2dcontour": [
           {
            "colorbar": {
             "outlinewidth": 0,
             "ticks": ""
            },
            "colorscale": [
             [
              0,
              "#0d0887"
             ],
             [
              0.1111111111111111,
              "#46039f"
             ],
             [
              0.2222222222222222,
              "#7201a8"
             ],
             [
              0.3333333333333333,
              "#9c179e"
             ],
             [
              0.4444444444444444,
              "#bd3786"
             ],
             [
              0.5555555555555556,
              "#d8576b"
             ],
             [
              0.6666666666666666,
              "#ed7953"
             ],
             [
              0.7777777777777778,
              "#fb9f3a"
             ],
             [
              0.8888888888888888,
              "#fdca26"
             ],
             [
              1,
              "#f0f921"
             ]
            ],
            "type": "histogram2dcontour"
           }
          ],
          "mesh3d": [
           {
            "colorbar": {
             "outlinewidth": 0,
             "ticks": ""
            },
            "type": "mesh3d"
           }
          ],
          "parcoords": [
           {
            "line": {
             "colorbar": {
              "outlinewidth": 0,
              "ticks": ""
             }
            },
            "type": "parcoords"
           }
          ],
          "pie": [
           {
            "automargin": true,
            "type": "pie"
           }
          ],
          "scatter": [
           {
            "fillpattern": {
             "fillmode": "overlay",
             "size": 10,
             "solidity": 0.2
            },
            "type": "scatter"
           }
          ],
          "scatter3d": [
           {
            "line": {
             "colorbar": {
              "outlinewidth": 0,
              "ticks": ""
             }
            },
            "marker": {
             "colorbar": {
              "outlinewidth": 0,
              "ticks": ""
             }
            },
            "type": "scatter3d"
           }
          ],
          "scattercarpet": [
           {
            "marker": {
             "colorbar": {
              "outlinewidth": 0,
              "ticks": ""
             }
            },
            "type": "scattercarpet"
           }
          ],
          "scattergeo": [
           {
            "marker": {
             "colorbar": {
              "outlinewidth": 0,
              "ticks": ""
             }
            },
            "type": "scattergeo"
           }
          ],
          "scattergl": [
           {
            "marker": {
             "colorbar": {
              "outlinewidth": 0,
              "ticks": ""
             }
            },
            "type": "scattergl"
           }
          ],
          "scattermapbox": [
           {
            "marker": {
             "colorbar": {
              "outlinewidth": 0,
              "ticks": ""
             }
            },
            "type": "scattermapbox"
           }
          ],
          "scatterpolar": [
           {
            "marker": {
             "colorbar": {
              "outlinewidth": 0,
              "ticks": ""
             }
            },
            "type": "scatterpolar"
           }
          ],
          "scatterpolargl": [
           {
            "marker": {
             "colorbar": {
              "outlinewidth": 0,
              "ticks": ""
             }
            },
            "type": "scatterpolargl"
           }
          ],
          "scatterternary": [
           {
            "marker": {
             "colorbar": {
              "outlinewidth": 0,
              "ticks": ""
             }
            },
            "type": "scatterternary"
           }
          ],
          "surface": [
           {
            "colorbar": {
             "outlinewidth": 0,
             "ticks": ""
            },
            "colorscale": [
             [
              0,
              "#0d0887"
             ],
             [
              0.1111111111111111,
              "#46039f"
             ],
             [
              0.2222222222222222,
              "#7201a8"
             ],
             [
              0.3333333333333333,
              "#9c179e"
             ],
             [
              0.4444444444444444,
              "#bd3786"
             ],
             [
              0.5555555555555556,
              "#d8576b"
             ],
             [
              0.6666666666666666,
              "#ed7953"
             ],
             [
              0.7777777777777778,
              "#fb9f3a"
             ],
             [
              0.8888888888888888,
              "#fdca26"
             ],
             [
              1,
              "#f0f921"
             ]
            ],
            "type": "surface"
           }
          ],
          "table": [
           {
            "cells": {
             "fill": {
              "color": "#EBF0F8"
             },
             "line": {
              "color": "white"
             }
            },
            "header": {
             "fill": {
              "color": "#C8D4E3"
             },
             "line": {
              "color": "white"
             }
            },
            "type": "table"
           }
          ]
         },
         "layout": {
          "annotationdefaults": {
           "arrowcolor": "#2a3f5f",
           "arrowhead": 0,
           "arrowwidth": 1
          },
          "autotypenumbers": "strict",
          "coloraxis": {
           "colorbar": {
            "outlinewidth": 0,
            "ticks": ""
           }
          },
          "colorscale": {
           "diverging": [
            [
             0,
             "#8e0152"
            ],
            [
             0.1,
             "#c51b7d"
            ],
            [
             0.2,
             "#de77ae"
            ],
            [
             0.3,
             "#f1b6da"
            ],
            [
             0.4,
             "#fde0ef"
            ],
            [
             0.5,
             "#f7f7f7"
            ],
            [
             0.6,
             "#e6f5d0"
            ],
            [
             0.7,
             "#b8e186"
            ],
            [
             0.8,
             "#7fbc41"
            ],
            [
             0.9,
             "#4d9221"
            ],
            [
             1,
             "#276419"
            ]
           ],
           "sequential": [
            [
             0,
             "#0d0887"
            ],
            [
             0.1111111111111111,
             "#46039f"
            ],
            [
             0.2222222222222222,
             "#7201a8"
            ],
            [
             0.3333333333333333,
             "#9c179e"
            ],
            [
             0.4444444444444444,
             "#bd3786"
            ],
            [
             0.5555555555555556,
             "#d8576b"
            ],
            [
             0.6666666666666666,
             "#ed7953"
            ],
            [
             0.7777777777777778,
             "#fb9f3a"
            ],
            [
             0.8888888888888888,
             "#fdca26"
            ],
            [
             1,
             "#f0f921"
            ]
           ],
           "sequentialminus": [
            [
             0,
             "#0d0887"
            ],
            [
             0.1111111111111111,
             "#46039f"
            ],
            [
             0.2222222222222222,
             "#7201a8"
            ],
            [
             0.3333333333333333,
             "#9c179e"
            ],
            [
             0.4444444444444444,
             "#bd3786"
            ],
            [
             0.5555555555555556,
             "#d8576b"
            ],
            [
             0.6666666666666666,
             "#ed7953"
            ],
            [
             0.7777777777777778,
             "#fb9f3a"
            ],
            [
             0.8888888888888888,
             "#fdca26"
            ],
            [
             1,
             "#f0f921"
            ]
           ]
          },
          "colorway": [
           "#636efa",
           "#EF553B",
           "#00cc96",
           "#ab63fa",
           "#FFA15A",
           "#19d3f3",
           "#FF6692",
           "#B6E880",
           "#FF97FF",
           "#FECB52"
          ],
          "font": {
           "color": "#2a3f5f"
          },
          "geo": {
           "bgcolor": "white",
           "lakecolor": "white",
           "landcolor": "#E5ECF6",
           "showlakes": true,
           "showland": true,
           "subunitcolor": "white"
          },
          "hoverlabel": {
           "align": "left"
          },
          "hovermode": "closest",
          "mapbox": {
           "style": "light"
          },
          "paper_bgcolor": "white",
          "plot_bgcolor": "#E5ECF6",
          "polar": {
           "angularaxis": {
            "gridcolor": "white",
            "linecolor": "white",
            "ticks": ""
           },
           "bgcolor": "#E5ECF6",
           "radialaxis": {
            "gridcolor": "white",
            "linecolor": "white",
            "ticks": ""
           }
          },
          "scene": {
           "xaxis": {
            "backgroundcolor": "#E5ECF6",
            "gridcolor": "white",
            "gridwidth": 2,
            "linecolor": "white",
            "showbackground": true,
            "ticks": "",
            "zerolinecolor": "white"
           },
           "yaxis": {
            "backgroundcolor": "#E5ECF6",
            "gridcolor": "white",
            "gridwidth": 2,
            "linecolor": "white",
            "showbackground": true,
            "ticks": "",
            "zerolinecolor": "white"
           },
           "zaxis": {
            "backgroundcolor": "#E5ECF6",
            "gridcolor": "white",
            "gridwidth": 2,
            "linecolor": "white",
            "showbackground": true,
            "ticks": "",
            "zerolinecolor": "white"
           }
          },
          "shapedefaults": {
           "line": {
            "color": "#2a3f5f"
           }
          },
          "ternary": {
           "aaxis": {
            "gridcolor": "white",
            "linecolor": "white",
            "ticks": ""
           },
           "baxis": {
            "gridcolor": "white",
            "linecolor": "white",
            "ticks": ""
           },
           "bgcolor": "#E5ECF6",
           "caxis": {
            "gridcolor": "white",
            "linecolor": "white",
            "ticks": ""
           }
          },
          "title": {
           "x": 0.05
          },
          "xaxis": {
           "automargin": true,
           "gridcolor": "white",
           "linecolor": "white",
           "ticks": "",
           "title": {
            "standoff": 15
           },
           "zerolinecolor": "white",
           "zerolinewidth": 2
          },
          "yaxis": {
           "automargin": true,
           "gridcolor": "white",
           "linecolor": "white",
           "ticks": "",
           "title": {
            "standoff": 15
           },
           "zerolinecolor": "white",
           "zerolinewidth": 2
          }
         }
        },
        "title": {
         "text": "Stations de RER les moins fréquentées au S1 2023"
        },
        "xaxis": {
         "anchor": "y",
         "autorange": true,
         "domain": [
          0,
          1
         ],
         "range": [
          -0.5,
          114.5
         ],
         "tickangle": -45,
         "title": {
          "text": "Station de RER"
         },
         "type": "category"
        },
        "yaxis": {
         "anchor": "x",
         "autorange": true,
         "domain": [
          0,
          1
         ],
         "range": [
          0,
          168.42105263157896
         ],
         "title": {
          "font": {
           "size": 10
          },
          "text": "Nb de jours avec moins de 50 validations"
         },
         "type": "linear"
        }
       }
      },
      "image/png": "[encoded data removed]",
      "text/html": [
       "<div>                            <div id=\"e6e9862d-9531-41b6-9abe-947e4768d415\" class=\"plotly-graph-div\" style=\"height:525px; width:100%;\"></div>            <script type=\"text/javascript\">                require([\"plotly\"], function(Plotly) {                    window.PLOTLYENV=window.PLOTLYENV || {};                                    if (document.getElementById(\"e6e9862d-9531-41b6-9abe-947e4768d415\")) {                    Plotly.newPlot(                        \"e6e9862d-9531-41b6-9abe-947e4768d415\",                        [{\"alignmentgroup\":\"True\",\"hovertemplate\":\"Station de RER=%{x}\\u003cbr\\u003eNb de jours avec moins de 50 validations=%{y}\\u003cextra\\u003e\\u003c\\u002fextra\\u003e\",\"legendgroup\":\"\",\"marker\":{\"color\":\"skyblue\",\"pattern\":{\"shape\":\"\"}},\"name\":\"\",\"offsetgroup\":\"\",\"orientation\":\"v\",\"showlegend\":false,\"textposition\":\"auto\",\"x\":[\"Vosves\",\"Boigneville\",\"Sermaise\",\"Le Plessis-Chenet\",\"Buno-Gironville\",\"Saint-Fargeau\",\"Ach\\u00e8res-Grand-Cormier\",\"Dourdan-la-For\\u00eat\",\"Boissise-le-Roi\",\"Le Coudray-Montceaux\",\"Villab\\u00e9\",\"Grand-Bourg\",\"Maisse\",\"Essonnes-Robinson\",\"Ponthierry-Pringy\",\"\\u00c9vry\",\"Ris-Orangis\",\"Bagneux\",\"Chamarande\",\"Boutigny\",\"Villeparisis-Mitry-le-Neuf\",\"La Norville\",\"Vert-Galant\",\"Sevran-Livry\",\"La Plaine-Stade de France\",\"Moulin-Galant\",\"Versailles Ch\\u00e2teau\",\"La Fert\\u00e9-Alais\",\"Mennecy\",\"La Courneuve-Aubervilliers\",\"Rungis-La Fraternelle\",\"Chemin d'Antony\",\"Sainte-Genevi\\u00e8ve-des-Bois\",\"\\u00c9pinay-sur-Orge\",\"Pont de Rungis\",\"Saint-Michel-sur-Orge\",\"Les Noues\",\"Drancy\",\"Ballancourt\",\"\\u00c9gly\",\"Breuillet\",\"Les Yvris-Noisy-le-Grand\",\"Saint-Gratien\",\"Tournan\",\"Boulainvilliers\",\"Pantin\",\"Gretz-Armainvilliers\",\"Savigny-sur-Orge\",\"Saint-Ch\\u00e9ron\",\"Marolles-en-Hurepoix\",\"Ozoir-la-Ferri\\u00e8re\",\"Le Bras-de-Fer\",\"Gennevilliers\",\"Bouray\",\"\\u00c9tr\\u00e9chy\",\"Saint-Martin-d'\\u00c9tampes\",\"Breuillet-Village\",\"Issy\",\"Lardy\",\"Villiers-sur-Marne - Le Plessis-Tr\\u00e9vise\",\"Mitry-Claye\",\"Saint-Ouen\",\"Les Boullereaux-Champigny\",\"Grigny-Centre\",\"Villeneuve-Triage\",\"Pont du Garigliano\",\"Le Blanc-Mesnil\",\"Le M\\u00e9e\",\"Cesson\",\"Les Ardoines\",\"Orangis-Bois de l'Epine\",\"Mus\\u00e9e d'Orsay\",\"\\u00c9merainville-Pontault-Combault\",\"Les Saules\",\"Arpajon\",\"Orly Ville\",\"Ivry-sur-Seine\",\"Vitry-sur-Seine\",\"Les Baconnets\",\"Issy-Val-de-Seine\",\"Roissy-en-Brie\",\"Champ de Mars\",\"\\u00c9vry Courcouronnes\",\"Rosa Parks\",\"Le Raincy-Villemomble-Montfermeil\",\"Les Gr\\u00e9sillons\",\"Dourdan\",\"\\u00c9tampes\",\"Sevran-Beaudottes\",\"A\\u00e9roport Charles De Gaulle 2-TGV\",\"Avenue du Pr\\u00e9sident Kennedy\",\"Louvres\",\"Stade de France-Saint-Denis\",\"Noisy-le-Sec\",\"Lieusaint-Moissy\",\"Le Vert-de-Maisons\",\"Avenue Henri Martin\",\"Athis-Mons\",\"Villeneuve-le-Roi\",\"Survilliers-Fosses\",\"Rosny-Bois-Perrier\",\"Le Ch\\u00e9nay-Gagny\",\"Avenue Foch\",\"Rosny-sous-Bois\",\"Gagny\",\"Chelles-Gournay\",\"Chaville-V\\u00e9lizy\",\"Parc des Expositions\",\"Choisy-le-Roi\",\"Ablon\",\"Nogent-le-Perreux\",\"Cr\\u00e9teil Pompadour\",\"A\\u00e9roport Charles De Gaulle 1\",\"Villepinte\",\"Javel\"],\"xaxis\":\"x\",\"y\":[160,160,150,144,121,74,68,67,65,65,35,28,28,26,26,23,23,20,20,19,16,15,14,14,12,12,12,10,10,10,10,9,9,9,8,8,8,8,8,7,7,7,7,7,7,7,7,6,6,6,6,6,6,5,5,5,5,5,5,5,5,5,5,5,5,4,4,4,4,4,4,4,4,4,3,3,3,3,3,3,3,3,3,2,2,2,2,2,2,2,2,2,2,2,2,2,2,2,2,1,1,1,1,1,1,1,1,1,1,1,1,1,1,1,1],\"yaxis\":\"y\",\"type\":\"bar\"}],                        {\"template\":{\"data\":{\"histogram2dcontour\":[{\"type\":\"histogram2dcontour\",\"colorbar\":{\"outlinewidth\":0,\"ticks\":\"\"},\"colorscale\":[[0.0,\"#0d0887\"],[0.1111111111111111,\"#46039f\"],[0.2222222222222222,\"#7201a8\"],[0.3333333333333333,\"#9c179e\"],[0.4444444444444444,\"#bd3786\"],[0.5555555555555556,\"#d8576b\"],[0.6666666666666666,\"#ed7953\"],[0.7777777777777778,\"#fb9f3a\"],[0.8888888888888888,\"#fdca26\"],[1.0,\"#f0f921\"]]}],\"choropleth\":[{\"type\":\"choropleth\",\"colorbar\":{\"outlinewidth\":0,\"ticks\":\"\"}}],\"histogram2d\":[{\"type\":\"histogram2d\",\"colorbar\":{\"outlinewidth\":0,\"ticks\":\"\"},\"colorscale\":[[0.0,\"#0d0887\"],[0.1111111111111111,\"#46039f\"],[0.2222222222222222,\"#7201a8\"],[0.3333333333333333,\"#9c179e\"],[0.4444444444444444,\"#bd3786\"],[0.5555555555555556,\"#d8576b\"],[0.6666666666666666,\"#ed7953\"],[0.7777777777777778,\"#fb9f3a\"],[0.8888888888888888,\"#fdca26\"],[1.0,\"#f0f921\"]]}],\"heatmap\":[{\"type\":\"heatmap\",\"colorbar\":{\"outlinewidth\":0,\"ticks\":\"\"},\"colorscale\":[[0.0,\"#0d0887\"],[0.1111111111111111,\"#46039f\"],[0.2222222222222222,\"#7201a8\"],[0.3333333333333333,\"#9c179e\"],[0.4444444444444444,\"#bd3786\"],[0.5555555555555556,\"#d8576b\"],[0.6666666666666666,\"#ed7953\"],[0.7777777777777778,\"#fb9f3a\"],[0.8888888888888888,\"#fdca26\"],[1.0,\"#f0f921\"]]}],\"heatmapgl\":[{\"type\":\"heatmapgl\",\"colorbar\":{\"outlinewidth\":0,\"ticks\":\"\"},\"colorscale\":[[0.0,\"#0d0887\"],[0.1111111111111111,\"#46039f\"],[0.2222222222222222,\"#7201a8\"],[0.3333333333333333,\"#9c179e\"],[0.4444444444444444,\"#bd3786\"],[0.5555555555555556,\"#d8576b\"],[0.6666666666666666,\"#ed7953\"],[0.7777777777777778,\"#fb9f3a\"],[0.8888888888888888,\"#fdca26\"],[1.0,\"#f0f921\"]]}],\"contourcarpet\":[{\"type\":\"contourcarpet\",\"colorbar\":{\"outlinewidth\":0,\"ticks\":\"\"}}],\"contour\":[{\"type\":\"contour\",\"colorbar\":{\"outlinewidth\":0,\"ticks\":\"\"},\"colorscale\":[[0.0,\"#0d0887\"],[0.1111111111111111,\"#46039f\"],[0.2222222222222222,\"#7201a8\"],[0.3333333333333333,\"#9c179e\"],[0.4444444444444444,\"#bd3786\"],[0.5555555555555556,\"#d8576b\"],[0.6666666666666666,\"#ed7953\"],[0.7777777777777778,\"#fb9f3a\"],[0.8888888888888888,\"#fdca26\"],[1.0,\"#f0f921\"]]}],\"surface\":[{\"type\":\"surface\",\"colorbar\":{\"outlinewidth\":0,\"ticks\":\"\"},\"colorscale\":[[0.0,\"#0d0887\"],[0.1111111111111111,\"#46039f\"],[0.2222222222222222,\"#7201a8\"],[0.3333333333333333,\"#9c179e\"],[0.4444444444444444,\"#bd3786\"],[0.5555555555555556,\"#d8576b\"],[0.6666666666666666,\"#ed7953\"],[0.7777777777777778,\"#fb9f3a\"],[0.8888888888888888,\"#fdca26\"],[1.0,\"#f0f921\"]]}],\"mesh3d\":[{\"type\":\"mesh3d\",\"colorbar\":{\"outlinewidth\":0,\"ticks\":\"\"}}],\"scatter\":[{\"fillpattern\":{\"fillmode\":\"overlay\",\"size\":10,\"solidity\":0.2},\"type\":\"scatter\"}],\"parcoords\":[{\"type\":\"parcoords\",\"line\":{\"colorbar\":{\"outlinewidth\":0,\"ticks\":\"\"}}}],\"scatterpolargl\":[{\"type\":\"scatterpolargl\",\"marker\":{\"colorbar\":{\"outlinewidth\":0,\"ticks\":\"\"}}}],\"bar\":[{\"error_x\":{\"color\":\"#2a3f5f\"},\"error_y\":{\"color\":\"#2a3f5f\"},\"marker\":{\"line\":{\"color\":\"#E5ECF6\",\"width\":0.5},\"pattern\":{\"fillmode\":\"overlay\",\"size\":10,\"solidity\":0.2}},\"type\":\"bar\"}],\"scattergeo\":[{\"type\":\"scattergeo\",\"marker\":{\"colorbar\":{\"outlinewidth\":0,\"ticks\":\"\"}}}],\"scatterpolar\":[{\"type\":\"scatterpolar\",\"marker\":{\"colorbar\":{\"outlinewidth\":0,\"ticks\":\"\"}}}],\"histogram\":[{\"marker\":{\"pattern\":{\"fillmode\":\"overlay\",\"size\":10,\"solidity\":0.2}},\"type\":\"histogram\"}],\"scattergl\":[{\"type\":\"scattergl\",\"marker\":{\"colorbar\":{\"outlinewidth\":0,\"ticks\":\"\"}}}],\"scatter3d\":[{\"type\":\"scatter3d\",\"line\":{\"colorbar\":{\"outlinewidth\":0,\"ticks\":\"\"}},\"marker\":{\"colorbar\":{\"outlinewidth\":0,\"ticks\":\"\"}}}],\"scattermapbox\":[{\"type\":\"scattermapbox\",\"marker\":{\"colorbar\":{\"outlinewidth\":0,\"ticks\":\"\"}}}],\"scatterternary\":[{\"type\":\"scatterternary\",\"marker\":{\"colorbar\":{\"outlinewidth\":0,\"ticks\":\"\"}}}],\"scattercarpet\":[{\"type\":\"scattercarpet\",\"marker\":{\"colorbar\":{\"outlinewidth\":0,\"ticks\":\"\"}}}],\"carpet\":[{\"aaxis\":{\"endlinecolor\":\"#2a3f5f\",\"gridcolor\":\"white\",\"linecolor\":\"white\",\"minorgridcolor\":\"white\",\"startlinecolor\":\"#2a3f5f\"},\"baxis\":{\"endlinecolor\":\"#2a3f5f\",\"gridcolor\":\"white\",\"linecolor\":\"white\",\"minorgridcolor\":\"white\",\"startlinecolor\":\"#2a3f5f\"},\"type\":\"carpet\"}],\"table\":[{\"cells\":{\"fill\":{\"color\":\"#EBF0F8\"},\"line\":{\"color\":\"white\"}},\"header\":{\"fill\":{\"color\":\"#C8D4E3\"},\"line\":{\"color\":\"white\"}},\"type\":\"table\"}],\"barpolar\":[{\"marker\":{\"line\":{\"color\":\"#E5ECF6\",\"width\":0.5},\"pattern\":{\"fillmode\":\"overlay\",\"size\":10,\"solidity\":0.2}},\"type\":\"barpolar\"}],\"pie\":[{\"automargin\":true,\"type\":\"pie\"}]},\"layout\":{\"autotypenumbers\":\"strict\",\"colorway\":[\"#636efa\",\"#EF553B\",\"#00cc96\",\"#ab63fa\",\"#FFA15A\",\"#19d3f3\",\"#FF6692\",\"#B6E880\",\"#FF97FF\",\"#FECB52\"],\"font\":{\"color\":\"#2a3f5f\"},\"hovermode\":\"closest\",\"hoverlabel\":{\"align\":\"left\"},\"paper_bgcolor\":\"white\",\"plot_bgcolor\":\"#E5ECF6\",\"polar\":{\"bgcolor\":\"#E5ECF6\",\"angularaxis\":{\"gridcolor\":\"white\",\"linecolor\":\"white\",\"ticks\":\"\"},\"radialaxis\":{\"gridcolor\":\"white\",\"linecolor\":\"white\",\"ticks\":\"\"}},\"ternary\":{\"bgcolor\":\"#E5ECF6\",\"aaxis\":{\"gridcolor\":\"white\",\"linecolor\":\"white\",\"ticks\":\"\"},\"baxis\":{\"gridcolor\":\"white\",\"linecolor\":\"white\",\"ticks\":\"\"},\"caxis\":{\"gridcolor\":\"white\",\"linecolor\":\"white\",\"ticks\":\"\"}},\"coloraxis\":{\"colorbar\":{\"outlinewidth\":0,\"ticks\":\"\"}},\"colorscale\":{\"sequential\":[[0.0,\"#0d0887\"],[0.1111111111111111,\"#46039f\"],[0.2222222222222222,\"#7201a8\"],[0.3333333333333333,\"#9c179e\"],[0.4444444444444444,\"#bd3786\"],[0.5555555555555556,\"#d8576b\"],[0.6666666666666666,\"#ed7953\"],[0.7777777777777778,\"#fb9f3a\"],[0.8888888888888888,\"#fdca26\"],[1.0,\"#f0f921\"]],\"sequentialminus\":[[0.0,\"#0d0887\"],[0.1111111111111111,\"#46039f\"],[0.2222222222222222,\"#7201a8\"],[0.3333333333333333,\"#9c179e\"],[0.4444444444444444,\"#bd3786\"],[0.5555555555555556,\"#d8576b\"],[0.6666666666666666,\"#ed7953\"],[0.7777777777777778,\"#fb9f3a\"],[0.8888888888888888,\"#fdca26\"],[1.0,\"#f0f921\"]],\"diverging\":[[0,\"#8e0152\"],[0.1,\"#c51b7d\"],[0.2,\"#de77ae\"],[0.3,\"#f1b6da\"],[0.4,\"#fde0ef\"],[0.5,\"#f7f7f7\"],[0.6,\"#e6f5d0\"],[0.7,\"#b8e186\"],[0.8,\"#7fbc41\"],[0.9,\"#4d9221\"],[1,\"#276419\"]]},\"xaxis\":{\"gridcolor\":\"white\",\"linecolor\":\"white\",\"ticks\":\"\",\"title\":{\"standoff\":15},\"zerolinecolor\":\"white\",\"automargin\":true,\"zerolinewidth\":2},\"yaxis\":{\"gridcolor\":\"white\",\"linecolor\":\"white\",\"ticks\":\"\",\"title\":{\"standoff\":15},\"zerolinecolor\":\"white\",\"automargin\":true,\"zerolinewidth\":2},\"scene\":{\"xaxis\":{\"backgroundcolor\":\"#E5ECF6\",\"gridcolor\":\"white\",\"linecolor\":\"white\",\"showbackground\":true,\"ticks\":\"\",\"zerolinecolor\":\"white\",\"gridwidth\":2},\"yaxis\":{\"backgroundcolor\":\"#E5ECF6\",\"gridcolor\":\"white\",\"linecolor\":\"white\",\"showbackground\":true,\"ticks\":\"\",\"zerolinecolor\":\"white\",\"gridwidth\":2},\"zaxis\":{\"backgroundcolor\":\"#E5ECF6\",\"gridcolor\":\"white\",\"linecolor\":\"white\",\"showbackground\":true,\"ticks\":\"\",\"zerolinecolor\":\"white\",\"gridwidth\":2}},\"shapedefaults\":{\"line\":{\"color\":\"#2a3f5f\"}},\"annotationdefaults\":{\"arrowcolor\":\"#2a3f5f\",\"arrowhead\":0,\"arrowwidth\":1},\"geo\":{\"bgcolor\":\"white\",\"landcolor\":\"#E5ECF6\",\"subunitcolor\":\"white\",\"showland\":true,\"showlakes\":true,\"lakecolor\":\"white\"},\"title\":{\"x\":0.05},\"mapbox\":{\"style\":\"light\"}}},\"xaxis\":{\"anchor\":\"y\",\"domain\":[0.0,1.0],\"title\":{\"text\":\"Station de RER\"},\"tickangle\":-45},\"yaxis\":{\"anchor\":\"x\",\"domain\":[0.0,1.0],\"title\":{\"text\":\"Nb de jours avec moins de 50 validations\",\"font\":{\"size\":10}}},\"legend\":{\"tracegroupgap\":0},\"title\":{\"text\":\"Stations de RER les moins fr\\u00e9quent\\u00e9es au S1 2023\"},\"barmode\":\"relative\"},                        {\"responsive\": true}                    ).then(function(){\n",
       "                            \n",
       "var gd = document.getElementById('e6e9862d-9531-41b6-9abe-947e4768d415');\n",
       "var x = new MutationObserver(function (mutations, observer) {{\n",
       "        var display = window.getComputedStyle(gd).display;\n",
       "        if (!display || display === 'none') {{\n",
       "            console.log([gd, 'removed!']);\n",
       "            Plotly.purge(gd);\n",
       "            observer.disconnect();\n",
       "        }}\n",
       "}});\n",
       "\n",
       "// Listen for the removal of the full notebook cells\n",
       "var notebookContainer = gd.closest('#notebook-container');\n",
       "if (notebookContainer) {{\n",
       "    x.observe(notebookContainer, {childList: true});\n",
       "}}\n",
       "\n",
       "// Listen for the clearing of the current output cell\n",
       "var outputEl = gd.closest('.output');\n",
       "if (outputEl) {{\n",
       "    x.observe(outputEl, {childList: true});\n",
       "}}\n",
       "\n",
       "                        })                };                });            </script>        </div>"
      ]
     },
     "metadata": {},
     "output_type": "display_data"
    }
   ],
   "source": [
    "df=liste_faible_freq_stations.reset_index()\n",
    "df.columns = ['Station de RER', 'Nb de jours avec moins de 50 validations']\n",
    "\n",
    "# Créer un graphique en barres interactif\n",
    "fig = px.bar(df, x='Station de RER', y='Nb de jours avec moins de 50 validations', title='Stations de RER les moins fréquentées au S1 2023')\n",
    "\n",
    "# Personnaliser le graphique\n",
    "fig.update_layout(xaxis_tickangle=-45)  # Incliner les étiquettes de l'axe des abscisses\n",
    "fig.update_traces(marker_color='skyblue')  # Changer la couleur des barres si nécessaire\n",
    "fig.update_yaxes(title_font=dict(size=10))\n",
    "\n",
    "# Afficher le graphique\n",
    "fig.show()"
   ]
  },
  {
   "cell_type": "code",
   "execution_count": 109,
   "id": "ca2c3de4-4b7f-43d0-83f0-6c18458097e6",
   "metadata": {},
   "outputs": [],
   "source": [
    "liste_faible_freq_stations=df.merge(stations, left_on=\"Station de RER\", right_on=\"nom_long\")"
   ]
  },
  {
   "cell_type": "code",
   "execution_count": 110,
   "id": "184f3500-832b-433f-aa8e-adc8fdffc864",
   "metadata": {},
   "outputs": [
    {
     "data": {
      "text/html": [
       "<div>\n",
       "<style scoped>\n",
       "    .dataframe tbody tr th:only-of-type {\n",
       "        vertical-align: middle;\n",
       "    }\n",
       "\n",
       "    .dataframe tbody tr th {\n",
       "        vertical-align: top;\n",
       "    }\n",
       "\n",
       "    .dataframe thead th {\n",
       "        text-align: right;\n",
       "    }\n",
       "</style>\n",
       "<table border=\"1\" class=\"dataframe\">\n",
       "  <thead>\n",
       "    <tr style=\"text-align: right;\">\n",
       "      <th></th>\n",
       "      <th>Station de RER</th>\n",
       "      <th>Nb de jours avec moins de 50 validations</th>\n",
       "      <th>Geo Point</th>\n",
       "      <th>Geo Shape</th>\n",
       "      <th>gares_id</th>\n",
       "      <th>nom_long</th>\n",
       "      <th>nom_so_gar</th>\n",
       "      <th>nom_su_gar</th>\n",
       "      <th>id_ref_ZdC</th>\n",
       "      <th>nom_ZdC</th>\n",
       "      <th>...</th>\n",
       "      <th>ind_40_54</th>\n",
       "      <th>ind_55_64</th>\n",
       "      <th>ind_65_79</th>\n",
       "      <th>ind_80p</th>\n",
       "      <th>ind_inc</th>\n",
       "      <th>pre_IDF</th>\n",
       "      <th>select</th>\n",
       "      <th>expt</th>\n",
       "      <th></th>\n",
       "      <th>res_com</th>\n",
       "    </tr>\n",
       "  </thead>\n",
       "  <tbody>\n",
       "    <tr>\n",
       "      <th>0</th>\n",
       "      <td>Vosves</td>\n",
       "      <td>160</td>\n",
       "      <td>48.5151514532052, 2.5993042659192627</td>\n",
       "      <td>{\"coordinates\": [2.599304265919263, 48.5151514...</td>\n",
       "      <td>921</td>\n",
       "      <td>Vosves</td>\n",
       "      <td>NaN</td>\n",
       "      <td>NaN</td>\n",
       "      <td>61850</td>\n",
       "      <td>Vosves</td>\n",
       "      <td>...</td>\n",
       "      <td>59.0</td>\n",
       "      <td>28.0</td>\n",
       "      <td>30.2</td>\n",
       "      <td>8.1</td>\n",
       "      <td>0.0</td>\n",
       "      <td>1.0</td>\n",
       "      <td>1.0</td>\n",
       "      <td>1.0</td>\n",
       "      <td>NaN</td>\n",
       "      <td>RER D</td>\n",
       "    </tr>\n",
       "    <tr>\n",
       "      <th>1</th>\n",
       "      <td>Boigneville</td>\n",
       "      <td>160</td>\n",
       "      <td>48.34166354368213, 2.37881544331189</td>\n",
       "      <td>{\"coordinates\": [2.37881544331189, 48.34166354...</td>\n",
       "      <td>81</td>\n",
       "      <td>Boigneville</td>\n",
       "      <td>NaN</td>\n",
       "      <td>NaN</td>\n",
       "      <td>59420</td>\n",
       "      <td>Boigneville</td>\n",
       "      <td>...</td>\n",
       "      <td>8.9</td>\n",
       "      <td>12.9</td>\n",
       "      <td>9.0</td>\n",
       "      <td>4.1</td>\n",
       "      <td>0.0</td>\n",
       "      <td>1.0</td>\n",
       "      <td>1.0</td>\n",
       "      <td>1.0</td>\n",
       "      <td>NaN</td>\n",
       "      <td>RER D</td>\n",
       "    </tr>\n",
       "    <tr>\n",
       "      <th>2</th>\n",
       "      <td>Sermaise</td>\n",
       "      <td>150</td>\n",
       "      <td>48.535806508307815, 2.069381524887471</td>\n",
       "      <td>{\"coordinates\": [2.069381524887471, 48.5358065...</td>\n",
       "      <td>793</td>\n",
       "      <td>Sermaise</td>\n",
       "      <td>NaN</td>\n",
       "      <td>NaN</td>\n",
       "      <td>59842</td>\n",
       "      <td>Sermaise</td>\n",
       "      <td>...</td>\n",
       "      <td>2.7</td>\n",
       "      <td>1.9</td>\n",
       "      <td>3.3</td>\n",
       "      <td>0.4</td>\n",
       "      <td>0.0</td>\n",
       "      <td>1.0</td>\n",
       "      <td>1.0</td>\n",
       "      <td>1.0</td>\n",
       "      <td>NaN</td>\n",
       "      <td>RER C</td>\n",
       "    </tr>\n",
       "    <tr>\n",
       "      <th>3</th>\n",
       "      <td>Le Plessis-Chenet</td>\n",
       "      <td>144</td>\n",
       "      <td>48.573807792623285, 2.479469169601777</td>\n",
       "      <td>{\"coordinates\": [2.479469169601777, 48.5738077...</td>\n",
       "      <td>433</td>\n",
       "      <td>Le Plessis-Chenet</td>\n",
       "      <td>NaN</td>\n",
       "      <td>NaN</td>\n",
       "      <td>60006</td>\n",
       "      <td>Le Plessis Chenet</td>\n",
       "      <td>...</td>\n",
       "      <td>357.0</td>\n",
       "      <td>145.8</td>\n",
       "      <td>111.8</td>\n",
       "      <td>48.1</td>\n",
       "      <td>1.0</td>\n",
       "      <td>1.0</td>\n",
       "      <td>1.0</td>\n",
       "      <td>1.0</td>\n",
       "      <td>NaN</td>\n",
       "      <td>RER D</td>\n",
       "    </tr>\n",
       "    <tr>\n",
       "      <th>4</th>\n",
       "      <td>Buno-Gironville</td>\n",
       "      <td>121</td>\n",
       "      <td>48.371383291366385, 2.3872097971981003</td>\n",
       "      <td>{\"coordinates\": [2.3872097971981, 48.371383291...</td>\n",
       "      <td>117</td>\n",
       "      <td>Buno-Gironville</td>\n",
       "      <td>NaN</td>\n",
       "      <td>NaN</td>\n",
       "      <td>59447</td>\n",
       "      <td>Buno - Gironville</td>\n",
       "      <td>...</td>\n",
       "      <td>105.0</td>\n",
       "      <td>61.3</td>\n",
       "      <td>47.1</td>\n",
       "      <td>11.9</td>\n",
       "      <td>0.0</td>\n",
       "      <td>1.0</td>\n",
       "      <td>1.0</td>\n",
       "      <td>1.0</td>\n",
       "      <td>NaN</td>\n",
       "      <td>RER D</td>\n",
       "    </tr>\n",
       "    <tr>\n",
       "      <th>...</th>\n",
       "      <td>...</td>\n",
       "      <td>...</td>\n",
       "      <td>...</td>\n",
       "      <td>...</td>\n",
       "      <td>...</td>\n",
       "      <td>...</td>\n",
       "      <td>...</td>\n",
       "      <td>...</td>\n",
       "      <td>...</td>\n",
       "      <td>...</td>\n",
       "      <td>...</td>\n",
       "      <td>...</td>\n",
       "      <td>...</td>\n",
       "      <td>...</td>\n",
       "      <td>...</td>\n",
       "      <td>...</td>\n",
       "      <td>...</td>\n",
       "      <td>...</td>\n",
       "      <td>...</td>\n",
       "      <td>...</td>\n",
       "      <td>...</td>\n",
       "    </tr>\n",
       "    <tr>\n",
       "      <th>110</th>\n",
       "      <td>Nogent-le-Perreux</td>\n",
       "      <td>1</td>\n",
       "      <td>48.839341938245695, 2.494188055346114</td>\n",
       "      <td>{\"coordinates\": [2.494188055346114, 48.8393419...</td>\n",
       "      <td>593</td>\n",
       "      <td>Nogent-le-Perreux</td>\n",
       "      <td>NaN</td>\n",
       "      <td>NaN</td>\n",
       "      <td>71609</td>\n",
       "      <td>Nogent - Le Perreux</td>\n",
       "      <td>...</td>\n",
       "      <td>3226.0</td>\n",
       "      <td>1560.0</td>\n",
       "      <td>1407.0</td>\n",
       "      <td>621.0</td>\n",
       "      <td>17.5</td>\n",
       "      <td>1.0</td>\n",
       "      <td>1.0</td>\n",
       "      <td>1.0</td>\n",
       "      <td>NaN</td>\n",
       "      <td>RER E</td>\n",
       "    </tr>\n",
       "    <tr>\n",
       "      <th>111</th>\n",
       "      <td>Créteil Pompadour</td>\n",
       "      <td>1</td>\n",
       "      <td>48.77126603718618, 2.435306339706322</td>\n",
       "      <td>{\"coordinates\": [2.435306339706322, 48.7712660...</td>\n",
       "      <td>1159</td>\n",
       "      <td>Créteil Pompadour</td>\n",
       "      <td>NaN</td>\n",
       "      <td>NaN</td>\n",
       "      <td>69950</td>\n",
       "      <td>Créteil Pompadour</td>\n",
       "      <td>...</td>\n",
       "      <td>188.9</td>\n",
       "      <td>128.1</td>\n",
       "      <td>104.0</td>\n",
       "      <td>39.1</td>\n",
       "      <td>0.0</td>\n",
       "      <td>1.0</td>\n",
       "      <td>1.0</td>\n",
       "      <td>1.0</td>\n",
       "      <td>NaN</td>\n",
       "      <td>RER D</td>\n",
       "    </tr>\n",
       "    <tr>\n",
       "      <th>112</th>\n",
       "      <td>Aéroport Charles De Gaulle 1</td>\n",
       "      <td>1</td>\n",
       "      <td>49.00975645120457, 2.5612326952251054</td>\n",
       "      <td>{\"coordinates\": [2.561232695225105, 49.0097564...</td>\n",
       "      <td>743</td>\n",
       "      <td>Aéroport Charles De Gaulle 1</td>\n",
       "      <td>NaN</td>\n",
       "      <td>NaN</td>\n",
       "      <td>73596</td>\n",
       "      <td>Aéroport CDG 1 (Terminal 3)</td>\n",
       "      <td>...</td>\n",
       "      <td>0.0</td>\n",
       "      <td>0.0</td>\n",
       "      <td>0.0</td>\n",
       "      <td>0.0</td>\n",
       "      <td>NaN</td>\n",
       "      <td>NaN</td>\n",
       "      <td>NaN</td>\n",
       "      <td>NaN</td>\n",
       "      <td>667900.8037</td>\n",
       "      <td>RER B</td>\n",
       "    </tr>\n",
       "    <tr>\n",
       "      <th>113</th>\n",
       "      <td>Villepinte</td>\n",
       "      <td>1</td>\n",
       "      <td>48.962709512366416, 2.5126446278196126</td>\n",
       "      <td>{\"coordinates\": [2.512644627819613, 48.9627095...</td>\n",
       "      <td>905</td>\n",
       "      <td>Villepinte</td>\n",
       "      <td>NaN</td>\n",
       "      <td>NaN</td>\n",
       "      <td>73547</td>\n",
       "      <td>Villepinte</td>\n",
       "      <td>...</td>\n",
       "      <td>0.0</td>\n",
       "      <td>0.0</td>\n",
       "      <td>0.0</td>\n",
       "      <td>0.0</td>\n",
       "      <td>NaN</td>\n",
       "      <td>NaN</td>\n",
       "      <td>NaN</td>\n",
       "      <td>NaN</td>\n",
       "      <td>664313.9648</td>\n",
       "      <td>RER B</td>\n",
       "    </tr>\n",
       "    <tr>\n",
       "      <th>114</th>\n",
       "      <td>Javel</td>\n",
       "      <td>1</td>\n",
       "      <td>48.84715690062344, 2.2780362819959077</td>\n",
       "      <td>{\"coordinates\": [2.278036281995908, 48.8471569...</td>\n",
       "      <td>376</td>\n",
       "      <td>Javel</td>\n",
       "      <td>NaN</td>\n",
       "      <td>NaN</td>\n",
       "      <td>71150</td>\n",
       "      <td>Javel</td>\n",
       "      <td>...</td>\n",
       "      <td>3900.0</td>\n",
       "      <td>2397.9</td>\n",
       "      <td>3099.0</td>\n",
       "      <td>1484.1</td>\n",
       "      <td>4.0</td>\n",
       "      <td>1.0</td>\n",
       "      <td>1.0</td>\n",
       "      <td>1.0</td>\n",
       "      <td>NaN</td>\n",
       "      <td>RER C</td>\n",
       "    </tr>\n",
       "  </tbody>\n",
       "</table>\n",
       "<p>115 rows × 66 columns</p>\n",
       "</div>"
      ],
      "text/plain": [
       "                   Station de RER  Nb de jours avec moins de 50 validations  \\\n",
       "0                          Vosves                                       160   \n",
       "1                     Boigneville                                       160   \n",
       "2                        Sermaise                                       150   \n",
       "3               Le Plessis-Chenet                                       144   \n",
       "4                 Buno-Gironville                                       121   \n",
       "..                            ...                                       ...   \n",
       "110             Nogent-le-Perreux                                         1   \n",
       "111             Créteil Pompadour                                         1   \n",
       "112  Aéroport Charles De Gaulle 1                                         1   \n",
       "113                    Villepinte                                         1   \n",
       "114                         Javel                                         1   \n",
       "\n",
       "                                  Geo Point  \\\n",
       "0      48.5151514532052, 2.5993042659192627   \n",
       "1       48.34166354368213, 2.37881544331189   \n",
       "2     48.535806508307815, 2.069381524887471   \n",
       "3     48.573807792623285, 2.479469169601777   \n",
       "4    48.371383291366385, 2.3872097971981003   \n",
       "..                                      ...   \n",
       "110   48.839341938245695, 2.494188055346114   \n",
       "111    48.77126603718618, 2.435306339706322   \n",
       "112   49.00975645120457, 2.5612326952251054   \n",
       "113  48.962709512366416, 2.5126446278196126   \n",
       "114   48.84715690062344, 2.2780362819959077   \n",
       "\n",
       "                                             Geo Shape  gares_id  \\\n",
       "0    {\"coordinates\": [2.599304265919263, 48.5151514...       921   \n",
       "1    {\"coordinates\": [2.37881544331189, 48.34166354...        81   \n",
       "2    {\"coordinates\": [2.069381524887471, 48.5358065...       793   \n",
       "3    {\"coordinates\": [2.479469169601777, 48.5738077...       433   \n",
       "4    {\"coordinates\": [2.3872097971981, 48.371383291...       117   \n",
       "..                                                 ...       ...   \n",
       "110  {\"coordinates\": [2.494188055346114, 48.8393419...       593   \n",
       "111  {\"coordinates\": [2.435306339706322, 48.7712660...      1159   \n",
       "112  {\"coordinates\": [2.561232695225105, 49.0097564...       743   \n",
       "113  {\"coordinates\": [2.512644627819613, 48.9627095...       905   \n",
       "114  {\"coordinates\": [2.278036281995908, 48.8471569...       376   \n",
       "\n",
       "                         nom_long nom_so_gar nom_su_gar  id_ref_ZdC  \\\n",
       "0                          Vosves        NaN        NaN       61850   \n",
       "1                     Boigneville        NaN        NaN       59420   \n",
       "2                        Sermaise        NaN        NaN       59842   \n",
       "3               Le Plessis-Chenet        NaN        NaN       60006   \n",
       "4                 Buno-Gironville        NaN        NaN       59447   \n",
       "..                            ...        ...        ...         ...   \n",
       "110             Nogent-le-Perreux        NaN        NaN       71609   \n",
       "111             Créteil Pompadour        NaN        NaN       69950   \n",
       "112  Aéroport Charles De Gaulle 1        NaN        NaN       73596   \n",
       "113                    Villepinte        NaN        NaN       73547   \n",
       "114                         Javel        NaN        NaN       71150   \n",
       "\n",
       "                         nom_ZdC  ...  ind_40_54 ind_55_64 ind_65_79 ind_80p  \\\n",
       "0                         Vosves  ...       59.0      28.0      30.2     8.1   \n",
       "1                    Boigneville  ...        8.9      12.9       9.0     4.1   \n",
       "2                       Sermaise  ...        2.7       1.9       3.3     0.4   \n",
       "3              Le Plessis Chenet  ...      357.0     145.8     111.8    48.1   \n",
       "4              Buno - Gironville  ...      105.0      61.3      47.1    11.9   \n",
       "..                           ...  ...        ...       ...       ...     ...   \n",
       "110          Nogent - Le Perreux  ...     3226.0    1560.0    1407.0   621.0   \n",
       "111            Créteil Pompadour  ...      188.9     128.1     104.0    39.1   \n",
       "112  Aéroport CDG 1 (Terminal 3)  ...        0.0       0.0       0.0     0.0   \n",
       "113                   Villepinte  ...        0.0       0.0       0.0     0.0   \n",
       "114                        Javel  ...     3900.0    2397.9    3099.0  1484.1   \n",
       "\n",
       "    ind_inc pre_IDF select expt              res_com  \n",
       "0       0.0     1.0    1.0  1.0          NaN   RER D  \n",
       "1       0.0     1.0    1.0  1.0          NaN   RER D  \n",
       "2       0.0     1.0    1.0  1.0          NaN   RER C  \n",
       "3       1.0     1.0    1.0  1.0          NaN   RER D  \n",
       "4       0.0     1.0    1.0  1.0          NaN   RER D  \n",
       "..      ...     ...    ...  ...          ...     ...  \n",
       "110    17.5     1.0    1.0  1.0          NaN   RER E  \n",
       "111     0.0     1.0    1.0  1.0          NaN   RER D  \n",
       "112     NaN     NaN    NaN  NaN  667900.8037   RER B  \n",
       "113     NaN     NaN    NaN  NaN  664313.9648   RER B  \n",
       "114     4.0     1.0    1.0  1.0          NaN   RER C  \n",
       "\n",
       "[115 rows x 66 columns]"
      ]
     },
     "execution_count": 110,
     "metadata": {},
     "output_type": "execute_result"
    }
   ],
   "source": [
    "liste_faible_freq_stations"
   ]
  },
  {
   "cell_type": "code",
   "execution_count": 113,
   "id": "b38a36fd-1514-4037-ad15-7a042258482c",
   "metadata": {},
   "outputs": [
    {
     "data": {
      "application/vnd.plotly.v1+json": {
       "config": {
        "plotlyServerURL": "https://plot.ly"
       },
       "data": [
        {
         "alignmentgroup": "True",
         "hovertemplate": "res_com=RER D<br>Station de RER=%{x}<br>Nb de jours avec moins de 50 validations=%{y}<extra></extra>",
         "legendgroup": "RER D",
         "marker": {
          "color": "#636efa",
          "pattern": {
           "shape": ""
          }
         },
         "name": "RER D",
         "offsetgroup": "RER D",
         "orientation": "v",
         "showlegend": true,
         "textposition": "auto",
         "type": "bar",
         "x": [
          "Vosves",
          "Boigneville",
          "Le Plessis-Chenet",
          "Buno-Gironville",
          "Saint-Fargeau",
          "Boissise-le-Roi",
          "Le Coudray-Montceaux",
          "Villabé",
          "Grand-Bourg",
          "Maisse",
          "Essonnes-Robinson",
          "Ponthierry-Pringy",
          "Évry",
          "Ris-Orangis",
          "Boutigny",
          "Moulin-Galant",
          "La Ferté-Alais",
          "Mennecy",
          "Les Noues",
          "Ballancourt",
          "Le Bras-de-Fer",
          "Grigny-Centre",
          "Villeneuve-Triage",
          "Le Mée",
          "Cesson",
          "Orangis-Bois de l'Epine",
          "Évry Courcouronnes",
          "Louvres",
          "Stade de France-Saint-Denis",
          "Lieusaint-Moissy",
          "Le Vert-de-Maisons",
          "Survilliers-Fosses",
          "Créteil Pompadour"
         ],
         "xaxis": "x",
         "y": [
          160,
          160,
          144,
          121,
          74,
          65,
          65,
          35,
          28,
          28,
          26,
          26,
          23,
          23,
          19,
          12,
          10,
          10,
          8,
          8,
          6,
          5,
          5,
          4,
          4,
          4,
          3,
          2,
          2,
          2,
          2,
          1,
          1
         ],
         "yaxis": "y"
        },
        {
         "alignmentgroup": "True",
         "hovertemplate": "res_com=RER C<br>Station de RER=%{x}<br>Nb de jours avec moins de 50 validations=%{y}<extra></extra>",
         "legendgroup": "RER C",
         "marker": {
          "color": "#EF553B",
          "pattern": {
           "shape": ""
          }
         },
         "name": "RER C",
         "offsetgroup": "RER C",
         "orientation": "v",
         "showlegend": true,
         "textposition": "auto",
         "type": "bar",
         "x": [
          "Sermaise",
          "Dourdan-la-Forêt",
          "Chamarande",
          "La Norville",
          "Versailles Château",
          "Rungis-La Fraternelle",
          "Chemin d'Antony",
          "Sainte-Geneviève-des-Bois",
          "Épinay-sur-Orge",
          "Pont de Rungis",
          "Saint-Michel-sur-Orge",
          "Égly",
          "Breuillet",
          "Saint-Gratien",
          "Boulainvilliers",
          "Savigny-sur-Orge",
          "Saint-Chéron",
          "Marolles-en-Hurepoix",
          "Gennevilliers",
          "Bouray",
          "Étréchy",
          "Saint-Martin-d'Étampes",
          "Breuillet-Village",
          "Issy",
          "Lardy",
          "Saint-Ouen",
          "Pont du Garigliano",
          "Les Ardoines",
          "Musée d'Orsay",
          "Les Saules",
          "Arpajon",
          "Orly Ville",
          "Ivry-sur-Seine",
          "Vitry-sur-Seine",
          "Issy-Val-de-Seine",
          "Champ de Mars",
          "Les Grésillons",
          "Dourdan",
          "Étampes",
          "Avenue du Président Kennedy",
          "Avenue Henri Martin",
          "Athis-Mons",
          "Villeneuve-le-Roi",
          "Avenue Foch",
          "Chaville-Vélizy",
          "Choisy-le-Roi",
          "Ablon",
          "Javel"
         ],
         "xaxis": "x",
         "y": [
          150,
          67,
          20,
          15,
          12,
          10,
          9,
          9,
          9,
          8,
          8,
          7,
          7,
          7,
          7,
          6,
          6,
          6,
          6,
          5,
          5,
          5,
          5,
          5,
          5,
          5,
          4,
          4,
          4,
          4,
          3,
          3,
          3,
          3,
          3,
          3,
          2,
          2,
          2,
          2,
          2,
          2,
          2,
          1,
          1,
          1,
          1,
          1
         ],
         "yaxis": "y"
        },
        {
         "alignmentgroup": "True",
         "hovertemplate": "res_com=RER A<br>Station de RER=%{x}<br>Nb de jours avec moins de 50 validations=%{y}<extra></extra>",
         "legendgroup": "RER A",
         "marker": {
          "color": "#00cc96",
          "pattern": {
           "shape": ""
          }
         },
         "name": "RER A",
         "offsetgroup": "RER A",
         "orientation": "v",
         "showlegend": true,
         "textposition": "auto",
         "type": "bar",
         "x": [
          "Achères-Grand-Cormier"
         ],
         "xaxis": "x",
         "y": [
          68
         ],
         "yaxis": "y"
        },
        {
         "alignmentgroup": "True",
         "hovertemplate": "res_com=RER B<br>Station de RER=%{x}<br>Nb de jours avec moins de 50 validations=%{y}<extra></extra>",
         "legendgroup": "RER B",
         "marker": {
          "color": "#ab63fa",
          "pattern": {
           "shape": ""
          }
         },
         "name": "RER B",
         "offsetgroup": "RER B",
         "orientation": "v",
         "showlegend": true,
         "textposition": "auto",
         "type": "bar",
         "x": [
          "Bagneux",
          "Villeparisis-Mitry-le-Neuf",
          "Vert-Galant",
          "Sevran-Livry",
          "La Plaine-Stade de France",
          "La Courneuve-Aubervilliers",
          "Drancy",
          "Mitry-Claye",
          "Le Blanc-Mesnil",
          "Les Baconnets",
          "Sevran-Beaudottes",
          "Aéroport Charles De Gaulle 2-TGV",
          "Parc des Expositions",
          "Aéroport Charles De Gaulle 1",
          "Villepinte"
         ],
         "xaxis": "x",
         "y": [
          20,
          16,
          14,
          14,
          12,
          10,
          8,
          5,
          4,
          3,
          2,
          2,
          1,
          1,
          1
         ],
         "yaxis": "y"
        },
        {
         "alignmentgroup": "True",
         "hovertemplate": "res_com=RER E<br>Station de RER=%{x}<br>Nb de jours avec moins de 50 validations=%{y}<extra></extra>",
         "legendgroup": "RER E",
         "marker": {
          "color": "#FFA15A",
          "pattern": {
           "shape": ""
          }
         },
         "name": "RER E",
         "offsetgroup": "RER E",
         "orientation": "v",
         "showlegend": true,
         "textposition": "auto",
         "type": "bar",
         "x": [
          "Les Yvris-Noisy-le-Grand",
          "Tournan",
          "Pantin",
          "Gretz-Armainvilliers",
          "Ozoir-la-Ferrière",
          "Villiers-sur-Marne - Le Plessis-Trévise",
          "Les Boullereaux-Champigny",
          "Émerainville-Pontault-Combault",
          "Roissy-en-Brie",
          "Rosa Parks",
          "Le Raincy-Villemomble-Montfermeil",
          "Noisy-le-Sec",
          "Rosny-Bois-Perrier",
          "Le Chénay-Gagny",
          "Rosny-sous-Bois",
          "Gagny",
          "Chelles-Gournay",
          "Nogent-le-Perreux"
         ],
         "xaxis": "x",
         "y": [
          7,
          7,
          7,
          7,
          6,
          5,
          5,
          4,
          3,
          2,
          2,
          2,
          1,
          1,
          1,
          1,
          1,
          1
         ],
         "yaxis": "y"
        }
       ],
       "layout": {
        "autosize": true,
        "barmode": "relative",
        "legend": {
         "title": {
          "text": "res_com"
         },
         "tracegroupgap": 0
        },
        "template": {
         "data": {
          "bar": [
           {
            "error_x": {
             "color": "#2a3f5f"
            },
            "error_y": {
             "color": "#2a3f5f"
            },
            "marker": {
             "line": {
              "color": "#E5ECF6",
              "width": 0.5
             },
             "pattern": {
              "fillmode": "overlay",
              "size": 10,
              "solidity": 0.2
             }
            },
            "type": "bar"
           }
          ],
          "barpolar": [
           {
            "marker": {
             "line": {
              "color": "#E5ECF6",
              "width": 0.5
             },
             "pattern": {
              "fillmode": "overlay",
              "size": 10,
              "solidity": 0.2
             }
            },
            "type": "barpolar"
           }
          ],
          "carpet": [
           {
            "aaxis": {
             "endlinecolor": "#2a3f5f",
             "gridcolor": "white",
             "linecolor": "white",
             "minorgridcolor": "white",
             "startlinecolor": "#2a3f5f"
            },
            "baxis": {
             "endlinecolor": "#2a3f5f",
             "gridcolor": "white",
             "linecolor": "white",
             "minorgridcolor": "white",
             "startlinecolor": "#2a3f5f"
            },
            "type": "carpet"
           }
          ],
          "choropleth": [
           {
            "colorbar": {
             "outlinewidth": 0,
             "ticks": ""
            },
            "type": "choropleth"
           }
          ],
          "contour": [
           {
            "colorbar": {
             "outlinewidth": 0,
             "ticks": ""
            },
            "colorscale": [
             [
              0,
              "#0d0887"
             ],
             [
              0.1111111111111111,
              "#46039f"
             ],
             [
              0.2222222222222222,
              "#7201a8"
             ],
             [
              0.3333333333333333,
              "#9c179e"
             ],
             [
              0.4444444444444444,
              "#bd3786"
             ],
             [
              0.5555555555555556,
              "#d8576b"
             ],
             [
              0.6666666666666666,
              "#ed7953"
             ],
             [
              0.7777777777777778,
              "#fb9f3a"
             ],
             [
              0.8888888888888888,
              "#fdca26"
             ],
             [
              1,
              "#f0f921"
             ]
            ],
            "type": "contour"
           }
          ],
          "contourcarpet": [
           {
            "colorbar": {
             "outlinewidth": 0,
             "ticks": ""
            },
            "type": "contourcarpet"
           }
          ],
          "heatmap": [
           {
            "colorbar": {
             "outlinewidth": 0,
             "ticks": ""
            },
            "colorscale": [
             [
              0,
              "#0d0887"
             ],
             [
              0.1111111111111111,
              "#46039f"
             ],
             [
              0.2222222222222222,
              "#7201a8"
             ],
             [
              0.3333333333333333,
              "#9c179e"
             ],
             [
              0.4444444444444444,
              "#bd3786"
             ],
             [
              0.5555555555555556,
              "#d8576b"
             ],
             [
              0.6666666666666666,
              "#ed7953"
             ],
             [
              0.7777777777777778,
              "#fb9f3a"
             ],
             [
              0.8888888888888888,
              "#fdca26"
             ],
             [
              1,
              "#f0f921"
             ]
            ],
            "type": "heatmap"
           }
          ],
          "heatmapgl": [
           {
            "colorbar": {
             "outlinewidth": 0,
             "ticks": ""
            },
            "colorscale": [
             [
              0,
              "#0d0887"
             ],
             [
              0.1111111111111111,
              "#46039f"
             ],
             [
              0.2222222222222222,
              "#7201a8"
             ],
             [
              0.3333333333333333,
              "#9c179e"
             ],
             [
              0.4444444444444444,
              "#bd3786"
             ],
             [
              0.5555555555555556,
              "#d8576b"
             ],
             [
              0.6666666666666666,
              "#ed7953"
             ],
             [
              0.7777777777777778,
              "#fb9f3a"
             ],
             [
              0.8888888888888888,
              "#fdca26"
             ],
             [
              1,
              "#f0f921"
             ]
            ],
            "type": "heatmapgl"
           }
          ],
          "histogram": [
           {
            "marker": {
             "pattern": {
              "fillmode": "overlay",
              "size": 10,
              "solidity": 0.2
             }
            },
            "type": "histogram"
           }
          ],
          "histogram2d": [
           {
            "colorbar": {
             "outlinewidth": 0,
             "ticks": ""
            },
            "colorscale": [
             [
              0,
              "#0d0887"
             ],
             [
              0.1111111111111111,
              "#46039f"
             ],
             [
              0.2222222222222222,
              "#7201a8"
             ],
             [
              0.3333333333333333,
              "#9c179e"
             ],
             [
              0.4444444444444444,
              "#bd3786"
             ],
             [
              0.5555555555555556,
              "#d8576b"
             ],
             [
              0.6666666666666666,
              "#ed7953"
             ],
             [
              0.7777777777777778,
              "#fb9f3a"
             ],
             [
              0.8888888888888888,
              "#fdca26"
             ],
             [
              1,
              "#f0f921"
             ]
            ],
            "type": "histogram2d"
           }
          ],
          "histogram2dcontour": [
           {
            "colorbar": {
             "outlinewidth": 0,
             "ticks": ""
            },
            "colorscale": [
             [
              0,
              "#0d0887"
             ],
             [
              0.1111111111111111,
              "#46039f"
             ],
             [
              0.2222222222222222,
              "#7201a8"
             ],
             [
              0.3333333333333333,
              "#9c179e"
             ],
             [
              0.4444444444444444,
              "#bd3786"
             ],
             [
              0.5555555555555556,
              "#d8576b"
             ],
             [
              0.6666666666666666,
              "#ed7953"
             ],
             [
              0.7777777777777778,
              "#fb9f3a"
             ],
             [
              0.8888888888888888,
              "#fdca26"
             ],
             [
              1,
              "#f0f921"
             ]
            ],
            "type": "histogram2dcontour"
           }
          ],
          "mesh3d": [
           {
            "colorbar": {
             "outlinewidth": 0,
             "ticks": ""
            },
            "type": "mesh3d"
           }
          ],
          "parcoords": [
           {
            "line": {
             "colorbar": {
              "outlinewidth": 0,
              "ticks": ""
             }
            },
            "type": "parcoords"
           }
          ],
          "pie": [
           {
            "automargin": true,
            "type": "pie"
           }
          ],
          "scatter": [
           {
            "fillpattern": {
             "fillmode": "overlay",
             "size": 10,
             "solidity": 0.2
            },
            "type": "scatter"
           }
          ],
          "scatter3d": [
           {
            "line": {
             "colorbar": {
              "outlinewidth": 0,
              "ticks": ""
             }
            },
            "marker": {
             "colorbar": {
              "outlinewidth": 0,
              "ticks": ""
             }
            },
            "type": "scatter3d"
           }
          ],
          "scattercarpet": [
           {
            "marker": {
             "colorbar": {
              "outlinewidth": 0,
              "ticks": ""
             }
            },
            "type": "scattercarpet"
           }
          ],
          "scattergeo": [
           {
            "marker": {
             "colorbar": {
              "outlinewidth": 0,
              "ticks": ""
             }
            },
            "type": "scattergeo"
           }
          ],
          "scattergl": [
           {
            "marker": {
             "colorbar": {
              "outlinewidth": 0,
              "ticks": ""
             }
            },
            "type": "scattergl"
           }
          ],
          "scattermapbox": [
           {
            "marker": {
             "colorbar": {
              "outlinewidth": 0,
              "ticks": ""
             }
            },
            "type": "scattermapbox"
           }
          ],
          "scatterpolar": [
           {
            "marker": {
             "colorbar": {
              "outlinewidth": 0,
              "ticks": ""
             }
            },
            "type": "scatterpolar"
           }
          ],
          "scatterpolargl": [
           {
            "marker": {
             "colorbar": {
              "outlinewidth": 0,
              "ticks": ""
             }
            },
            "type": "scatterpolargl"
           }
          ],
          "scatterternary": [
           {
            "marker": {
             "colorbar": {
              "outlinewidth": 0,
              "ticks": ""
             }
            },
            "type": "scatterternary"
           }
          ],
          "surface": [
           {
            "colorbar": {
             "outlinewidth": 0,
             "ticks": ""
            },
            "colorscale": [
             [
              0,
              "#0d0887"
             ],
             [
              0.1111111111111111,
              "#46039f"
             ],
             [
              0.2222222222222222,
              "#7201a8"
             ],
             [
              0.3333333333333333,
              "#9c179e"
             ],
             [
              0.4444444444444444,
              "#bd3786"
             ],
             [
              0.5555555555555556,
              "#d8576b"
             ],
             [
              0.6666666666666666,
              "#ed7953"
             ],
             [
              0.7777777777777778,
              "#fb9f3a"
             ],
             [
              0.8888888888888888,
              "#fdca26"
             ],
             [
              1,
              "#f0f921"
             ]
            ],
            "type": "surface"
           }
          ],
          "table": [
           {
            "cells": {
             "fill": {
              "color": "#EBF0F8"
             },
             "line": {
              "color": "white"
             }
            },
            "header": {
             "fill": {
              "color": "#C8D4E3"
             },
             "line": {
              "color": "white"
             }
            },
            "type": "table"
           }
          ]
         },
         "layout": {
          "annotationdefaults": {
           "arrowcolor": "#2a3f5f",
           "arrowhead": 0,
           "arrowwidth": 1
          },
          "autotypenumbers": "strict",
          "coloraxis": {
           "colorbar": {
            "outlinewidth": 0,
            "ticks": ""
           }
          },
          "colorscale": {
           "diverging": [
            [
             0,
             "#8e0152"
            ],
            [
             0.1,
             "#c51b7d"
            ],
            [
             0.2,
             "#de77ae"
            ],
            [
             0.3,
             "#f1b6da"
            ],
            [
             0.4,
             "#fde0ef"
            ],
            [
             0.5,
             "#f7f7f7"
            ],
            [
             0.6,
             "#e6f5d0"
            ],
            [
             0.7,
             "#b8e186"
            ],
            [
             0.8,
             "#7fbc41"
            ],
            [
             0.9,
             "#4d9221"
            ],
            [
             1,
             "#276419"
            ]
           ],
           "sequential": [
            [
             0,
             "#0d0887"
            ],
            [
             0.1111111111111111,
             "#46039f"
            ],
            [
             0.2222222222222222,
             "#7201a8"
            ],
            [
             0.3333333333333333,
             "#9c179e"
            ],
            [
             0.4444444444444444,
             "#bd3786"
            ],
            [
             0.5555555555555556,
             "#d8576b"
            ],
            [
             0.6666666666666666,
             "#ed7953"
            ],
            [
             0.7777777777777778,
             "#fb9f3a"
            ],
            [
             0.8888888888888888,
             "#fdca26"
            ],
            [
             1,
             "#f0f921"
            ]
           ],
           "sequentialminus": [
            [
             0,
             "#0d0887"
            ],
            [
             0.1111111111111111,
             "#46039f"
            ],
            [
             0.2222222222222222,
             "#7201a8"
            ],
            [
             0.3333333333333333,
             "#9c179e"
            ],
            [
             0.4444444444444444,
             "#bd3786"
            ],
            [
             0.5555555555555556,
             "#d8576b"
            ],
            [
             0.6666666666666666,
             "#ed7953"
            ],
            [
             0.7777777777777778,
             "#fb9f3a"
            ],
            [
             0.8888888888888888,
             "#fdca26"
            ],
            [
             1,
             "#f0f921"
            ]
           ]
          },
          "colorway": [
           "#636efa",
           "#EF553B",
           "#00cc96",
           "#ab63fa",
           "#FFA15A",
           "#19d3f3",
           "#FF6692",
           "#B6E880",
           "#FF97FF",
           "#FECB52"
          ],
          "font": {
           "color": "#2a3f5f"
          },
          "geo": {
           "bgcolor": "white",
           "lakecolor": "white",
           "landcolor": "#E5ECF6",
           "showlakes": true,
           "showland": true,
           "subunitcolor": "white"
          },
          "hoverlabel": {
           "align": "left"
          },
          "hovermode": "closest",
          "mapbox": {
           "style": "light"
          },
          "paper_bgcolor": "white",
          "plot_bgcolor": "#E5ECF6",
          "polar": {
           "angularaxis": {
            "gridcolor": "white",
            "linecolor": "white",
            "ticks": ""
           },
           "bgcolor": "#E5ECF6",
           "radialaxis": {
            "gridcolor": "white",
            "linecolor": "white",
            "ticks": ""
           }
          },
          "scene": {
           "xaxis": {
            "backgroundcolor": "#E5ECF6",
            "gridcolor": "white",
            "gridwidth": 2,
            "linecolor": "white",
            "showbackground": true,
            "ticks": "",
            "zerolinecolor": "white"
           },
           "yaxis": {
            "backgroundcolor": "#E5ECF6",
            "gridcolor": "white",
            "gridwidth": 2,
            "linecolor": "white",
            "showbackground": true,
            "ticks": "",
            "zerolinecolor": "white"
           },
           "zaxis": {
            "backgroundcolor": "#E5ECF6",
            "gridcolor": "white",
            "gridwidth": 2,
            "linecolor": "white",
            "showbackground": true,
            "ticks": "",
            "zerolinecolor": "white"
           }
          },
          "shapedefaults": {
           "line": {
            "color": "#2a3f5f"
           }
          },
          "ternary": {
           "aaxis": {
            "gridcolor": "white",
            "linecolor": "white",
            "ticks": ""
           },
           "baxis": {
            "gridcolor": "white",
            "linecolor": "white",
            "ticks": ""
           },
           "bgcolor": "#E5ECF6",
           "caxis": {
            "gridcolor": "white",
            "linecolor": "white",
            "ticks": ""
           }
          },
          "title": {
           "x": 0.05
          },
          "xaxis": {
           "automargin": true,
           "gridcolor": "white",
           "linecolor": "white",
           "ticks": "",
           "title": {
            "standoff": 15
           },
           "zerolinecolor": "white",
           "zerolinewidth": 2
          },
          "yaxis": {
           "automargin": true,
           "gridcolor": "white",
           "linecolor": "white",
           "ticks": "",
           "title": {
            "standoff": 15
           },
           "zerolinecolor": "white",
           "zerolinewidth": 2
          }
         }
        },
        "title": {
         "text": "Stations de RER les moins fréquentées au S1 2023"
        },
        "xaxis": {
         "anchor": "y",
         "autorange": true,
         "domain": [
          0,
          1
         ],
         "range": [
          -0.5,
          114.5
         ],
         "tickangle": -45,
         "title": {
          "text": "Station de RER"
         },
         "type": "category"
        },
        "yaxis": {
         "anchor": "x",
         "autorange": true,
         "domain": [
          0,
          1
         ],
         "range": [
          0,
          168.42105263157896
         ],
         "title": {
          "font": {
           "size": 10
          },
          "text": "Nb de jours avec moins de 50 validations"
         },
         "type": "linear"
        }
       }
      },
      "image/png": "[encoded data removed]",
      "text/html": [
       "<div>                            <div id=\"97262a01-6fb3-4cbf-8813-94c8c51a04f4\" class=\"plotly-graph-div\" style=\"height:525px; width:100%;\"></div>            <script type=\"text/javascript\">                require([\"plotly\"], function(Plotly) {                    window.PLOTLYENV=window.PLOTLYENV || {};                                    if (document.getElementById(\"97262a01-6fb3-4cbf-8813-94c8c51a04f4\")) {                    Plotly.newPlot(                        \"97262a01-6fb3-4cbf-8813-94c8c51a04f4\",                        [{\"alignmentgroup\":\"True\",\"hovertemplate\":\"res_com=RER D\\u003cbr\\u003eStation de RER=%{x}\\u003cbr\\u003eNb de jours avec moins de 50 validations=%{y}\\u003cextra\\u003e\\u003c\\u002fextra\\u003e\",\"legendgroup\":\"RER D\",\"marker\":{\"color\":\"#636efa\",\"pattern\":{\"shape\":\"\"}},\"name\":\"RER D\",\"offsetgroup\":\"RER D\",\"orientation\":\"v\",\"showlegend\":true,\"textposition\":\"auto\",\"x\":[\"Vosves\",\"Boigneville\",\"Le Plessis-Chenet\",\"Buno-Gironville\",\"Saint-Fargeau\",\"Boissise-le-Roi\",\"Le Coudray-Montceaux\",\"Villab\\u00e9\",\"Grand-Bourg\",\"Maisse\",\"Essonnes-Robinson\",\"Ponthierry-Pringy\",\"\\u00c9vry\",\"Ris-Orangis\",\"Boutigny\",\"Moulin-Galant\",\"La Fert\\u00e9-Alais\",\"Mennecy\",\"Les Noues\",\"Ballancourt\",\"Le Bras-de-Fer\",\"Grigny-Centre\",\"Villeneuve-Triage\",\"Le M\\u00e9e\",\"Cesson\",\"Orangis-Bois de l'Epine\",\"\\u00c9vry Courcouronnes\",\"Louvres\",\"Stade de France-Saint-Denis\",\"Lieusaint-Moissy\",\"Le Vert-de-Maisons\",\"Survilliers-Fosses\",\"Cr\\u00e9teil Pompadour\"],\"xaxis\":\"x\",\"y\":[160,160,144,121,74,65,65,35,28,28,26,26,23,23,19,12,10,10,8,8,6,5,5,4,4,4,3,2,2,2,2,1,1],\"yaxis\":\"y\",\"type\":\"bar\"},{\"alignmentgroup\":\"True\",\"hovertemplate\":\"res_com=RER C\\u003cbr\\u003eStation de RER=%{x}\\u003cbr\\u003eNb de jours avec moins de 50 validations=%{y}\\u003cextra\\u003e\\u003c\\u002fextra\\u003e\",\"legendgroup\":\"RER C\",\"marker\":{\"color\":\"#EF553B\",\"pattern\":{\"shape\":\"\"}},\"name\":\"RER C\",\"offsetgroup\":\"RER C\",\"orientation\":\"v\",\"showlegend\":true,\"textposition\":\"auto\",\"x\":[\"Sermaise\",\"Dourdan-la-For\\u00eat\",\"Chamarande\",\"La Norville\",\"Versailles Ch\\u00e2teau\",\"Rungis-La Fraternelle\",\"Chemin d'Antony\",\"Sainte-Genevi\\u00e8ve-des-Bois\",\"\\u00c9pinay-sur-Orge\",\"Pont de Rungis\",\"Saint-Michel-sur-Orge\",\"\\u00c9gly\",\"Breuillet\",\"Saint-Gratien\",\"Boulainvilliers\",\"Savigny-sur-Orge\",\"Saint-Ch\\u00e9ron\",\"Marolles-en-Hurepoix\",\"Gennevilliers\",\"Bouray\",\"\\u00c9tr\\u00e9chy\",\"Saint-Martin-d'\\u00c9tampes\",\"Breuillet-Village\",\"Issy\",\"Lardy\",\"Saint-Ouen\",\"Pont du Garigliano\",\"Les Ardoines\",\"Mus\\u00e9e d'Orsay\",\"Les Saules\",\"Arpajon\",\"Orly Ville\",\"Ivry-sur-Seine\",\"Vitry-sur-Seine\",\"Issy-Val-de-Seine\",\"Champ de Mars\",\"Les Gr\\u00e9sillons\",\"Dourdan\",\"\\u00c9tampes\",\"Avenue du Pr\\u00e9sident Kennedy\",\"Avenue Henri Martin\",\"Athis-Mons\",\"Villeneuve-le-Roi\",\"Avenue Foch\",\"Chaville-V\\u00e9lizy\",\"Choisy-le-Roi\",\"Ablon\",\"Javel\"],\"xaxis\":\"x\",\"y\":[150,67,20,15,12,10,9,9,9,8,8,7,7,7,7,6,6,6,6,5,5,5,5,5,5,5,4,4,4,4,3,3,3,3,3,3,2,2,2,2,2,2,2,1,1,1,1,1],\"yaxis\":\"y\",\"type\":\"bar\"},{\"alignmentgroup\":\"True\",\"hovertemplate\":\"res_com=RER A\\u003cbr\\u003eStation de RER=%{x}\\u003cbr\\u003eNb de jours avec moins de 50 validations=%{y}\\u003cextra\\u003e\\u003c\\u002fextra\\u003e\",\"legendgroup\":\"RER A\",\"marker\":{\"color\":\"#00cc96\",\"pattern\":{\"shape\":\"\"}},\"name\":\"RER A\",\"offsetgroup\":\"RER A\",\"orientation\":\"v\",\"showlegend\":true,\"textposition\":\"auto\",\"x\":[\"Ach\\u00e8res-Grand-Cormier\"],\"xaxis\":\"x\",\"y\":[68],\"yaxis\":\"y\",\"type\":\"bar\"},{\"alignmentgroup\":\"True\",\"hovertemplate\":\"res_com=RER B\\u003cbr\\u003eStation de RER=%{x}\\u003cbr\\u003eNb de jours avec moins de 50 validations=%{y}\\u003cextra\\u003e\\u003c\\u002fextra\\u003e\",\"legendgroup\":\"RER B\",\"marker\":{\"color\":\"#ab63fa\",\"pattern\":{\"shape\":\"\"}},\"name\":\"RER B\",\"offsetgroup\":\"RER B\",\"orientation\":\"v\",\"showlegend\":true,\"textposition\":\"auto\",\"x\":[\"Bagneux\",\"Villeparisis-Mitry-le-Neuf\",\"Vert-Galant\",\"Sevran-Livry\",\"La Plaine-Stade de France\",\"La Courneuve-Aubervilliers\",\"Drancy\",\"Mitry-Claye\",\"Le Blanc-Mesnil\",\"Les Baconnets\",\"Sevran-Beaudottes\",\"A\\u00e9roport Charles De Gaulle 2-TGV\",\"Parc des Expositions\",\"A\\u00e9roport Charles De Gaulle 1\",\"Villepinte\"],\"xaxis\":\"x\",\"y\":[20,16,14,14,12,10,8,5,4,3,2,2,1,1,1],\"yaxis\":\"y\",\"type\":\"bar\"},{\"alignmentgroup\":\"True\",\"hovertemplate\":\"res_com=RER E\\u003cbr\\u003eStation de RER=%{x}\\u003cbr\\u003eNb de jours avec moins de 50 validations=%{y}\\u003cextra\\u003e\\u003c\\u002fextra\\u003e\",\"legendgroup\":\"RER E\",\"marker\":{\"color\":\"#FFA15A\",\"pattern\":{\"shape\":\"\"}},\"name\":\"RER E\",\"offsetgroup\":\"RER E\",\"orientation\":\"v\",\"showlegend\":true,\"textposition\":\"auto\",\"x\":[\"Les Yvris-Noisy-le-Grand\",\"Tournan\",\"Pantin\",\"Gretz-Armainvilliers\",\"Ozoir-la-Ferri\\u00e8re\",\"Villiers-sur-Marne - Le Plessis-Tr\\u00e9vise\",\"Les Boullereaux-Champigny\",\"\\u00c9merainville-Pontault-Combault\",\"Roissy-en-Brie\",\"Rosa Parks\",\"Le Raincy-Villemomble-Montfermeil\",\"Noisy-le-Sec\",\"Rosny-Bois-Perrier\",\"Le Ch\\u00e9nay-Gagny\",\"Rosny-sous-Bois\",\"Gagny\",\"Chelles-Gournay\",\"Nogent-le-Perreux\"],\"xaxis\":\"x\",\"y\":[7,7,7,7,6,5,5,4,3,2,2,2,1,1,1,1,1,1],\"yaxis\":\"y\",\"type\":\"bar\"}],                        {\"template\":{\"data\":{\"histogram2dcontour\":[{\"type\":\"histogram2dcontour\",\"colorbar\":{\"outlinewidth\":0,\"ticks\":\"\"},\"colorscale\":[[0.0,\"#0d0887\"],[0.1111111111111111,\"#46039f\"],[0.2222222222222222,\"#7201a8\"],[0.3333333333333333,\"#9c179e\"],[0.4444444444444444,\"#bd3786\"],[0.5555555555555556,\"#d8576b\"],[0.6666666666666666,\"#ed7953\"],[0.7777777777777778,\"#fb9f3a\"],[0.8888888888888888,\"#fdca26\"],[1.0,\"#f0f921\"]]}],\"choropleth\":[{\"type\":\"choropleth\",\"colorbar\":{\"outlinewidth\":0,\"ticks\":\"\"}}],\"histogram2d\":[{\"type\":\"histogram2d\",\"colorbar\":{\"outlinewidth\":0,\"ticks\":\"\"},\"colorscale\":[[0.0,\"#0d0887\"],[0.1111111111111111,\"#46039f\"],[0.2222222222222222,\"#7201a8\"],[0.3333333333333333,\"#9c179e\"],[0.4444444444444444,\"#bd3786\"],[0.5555555555555556,\"#d8576b\"],[0.6666666666666666,\"#ed7953\"],[0.7777777777777778,\"#fb9f3a\"],[0.8888888888888888,\"#fdca26\"],[1.0,\"#f0f921\"]]}],\"heatmap\":[{\"type\":\"heatmap\",\"colorbar\":{\"outlinewidth\":0,\"ticks\":\"\"},\"colorscale\":[[0.0,\"#0d0887\"],[0.1111111111111111,\"#46039f\"],[0.2222222222222222,\"#7201a8\"],[0.3333333333333333,\"#9c179e\"],[0.4444444444444444,\"#bd3786\"],[0.5555555555555556,\"#d8576b\"],[0.6666666666666666,\"#ed7953\"],[0.7777777777777778,\"#fb9f3a\"],[0.8888888888888888,\"#fdca26\"],[1.0,\"#f0f921\"]]}],\"heatmapgl\":[{\"type\":\"heatmapgl\",\"colorbar\":{\"outlinewidth\":0,\"ticks\":\"\"},\"colorscale\":[[0.0,\"#0d0887\"],[0.1111111111111111,\"#46039f\"],[0.2222222222222222,\"#7201a8\"],[0.3333333333333333,\"#9c179e\"],[0.4444444444444444,\"#bd3786\"],[0.5555555555555556,\"#d8576b\"],[0.6666666666666666,\"#ed7953\"],[0.7777777777777778,\"#fb9f3a\"],[0.8888888888888888,\"#fdca26\"],[1.0,\"#f0f921\"]]}],\"contourcarpet\":[{\"type\":\"contourcarpet\",\"colorbar\":{\"outlinewidth\":0,\"ticks\":\"\"}}],\"contour\":[{\"type\":\"contour\",\"colorbar\":{\"outlinewidth\":0,\"ticks\":\"\"},\"colorscale\":[[0.0,\"#0d0887\"],[0.1111111111111111,\"#46039f\"],[0.2222222222222222,\"#7201a8\"],[0.3333333333333333,\"#9c179e\"],[0.4444444444444444,\"#bd3786\"],[0.5555555555555556,\"#d8576b\"],[0.6666666666666666,\"#ed7953\"],[0.7777777777777778,\"#fb9f3a\"],[0.8888888888888888,\"#fdca26\"],[1.0,\"#f0f921\"]]}],\"surface\":[{\"type\":\"surface\",\"colorbar\":{\"outlinewidth\":0,\"ticks\":\"\"},\"colorscale\":[[0.0,\"#0d0887\"],[0.1111111111111111,\"#46039f\"],[0.2222222222222222,\"#7201a8\"],[0.3333333333333333,\"#9c179e\"],[0.4444444444444444,\"#bd3786\"],[0.5555555555555556,\"#d8576b\"],[0.6666666666666666,\"#ed7953\"],[0.7777777777777778,\"#fb9f3a\"],[0.8888888888888888,\"#fdca26\"],[1.0,\"#f0f921\"]]}],\"mesh3d\":[{\"type\":\"mesh3d\",\"colorbar\":{\"outlinewidth\":0,\"ticks\":\"\"}}],\"scatter\":[{\"fillpattern\":{\"fillmode\":\"overlay\",\"size\":10,\"solidity\":0.2},\"type\":\"scatter\"}],\"parcoords\":[{\"type\":\"parcoords\",\"line\":{\"colorbar\":{\"outlinewidth\":0,\"ticks\":\"\"}}}],\"scatterpolargl\":[{\"type\":\"scatterpolargl\",\"marker\":{\"colorbar\":{\"outlinewidth\":0,\"ticks\":\"\"}}}],\"bar\":[{\"error_x\":{\"color\":\"#2a3f5f\"},\"error_y\":{\"color\":\"#2a3f5f\"},\"marker\":{\"line\":{\"color\":\"#E5ECF6\",\"width\":0.5},\"pattern\":{\"fillmode\":\"overlay\",\"size\":10,\"solidity\":0.2}},\"type\":\"bar\"}],\"scattergeo\":[{\"type\":\"scattergeo\",\"marker\":{\"colorbar\":{\"outlinewidth\":0,\"ticks\":\"\"}}}],\"scatterpolar\":[{\"type\":\"scatterpolar\",\"marker\":{\"colorbar\":{\"outlinewidth\":0,\"ticks\":\"\"}}}],\"histogram\":[{\"marker\":{\"pattern\":{\"fillmode\":\"overlay\",\"size\":10,\"solidity\":0.2}},\"type\":\"histogram\"}],\"scattergl\":[{\"type\":\"scattergl\",\"marker\":{\"colorbar\":{\"outlinewidth\":0,\"ticks\":\"\"}}}],\"scatter3d\":[{\"type\":\"scatter3d\",\"line\":{\"colorbar\":{\"outlinewidth\":0,\"ticks\":\"\"}},\"marker\":{\"colorbar\":{\"outlinewidth\":0,\"ticks\":\"\"}}}],\"scattermapbox\":[{\"type\":\"scattermapbox\",\"marker\":{\"colorbar\":{\"outlinewidth\":0,\"ticks\":\"\"}}}],\"scatterternary\":[{\"type\":\"scatterternary\",\"marker\":{\"colorbar\":{\"outlinewidth\":0,\"ticks\":\"\"}}}],\"scattercarpet\":[{\"type\":\"scattercarpet\",\"marker\":{\"colorbar\":{\"outlinewidth\":0,\"ticks\":\"\"}}}],\"carpet\":[{\"aaxis\":{\"endlinecolor\":\"#2a3f5f\",\"gridcolor\":\"white\",\"linecolor\":\"white\",\"minorgridcolor\":\"white\",\"startlinecolor\":\"#2a3f5f\"},\"baxis\":{\"endlinecolor\":\"#2a3f5f\",\"gridcolor\":\"white\",\"linecolor\":\"white\",\"minorgridcolor\":\"white\",\"startlinecolor\":\"#2a3f5f\"},\"type\":\"carpet\"}],\"table\":[{\"cells\":{\"fill\":{\"color\":\"#EBF0F8\"},\"line\":{\"color\":\"white\"}},\"header\":{\"fill\":{\"color\":\"#C8D4E3\"},\"line\":{\"color\":\"white\"}},\"type\":\"table\"}],\"barpolar\":[{\"marker\":{\"line\":{\"color\":\"#E5ECF6\",\"width\":0.5},\"pattern\":{\"fillmode\":\"overlay\",\"size\":10,\"solidity\":0.2}},\"type\":\"barpolar\"}],\"pie\":[{\"automargin\":true,\"type\":\"pie\"}]},\"layout\":{\"autotypenumbers\":\"strict\",\"colorway\":[\"#636efa\",\"#EF553B\",\"#00cc96\",\"#ab63fa\",\"#FFA15A\",\"#19d3f3\",\"#FF6692\",\"#B6E880\",\"#FF97FF\",\"#FECB52\"],\"font\":{\"color\":\"#2a3f5f\"},\"hovermode\":\"closest\",\"hoverlabel\":{\"align\":\"left\"},\"paper_bgcolor\":\"white\",\"plot_bgcolor\":\"#E5ECF6\",\"polar\":{\"bgcolor\":\"#E5ECF6\",\"angularaxis\":{\"gridcolor\":\"white\",\"linecolor\":\"white\",\"ticks\":\"\"},\"radialaxis\":{\"gridcolor\":\"white\",\"linecolor\":\"white\",\"ticks\":\"\"}},\"ternary\":{\"bgcolor\":\"#E5ECF6\",\"aaxis\":{\"gridcolor\":\"white\",\"linecolor\":\"white\",\"ticks\":\"\"},\"baxis\":{\"gridcolor\":\"white\",\"linecolor\":\"white\",\"ticks\":\"\"},\"caxis\":{\"gridcolor\":\"white\",\"linecolor\":\"white\",\"ticks\":\"\"}},\"coloraxis\":{\"colorbar\":{\"outlinewidth\":0,\"ticks\":\"\"}},\"colorscale\":{\"sequential\":[[0.0,\"#0d0887\"],[0.1111111111111111,\"#46039f\"],[0.2222222222222222,\"#7201a8\"],[0.3333333333333333,\"#9c179e\"],[0.4444444444444444,\"#bd3786\"],[0.5555555555555556,\"#d8576b\"],[0.6666666666666666,\"#ed7953\"],[0.7777777777777778,\"#fb9f3a\"],[0.8888888888888888,\"#fdca26\"],[1.0,\"#f0f921\"]],\"sequentialminus\":[[0.0,\"#0d0887\"],[0.1111111111111111,\"#46039f\"],[0.2222222222222222,\"#7201a8\"],[0.3333333333333333,\"#9c179e\"],[0.4444444444444444,\"#bd3786\"],[0.5555555555555556,\"#d8576b\"],[0.6666666666666666,\"#ed7953\"],[0.7777777777777778,\"#fb9f3a\"],[0.8888888888888888,\"#fdca26\"],[1.0,\"#f0f921\"]],\"diverging\":[[0,\"#8e0152\"],[0.1,\"#c51b7d\"],[0.2,\"#de77ae\"],[0.3,\"#f1b6da\"],[0.4,\"#fde0ef\"],[0.5,\"#f7f7f7\"],[0.6,\"#e6f5d0\"],[0.7,\"#b8e186\"],[0.8,\"#7fbc41\"],[0.9,\"#4d9221\"],[1,\"#276419\"]]},\"xaxis\":{\"gridcolor\":\"white\",\"linecolor\":\"white\",\"ticks\":\"\",\"title\":{\"standoff\":15},\"zerolinecolor\":\"white\",\"automargin\":true,\"zerolinewidth\":2},\"yaxis\":{\"gridcolor\":\"white\",\"linecolor\":\"white\",\"ticks\":\"\",\"title\":{\"standoff\":15},\"zerolinecolor\":\"white\",\"automargin\":true,\"zerolinewidth\":2},\"scene\":{\"xaxis\":{\"backgroundcolor\":\"#E5ECF6\",\"gridcolor\":\"white\",\"linecolor\":\"white\",\"showbackground\":true,\"ticks\":\"\",\"zerolinecolor\":\"white\",\"gridwidth\":2},\"yaxis\":{\"backgroundcolor\":\"#E5ECF6\",\"gridcolor\":\"white\",\"linecolor\":\"white\",\"showbackground\":true,\"ticks\":\"\",\"zerolinecolor\":\"white\",\"gridwidth\":2},\"zaxis\":{\"backgroundcolor\":\"#E5ECF6\",\"gridcolor\":\"white\",\"linecolor\":\"white\",\"showbackground\":true,\"ticks\":\"\",\"zerolinecolor\":\"white\",\"gridwidth\":2}},\"shapedefaults\":{\"line\":{\"color\":\"#2a3f5f\"}},\"annotationdefaults\":{\"arrowcolor\":\"#2a3f5f\",\"arrowhead\":0,\"arrowwidth\":1},\"geo\":{\"bgcolor\":\"white\",\"landcolor\":\"#E5ECF6\",\"subunitcolor\":\"white\",\"showland\":true,\"showlakes\":true,\"lakecolor\":\"white\"},\"title\":{\"x\":0.05},\"mapbox\":{\"style\":\"light\"}}},\"xaxis\":{\"anchor\":\"y\",\"domain\":[0.0,1.0],\"title\":{\"text\":\"Station de RER\"},\"tickangle\":-45},\"yaxis\":{\"anchor\":\"x\",\"domain\":[0.0,1.0],\"title\":{\"text\":\"Nb de jours avec moins de 50 validations\",\"font\":{\"size\":10}}},\"legend\":{\"title\":{\"text\":\"res_com\"},\"tracegroupgap\":0},\"title\":{\"text\":\"Stations de RER les moins fr\\u00e9quent\\u00e9es au S1 2023\"},\"barmode\":\"relative\"},                        {\"responsive\": true}                    ).then(function(){\n",
       "                            \n",
       "var gd = document.getElementById('97262a01-6fb3-4cbf-8813-94c8c51a04f4');\n",
       "var x = new MutationObserver(function (mutations, observer) {{\n",
       "        var display = window.getComputedStyle(gd).display;\n",
       "        if (!display || display === 'none') {{\n",
       "            console.log([gd, 'removed!']);\n",
       "            Plotly.purge(gd);\n",
       "            observer.disconnect();\n",
       "        }}\n",
       "}});\n",
       "\n",
       "// Listen for the removal of the full notebook cells\n",
       "var notebookContainer = gd.closest('#notebook-container');\n",
       "if (notebookContainer) {{\n",
       "    x.observe(notebookContainer, {childList: true});\n",
       "}}\n",
       "\n",
       "// Listen for the clearing of the current output cell\n",
       "var outputEl = gd.closest('.output');\n",
       "if (outputEl) {{\n",
       "    x.observe(outputEl, {childList: true});\n",
       "}}\n",
       "\n",
       "                        })                };                });            </script>        </div>"
      ]
     },
     "metadata": {},
     "output_type": "display_data"
    }
   ],
   "source": [
    "df2=liste_faible_freq_stations.reset_index()\n",
    "\n",
    "fig = px.bar(df2, x='Station de RER', y='Nb de jours avec moins de 50 validations', color='res_com',\n",
    "             title='Stations de RER les moins fréquentées au S1 2023')\n",
    "\n",
    "# Personnaliser le graphique\n",
    "fig.update_layout(xaxis_tickangle=-45)  # Incliner les étiquettes de l'axe des abscisses\n",
    "#fig.update_traces(marker_color='skyblue')  # La couleur par défaut des barres, peut être écrasée par 'color'\n",
    "fig.update_yaxes(title_font=dict(size=10))  # Réduire la taille de la police pour l'axe des ordonnées\n",
    "\n",
    "# Afficher le graphique\n",
    "fig.show()"
   ]
  },
  {
   "cell_type": "code",
   "execution_count": 116,
   "id": "94d6363f-b704-4206-a1c1-acd30e7cbc7e",
   "metadata": {},
   "outputs": [
    {
     "data": {
      "application/vnd.plotly.v1+json": {
       "config": {
        "plotlyServerURL": "https://plot.ly"
       },
       "data": [
        {
         "alignmentgroup": "True",
         "hovertemplate": "res_com=RER D<br>Station de RER=%{x}<br>Nb de jours avec moins de 50 validations=%{y}<extra></extra>",
         "legendgroup": "RER D",
         "marker": {
          "color": "#636efa",
          "pattern": {
           "shape": ""
          }
         },
         "name": "RER D",
         "offsetgroup": "RER D",
         "orientation": "v",
         "showlegend": true,
         "textposition": "auto",
         "type": "bar",
         "x": [
          "Vosves",
          "Boigneville",
          "Le Plessis-Chenet",
          "Buno-Gironville",
          "Saint-Fargeau",
          "Boissise-le-Roi",
          "Le Coudray-Montceaux",
          "Villabé",
          "Grand-Bourg",
          "Maisse",
          "Essonnes-Robinson",
          "Ponthierry-Pringy",
          "Ris-Orangis",
          "Évry",
          "Boutigny",
          "Moulin-Galant",
          "Mennecy",
          "La Ferté-Alais",
          "Les Noues",
          "Ballancourt",
          "Le Bras-de-Fer",
          "Grigny-Centre",
          "Villeneuve-Triage",
          "Orangis-Bois de l'Epine",
          "Le Mée",
          "Cesson",
          "Évry Courcouronnes",
          "Le Vert-de-Maisons",
          "Lieusaint-Moissy",
          "Stade de France-Saint-Denis",
          "Louvres",
          "Survilliers-Fosses",
          "Créteil Pompadour"
         ],
         "xaxis": "x",
         "y": [
          160,
          160,
          144,
          121,
          74,
          65,
          65,
          35,
          28,
          28,
          26,
          26,
          23,
          23,
          19,
          12,
          10,
          10,
          8,
          8,
          6,
          5,
          5,
          4,
          4,
          4,
          3,
          2,
          2,
          2,
          2,
          1,
          1
         ],
         "yaxis": "y"
        },
        {
         "alignmentgroup": "True",
         "hovertemplate": "res_com=RER C<br>Station de RER=%{x}<br>Nb de jours avec moins de 50 validations=%{y}<extra></extra>",
         "legendgroup": "RER C",
         "marker": {
          "color": "#EF553B",
          "pattern": {
           "shape": ""
          }
         },
         "name": "RER C",
         "offsetgroup": "RER C",
         "orientation": "v",
         "showlegend": true,
         "textposition": "auto",
         "type": "bar",
         "x": [
          "Sermaise",
          "Dourdan-la-Forêt",
          "Chamarande",
          "La Norville",
          "Versailles Château",
          "Rungis-La Fraternelle",
          "Épinay-sur-Orge",
          "Sainte-Geneviève-des-Bois",
          "Chemin d'Antony",
          "Saint-Michel-sur-Orge",
          "Pont de Rungis",
          "Breuillet",
          "Saint-Gratien",
          "Boulainvilliers",
          "Égly",
          "Marolles-en-Hurepoix",
          "Saint-Chéron",
          "Savigny-sur-Orge",
          "Gennevilliers",
          "Issy",
          "Lardy",
          "Bouray",
          "Étréchy",
          "Saint-Martin-d'Étampes",
          "Breuillet-Village",
          "Saint-Ouen",
          "Pont du Garigliano",
          "Musée d'Orsay",
          "Les Saules",
          "Les Ardoines",
          "Issy-Val-de-Seine",
          "Champ de Mars",
          "Arpajon",
          "Orly Ville",
          "Ivry-sur-Seine",
          "Vitry-sur-Seine",
          "Villeneuve-le-Roi",
          "Athis-Mons",
          "Avenue Henri Martin",
          "Avenue du Président Kennedy",
          "Étampes",
          "Dourdan",
          "Les Grésillons",
          "Avenue Foch",
          "Choisy-le-Roi",
          "Ablon",
          "Chaville-Vélizy",
          "Javel"
         ],
         "xaxis": "x",
         "y": [
          150,
          67,
          20,
          15,
          12,
          10,
          9,
          9,
          9,
          8,
          8,
          7,
          7,
          7,
          7,
          6,
          6,
          6,
          6,
          5,
          5,
          5,
          5,
          5,
          5,
          5,
          4,
          4,
          4,
          4,
          3,
          3,
          3,
          3,
          3,
          3,
          2,
          2,
          2,
          2,
          2,
          2,
          2,
          1,
          1,
          1,
          1,
          1
         ],
         "yaxis": "y"
        },
        {
         "alignmentgroup": "True",
         "hovertemplate": "res_com=RER A<br>Station de RER=%{x}<br>Nb de jours avec moins de 50 validations=%{y}<extra></extra>",
         "legendgroup": "RER A",
         "marker": {
          "color": "#00cc96",
          "pattern": {
           "shape": ""
          }
         },
         "name": "RER A",
         "offsetgroup": "RER A",
         "orientation": "v",
         "showlegend": true,
         "textposition": "auto",
         "type": "bar",
         "x": [
          "Achères-Grand-Cormier"
         ],
         "xaxis": "x",
         "y": [
          68
         ],
         "yaxis": "y"
        },
        {
         "alignmentgroup": "True",
         "hovertemplate": "res_com=RER B<br>Station de RER=%{x}<br>Nb de jours avec moins de 50 validations=%{y}<extra></extra>",
         "legendgroup": "RER B",
         "marker": {
          "color": "#ab63fa",
          "pattern": {
           "shape": ""
          }
         },
         "name": "RER B",
         "offsetgroup": "RER B",
         "orientation": "v",
         "showlegend": true,
         "textposition": "auto",
         "type": "bar",
         "x": [
          "Bagneux",
          "Villeparisis-Mitry-le-Neuf",
          "Vert-Galant",
          "Sevran-Livry",
          "La Plaine-Stade de France",
          "La Courneuve-Aubervilliers",
          "Drancy",
          "Mitry-Claye",
          "Le Blanc-Mesnil",
          "Les Baconnets",
          "Aéroport Charles De Gaulle 2-TGV",
          "Sevran-Beaudottes",
          "Parc des Expositions",
          "Aéroport Charles De Gaulle 1",
          "Villepinte"
         ],
         "xaxis": "x",
         "y": [
          20,
          16,
          14,
          14,
          12,
          10,
          8,
          5,
          4,
          3,
          2,
          2,
          1,
          1,
          1
         ],
         "yaxis": "y"
        },
        {
         "alignmentgroup": "True",
         "hovertemplate": "res_com=RER E<br>Station de RER=%{x}<br>Nb de jours avec moins de 50 validations=%{y}<extra></extra>",
         "legendgroup": "RER E",
         "marker": {
          "color": "#FFA15A",
          "pattern": {
           "shape": ""
          }
         },
         "name": "RER E",
         "offsetgroup": "RER E",
         "orientation": "v",
         "showlegend": true,
         "textposition": "auto",
         "type": "bar",
         "x": [
          "Tournan",
          "Les Yvris-Noisy-le-Grand",
          "Pantin",
          "Gretz-Armainvilliers",
          "Ozoir-la-Ferrière",
          "Les Boullereaux-Champigny",
          "Villiers-sur-Marne - Le Plessis-Trévise",
          "Émerainville-Pontault-Combault",
          "Roissy-en-Brie",
          "Noisy-le-Sec",
          "Le Raincy-Villemomble-Montfermeil",
          "Rosa Parks",
          "Le Chénay-Gagny",
          "Rosny-Bois-Perrier",
          "Nogent-le-Perreux",
          "Chelles-Gournay",
          "Gagny",
          "Rosny-sous-Bois"
         ],
         "xaxis": "x",
         "y": [
          7,
          7,
          7,
          7,
          6,
          5,
          5,
          4,
          3,
          2,
          2,
          2,
          1,
          1,
          1,
          1,
          1,
          1
         ],
         "yaxis": "y"
        }
       ],
       "layout": {
        "autosize": true,
        "barmode": "relative",
        "legend": {
         "title": {
          "text": "res_com"
         },
         "tracegroupgap": 0
        },
        "template": {
         "data": {
          "bar": [
           {
            "error_x": {
             "color": "#2a3f5f"
            },
            "error_y": {
             "color": "#2a3f5f"
            },
            "marker": {
             "line": {
              "color": "#E5ECF6",
              "width": 0.5
             },
             "pattern": {
              "fillmode": "overlay",
              "size": 10,
              "solidity": 0.2
             }
            },
            "type": "bar"
           }
          ],
          "barpolar": [
           {
            "marker": {
             "line": {
              "color": "#E5ECF6",
              "width": 0.5
             },
             "pattern": {
              "fillmode": "overlay",
              "size": 10,
              "solidity": 0.2
             }
            },
            "type": "barpolar"
           }
          ],
          "carpet": [
           {
            "aaxis": {
             "endlinecolor": "#2a3f5f",
             "gridcolor": "white",
             "linecolor": "white",
             "minorgridcolor": "white",
             "startlinecolor": "#2a3f5f"
            },
            "baxis": {
             "endlinecolor": "#2a3f5f",
             "gridcolor": "white",
             "linecolor": "white",
             "minorgridcolor": "white",
             "startlinecolor": "#2a3f5f"
            },
            "type": "carpet"
           }
          ],
          "choropleth": [
           {
            "colorbar": {
             "outlinewidth": 0,
             "ticks": ""
            },
            "type": "choropleth"
           }
          ],
          "contour": [
           {
            "colorbar": {
             "outlinewidth": 0,
             "ticks": ""
            },
            "colorscale": [
             [
              0,
              "#0d0887"
             ],
             [
              0.1111111111111111,
              "#46039f"
             ],
             [
              0.2222222222222222,
              "#7201a8"
             ],
             [
              0.3333333333333333,
              "#9c179e"
             ],
             [
              0.4444444444444444,
              "#bd3786"
             ],
             [
              0.5555555555555556,
              "#d8576b"
             ],
             [
              0.6666666666666666,
              "#ed7953"
             ],
             [
              0.7777777777777778,
              "#fb9f3a"
             ],
             [
              0.8888888888888888,
              "#fdca26"
             ],
             [
              1,
              "#f0f921"
             ]
            ],
            "type": "contour"
           }
          ],
          "contourcarpet": [
           {
            "colorbar": {
             "outlinewidth": 0,
             "ticks": ""
            },
            "type": "contourcarpet"
           }
          ],
          "heatmap": [
           {
            "colorbar": {
             "outlinewidth": 0,
             "ticks": ""
            },
            "colorscale": [
             [
              0,
              "#0d0887"
             ],
             [
              0.1111111111111111,
              "#46039f"
             ],
             [
              0.2222222222222222,
              "#7201a8"
             ],
             [
              0.3333333333333333,
              "#9c179e"
             ],
             [
              0.4444444444444444,
              "#bd3786"
             ],
             [
              0.5555555555555556,
              "#d8576b"
             ],
             [
              0.6666666666666666,
              "#ed7953"
             ],
             [
              0.7777777777777778,
              "#fb9f3a"
             ],
             [
              0.8888888888888888,
              "#fdca26"
             ],
             [
              1,
              "#f0f921"
             ]
            ],
            "type": "heatmap"
           }
          ],
          "heatmapgl": [
           {
            "colorbar": {
             "outlinewidth": 0,
             "ticks": ""
            },
            "colorscale": [
             [
              0,
              "#0d0887"
             ],
             [
              0.1111111111111111,
              "#46039f"
             ],
             [
              0.2222222222222222,
              "#7201a8"
             ],
             [
              0.3333333333333333,
              "#9c179e"
             ],
             [
              0.4444444444444444,
              "#bd3786"
             ],
             [
              0.5555555555555556,
              "#d8576b"
             ],
             [
              0.6666666666666666,
              "#ed7953"
             ],
             [
              0.7777777777777778,
              "#fb9f3a"
             ],
             [
              0.8888888888888888,
              "#fdca26"
             ],
             [
              1,
              "#f0f921"
             ]
            ],
            "type": "heatmapgl"
           }
          ],
          "histogram": [
           {
            "marker": {
             "pattern": {
              "fillmode": "overlay",
              "size": 10,
              "solidity": 0.2
             }
            },
            "type": "histogram"
           }
          ],
          "histogram2d": [
           {
            "colorbar": {
             "outlinewidth": 0,
             "ticks": ""
            },
            "colorscale": [
             [
              0,
              "#0d0887"
             ],
             [
              0.1111111111111111,
              "#46039f"
             ],
             [
              0.2222222222222222,
              "#7201a8"
             ],
             [
              0.3333333333333333,
              "#9c179e"
             ],
             [
              0.4444444444444444,
              "#bd3786"
             ],
             [
              0.5555555555555556,
              "#d8576b"
             ],
             [
              0.6666666666666666,
              "#ed7953"
             ],
             [
              0.7777777777777778,
              "#fb9f3a"
             ],
             [
              0.8888888888888888,
              "#fdca26"
             ],
             [
              1,
              "#f0f921"
             ]
            ],
            "type": "histogram2d"
           }
          ],
          "histogram2dcontour": [
           {
            "colorbar": {
             "outlinewidth": 0,
             "ticks": ""
            },
            "colorscale": [
             [
              0,
              "#0d0887"
             ],
             [
              0.1111111111111111,
              "#46039f"
             ],
             [
              0.2222222222222222,
              "#7201a8"
             ],
             [
              0.3333333333333333,
              "#9c179e"
             ],
             [
              0.4444444444444444,
              "#bd3786"
             ],
             [
              0.5555555555555556,
              "#d8576b"
             ],
             [
              0.6666666666666666,
              "#ed7953"
             ],
             [
              0.7777777777777778,
              "#fb9f3a"
             ],
             [
              0.8888888888888888,
              "#fdca26"
             ],
             [
              1,
              "#f0f921"
             ]
            ],
            "type": "histogram2dcontour"
           }
          ],
          "mesh3d": [
           {
            "colorbar": {
             "outlinewidth": 0,
             "ticks": ""
            },
            "type": "mesh3d"
           }
          ],
          "parcoords": [
           {
            "line": {
             "colorbar": {
              "outlinewidth": 0,
              "ticks": ""
             }
            },
            "type": "parcoords"
           }
          ],
          "pie": [
           {
            "automargin": true,
            "type": "pie"
           }
          ],
          "scatter": [
           {
            "fillpattern": {
             "fillmode": "overlay",
             "size": 10,
             "solidity": 0.2
            },
            "type": "scatter"
           }
          ],
          "scatter3d": [
           {
            "line": {
             "colorbar": {
              "outlinewidth": 0,
              "ticks": ""
             }
            },
            "marker": {
             "colorbar": {
              "outlinewidth": 0,
              "ticks": ""
             }
            },
            "type": "scatter3d"
           }
          ],
          "scattercarpet": [
           {
            "marker": {
             "colorbar": {
              "outlinewidth": 0,
              "ticks": ""
             }
            },
            "type": "scattercarpet"
           }
          ],
          "scattergeo": [
           {
            "marker": {
             "colorbar": {
              "outlinewidth": 0,
              "ticks": ""
             }
            },
            "type": "scattergeo"
           }
          ],
          "scattergl": [
           {
            "marker": {
             "colorbar": {
              "outlinewidth": 0,
              "ticks": ""
             }
            },
            "type": "scattergl"
           }
          ],
          "scattermapbox": [
           {
            "marker": {
             "colorbar": {
              "outlinewidth": 0,
              "ticks": ""
             }
            },
            "type": "scattermapbox"
           }
          ],
          "scatterpolar": [
           {
            "marker": {
             "colorbar": {
              "outlinewidth": 0,
              "ticks": ""
             }
            },
            "type": "scatterpolar"
           }
          ],
          "scatterpolargl": [
           {
            "marker": {
             "colorbar": {
              "outlinewidth": 0,
              "ticks": ""
             }
            },
            "type": "scatterpolargl"
           }
          ],
          "scatterternary": [
           {
            "marker": {
             "colorbar": {
              "outlinewidth": 0,
              "ticks": ""
             }
            },
            "type": "scatterternary"
           }
          ],
          "surface": [
           {
            "colorbar": {
             "outlinewidth": 0,
             "ticks": ""
            },
            "colorscale": [
             [
              0,
              "#0d0887"
             ],
             [
              0.1111111111111111,
              "#46039f"
             ],
             [
              0.2222222222222222,
              "#7201a8"
             ],
             [
              0.3333333333333333,
              "#9c179e"
             ],
             [
              0.4444444444444444,
              "#bd3786"
             ],
             [
              0.5555555555555556,
              "#d8576b"
             ],
             [
              0.6666666666666666,
              "#ed7953"
             ],
             [
              0.7777777777777778,
              "#fb9f3a"
             ],
             [
              0.8888888888888888,
              "#fdca26"
             ],
             [
              1,
              "#f0f921"
             ]
            ],
            "type": "surface"
           }
          ],
          "table": [
           {
            "cells": {
             "fill": {
              "color": "#EBF0F8"
             },
             "line": {
              "color": "white"
             }
            },
            "header": {
             "fill": {
              "color": "#C8D4E3"
             },
             "line": {
              "color": "white"
             }
            },
            "type": "table"
           }
          ]
         },
         "layout": {
          "annotationdefaults": {
           "arrowcolor": "#2a3f5f",
           "arrowhead": 0,
           "arrowwidth": 1
          },
          "autotypenumbers": "strict",
          "coloraxis": {
           "colorbar": {
            "outlinewidth": 0,
            "ticks": ""
           }
          },
          "colorscale": {
           "diverging": [
            [
             0,
             "#8e0152"
            ],
            [
             0.1,
             "#c51b7d"
            ],
            [
             0.2,
             "#de77ae"
            ],
            [
             0.3,
             "#f1b6da"
            ],
            [
             0.4,
             "#fde0ef"
            ],
            [
             0.5,
             "#f7f7f7"
            ],
            [
             0.6,
             "#e6f5d0"
            ],
            [
             0.7,
             "#b8e186"
            ],
            [
             0.8,
             "#7fbc41"
            ],
            [
             0.9,
             "#4d9221"
            ],
            [
             1,
             "#276419"
            ]
           ],
           "sequential": [
            [
             0,
             "#0d0887"
            ],
            [
             0.1111111111111111,
             "#46039f"
            ],
            [
             0.2222222222222222,
             "#7201a8"
            ],
            [
             0.3333333333333333,
             "#9c179e"
            ],
            [
             0.4444444444444444,
             "#bd3786"
            ],
            [
             0.5555555555555556,
             "#d8576b"
            ],
            [
             0.6666666666666666,
             "#ed7953"
            ],
            [
             0.7777777777777778,
             "#fb9f3a"
            ],
            [
             0.8888888888888888,
             "#fdca26"
            ],
            [
             1,
             "#f0f921"
            ]
           ],
           "sequentialminus": [
            [
             0,
             "#0d0887"
            ],
            [
             0.1111111111111111,
             "#46039f"
            ],
            [
             0.2222222222222222,
             "#7201a8"
            ],
            [
             0.3333333333333333,
             "#9c179e"
            ],
            [
             0.4444444444444444,
             "#bd3786"
            ],
            [
             0.5555555555555556,
             "#d8576b"
            ],
            [
             0.6666666666666666,
             "#ed7953"
            ],
            [
             0.7777777777777778,
             "#fb9f3a"
            ],
            [
             0.8888888888888888,
             "#fdca26"
            ],
            [
             1,
             "#f0f921"
            ]
           ]
          },
          "colorway": [
           "#636efa",
           "#EF553B",
           "#00cc96",
           "#ab63fa",
           "#FFA15A",
           "#19d3f3",
           "#FF6692",
           "#B6E880",
           "#FF97FF",
           "#FECB52"
          ],
          "font": {
           "color": "#2a3f5f"
          },
          "geo": {
           "bgcolor": "white",
           "lakecolor": "white",
           "landcolor": "#E5ECF6",
           "showlakes": true,
           "showland": true,
           "subunitcolor": "white"
          },
          "hoverlabel": {
           "align": "left"
          },
          "hovermode": "closest",
          "mapbox": {
           "style": "light"
          },
          "paper_bgcolor": "white",
          "plot_bgcolor": "#E5ECF6",
          "polar": {
           "angularaxis": {
            "gridcolor": "white",
            "linecolor": "white",
            "ticks": ""
           },
           "bgcolor": "#E5ECF6",
           "radialaxis": {
            "gridcolor": "white",
            "linecolor": "white",
            "ticks": ""
           }
          },
          "scene": {
           "xaxis": {
            "backgroundcolor": "#E5ECF6",
            "gridcolor": "white",
            "gridwidth": 2,
            "linecolor": "white",
            "showbackground": true,
            "ticks": "",
            "zerolinecolor": "white"
           },
           "yaxis": {
            "backgroundcolor": "#E5ECF6",
            "gridcolor": "white",
            "gridwidth": 2,
            "linecolor": "white",
            "showbackground": true,
            "ticks": "",
            "zerolinecolor": "white"
           },
           "zaxis": {
            "backgroundcolor": "#E5ECF6",
            "gridcolor": "white",
            "gridwidth": 2,
            "linecolor": "white",
            "showbackground": true,
            "ticks": "",
            "zerolinecolor": "white"
           }
          },
          "shapedefaults": {
           "line": {
            "color": "#2a3f5f"
           }
          },
          "ternary": {
           "aaxis": {
            "gridcolor": "white",
            "linecolor": "white",
            "ticks": ""
           },
           "baxis": {
            "gridcolor": "white",
            "linecolor": "white",
            "ticks": ""
           },
           "bgcolor": "#E5ECF6",
           "caxis": {
            "gridcolor": "white",
            "linecolor": "white",
            "ticks": ""
           }
          },
          "title": {
           "x": 0.05
          },
          "xaxis": {
           "automargin": true,
           "gridcolor": "white",
           "linecolor": "white",
           "ticks": "",
           "title": {
            "standoff": 15
           },
           "zerolinecolor": "white",
           "zerolinewidth": 2
          },
          "yaxis": {
           "automargin": true,
           "gridcolor": "white",
           "linecolor": "white",
           "ticks": "",
           "title": {
            "standoff": 15
           },
           "zerolinecolor": "white",
           "zerolinewidth": 2
          }
         }
        },
        "title": {
         "text": "Stations de RER les moins fréquentées au S1 2023"
        },
        "xaxis": {
         "anchor": "y",
         "autorange": true,
         "categoryarray": [
          "Vosves",
          "Boigneville",
          "Sermaise",
          "Le Plessis-Chenet",
          "Buno-Gironville",
          "Saint-Fargeau",
          "Achères-Grand-Cormier",
          "Dourdan-la-Forêt",
          "Boissise-le-Roi",
          "Le Coudray-Montceaux",
          "Villabé",
          "Grand-Bourg",
          "Maisse",
          "Essonnes-Robinson",
          "Ponthierry-Pringy",
          "Ris-Orangis",
          "Évry",
          "Chamarande",
          "Bagneux",
          "Boutigny",
          "Villeparisis-Mitry-le-Neuf",
          "La Norville",
          "Vert-Galant",
          "Sevran-Livry",
          "Moulin-Galant",
          "La Plaine-Stade de France",
          "Versailles Château",
          "La Courneuve-Aubervilliers",
          "Rungis-La Fraternelle",
          "Mennecy",
          "La Ferté-Alais",
          "Épinay-sur-Orge",
          "Sainte-Geneviève-des-Bois",
          "Chemin d'Antony",
          "Saint-Michel-sur-Orge",
          "Drancy",
          "Pont de Rungis",
          "Les Noues",
          "Ballancourt",
          "Tournan",
          "Breuillet",
          "Les Yvris-Noisy-le-Grand",
          "Saint-Gratien",
          "Pantin",
          "Boulainvilliers",
          "Gretz-Armainvilliers",
          "Égly",
          "Ozoir-la-Ferrière",
          "Marolles-en-Hurepoix",
          "Saint-Chéron",
          "Savigny-sur-Orge",
          "Le Bras-de-Fer",
          "Gennevilliers",
          "Issy",
          "Lardy",
          "Grigny-Centre",
          "Villeneuve-Triage",
          "Bouray",
          "Étréchy",
          "Saint-Martin-d'Étampes",
          "Breuillet-Village",
          "Saint-Ouen",
          "Les Boullereaux-Champigny",
          "Villiers-sur-Marne - Le Plessis-Trévise",
          "Mitry-Claye",
          "Pont du Garigliano",
          "Le Blanc-Mesnil",
          "Musée d'Orsay",
          "Émerainville-Pontault-Combault",
          "Les Saules",
          "Orangis-Bois de l'Epine",
          "Le Mée",
          "Cesson",
          "Les Ardoines",
          "Issy-Val-de-Seine",
          "Évry Courcouronnes",
          "Champ de Mars",
          "Roissy-en-Brie",
          "Arpajon",
          "Orly Ville",
          "Ivry-sur-Seine",
          "Vitry-sur-Seine",
          "Les Baconnets",
          "Villeneuve-le-Roi",
          "Athis-Mons",
          "Avenue Henri Martin",
          "Le Vert-de-Maisons",
          "Lieusaint-Moissy",
          "Noisy-le-Sec",
          "Stade de France-Saint-Denis",
          "Louvres",
          "Avenue du Président Kennedy",
          "Aéroport Charles De Gaulle 2-TGV",
          "Sevran-Beaudottes",
          "Étampes",
          "Dourdan",
          "Les Grésillons",
          "Le Raincy-Villemomble-Montfermeil",
          "Rosa Parks",
          "Avenue Foch",
          "Le Chénay-Gagny",
          "Rosny-Bois-Perrier",
          "Survilliers-Fosses",
          "Choisy-le-Roi",
          "Ablon",
          "Nogent-le-Perreux",
          "Créteil Pompadour",
          "Parc des Expositions",
          "Chaville-Vélizy",
          "Chelles-Gournay",
          "Gagny",
          "Rosny-sous-Bois",
          "Aéroport Charles De Gaulle 1",
          "Villepinte",
          "Javel"
         ],
         "categoryorder": "array",
         "domain": [
          0,
          1
         ],
         "range": [
          -0.5,
          114.5
         ],
         "tickangle": -45,
         "title": {
          "text": "Station de RER"
         },
         "type": "category"
        },
        "yaxis": {
         "anchor": "x",
         "autorange": true,
         "domain": [
          0,
          1
         ],
         "range": [
          0,
          168.42105263157896
         ],
         "title": {
          "font": {
           "size": 10
          },
          "text": "Nb de jours avec moins de 50 validations"
         },
         "type": "linear"
        }
       }
      },
      "image/png": "[encoded data removed]",
      "text/html": [
       "<div>                            <div id=\"c98d5863-36d3-4f53-97e3-9ed0fca0763b\" class=\"plotly-graph-div\" style=\"height:525px; width:100%;\"></div>            <script type=\"text/javascript\">                require([\"plotly\"], function(Plotly) {                    window.PLOTLYENV=window.PLOTLYENV || {};                                    if (document.getElementById(\"c98d5863-36d3-4f53-97e3-9ed0fca0763b\")) {                    Plotly.newPlot(                        \"c98d5863-36d3-4f53-97e3-9ed0fca0763b\",                        [{\"alignmentgroup\":\"True\",\"hovertemplate\":\"res_com=RER D\\u003cbr\\u003eStation de RER=%{x}\\u003cbr\\u003eNb de jours avec moins de 50 validations=%{y}\\u003cextra\\u003e\\u003c\\u002fextra\\u003e\",\"legendgroup\":\"RER D\",\"marker\":{\"color\":\"#636efa\",\"pattern\":{\"shape\":\"\"}},\"name\":\"RER D\",\"offsetgroup\":\"RER D\",\"orientation\":\"v\",\"showlegend\":true,\"textposition\":\"auto\",\"x\":[\"Vosves\",\"Boigneville\",\"Le Plessis-Chenet\",\"Buno-Gironville\",\"Saint-Fargeau\",\"Boissise-le-Roi\",\"Le Coudray-Montceaux\",\"Villab\\u00e9\",\"Grand-Bourg\",\"Maisse\",\"Essonnes-Robinson\",\"Ponthierry-Pringy\",\"Ris-Orangis\",\"\\u00c9vry\",\"Boutigny\",\"Moulin-Galant\",\"Mennecy\",\"La Fert\\u00e9-Alais\",\"Les Noues\",\"Ballancourt\",\"Le Bras-de-Fer\",\"Grigny-Centre\",\"Villeneuve-Triage\",\"Orangis-Bois de l'Epine\",\"Le M\\u00e9e\",\"Cesson\",\"\\u00c9vry Courcouronnes\",\"Le Vert-de-Maisons\",\"Lieusaint-Moissy\",\"Stade de France-Saint-Denis\",\"Louvres\",\"Survilliers-Fosses\",\"Cr\\u00e9teil Pompadour\"],\"xaxis\":\"x\",\"y\":[160,160,144,121,74,65,65,35,28,28,26,26,23,23,19,12,10,10,8,8,6,5,5,4,4,4,3,2,2,2,2,1,1],\"yaxis\":\"y\",\"type\":\"bar\"},{\"alignmentgroup\":\"True\",\"hovertemplate\":\"res_com=RER C\\u003cbr\\u003eStation de RER=%{x}\\u003cbr\\u003eNb de jours avec moins de 50 validations=%{y}\\u003cextra\\u003e\\u003c\\u002fextra\\u003e\",\"legendgroup\":\"RER C\",\"marker\":{\"color\":\"#EF553B\",\"pattern\":{\"shape\":\"\"}},\"name\":\"RER C\",\"offsetgroup\":\"RER C\",\"orientation\":\"v\",\"showlegend\":true,\"textposition\":\"auto\",\"x\":[\"Sermaise\",\"Dourdan-la-For\\u00eat\",\"Chamarande\",\"La Norville\",\"Versailles Ch\\u00e2teau\",\"Rungis-La Fraternelle\",\"\\u00c9pinay-sur-Orge\",\"Sainte-Genevi\\u00e8ve-des-Bois\",\"Chemin d'Antony\",\"Saint-Michel-sur-Orge\",\"Pont de Rungis\",\"Breuillet\",\"Saint-Gratien\",\"Boulainvilliers\",\"\\u00c9gly\",\"Marolles-en-Hurepoix\",\"Saint-Ch\\u00e9ron\",\"Savigny-sur-Orge\",\"Gennevilliers\",\"Issy\",\"Lardy\",\"Bouray\",\"\\u00c9tr\\u00e9chy\",\"Saint-Martin-d'\\u00c9tampes\",\"Breuillet-Village\",\"Saint-Ouen\",\"Pont du Garigliano\",\"Mus\\u00e9e d'Orsay\",\"Les Saules\",\"Les Ardoines\",\"Issy-Val-de-Seine\",\"Champ de Mars\",\"Arpajon\",\"Orly Ville\",\"Ivry-sur-Seine\",\"Vitry-sur-Seine\",\"Villeneuve-le-Roi\",\"Athis-Mons\",\"Avenue Henri Martin\",\"Avenue du Pr\\u00e9sident Kennedy\",\"\\u00c9tampes\",\"Dourdan\",\"Les Gr\\u00e9sillons\",\"Avenue Foch\",\"Choisy-le-Roi\",\"Ablon\",\"Chaville-V\\u00e9lizy\",\"Javel\"],\"xaxis\":\"x\",\"y\":[150,67,20,15,12,10,9,9,9,8,8,7,7,7,7,6,6,6,6,5,5,5,5,5,5,5,4,4,4,4,3,3,3,3,3,3,2,2,2,2,2,2,2,1,1,1,1,1],\"yaxis\":\"y\",\"type\":\"bar\"},{\"alignmentgroup\":\"True\",\"hovertemplate\":\"res_com=RER A\\u003cbr\\u003eStation de RER=%{x}\\u003cbr\\u003eNb de jours avec moins de 50 validations=%{y}\\u003cextra\\u003e\\u003c\\u002fextra\\u003e\",\"legendgroup\":\"RER A\",\"marker\":{\"color\":\"#00cc96\",\"pattern\":{\"shape\":\"\"}},\"name\":\"RER A\",\"offsetgroup\":\"RER A\",\"orientation\":\"v\",\"showlegend\":true,\"textposition\":\"auto\",\"x\":[\"Ach\\u00e8res-Grand-Cormier\"],\"xaxis\":\"x\",\"y\":[68],\"yaxis\":\"y\",\"type\":\"bar\"},{\"alignmentgroup\":\"True\",\"hovertemplate\":\"res_com=RER B\\u003cbr\\u003eStation de RER=%{x}\\u003cbr\\u003eNb de jours avec moins de 50 validations=%{y}\\u003cextra\\u003e\\u003c\\u002fextra\\u003e\",\"legendgroup\":\"RER B\",\"marker\":{\"color\":\"#ab63fa\",\"pattern\":{\"shape\":\"\"}},\"name\":\"RER B\",\"offsetgroup\":\"RER B\",\"orientation\":\"v\",\"showlegend\":true,\"textposition\":\"auto\",\"x\":[\"Bagneux\",\"Villeparisis-Mitry-le-Neuf\",\"Vert-Galant\",\"Sevran-Livry\",\"La Plaine-Stade de France\",\"La Courneuve-Aubervilliers\",\"Drancy\",\"Mitry-Claye\",\"Le Blanc-Mesnil\",\"Les Baconnets\",\"A\\u00e9roport Charles De Gaulle 2-TGV\",\"Sevran-Beaudottes\",\"Parc des Expositions\",\"A\\u00e9roport Charles De Gaulle 1\",\"Villepinte\"],\"xaxis\":\"x\",\"y\":[20,16,14,14,12,10,8,5,4,3,2,2,1,1,1],\"yaxis\":\"y\",\"type\":\"bar\"},{\"alignmentgroup\":\"True\",\"hovertemplate\":\"res_com=RER E\\u003cbr\\u003eStation de RER=%{x}\\u003cbr\\u003eNb de jours avec moins de 50 validations=%{y}\\u003cextra\\u003e\\u003c\\u002fextra\\u003e\",\"legendgroup\":\"RER E\",\"marker\":{\"color\":\"#FFA15A\",\"pattern\":{\"shape\":\"\"}},\"name\":\"RER E\",\"offsetgroup\":\"RER E\",\"orientation\":\"v\",\"showlegend\":true,\"textposition\":\"auto\",\"x\":[\"Tournan\",\"Les Yvris-Noisy-le-Grand\",\"Pantin\",\"Gretz-Armainvilliers\",\"Ozoir-la-Ferri\\u00e8re\",\"Les Boullereaux-Champigny\",\"Villiers-sur-Marne - Le Plessis-Tr\\u00e9vise\",\"\\u00c9merainville-Pontault-Combault\",\"Roissy-en-Brie\",\"Noisy-le-Sec\",\"Le Raincy-Villemomble-Montfermeil\",\"Rosa Parks\",\"Le Ch\\u00e9nay-Gagny\",\"Rosny-Bois-Perrier\",\"Nogent-le-Perreux\",\"Chelles-Gournay\",\"Gagny\",\"Rosny-sous-Bois\"],\"xaxis\":\"x\",\"y\":[7,7,7,7,6,5,5,4,3,2,2,2,1,1,1,1,1,1],\"yaxis\":\"y\",\"type\":\"bar\"}],                        {\"template\":{\"data\":{\"histogram2dcontour\":[{\"type\":\"histogram2dcontour\",\"colorbar\":{\"outlinewidth\":0,\"ticks\":\"\"},\"colorscale\":[[0.0,\"#0d0887\"],[0.1111111111111111,\"#46039f\"],[0.2222222222222222,\"#7201a8\"],[0.3333333333333333,\"#9c179e\"],[0.4444444444444444,\"#bd3786\"],[0.5555555555555556,\"#d8576b\"],[0.6666666666666666,\"#ed7953\"],[0.7777777777777778,\"#fb9f3a\"],[0.8888888888888888,\"#fdca26\"],[1.0,\"#f0f921\"]]}],\"choropleth\":[{\"type\":\"choropleth\",\"colorbar\":{\"outlinewidth\":0,\"ticks\":\"\"}}],\"histogram2d\":[{\"type\":\"histogram2d\",\"colorbar\":{\"outlinewidth\":0,\"ticks\":\"\"},\"colorscale\":[[0.0,\"#0d0887\"],[0.1111111111111111,\"#46039f\"],[0.2222222222222222,\"#7201a8\"],[0.3333333333333333,\"#9c179e\"],[0.4444444444444444,\"#bd3786\"],[0.5555555555555556,\"#d8576b\"],[0.6666666666666666,\"#ed7953\"],[0.7777777777777778,\"#fb9f3a\"],[0.8888888888888888,\"#fdca26\"],[1.0,\"#f0f921\"]]}],\"heatmap\":[{\"type\":\"heatmap\",\"colorbar\":{\"outlinewidth\":0,\"ticks\":\"\"},\"colorscale\":[[0.0,\"#0d0887\"],[0.1111111111111111,\"#46039f\"],[0.2222222222222222,\"#7201a8\"],[0.3333333333333333,\"#9c179e\"],[0.4444444444444444,\"#bd3786\"],[0.5555555555555556,\"#d8576b\"],[0.6666666666666666,\"#ed7953\"],[0.7777777777777778,\"#fb9f3a\"],[0.8888888888888888,\"#fdca26\"],[1.0,\"#f0f921\"]]}],\"heatmapgl\":[{\"type\":\"heatmapgl\",\"colorbar\":{\"outlinewidth\":0,\"ticks\":\"\"},\"colorscale\":[[0.0,\"#0d0887\"],[0.1111111111111111,\"#46039f\"],[0.2222222222222222,\"#7201a8\"],[0.3333333333333333,\"#9c179e\"],[0.4444444444444444,\"#bd3786\"],[0.5555555555555556,\"#d8576b\"],[0.6666666666666666,\"#ed7953\"],[0.7777777777777778,\"#fb9f3a\"],[0.8888888888888888,\"#fdca26\"],[1.0,\"#f0f921\"]]}],\"contourcarpet\":[{\"type\":\"contourcarpet\",\"colorbar\":{\"outlinewidth\":0,\"ticks\":\"\"}}],\"contour\":[{\"type\":\"contour\",\"colorbar\":{\"outlinewidth\":0,\"ticks\":\"\"},\"colorscale\":[[0.0,\"#0d0887\"],[0.1111111111111111,\"#46039f\"],[0.2222222222222222,\"#7201a8\"],[0.3333333333333333,\"#9c179e\"],[0.4444444444444444,\"#bd3786\"],[0.5555555555555556,\"#d8576b\"],[0.6666666666666666,\"#ed7953\"],[0.7777777777777778,\"#fb9f3a\"],[0.8888888888888888,\"#fdca26\"],[1.0,\"#f0f921\"]]}],\"surface\":[{\"type\":\"surface\",\"colorbar\":{\"outlinewidth\":0,\"ticks\":\"\"},\"colorscale\":[[0.0,\"#0d0887\"],[0.1111111111111111,\"#46039f\"],[0.2222222222222222,\"#7201a8\"],[0.3333333333333333,\"#9c179e\"],[0.4444444444444444,\"#bd3786\"],[0.5555555555555556,\"#d8576b\"],[0.6666666666666666,\"#ed7953\"],[0.7777777777777778,\"#fb9f3a\"],[0.8888888888888888,\"#fdca26\"],[1.0,\"#f0f921\"]]}],\"mesh3d\":[{\"type\":\"mesh3d\",\"colorbar\":{\"outlinewidth\":0,\"ticks\":\"\"}}],\"scatter\":[{\"fillpattern\":{\"fillmode\":\"overlay\",\"size\":10,\"solidity\":0.2},\"type\":\"scatter\"}],\"parcoords\":[{\"type\":\"parcoords\",\"line\":{\"colorbar\":{\"outlinewidth\":0,\"ticks\":\"\"}}}],\"scatterpolargl\":[{\"type\":\"scatterpolargl\",\"marker\":{\"colorbar\":{\"outlinewidth\":0,\"ticks\":\"\"}}}],\"bar\":[{\"error_x\":{\"color\":\"#2a3f5f\"},\"error_y\":{\"color\":\"#2a3f5f\"},\"marker\":{\"line\":{\"color\":\"#E5ECF6\",\"width\":0.5},\"pattern\":{\"fillmode\":\"overlay\",\"size\":10,\"solidity\":0.2}},\"type\":\"bar\"}],\"scattergeo\":[{\"type\":\"scattergeo\",\"marker\":{\"colorbar\":{\"outlinewidth\":0,\"ticks\":\"\"}}}],\"scatterpolar\":[{\"type\":\"scatterpolar\",\"marker\":{\"colorbar\":{\"outlinewidth\":0,\"ticks\":\"\"}}}],\"histogram\":[{\"marker\":{\"pattern\":{\"fillmode\":\"overlay\",\"size\":10,\"solidity\":0.2}},\"type\":\"histogram\"}],\"scattergl\":[{\"type\":\"scattergl\",\"marker\":{\"colorbar\":{\"outlinewidth\":0,\"ticks\":\"\"}}}],\"scatter3d\":[{\"type\":\"scatter3d\",\"line\":{\"colorbar\":{\"outlinewidth\":0,\"ticks\":\"\"}},\"marker\":{\"colorbar\":{\"outlinewidth\":0,\"ticks\":\"\"}}}],\"scattermapbox\":[{\"type\":\"scattermapbox\",\"marker\":{\"colorbar\":{\"outlinewidth\":0,\"ticks\":\"\"}}}],\"scatterternary\":[{\"type\":\"scatterternary\",\"marker\":{\"colorbar\":{\"outlinewidth\":0,\"ticks\":\"\"}}}],\"scattercarpet\":[{\"type\":\"scattercarpet\",\"marker\":{\"colorbar\":{\"outlinewidth\":0,\"ticks\":\"\"}}}],\"carpet\":[{\"aaxis\":{\"endlinecolor\":\"#2a3f5f\",\"gridcolor\":\"white\",\"linecolor\":\"white\",\"minorgridcolor\":\"white\",\"startlinecolor\":\"#2a3f5f\"},\"baxis\":{\"endlinecolor\":\"#2a3f5f\",\"gridcolor\":\"white\",\"linecolor\":\"white\",\"minorgridcolor\":\"white\",\"startlinecolor\":\"#2a3f5f\"},\"type\":\"carpet\"}],\"table\":[{\"cells\":{\"fill\":{\"color\":\"#EBF0F8\"},\"line\":{\"color\":\"white\"}},\"header\":{\"fill\":{\"color\":\"#C8D4E3\"},\"line\":{\"color\":\"white\"}},\"type\":\"table\"}],\"barpolar\":[{\"marker\":{\"line\":{\"color\":\"#E5ECF6\",\"width\":0.5},\"pattern\":{\"fillmode\":\"overlay\",\"size\":10,\"solidity\":0.2}},\"type\":\"barpolar\"}],\"pie\":[{\"automargin\":true,\"type\":\"pie\"}]},\"layout\":{\"autotypenumbers\":\"strict\",\"colorway\":[\"#636efa\",\"#EF553B\",\"#00cc96\",\"#ab63fa\",\"#FFA15A\",\"#19d3f3\",\"#FF6692\",\"#B6E880\",\"#FF97FF\",\"#FECB52\"],\"font\":{\"color\":\"#2a3f5f\"},\"hovermode\":\"closest\",\"hoverlabel\":{\"align\":\"left\"},\"paper_bgcolor\":\"white\",\"plot_bgcolor\":\"#E5ECF6\",\"polar\":{\"bgcolor\":\"#E5ECF6\",\"angularaxis\":{\"gridcolor\":\"white\",\"linecolor\":\"white\",\"ticks\":\"\"},\"radialaxis\":{\"gridcolor\":\"white\",\"linecolor\":\"white\",\"ticks\":\"\"}},\"ternary\":{\"bgcolor\":\"#E5ECF6\",\"aaxis\":{\"gridcolor\":\"white\",\"linecolor\":\"white\",\"ticks\":\"\"},\"baxis\":{\"gridcolor\":\"white\",\"linecolor\":\"white\",\"ticks\":\"\"},\"caxis\":{\"gridcolor\":\"white\",\"linecolor\":\"white\",\"ticks\":\"\"}},\"coloraxis\":{\"colorbar\":{\"outlinewidth\":0,\"ticks\":\"\"}},\"colorscale\":{\"sequential\":[[0.0,\"#0d0887\"],[0.1111111111111111,\"#46039f\"],[0.2222222222222222,\"#7201a8\"],[0.3333333333333333,\"#9c179e\"],[0.4444444444444444,\"#bd3786\"],[0.5555555555555556,\"#d8576b\"],[0.6666666666666666,\"#ed7953\"],[0.7777777777777778,\"#fb9f3a\"],[0.8888888888888888,\"#fdca26\"],[1.0,\"#f0f921\"]],\"sequentialminus\":[[0.0,\"#0d0887\"],[0.1111111111111111,\"#46039f\"],[0.2222222222222222,\"#7201a8\"],[0.3333333333333333,\"#9c179e\"],[0.4444444444444444,\"#bd3786\"],[0.5555555555555556,\"#d8576b\"],[0.6666666666666666,\"#ed7953\"],[0.7777777777777778,\"#fb9f3a\"],[0.8888888888888888,\"#fdca26\"],[1.0,\"#f0f921\"]],\"diverging\":[[0,\"#8e0152\"],[0.1,\"#c51b7d\"],[0.2,\"#de77ae\"],[0.3,\"#f1b6da\"],[0.4,\"#fde0ef\"],[0.5,\"#f7f7f7\"],[0.6,\"#e6f5d0\"],[0.7,\"#b8e186\"],[0.8,\"#7fbc41\"],[0.9,\"#4d9221\"],[1,\"#276419\"]]},\"xaxis\":{\"gridcolor\":\"white\",\"linecolor\":\"white\",\"ticks\":\"\",\"title\":{\"standoff\":15},\"zerolinecolor\":\"white\",\"automargin\":true,\"zerolinewidth\":2},\"yaxis\":{\"gridcolor\":\"white\",\"linecolor\":\"white\",\"ticks\":\"\",\"title\":{\"standoff\":15},\"zerolinecolor\":\"white\",\"automargin\":true,\"zerolinewidth\":2},\"scene\":{\"xaxis\":{\"backgroundcolor\":\"#E5ECF6\",\"gridcolor\":\"white\",\"linecolor\":\"white\",\"showbackground\":true,\"ticks\":\"\",\"zerolinecolor\":\"white\",\"gridwidth\":2},\"yaxis\":{\"backgroundcolor\":\"#E5ECF6\",\"gridcolor\":\"white\",\"linecolor\":\"white\",\"showbackground\":true,\"ticks\":\"\",\"zerolinecolor\":\"white\",\"gridwidth\":2},\"zaxis\":{\"backgroundcolor\":\"#E5ECF6\",\"gridcolor\":\"white\",\"linecolor\":\"white\",\"showbackground\":true,\"ticks\":\"\",\"zerolinecolor\":\"white\",\"gridwidth\":2}},\"shapedefaults\":{\"line\":{\"color\":\"#2a3f5f\"}},\"annotationdefaults\":{\"arrowcolor\":\"#2a3f5f\",\"arrowhead\":0,\"arrowwidth\":1},\"geo\":{\"bgcolor\":\"white\",\"landcolor\":\"#E5ECF6\",\"subunitcolor\":\"white\",\"showland\":true,\"showlakes\":true,\"lakecolor\":\"white\"},\"title\":{\"x\":0.05},\"mapbox\":{\"style\":\"light\"}}},\"xaxis\":{\"anchor\":\"y\",\"domain\":[0.0,1.0],\"title\":{\"text\":\"Station de RER\"},\"categoryorder\":\"array\",\"categoryarray\":[\"Vosves\",\"Boigneville\",\"Sermaise\",\"Le Plessis-Chenet\",\"Buno-Gironville\",\"Saint-Fargeau\",\"Ach\\u00e8res-Grand-Cormier\",\"Dourdan-la-For\\u00eat\",\"Boissise-le-Roi\",\"Le Coudray-Montceaux\",\"Villab\\u00e9\",\"Grand-Bourg\",\"Maisse\",\"Essonnes-Robinson\",\"Ponthierry-Pringy\",\"Ris-Orangis\",\"\\u00c9vry\",\"Chamarande\",\"Bagneux\",\"Boutigny\",\"Villeparisis-Mitry-le-Neuf\",\"La Norville\",\"Vert-Galant\",\"Sevran-Livry\",\"Moulin-Galant\",\"La Plaine-Stade de France\",\"Versailles Ch\\u00e2teau\",\"La Courneuve-Aubervilliers\",\"Rungis-La Fraternelle\",\"Mennecy\",\"La Fert\\u00e9-Alais\",\"\\u00c9pinay-sur-Orge\",\"Sainte-Genevi\\u00e8ve-des-Bois\",\"Chemin d'Antony\",\"Saint-Michel-sur-Orge\",\"Drancy\",\"Pont de Rungis\",\"Les Noues\",\"Ballancourt\",\"Tournan\",\"Breuillet\",\"Les Yvris-Noisy-le-Grand\",\"Saint-Gratien\",\"Pantin\",\"Boulainvilliers\",\"Gretz-Armainvilliers\",\"\\u00c9gly\",\"Ozoir-la-Ferri\\u00e8re\",\"Marolles-en-Hurepoix\",\"Saint-Ch\\u00e9ron\",\"Savigny-sur-Orge\",\"Le Bras-de-Fer\",\"Gennevilliers\",\"Issy\",\"Lardy\",\"Grigny-Centre\",\"Villeneuve-Triage\",\"Bouray\",\"\\u00c9tr\\u00e9chy\",\"Saint-Martin-d'\\u00c9tampes\",\"Breuillet-Village\",\"Saint-Ouen\",\"Les Boullereaux-Champigny\",\"Villiers-sur-Marne - Le Plessis-Tr\\u00e9vise\",\"Mitry-Claye\",\"Pont du Garigliano\",\"Le Blanc-Mesnil\",\"Mus\\u00e9e d'Orsay\",\"\\u00c9merainville-Pontault-Combault\",\"Les Saules\",\"Orangis-Bois de l'Epine\",\"Le M\\u00e9e\",\"Cesson\",\"Les Ardoines\",\"Issy-Val-de-Seine\",\"\\u00c9vry Courcouronnes\",\"Champ de Mars\",\"Roissy-en-Brie\",\"Arpajon\",\"Orly Ville\",\"Ivry-sur-Seine\",\"Vitry-sur-Seine\",\"Les Baconnets\",\"Villeneuve-le-Roi\",\"Athis-Mons\",\"Avenue Henri Martin\",\"Le Vert-de-Maisons\",\"Lieusaint-Moissy\",\"Noisy-le-Sec\",\"Stade de France-Saint-Denis\",\"Louvres\",\"Avenue du Pr\\u00e9sident Kennedy\",\"A\\u00e9roport Charles De Gaulle 2-TGV\",\"Sevran-Beaudottes\",\"\\u00c9tampes\",\"Dourdan\",\"Les Gr\\u00e9sillons\",\"Le Raincy-Villemomble-Montfermeil\",\"Rosa Parks\",\"Avenue Foch\",\"Le Ch\\u00e9nay-Gagny\",\"Rosny-Bois-Perrier\",\"Survilliers-Fosses\",\"Choisy-le-Roi\",\"Ablon\",\"Nogent-le-Perreux\",\"Cr\\u00e9teil Pompadour\",\"Parc des Expositions\",\"Chaville-V\\u00e9lizy\",\"Chelles-Gournay\",\"Gagny\",\"Rosny-sous-Bois\",\"A\\u00e9roport Charles De Gaulle 1\",\"Villepinte\",\"Javel\"],\"tickangle\":-45},\"yaxis\":{\"anchor\":\"x\",\"domain\":[0.0,1.0],\"title\":{\"text\":\"Nb de jours avec moins de 50 validations\",\"font\":{\"size\":10}}},\"legend\":{\"title\":{\"text\":\"res_com\"},\"tracegroupgap\":0},\"title\":{\"text\":\"Stations de RER les moins fr\\u00e9quent\\u00e9es au S1 2023\"},\"barmode\":\"relative\"},                        {\"responsive\": true}                    ).then(function(){\n",
       "                            \n",
       "var gd = document.getElementById('c98d5863-36d3-4f53-97e3-9ed0fca0763b');\n",
       "var x = new MutationObserver(function (mutations, observer) {{\n",
       "        var display = window.getComputedStyle(gd).display;\n",
       "        if (!display || display === 'none') {{\n",
       "            console.log([gd, 'removed!']);\n",
       "            Plotly.purge(gd);\n",
       "            observer.disconnect();\n",
       "        }}\n",
       "}});\n",
       "\n",
       "// Listen for the removal of the full notebook cells\n",
       "var notebookContainer = gd.closest('#notebook-container');\n",
       "if (notebookContainer) {{\n",
       "    x.observe(notebookContainer, {childList: true});\n",
       "}}\n",
       "\n",
       "// Listen for the clearing of the current output cell\n",
       "var outputEl = gd.closest('.output');\n",
       "if (outputEl) {{\n",
       "    x.observe(outputEl, {childList: true});\n",
       "}}\n",
       "\n",
       "                        })                };                });            </script>        </div>"
      ]
     },
     "metadata": {},
     "output_type": "display_data"
    }
   ],
   "source": [
    "import plotly.express as px\n",
    "\n",
    "# Trier le DataFrame par 'Nb de jours avec moins de 50 validations' en ordre décroissant\n",
    "df_sorted = df2.sort_values(by='Nb de jours avec moins de 50 validations', ascending=False)\n",
    "\n",
    "# Créer un graphique en barres interactif avec des couleurs conditionnelles\n",
    "fig = px.bar(df_sorted, x='Station de RER', y='Nb de jours avec moins de 50 validations', color='res_com',\n",
    "             title='Stations de RER les moins fréquentées au S1 2023',\n",
    "             category_orders={\"Station de RER\": df_sorted['Station de RER'].tolist()})  # Définir l'ordre des catégories\n",
    "\n",
    "# Personnaliser le graphique\n",
    "fig.update_layout(xaxis_tickangle=-45)\n",
    "fig.update_yaxes(title_font=dict(size=10))\n",
    "\n",
    "# Afficher le graphique\n",
    "fig.show()"
   ]
  },
  {
   "cell_type": "markdown",
   "id": "7e29c102-17a1-41f4-b58f-c36d3be8fad3",
   "metadata": {},
   "source": [
    "## Sur les carreaux INSEE"
   ]
  }
 ],
 "metadata": {
  "kernelspec": {
   "display_name": "Python 3 (ipykernel)",
   "language": "python",
   "name": "python3"
  },
  "language_info": {
   "codemirror_mode": {
    "name": "ipython",
    "version": 3
   },
   "file_extension": ".py",
   "mimetype": "text/x-python",
   "name": "python",
   "nbconvert_exporter": "python",
   "pygments_lexer": "ipython3",
   "version": "3.10.13"
  }
 },
 "nbformat": 4,
 "nbformat_minor": 5
}
