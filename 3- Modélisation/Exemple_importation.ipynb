{
 "cells": [
  {
   "cell_type": "markdown",
   "id": "723c8b0f-c75c-4ed2-b98b-5a46e252b2ba",
   "metadata": {},
   "source": [
    "# Exemple d'importation"
   ]
  },
  {
   "cell_type": "code",
   "execution_count": 1,
   "id": "85cfb991-e3ec-4914-9755-602def270f80",
   "metadata": {},
   "outputs": [],
   "source": [
    "import pandas as pd\n",
    "from _jointure_validations_stations import df_jointure_validations_stations"
   ]
  },
  {
   "cell_type": "code",
   "execution_count": 2,
   "id": "ed5b59e5-9fcf-4d49-a90b-7e0ea2be5957",
   "metadata": {},
   "outputs": [
    {
     "name": "stderr",
     "output_type": "stream",
     "text": [
      "ERROR 1: PROJ: proj_create_from_database: Open of /opt/mamba/share/proj failed\n"
     ]
    }
   ],
   "source": [
    "data=df_jointure_validations_stations()"
   ]
  },
  {
   "cell_type": "code",
   "execution_count": 3,
   "id": "42c44b2b-ce15-4a7d-80c1-5386712d12a0",
   "metadata": {},
   "outputs": [
    {
     "data": {
      "text/plain": [
       "Index(['JOUR', 'lda', 'CATEGORIE_TITRE', 'NB_VALD', 'Mois', 'Année',\n",
       "       'Geo Point', 'Geo Shape', 'gares_id', 'nom_long', 'nom_so_gar',\n",
       "       'nom_su_gar', 'id_ref_ZdC', 'nom_ZdC', 'id_ref_ZdA', 'nom_ZdA',\n",
       "       'idrefliga', 'idrefligc', 'indice_lig', 'mode_', 'tertrain', 'terrer',\n",
       "       'termetro', 'tertram', 'terval', 'exploitant', 'idf', 'principal', 'x',\n",
       "       'y', 'picto ligne', 'nom_iv', 'geometry', 'index_right', 'idcar_1km',\n",
       "       'i_est_1km', 'lcog_geo', 'ind', 'men', 'men_pauv', 'men_1ind',\n",
       "       'men_5ind', 'men_prop', 'men_fmp', 'ind_snv', 'men_surf', 'men_coll',\n",
       "       'men_mais', 'log_av45', 'log_45_70', 'log_70_90', 'log_ap90', 'log_inc',\n",
       "       'log_soc', 'ind_0_3', 'ind_4_5', 'ind_6_10', 'ind_11_17', 'ind_18_24',\n",
       "       'ind_25_39', 'ind_40_54', 'ind_55_64', 'ind_65_79', 'ind_80p',\n",
       "       'ind_inc', 'pre_IDF', 'select', 'expt', '', 'res_com'],\n",
       "      dtype='object')"
      ]
     },
     "execution_count": 3,
     "metadata": {},
     "output_type": "execute_result"
    }
   ],
   "source": [
    "data.columns"
   ]
  }
 ],
 "metadata": {
  "kernelspec": {
   "display_name": "Python 3 (ipykernel)",
   "language": "python",
   "name": "python3"
  },
  "language_info": {
   "codemirror_mode": {
    "name": "ipython",
    "version": 3
   },
   "file_extension": ".py",
   "mimetype": "text/x-python",
   "name": "python",
   "nbconvert_exporter": "python",
   "pygments_lexer": "ipython3",
   "version": "3.10.13"
  }
 },
 "nbformat": 4,
 "nbformat_minor": 5
}
