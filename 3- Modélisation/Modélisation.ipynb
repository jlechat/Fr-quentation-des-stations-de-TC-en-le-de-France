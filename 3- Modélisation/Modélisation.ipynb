{
 "cells": [
  {
   "cell_type": "code",
   "execution_count": 189,
   "id": "85cfb991-e3ec-4914-9755-602def270f80",
   "metadata": {},
   "outputs": [],
   "source": [
    "import pandas as pd\n",
    "from _jointure_validations_stations import df_jointure_validations_stations\n",
    "from sklearn.model_selection import train_test_split\n",
    "from sklearn.preprocessing import StandardScaler\n",
    "from sklearn.compose import ColumnTransformer\n",
    "from sklearn.pipeline import make_pipeline, Pipeline\n",
    "import re\n",
    "import seaborn as sns\n",
    "from sklearn.linear_model import LinearRegression, Lasso\n",
    "from sklearn.metrics import mean_squared_error, r2_score\n",
    "import numpy as np\n",
    "import matplotlib.pyplot as plt"
   ]
  },
  {
   "cell_type": "code",
   "execution_count": 2,
   "id": "ed5b59e5-9fcf-4d49-a90b-7e0ea2be5957",
   "metadata": {},
   "outputs": [
    {
     "name": "stderr",
     "output_type": "stream",
     "text": [
      "ERROR 1: PROJ: proj_create_from_database: Open of /opt/mamba/share/proj failed\n"
     ]
    }
   ],
   "source": [
    "data=df_jointure_validations_stations()"
   ]
  },
  {
   "cell_type": "markdown",
   "id": "cd601fe4-cd49-49f7-a504-f454c05ae8de",
   "metadata": {},
   "source": [
    "On a vue que le titre de transport importe peu : on aggrège donc les données en fonction du `JOUR`et de `nom_long`."
   ]
  },
  {
   "cell_type": "code",
   "execution_count": 160,
   "id": "2b49ae7e-f248-4e8e-91b7-1b707058b28b",
   "metadata": {},
   "outputs": [],
   "source": [
    "aggregation_functions = {'NB_VALD': 'sum'}\n",
    "\n",
    "# Liste avec les colonnes de l'INSEE\n",
    "Insee_columns = [\n",
    "    'ind', 'men', 'men_pauv', 'men_1ind', 'men_5ind', 'men_prop', 'men_fmp', \n",
    "    'ind_snv', 'men_surf', 'men_coll', 'men_mais', 'log_av45', 'log_45_70', \n",
    "    'log_70_90', 'log_ap90', 'log_inc', 'log_soc', 'ind_0_3', 'ind_4_5', \n",
    "    'ind_6_10', 'ind_11_17', 'ind_18_24', 'ind_25_39', 'ind_40_54', \n",
    "    'ind_55_64', 'ind_65_79', 'ind_80p', 'lda', 'res_com'\n",
    "]\n",
    "\n",
    "for column in Insee_columns:\n",
    "    aggregation_functions[column] = 'first'\n",
    "\n",
    "data_jour_stations = data.groupby(['JOUR','nom_long']).agg(aggregation_functions)\n",
    "data_jour_stations=data_jour_stations.reset_index()"
   ]
  },
  {
   "cell_type": "markdown",
   "id": "946dbeea-e5b2-420a-9488-dd7a5b52ee03",
   "metadata": {},
   "source": [
    "Création de dummies en fonction de la ligne de RER."
   ]
  },
  {
   "cell_type": "code",
   "execution_count": 161,
   "id": "c5184d5e-b4b0-4c6b-93bf-efd2912b3ef8",
   "metadata": {},
   "outputs": [],
   "source": [
    "data_jour_stations['RER A'] = data_jour_stations['res_com'].apply(lambda x: 1 if x == 'RER A' else 0)\n",
    "data_jour_stations['RER B'] = data_jour_stations['res_com'].apply(lambda x: 1 if x == 'RER B' else 0)\n",
    "data_jour_stations['RER C'] = data_jour_stations['res_com'].apply(lambda x: 1 if x == 'RER C' else 0)\n",
    "data_jour_stations['RER D'] = data_jour_stations['res_com'].apply(lambda x: 1 if x == 'RER D' else 0)\n",
    "data_jour_stations['RER E'] = data_jour_stations['res_com'].apply(lambda x: 1 if x == 'RER E' else 0)\n",
    "data_jour_stations['RER COR'] = data_jour_stations['res_com'].apply(lambda x: 1 if x != ['RER A', 'RER B', 'RER C', 'RER D', 'RER E'] else 0)"
   ]
  },
  {
   "cell_type": "markdown",
   "id": "e03c3770-d9b8-4a1d-b4c7-1cd58cdcbc63",
   "metadata": {},
   "source": [
    "On commence par définir notre variable d'intêret : on essayera de comprendre et prédire le nombre de validations `NB_VALD`. Ensuite on classe nos variables selon qu'elles soient catégorielle ou numérique, et enfin, on les regroupe toutes dans les *features*. On définit également une *seed* pour favoriser la réplicabilité de nos résultats."
   ]
  },
  {
   "cell_type": "code",
   "execution_count": 173,
   "id": "42c44b2b-ce15-4a7d-80c1-5386712d12a0",
   "metadata": {},
   "outputs": [],
   "source": [
    "TARGET_VARIABLE=\"NB_VALD\"\n",
    "CATEGORICAL=[\"RER A\", \"RER B\", \"RER C\", \"RER D\", \"RER E\"]\n",
    "NUMERICAL = [x for x in data_jour_stations.columns if x not in ['index', 'level_0', \"RER A\", \"RER B\", \"RER C\", \"RER D\", \"RER E\", \"NB_VALD\", \"nom_long\", \"lda\", \"res_com\"]]\n",
    "FEATURES = NUMERICAL + CATEGORICAL\n",
    "SEED=12"
   ]
  },
  {
   "cell_type": "code",
   "execution_count": 193,
   "id": "3ac41c0c-47cf-4441-9934-e8ed3a03950d",
   "metadata": {},
   "outputs": [
    {
     "data": {
      "text/plain": [
       "['JOUR',\n",
       " 'nom_long',\n",
       " 'ind',\n",
       " 'men',\n",
       " 'men_pauv',\n",
       " 'men_1ind',\n",
       " 'men_5ind',\n",
       " 'men_prop',\n",
       " 'men_fmp',\n",
       " 'ind_snv',\n",
       " 'men_surf',\n",
       " 'men_coll',\n",
       " 'men_mais',\n",
       " 'log_av45',\n",
       " 'log_45_70',\n",
       " 'log_70_90',\n",
       " 'log_ap90',\n",
       " 'log_inc',\n",
       " 'log_soc',\n",
       " 'ind_0_3',\n",
       " 'ind_4_5',\n",
       " 'ind_6_10',\n",
       " 'ind_11_17',\n",
       " 'ind_18_24',\n",
       " 'ind_25_39',\n",
       " 'ind_40_54',\n",
       " 'ind_55_64',\n",
       " 'ind_65_79',\n",
       " 'ind_80p',\n",
       " 'lda',\n",
       " 'res_com',\n",
       " 'RER COR',\n",
       " 'RER A',\n",
       " 'RER B',\n",
       " 'RER C',\n",
       " 'RER D',\n",
       " 'RER E']"
      ]
     },
     "execution_count": 193,
     "metadata": {},
     "output_type": "execute_result"
    }
   ],
   "source": [
    "FEATURES"
   ]
  },
  {
   "cell_type": "markdown",
   "id": "6c64972c-f913-44c0-812e-f2f8d46b3304",
   "metadata": {},
   "source": [
    "On divise notre jeu de données en deux parties : la première servira à entrainer le modèle tandis que la deuxième nous permettra de tester son efficacité."
   ]
  },
  {
   "cell_type": "code",
   "execution_count": 174,
   "id": "c1e201dd-9bd3-4ef7-a182-8a0dd9b02c7d",
   "metadata": {},
   "outputs": [],
   "source": [
    "X = data_jour_stations[FEATURES]\n",
    "y = data_jour_stations[TARGET_VARIABLE]\n",
    "X_train, X_test, y_train, y_test = train_test_split(X, y, test_size=0.2, random_state=SEED)"
   ]
  },
  {
   "cell_type": "markdown",
   "id": "0b044dab-36df-41ce-abfb-ff3f22c71d93",
   "metadata": {},
   "source": [
    "## Première regression\n",
    "On commencer par sélectionner quelques variables qui se sont montrées pertinantes dans les statistiques descriptives pour faire une première regression.\n",
    "\n",
    "On sélectionne ensuite les données correspondantes aux variables choisies dans l'échantillon d'entrainement et de test. Les données ayant été déjà traité nous n'avons pas de manipulation supplémentaire à faire ici. Il nous reste simplement à standardiser nos variables."
   ]
  },
  {
   "cell_type": "code",
   "execution_count": 175,
   "id": "2178a9c4-1837-45b7-9558-5aca5f941b5a",
   "metadata": {},
   "outputs": [],
   "source": [
    "CATEGORICAL_REGRESSION = [\"RER A\", \"RER B\", \"RER C\", \"RER D\", \"RER E\"]\n",
    "\n",
    "NUMERICAL_REGRESSION = [\"men\",\"men_1ind\", \"men_pauv\", \"men_coll\",\n",
    "                        \"log_av45\", \"ind_25_39\"]\n",
    "\n",
    "FEATURES_REGRESSION = NUMERICAL_REGRESSION + CATEGORICAL_REGRESSION\n",
    "\n",
    "X_train_regression = X_train[FEATURES_REGRESSION]\n",
    "X_test_regression = X_test[FEATURES_REGRESSION]"
   ]
  },
  {
   "cell_type": "markdown",
   "id": "506b24d8-8a72-45a5-a09b-eff79e7d3ca3",
   "metadata": {},
   "source": [
    "On standardise nos données à l'aide de *StandardScaler* puis on modifie l'affichage pour avoir des noms de colonnes lisibles."
   ]
  },
  {
   "cell_type": "code",
   "execution_count": 176,
   "id": "87d022a5-67fb-4988-acc3-667b03953c98",
   "metadata": {},
   "outputs": [],
   "source": [
    "preprocessor_regression = ColumnTransformer(\n",
    "    transformers=[\n",
    "        (\"stand\", StandardScaler(), NUMERICAL_REGRESSION),\n",
    "        (\"cat\",  StandardScaler(), CATEGORICAL_REGRESSION)\n",
    "    ]\n",
    ")"
   ]
  },
  {
   "cell_type": "code",
   "execution_count": 183,
   "id": "1baee06b-963b-4189-b8b6-e8fa71d4ef4d",
   "metadata": {},
   "outputs": [
    {
     "data": {
      "text/plain": [
       "['men',\n",
       " 'men_1ind',\n",
       " 'men_pauv',\n",
       " 'men_coll',\n",
       " 'log_av45',\n",
       " 'ind_25_39',\n",
       " 'RER A',\n",
       " 'RER B',\n",
       " 'RER C',\n",
       " 'RER D',\n",
       " 'RER E']"
      ]
     },
     "execution_count": 183,
     "metadata": {},
     "output_type": "execute_result"
    }
   ],
   "source": [
    "preprocessor_regression.fit(X_train_regression)\n",
    "original_feature_names = [re.sub(r'^.*__', '', item) for item in preprocessor_regression.get_feature_names_out()]\n",
    "original_feature_names"
   ]
  },
  {
   "cell_type": "markdown",
   "id": "d54d5b89-03a6-4d46-a057-306a7e858225",
   "metadata": {},
   "source": [
    "On prépare maintenant un Pipeline pour faire nos régressions."
   ]
  },
  {
   "cell_type": "code",
   "execution_count": 184,
   "id": "76ab3555-b762-47cf-ac10-06e19c431c8d",
   "metadata": {},
   "outputs": [],
   "source": [
    "pipe_lr = Pipeline([\n",
    "    ('preprocessor', preprocessor_regression), # 1ère étape réaliser le preprocessing\n",
    "    ('regression', LinearRegression()) # 2ème étape estime notre régression linéaire\n",
    "])"
   ]
  },
  {
   "cell_type": "markdown",
   "id": "b163b4ad-66f1-4fa5-a631-ee762eacfa99",
   "metadata": {},
   "source": [
    "On peut donc réaliser maintenant notre régression et évaluer la qualité de la prediction avec le reste de notre jeu de données."
   ]
  },
  {
   "cell_type": "code",
   "execution_count": 185,
   "id": "5b0eb4b4-2481-4409-89b4-741f1734e13c",
   "metadata": {},
   "outputs": [
    {
     "name": "stdout",
     "output_type": "stream",
     "text": [
      "Le RMSE sur le jeu de test est : 11946.0312\n",
      "Le R2 sur le jeu de test est : 0.4558\n"
     ]
    }
   ],
   "source": [
    "#modèle de regression\n",
    "lr = pipe_lr.fit(X_train_regression, y_train)\n",
    "coefficients = pipe_lr.named_steps['regression'].coef_\n",
    "column_names = X_train_regression.columns\n",
    "\n",
    "#prediction\n",
    "y_pred = lr.predict(X_test_regression)\n",
    "\n",
    "#calcul des indicateurs\n",
    "rmse = np.sqrt(mean_squared_error(y_test, y_pred))\n",
    "r2 = r2_score(y_test, y_pred)\n",
    "print(f\"Le RMSE sur le jeu de test est : {round(rmse, 4)}\")\n",
    "print(f\"Le R2 sur le jeu de test est : {round(r2, 4)}\")\n",
    "coef_df = pd.DataFrame({\n",
    "    'Feature': column_names,\n",
    "    'Coefficient': coefficients\n",
    "})"
   ]
  },
  {
   "cell_type": "markdown",
   "id": "2520182a-17ce-42b2-a57c-5569e5526d38",
   "metadata": {},
   "source": [
    "Afin d'interpréter ces données nous avons besoin de statistiques sur le nombres validations (`NB_VALD`)"
   ]
  },
  {
   "cell_type": "code",
   "execution_count": 186,
   "id": "aa6f38d5-aa3b-44fa-9085-ea2a5b502cda",
   "metadata": {},
   "outputs": [
    {
     "name": "stdout",
     "output_type": "stream",
     "text": [
      "La variance de NB_VALD de jeu de test est : 262288178.9858\n",
      "La moyenne de NB_VALD de jeu de test est : 7789.9659\n",
      "L'écart interquartile de NB_VALD de jeu de test est : 7806.5\n"
     ]
    }
   ],
   "source": [
    "print(f\"La variance de NB_VALD de jeu de test est : {round(y_test.var(), 4)}\")\n",
    "print(f\"La moyenne de NB_VALD de jeu de test est : {round(y_test.mean(), 4)}\")\n",
    "print(f\"L'écart interquartile de NB_VALD de jeu de test est : {round(y_test.quantile(0.75) - y_test.quantile(0.25), 4)}\")"
   ]
  },
  {
   "cell_type": "markdown",
   "id": "7015c302-38a1-4852-ae83-b652e2cd7a61",
   "metadata": {},
   "source": [
    "Le R² est plutot bon, particulièrement au vue de la variance de `NB_VALD`. \n",
    "\n",
    "Le RMSE est environ 1,66 fois plus grand que la moyenne : cela veut donc dire que les erreurs sont assez significatives puisque la valeur prédite varie en moyenne de plus ou moins 13 000 validations, alors que le nombre de validations moyen est de presque 8 000. Cela est assez mauvais. Néanmoins, si l'on comprare le RMSE avec l'écart interquartile et la variance du nombres de validations on se rend compte que le modèle est assez proche des données en termes de dispersion. Cela indique que la très forte variabilité des données n'est pas bien expliquée par notre modèle (mais qu'il ne donne pas une vision trop \"simpliste\" qui pourrait donner plus de variabilité).\n",
    "\n",
    "Pour finir, on représente les données et on observe les coefficients."
   ]
  },
  {
   "cell_type": "code",
   "execution_count": 187,
   "id": "7f547849-596e-425f-8ed5-6c0bd8339794",
   "metadata": {},
   "outputs": [
    {
     "data": {
      "image/png": "[encoded data removed]",
      "text/plain": [
       "<Figure size 640x480 with 1 Axes>"
      ]
     },
     "metadata": {},
     "output_type": "display_data"
    }
   ],
   "source": [
    "plt.scatter(y_test, y_pred, color='blue', alpha=0.5)\n",
    "\n",
    "plt.xlabel('Nombres de validations réels')\n",
    "plt.ylabel('Nombres de validations prédits')\n",
    "\n",
    "plt.plot([y_test.min(), y_test.max()], [y_test.min(), y_test.max()], color='red', linestyle='--')\n",
    "plt.show()"
   ]
  },
  {
   "cell_type": "code",
   "execution_count": 188,
   "id": "2e34ffce-3780-4549-a182-09e7e92fec26",
   "metadata": {},
   "outputs": [
    {
     "name": "stdout",
     "output_type": "stream",
     "text": [
      "      Feature   Coefficient\n",
      "0         men -24711.357050\n",
      "1    men_1ind  14445.130305\n",
      "2    men_pauv   4519.133650\n",
      "3    men_coll   5425.966399\n",
      "4    log_av45   1169.190327\n",
      "5   ind_25_39   5556.775092\n",
      "6       RER A -10650.536614\n",
      "7       RER B -12454.504705\n",
      "8       RER C -16361.013811\n",
      "9       RER D -14392.105434\n",
      "10      RER E  -9508.693843\n"
     ]
    }
   ],
   "source": [
    "print(coef_df)"
   ]
  },
  {
   "cell_type": "markdown",
   "id": "353e48d8-98f3-4d79-8a4e-39af75bf2a35",
   "metadata": {},
   "source": [
    "Le modèle est particulièrement mauvais pour des valeurs de de `NB_VALD` très élevés. Les coefficients ne donnent pas une interprétation très évidente (particulièrement pour les *RER*).\n",
    "\n",
    "## Regression Lasso\n",
    "On réalise une regression Lasso sur l'ensemble des variables que nous avons à notre disposition afin de sélectionner les meilleures. Pour réduire la variabilité on travaille avec des données aggrégées par stations (on enlève les différents jours et l'on cherche à prédure la fréquentation globale d'une station)."
   ]
  },
  {
   "cell_type": "code",
   "execution_count": 204,
   "id": "e505c788-59c6-45fb-8099-3d187e5f60da",
   "metadata": {},
   "outputs": [],
   "source": [
    "data_stations = data.groupby('nom_long').agg(aggregation_functions)\n",
    "data_stations['RER A'] = data_stations['res_com'].apply(lambda x: 1 if x == 'RER A' else 0)\n",
    "data_stations['RER B'] = data_stations['res_com'].apply(lambda x: 1 if x == 'RER B' else 0)\n",
    "data_stations['RER C'] = data_stations['res_com'].apply(lambda x: 1 if x == 'RER C' else 0)\n",
    "data_stations['RER D'] = data_stations['res_com'].apply(lambda x: 1 if x == 'RER D' else 0)\n",
    "data_stations['RER E'] = data_stations['res_com'].apply(lambda x: 1 if x == 'RER E' else 0)"
   ]
  },
  {
   "cell_type": "code",
   "execution_count": 230,
   "id": "ecaac5ab-9276-4996-acb6-47b1cc121b80",
   "metadata": {},
   "outputs": [],
   "source": [
    "X_train_regression = X_train[FEATURES]\n",
    "X_test_regression = X_test[FEATURES]"
   ]
  },
  {
   "cell_type": "code",
   "execution_count": 231,
   "id": "f930fd2d-52c0-48f1-8e31-40c2794e5180",
   "metadata": {},
   "outputs": [],
   "source": [
    "CATEGORICAL_REGRESSION = [\"RER A\", \"RER B\", \"RER C\", \"RER D\", \"RER E\"]\n",
    "\n",
    "NUMERICAL_REGRESSION = ['men', 'men_pauv', 'men_1ind', 'men_5ind',\n",
    "                        'men_prop', 'men_fmp', 'ind_snv', 'men_surf', 'men_coll', \n",
    "                        'men_mais', 'log_av45', 'log_45_70', 'log_70_90', 'log_ap90', \n",
    "                        'log_inc', 'log_soc', 'ind_0_3', 'ind_4_5', 'ind_6_10', \n",
    "                        'ind_11_17', 'ind_18_24', 'ind_25_39','ind_40_54', 'ind_55_64', \n",
    "                        'ind_65_79', 'ind_80p',]\n",
    "\n",
    "FEATURES_REGRESSION = NUMERICAL_REGRESSION + CATEGORICAL_REGRESSION\n",
    "\n",
    "X_train_regression = X_train[FEATURES_REGRESSION]\n",
    "X_test_regression = X_test[FEATURES_REGRESSION]\n",
    "\n",
    "preprocessor_regression = ColumnTransformer(\n",
    "    transformers=[\n",
    "        (\"stand\", StandardScaler(), NUMERICAL_REGRESSION),\n",
    "        (\"cat\",  StandardScaler(), CATEGORICAL_REGRESSION)\n",
    "    ]\n",
    ")"
   ]
  },
  {
   "cell_type": "code",
   "execution_count": 232,
   "id": "a5ec5b96-26b4-403a-af7d-90db57891908",
   "metadata": {},
   "outputs": [],
   "source": [
    "pipe_lasso = Pipeline([\n",
    "    ('preprocessor', preprocessor_regression), # 1ère étape réaliser le preprocessing\n",
    "    ('regression', Lasso()) # 2ème étape estime notre régression linéaire\n",
    "])"
   ]
  },
  {
   "cell_type": "code",
   "execution_count": 233,
   "id": "5482dddb-7213-4c6e-90cb-242cbafcbd88",
   "metadata": {},
   "outputs": [
    {
     "name": "stdout",
     "output_type": "stream",
     "text": [
      "Le RMSE sur le jeu de test est : 10625.3758\n",
      "Le R2 sur le jeu de test est : 0.5695\n"
     ]
    },
    {
     "name": "stderr",
     "output_type": "stream",
     "text": [
      "/opt/mamba/lib/python3.10/site-packages/sklearn/linear_model/_coordinate_descent.py:628: ConvergenceWarning: Objective did not converge. You might want to increase the number of iterations, check the scale of the features or consider increasing regularisation. Duality gap: 1.562e+12, tolerance: 8.301e+08\n",
      "  model = cd_fast.enet_coordinate_descent(\n"
     ]
    }
   ],
   "source": [
    "#modèle de regression\n",
    "lr = pipe_lasso.fit(X_train_regression, y_train)\n",
    "coefficients = pipe_lr.named_steps['regression'].coef_\n",
    "column_names = X_train_regression.columns\n",
    "\n",
    "#prediction\n",
    "y_pred = lr.predict(X_test_regression)\n",
    "\n",
    "#calcul des indicateurs\n",
    "rmse = np.sqrt(mean_squared_error(y_test, y_pred))\n",
    "r2 = r2_score(y_test, y_pred)\n",
    "print(f\"Le RMSE sur le jeu de test est : {round(rmse, 4)}\")\n",
    "print(f\"Le R2 sur le jeu de test est : {round(r2, 4)}\")"
   ]
  },
  {
   "cell_type": "code",
   "execution_count": 246,
   "id": "f7a8bb51-6d0b-47cc-a748-68be1078c480",
   "metadata": {},
   "outputs": [],
   "source": [
    "coefficients=pipe_lasso.named_steps['regression'].coef_\n",
    "column_names=X_train_regression.columns"
   ]
  },
  {
   "cell_type": "code",
   "execution_count": 247,
   "id": "b4dbc115-74cc-46b8-8f3b-185e593616e3",
   "metadata": {},
   "outputs": [
    {
     "data": {
      "text/html": [
       "<div>\n",
       "<style scoped>\n",
       "    .dataframe tbody tr th:only-of-type {\n",
       "        vertical-align: middle;\n",
       "    }\n",
       "\n",
       "    .dataframe tbody tr th {\n",
       "        vertical-align: top;\n",
       "    }\n",
       "\n",
       "    .dataframe thead th {\n",
       "        text-align: right;\n",
       "    }\n",
       "</style>\n",
       "<table border=\"1\" class=\"dataframe\">\n",
       "  <thead>\n",
       "    <tr style=\"text-align: right;\">\n",
       "      <th></th>\n",
       "      <th>Feature</th>\n",
       "      <th>Coefficient</th>\n",
       "    </tr>\n",
       "  </thead>\n",
       "  <tbody>\n",
       "    <tr>\n",
       "      <th>0</th>\n",
       "      <td>men</td>\n",
       "      <td>-4767.027112</td>\n",
       "    </tr>\n",
       "    <tr>\n",
       "      <th>1</th>\n",
       "      <td>men_pauv</td>\n",
       "      <td>6688.968221</td>\n",
       "    </tr>\n",
       "    <tr>\n",
       "      <th>2</th>\n",
       "      <td>men_1ind</td>\n",
       "      <td>-11308.256746</td>\n",
       "    </tr>\n",
       "    <tr>\n",
       "      <th>3</th>\n",
       "      <td>men_5ind</td>\n",
       "      <td>-1725.769221</td>\n",
       "    </tr>\n",
       "    <tr>\n",
       "      <th>4</th>\n",
       "      <td>men_prop</td>\n",
       "      <td>-5817.830277</td>\n",
       "    </tr>\n",
       "    <tr>\n",
       "      <th>5</th>\n",
       "      <td>men_fmp</td>\n",
       "      <td>-7546.113661</td>\n",
       "    </tr>\n",
       "    <tr>\n",
       "      <th>6</th>\n",
       "      <td>ind_snv</td>\n",
       "      <td>4320.346896</td>\n",
       "    </tr>\n",
       "    <tr>\n",
       "      <th>7</th>\n",
       "      <td>men_surf</td>\n",
       "      <td>-13611.704719</td>\n",
       "    </tr>\n",
       "    <tr>\n",
       "      <th>8</th>\n",
       "      <td>men_coll</td>\n",
       "      <td>26845.681108</td>\n",
       "    </tr>\n",
       "    <tr>\n",
       "      <th>9</th>\n",
       "      <td>men_mais</td>\n",
       "      <td>3431.078768</td>\n",
       "    </tr>\n",
       "    <tr>\n",
       "      <th>10</th>\n",
       "      <td>log_av45</td>\n",
       "      <td>45.630452</td>\n",
       "    </tr>\n",
       "    <tr>\n",
       "      <th>11</th>\n",
       "      <td>log_45_70</td>\n",
       "      <td>-472.051557</td>\n",
       "    </tr>\n",
       "    <tr>\n",
       "      <th>12</th>\n",
       "      <td>log_70_90</td>\n",
       "      <td>1565.115317</td>\n",
       "    </tr>\n",
       "    <tr>\n",
       "      <th>13</th>\n",
       "      <td>log_ap90</td>\n",
       "      <td>2309.585268</td>\n",
       "    </tr>\n",
       "    <tr>\n",
       "      <th>14</th>\n",
       "      <td>log_inc</td>\n",
       "      <td>28.974135</td>\n",
       "    </tr>\n",
       "    <tr>\n",
       "      <th>15</th>\n",
       "      <td>log_soc</td>\n",
       "      <td>-372.570244</td>\n",
       "    </tr>\n",
       "    <tr>\n",
       "      <th>16</th>\n",
       "      <td>ind_0_3</td>\n",
       "      <td>-16080.818127</td>\n",
       "    </tr>\n",
       "    <tr>\n",
       "      <th>17</th>\n",
       "      <td>ind_4_5</td>\n",
       "      <td>1893.039318</td>\n",
       "    </tr>\n",
       "    <tr>\n",
       "      <th>18</th>\n",
       "      <td>ind_6_10</td>\n",
       "      <td>-8632.986193</td>\n",
       "    </tr>\n",
       "    <tr>\n",
       "      <th>19</th>\n",
       "      <td>ind_11_17</td>\n",
       "      <td>1887.478821</td>\n",
       "    </tr>\n",
       "    <tr>\n",
       "      <th>20</th>\n",
       "      <td>ind_18_24</td>\n",
       "      <td>15779.953362</td>\n",
       "    </tr>\n",
       "    <tr>\n",
       "      <th>21</th>\n",
       "      <td>ind_25_39</td>\n",
       "      <td>3854.268793</td>\n",
       "    </tr>\n",
       "    <tr>\n",
       "      <th>22</th>\n",
       "      <td>ind_40_54</td>\n",
       "      <td>24291.770353</td>\n",
       "    </tr>\n",
       "    <tr>\n",
       "      <th>23</th>\n",
       "      <td>ind_55_64</td>\n",
       "      <td>-4750.530717</td>\n",
       "    </tr>\n",
       "    <tr>\n",
       "      <th>24</th>\n",
       "      <td>ind_65_79</td>\n",
       "      <td>-3844.541382</td>\n",
       "    </tr>\n",
       "    <tr>\n",
       "      <th>25</th>\n",
       "      <td>ind_80p</td>\n",
       "      <td>-7583.429579</td>\n",
       "    </tr>\n",
       "    <tr>\n",
       "      <th>26</th>\n",
       "      <td>RER A</td>\n",
       "      <td>-7845.893985</td>\n",
       "    </tr>\n",
       "    <tr>\n",
       "      <th>27</th>\n",
       "      <td>RER B</td>\n",
       "      <td>-9314.051575</td>\n",
       "    </tr>\n",
       "    <tr>\n",
       "      <th>28</th>\n",
       "      <td>RER C</td>\n",
       "      <td>-12791.216701</td>\n",
       "    </tr>\n",
       "    <tr>\n",
       "      <th>29</th>\n",
       "      <td>RER D</td>\n",
       "      <td>-10579.751580</td>\n",
       "    </tr>\n",
       "    <tr>\n",
       "      <th>30</th>\n",
       "      <td>RER E</td>\n",
       "      <td>-7503.548549</td>\n",
       "    </tr>\n",
       "  </tbody>\n",
       "</table>\n",
       "</div>"
      ],
      "text/plain": [
       "      Feature   Coefficient\n",
       "0         men  -4767.027112\n",
       "1    men_pauv   6688.968221\n",
       "2    men_1ind -11308.256746\n",
       "3    men_5ind  -1725.769221\n",
       "4    men_prop  -5817.830277\n",
       "5     men_fmp  -7546.113661\n",
       "6     ind_snv   4320.346896\n",
       "7    men_surf -13611.704719\n",
       "8    men_coll  26845.681108\n",
       "9    men_mais   3431.078768\n",
       "10   log_av45     45.630452\n",
       "11  log_45_70   -472.051557\n",
       "12  log_70_90   1565.115317\n",
       "13   log_ap90   2309.585268\n",
       "14    log_inc     28.974135\n",
       "15    log_soc   -372.570244\n",
       "16    ind_0_3 -16080.818127\n",
       "17    ind_4_5   1893.039318\n",
       "18   ind_6_10  -8632.986193\n",
       "19  ind_11_17   1887.478821\n",
       "20  ind_18_24  15779.953362\n",
       "21  ind_25_39   3854.268793\n",
       "22  ind_40_54  24291.770353\n",
       "23  ind_55_64  -4750.530717\n",
       "24  ind_65_79  -3844.541382\n",
       "25    ind_80p  -7583.429579\n",
       "26      RER A  -7845.893985\n",
       "27      RER B  -9314.051575\n",
       "28      RER C -12791.216701\n",
       "29      RER D -10579.751580\n",
       "30      RER E  -7503.548549"
      ]
     },
     "execution_count": 247,
     "metadata": {},
     "output_type": "execute_result"
    }
   ],
   "source": [
    "coef_df = pd.DataFrame({\n",
    "    'Feature': column_names,\n",
    "    'Coefficient': coefficients\n",
    "})\n",
    "coef_df"
   ]
  },
  {
   "cell_type": "markdown",
   "id": "3fbdfcf8-66f7-49e0-9cba-1af80f0a913b",
   "metadata": {},
   "source": [
    "Le R² et le RMSE sont meilleurs, mais pas non plus améliorées de manière significative. Néanmoins les prédictions ne sont pas encore très bonnes."
   ]
  },
  {
   "cell_type": "code",
   "execution_count": 248,
   "id": "429a727f-e517-4583-b22f-c097f3339053",
   "metadata": {},
   "outputs": [
    {
     "data": {
      "image/png": "[encoded data removed]",
      "text/plain": [
       "<Figure size 640x480 with 1 Axes>"
      ]
     },
     "metadata": {},
     "output_type": "display_data"
    }
   ],
   "source": [
    "plt.scatter(y_test, y_pred, color='blue', alpha=0.5)\n",
    "\n",
    "plt.xlabel('Nombres de validations réels')\n",
    "plt.ylabel('Nombres de validations prédits')\n",
    "\n",
    "plt.plot([y_test.min(), y_test.max()], [y_test.min(), y_test.max()], color='red', linestyle='--')\n",
    "plt.show()"
   ]
  },
  {
   "cell_type": "markdown",
   "id": "b3341095-59d0-4748-8c8b-d9885d242f13",
   "metadata": {},
   "source": [
    "En observant ce graphique on observe bien que les prédictions ne sont pas très bonnes pour les nombres de validations importants, bien que meilleur que dans le cadre de la première regression.\n",
    "\n",
    "D'autres méthodes de *machine learning* pourraient peut etre permettre de faire mieux, mais au vue de la complexité des données et des très nombreuses interractifs sur des territoires aussi denses il est difficile de faire de bonnes prédictions de fréquentation. \n",
    "\n",
    "Nous pouvons noter plusieurs limites à notre approches :\n",
    "* Nous n'utilisons que les données de validations des abonnements ;\n",
    "* Les données socio-démographiques ne concernent que le carreau de 1km autour de la gare : l'on peut penser que la sphère d'influence est un peu plus importante dans les stations de *RER*, particulièrement dans les stations éloignées de Paris, tandis que pour les stations dans Paris cela est peut etre déjà bien trop grand ;\n",
    "* Les données sociodémographiques pourraient être enrichies pour mieux saisir la spécificité des territoires."
   ]
  }
 ],
 "metadata": {
  "kernelspec": {
   "display_name": "Python 3 (ipykernel)",
   "language": "python",
   "name": "python3"
  },
  "language_info": {
   "codemirror_mode": {
    "name": "ipython",
    "version": 3
   },
   "file_extension": ".py",
   "mimetype": "text/x-python",
   "name": "python",
   "nbconvert_exporter": "python",
   "pygments_lexer": "ipython3",
   "version": "3.10.13"
  }
 },
 "nbformat": 4,
 "nbformat_minor": 5
}
